{
 "cells": [
  {
   "cell_type": "markdown",
   "metadata": {},
   "source": [
    "***Importamos las librerías necesarias :***"
   ]
  },
  {
   "cell_type": "code",
   "execution_count": 1,
   "metadata": {},
   "outputs": [],
   "source": [
    "import os\n",
    "import torch\n",
    "import numpy as np\n",
    "import pandas as pd\n",
    "from tqdm import tqdm\n",
    "import torch.nn as nn\n",
    "from pathlib import Path\n",
    "import torch.optim as optim\n",
    "import torch.nn.functional as F\n",
    "from collections import Counter\n",
    "import matplotlib.pyplot as plt\n",
    "from sklearn.model_selection import train_test_split, KFold\n",
    "from torch.utils.data import DataLoader, TensorDataset, Subset\n",
    "from sklearn.preprocessing import MinMaxScaler, LabelEncoder, OneHotEncoder\n",
    "from sklearn.metrics import confusion_matrix, ConfusionMatrixDisplay, accuracy_score, classification_report"
   ]
  },
  {
   "cell_type": "markdown",
   "metadata": {},
   "source": [
    "***Guardamos las trayectorias con sus respectivas clases en \"complete_df\" :***"
   ]
  },
  {
   "cell_type": "code",
   "execution_count": 2,
   "metadata": {},
   "outputs": [
    {
     "name": "stdout",
     "output_type": "stream",
     "text": [
      "Type: Cargo, Trajectory_ID: 0, Bearing: [93.1971, 109.8378, 90.9892, 95.7436, 92.3003, 95.8598, 92.0652]\n",
      "Type: Fishing, Trajectory_ID: 2, Bearing: [77.4715, 335.1613, 117.654, 231.3515, 65.6306, 273.2838, 209.4091]\n",
      "Type: Military, Trajectory_ID: 5, Bearing: [315.0019, 58.7153, 251.3746, 127.3577, 294.2115, 227.7705, 105.3561]\n",
      "Type: Sailing, Trajectory_ID: 1, Bearing: [263.4307, 5.6916, 215.2968, 83.4821, 169.0141, 307.5607, 160.1776]\n",
      "Type: Tanker, Trajectory_ID: 7, Bearing: [77.548, 103.1219, 21.5507, 108.5279, 91.3764, 118.2106, 62.8573]\n",
      "\n",
      "Número total de trayectorias: 29987\n",
      "Type\n",
      "Fishing     6482\n",
      "Sailing     6382\n",
      "Military    6343\n",
      "Tanker      5831\n",
      "Cargo       4949\n",
      "Name: count, dtype: int64\n"
     ]
    }
   ],
   "source": [
    "csv_files = [\n",
    "    \"./Trayectorias/Tipos_de_barcos/longitud_8/Cargo_modificado_compressed_8_v4.csv\",\n",
    "    \"./Trayectorias/Tipos_de_barcos/longitud_8/Fishing_modificado_compressed_8_v4.csv\",\n",
    "    \"./Trayectorias/Tipos_de_barcos/longitud_8/Military_modificado_compressed_8_v4.csv\",\n",
    "    \"./Trayectorias/Tipos_de_barcos/longitud_8/Sailing_modificado_compressed_8_v4.csv\",\n",
    "    \"./Trayectorias/Tipos_de_barcos/longitud_8/Tanker_modificado_compressed_8_v4.csv\"\n",
    "]\n",
    "\n",
    "complete_df = pd.DataFrame()\n",
    "\n",
    "for file in csv_files:\n",
    "    df = pd.read_csv(file)\n",
    "    df['Bearing'] = df['Bearing'].round(4)\n",
    "    grouped = df.groupby('Trajectory_ID')['Bearing'].apply(lambda x: [i for i in x if pd.notna(i)]).reset_index()\n",
    "    grouped['Type'] = file.split('/')[-1].split('_')[0]\n",
    "    complete_df = pd.concat([complete_df, grouped], ignore_index=True)\n",
    "\n",
    "### COMPROBACIÓN BEARING ###\n",
    "for tipo in complete_df['Type'].unique():\n",
    "    first_element = complete_df[complete_df['Type'] == tipo].iloc[0]\n",
    "    print(f\"Type: {tipo}, Trajectory_ID: {first_element['Trajectory_ID']}, Bearing: {first_element['Bearing']}\")\n",
    "\n",
    "print()\n",
    "\n",
    "### COMPROBACIÓN NÚMERO DE TRAYECTORIAS ###\n",
    "print(\"Número total de trayectorias:\", len(complete_df))\n",
    "class_counts = complete_df['Type'].value_counts()\n",
    "print(class_counts)"
   ]
  },
  {
   "cell_type": "markdown",
   "metadata": {},
   "source": [
    "***Dividimos \"complete_df\" en entrenamiento y test :***"
   ]
  },
  {
   "cell_type": "code",
   "execution_count": 3,
   "metadata": {},
   "outputs": [
    {
     "name": "stdout",
     "output_type": "stream",
     "text": [
      "Nº de trayectorias en train: 23992\n",
      "Type\n",
      "Fishing     5186\n",
      "Sailing     5106\n",
      "Military    5075\n",
      "Tanker      4665\n",
      "Cargo       3960\n",
      "Name: count, dtype: int64\n",
      "\n",
      "Nº de trayectorias en test: 5995\n",
      "Type\n",
      "Fishing     1296\n",
      "Sailing     1276\n",
      "Military    1268\n",
      "Tanker      1166\n",
      "Cargo        989\n",
      "Name: count, dtype: int64\n",
      "\n",
      "Ejm. conjunto train:\n",
      "   Trajectory_ID                                            Bearing      Type\n",
      "0          24960  [349.2476, 207.4894, 113.9077, 209.8313, 334.6...   Sailing\n",
      "1           7862  [93.3863, 85.2444, 97.9006, 90.1909, 93.4438, ...     Cargo\n",
      "2           9580  [93.7199, 354.0017, 93.626, 129.0334, 90.5289,...    Tanker\n",
      "3           8953  [95.8228, 89.9012, 93.3814, 90.6446, 99.652, 9...     Cargo\n",
      "4          11895  [315.0117, 58.9055, 250.7779, 127.1441, 294.07...  Military\n",
      "\n",
      "Ejm. conjunto test:\n",
      "   Trajectory_ID                                            Bearing      Type\n",
      "0          14677  [89.2398, 283.3184, 136.1258, 349.7497, 174.66...   Fishing\n",
      "1           3859  [76.4695, 289.4137, 81.1119, 195.8392, 301.534...   Fishing\n",
      "2          11927  [315.6511, 58.9302, 250.9067, 127.2036, 295.81...  Military\n",
      "3          31619  [317.0209, 60.0458, 322.7311, 228.867, 127.705...  Military\n",
      "4          17179  [110.6387, 49.495, 121.1012, 241.089, 8.8896, ...   Fishing\n"
     ]
    }
   ],
   "source": [
    "complete_df = complete_df.sample(frac=1, random_state=42).reset_index(drop=True)\n",
    "\n",
    "test_size = 0.2\n",
    "train_df_list = []\n",
    "test_df_list = []\n",
    "\n",
    "classes = complete_df['Type'].unique()\n",
    "\n",
    "for class_name in classes:\n",
    "    class_subset = complete_df[complete_df['Type'] == class_name]\n",
    "    \n",
    "    test_count = int(len(class_subset) * test_size)\n",
    "    \n",
    "    test_df_list.append(class_subset.iloc[:test_count])\n",
    "    train_df_list.append(class_subset.iloc[test_count:])\n",
    "\n",
    "train_df = pd.concat(train_df_list).reset_index(drop=True)\n",
    "test_df = pd.concat(test_df_list).reset_index(drop=True)\n",
    "\n",
    "train_df = train_df.sample(frac=1, random_state=42).reset_index(drop=True)\n",
    "test_df = test_df.sample(frac=1, random_state=42).reset_index(drop=True)\n",
    "\n",
    "#### COMPROBACIÓN ####\n",
    "print(f\"Nº de trayectorias en train: {len(train_df)}\")\n",
    "print(train_df['Type'].value_counts())\n",
    "print()\n",
    "print(f\"Nº de trayectorias en test: {len(test_df)}\")\n",
    "print(test_df['Type'].value_counts())\n",
    "print()\n",
    "print(\"Ejm. conjunto train:\")\n",
    "print(train_df.head(5))\n",
    "print()\n",
    "print(\"Ejm. conjunto test:\")\n",
    "print(test_df.head(5))"
   ]
  },
  {
   "cell_type": "markdown",
   "metadata": {},
   "source": [
    "***Pre-procesado de los datos :***"
   ]
  },
  {
   "cell_type": "code",
   "execution_count": 4,
   "metadata": {},
   "outputs": [
    {
     "name": "stdout",
     "output_type": "stream",
     "text": [
      "Device: cuda\n",
      "X_train: torch.Size([23992, 1, 7]) cuda:0\n",
      "y_train: torch.Size([23992]) cuda:0\n",
      "X_test: torch.Size([5995, 1, 7]) cuda:0\n",
      "y_test: torch.Size([5995]) cuda:0\n"
     ]
    }
   ],
   "source": [
    "#Convertimos Bearing a un array de numpy\n",
    "X_train = np.array(train_df['Bearing'].tolist())\n",
    "X_test = np.array(test_df['Bearing'].tolist())\n",
    "\n",
    "#Normalizamos los valores de Bearing\n",
    "scaler = MinMaxScaler()\n",
    "X_train = scaler.fit_transform(X_train)\n",
    "X_test = scaler.transform(X_test)\n",
    "\n",
    "#Añadimos una dimensión extra para que tenga la forma (n, 1)\n",
    "X_train = np.expand_dims(X_train, axis = -1)\n",
    "X_test = np.expand_dims(X_test, axis = -1)\n",
    "\n",
    "#Codificamos las etiquetas de Type\n",
    "label_encoder = LabelEncoder()\n",
    "y_train = label_encoder.fit_transform(train_df['Type'])\n",
    "y_test = label_encoder.transform(test_df['Type'])\n",
    "\n",
    "#Conversión a tensores\n",
    "device = torch.device(\"cuda\" if torch.cuda.is_available() else \"cpu\")\n",
    "print(\"Device:\", device)\n",
    "\n",
    "X_train = torch.tensor(X_train, dtype=torch.float32).permute(0, 2, 1).to(device)\n",
    "X_test = torch.tensor(X_test, dtype=torch.float32).permute(0, 2, 1).to(device)\n",
    "y_train = torch.tensor(y_train, dtype=torch.long).to(device)\n",
    "y_test = torch.tensor(y_test, dtype=torch.long).to(device)\n",
    "\n",
    "print(\"X_train:\", X_train.shape, X_train.device)\n",
    "print(\"y_train:\", y_train.shape, y_train.device)\n",
    "print(\"X_test:\", X_test.shape, X_test.device)\n",
    "print(\"y_test:\", y_test.shape, y_test.device)"
   ]
  },
  {
   "cell_type": "markdown",
   "metadata": {},
   "source": [
    "# ***CNN1D :***"
   ]
  },
  {
   "cell_type": "code",
   "execution_count": 5,
   "metadata": {},
   "outputs": [],
   "source": [
    "class CNN1D(nn.Module):\n",
    "    def __init__(self, num_classes):\n",
    "        super(CNN1D, self).__init__()\n",
    "        self.conv1 = nn.Conv1d(in_channels=1, out_channels=32, kernel_size=3, padding=1)\n",
    "        self.pool = nn.MaxPool1d(kernel_size=2)\n",
    "        self.conv2 = nn.Conv1d(32, 64, kernel_size=3, padding=1)\n",
    "        self.fc1 = nn.Linear(64 * (X_train.shape[2] // 4), 128)\n",
    "        self.dropout = nn.Dropout(0.3)\n",
    "        self.fc2 = nn.Linear(128, num_classes)\n",
    "\n",
    "    def forward(self, x):\n",
    "        x = F.relu(self.conv1(x))\n",
    "        x = self.pool(x)\n",
    "        x = F.relu(self.conv2(x))\n",
    "        x = self.pool(x)\n",
    "        x = x.view(x.size(0), -1)\n",
    "        x = F.relu(self.fc1(x))\n",
    "        x = self.dropout(x)\n",
    "        x = self.fc2(x)\n",
    "        return x"
   ]
  },
  {
   "cell_type": "markdown",
   "metadata": {},
   "source": [
    "***Configuración del modelo :***"
   ]
  },
  {
   "cell_type": "code",
   "execution_count": 6,
   "metadata": {},
   "outputs": [],
   "source": [
    "k_folds = 5\n",
    "batch_size = 32\n",
    "num_epochs = 10\n",
    "num_classes = 5"
   ]
  },
  {
   "cell_type": "markdown",
   "metadata": {},
   "source": [
    "***Entrenamiento del modelo :***"
   ]
  },
  {
   "cell_type": "code",
   "execution_count": 7,
   "metadata": {},
   "outputs": [
    {
     "name": "stdout",
     "output_type": "stream",
     "text": [
      "\n",
      "📂 Fold 1/5\n"
     ]
    },
    {
     "name": "stderr",
     "output_type": "stream",
     "text": [
      "Fold 1 | Epoch 1/10: 100%|██████████| 600/600 [00:08<00:00, 66.98it/s] \n"
     ]
    },
    {
     "name": "stdout",
     "output_type": "stream",
     "text": [
      "Fold 1 - Epoch 1 ✅ | Train Acc: 82.29% - Train Loss: 0.4544 | Val Acc: 98.73% - Val Loss: 0.0868\n"
     ]
    },
    {
     "name": "stderr",
     "output_type": "stream",
     "text": [
      "Fold 1 | Epoch 2/10: 100%|██████████| 600/600 [00:01<00:00, 397.83it/s]\n"
     ]
    },
    {
     "name": "stdout",
     "output_type": "stream",
     "text": [
      "Fold 1 - Epoch 2 ✅ | Train Acc: 98.33% - Train Loss: 0.0691 | Val Acc: 98.81% - Val Loss: 0.0484\n"
     ]
    },
    {
     "name": "stderr",
     "output_type": "stream",
     "text": [
      "Fold 1 | Epoch 3/10: 100%|██████████| 600/600 [00:01<00:00, 396.77it/s]\n"
     ]
    },
    {
     "name": "stdout",
     "output_type": "stream",
     "text": [
      "Fold 1 - Epoch 3 ✅ | Train Acc: 98.70% - Train Loss: 0.0472 | Val Acc: 99.04% - Val Loss: 0.0326\n"
     ]
    },
    {
     "name": "stderr",
     "output_type": "stream",
     "text": [
      "Fold 1 | Epoch 4/10: 100%|██████████| 600/600 [00:01<00:00, 379.50it/s]\n"
     ]
    },
    {
     "name": "stdout",
     "output_type": "stream",
     "text": [
      "Fold 1 - Epoch 4 ✅ | Train Acc: 98.96% - Train Loss: 0.0375 | Val Acc: 98.73% - Val Loss: 0.0377\n"
     ]
    },
    {
     "name": "stderr",
     "output_type": "stream",
     "text": [
      "Fold 1 | Epoch 5/10: 100%|██████████| 600/600 [00:01<00:00, 416.59it/s]\n"
     ]
    },
    {
     "name": "stdout",
     "output_type": "stream",
     "text": [
      "Fold 1 - Epoch 5 ✅ | Train Acc: 99.21% - Train Loss: 0.0277 | Val Acc: 99.50% - Val Loss: 0.0205\n"
     ]
    },
    {
     "name": "stderr",
     "output_type": "stream",
     "text": [
      "Fold 1 | Epoch 6/10: 100%|██████████| 600/600 [00:01<00:00, 406.78it/s]\n"
     ]
    },
    {
     "name": "stdout",
     "output_type": "stream",
     "text": [
      "Fold 1 - Epoch 6 ✅ | Train Acc: 99.32% - Train Loss: 0.0245 | Val Acc: 99.46% - Val Loss: 0.0204\n"
     ]
    },
    {
     "name": "stderr",
     "output_type": "stream",
     "text": [
      "Fold 1 | Epoch 7/10: 100%|██████████| 600/600 [00:01<00:00, 406.41it/s]\n"
     ]
    },
    {
     "name": "stdout",
     "output_type": "stream",
     "text": [
      "Fold 1 - Epoch 7 ✅ | Train Acc: 99.54% - Train Loss: 0.0183 | Val Acc: 99.58% - Val Loss: 0.0136\n"
     ]
    },
    {
     "name": "stderr",
     "output_type": "stream",
     "text": [
      "Fold 1 | Epoch 8/10: 100%|██████████| 600/600 [00:01<00:00, 404.46it/s]\n"
     ]
    },
    {
     "name": "stdout",
     "output_type": "stream",
     "text": [
      "Fold 1 - Epoch 8 ✅ | Train Acc: 99.65% - Train Loss: 0.0138 | Val Acc: 99.73% - Val Loss: 0.0113\n"
     ]
    },
    {
     "name": "stderr",
     "output_type": "stream",
     "text": [
      "Fold 1 | Epoch 9/10: 100%|██████████| 600/600 [00:01<00:00, 405.38it/s]\n"
     ]
    },
    {
     "name": "stdout",
     "output_type": "stream",
     "text": [
      "Fold 1 - Epoch 9 ✅ | Train Acc: 99.66% - Train Loss: 0.0140 | Val Acc: 99.71% - Val Loss: 0.0108\n"
     ]
    },
    {
     "name": "stderr",
     "output_type": "stream",
     "text": [
      "Fold 1 | Epoch 10/10: 100%|██████████| 600/600 [00:01<00:00, 401.21it/s]\n"
     ]
    },
    {
     "name": "stdout",
     "output_type": "stream",
     "text": [
      "Fold 1 - Epoch 10 ✅ | Train Acc: 99.74% - Train Loss: 0.0098 | Val Acc: 99.83% - Val Loss: 0.0072\n",
      "\n",
      "📂 Fold 2/5\n"
     ]
    },
    {
     "name": "stderr",
     "output_type": "stream",
     "text": [
      "Fold 2 | Epoch 1/10: 100%|██████████| 600/600 [00:01<00:00, 401.48it/s]\n"
     ]
    },
    {
     "name": "stdout",
     "output_type": "stream",
     "text": [
      "Fold 2 - Epoch 1 ✅ | Train Acc: 78.34% - Train Loss: 0.5216 | Val Acc: 97.62% - Val Loss: 0.1144\n"
     ]
    },
    {
     "name": "stderr",
     "output_type": "stream",
     "text": [
      "Fold 2 | Epoch 2/10: 100%|██████████| 600/600 [00:01<00:00, 414.36it/s]\n"
     ]
    },
    {
     "name": "stdout",
     "output_type": "stream",
     "text": [
      "Fold 2 - Epoch 2 ✅ | Train Acc: 97.71% - Train Loss: 0.0899 | Val Acc: 99.00% - Val Loss: 0.0433\n"
     ]
    },
    {
     "name": "stderr",
     "output_type": "stream",
     "text": [
      "Fold 2 | Epoch 3/10: 100%|██████████| 600/600 [00:01<00:00, 401.55it/s]\n"
     ]
    },
    {
     "name": "stdout",
     "output_type": "stream",
     "text": [
      "Fold 2 - Epoch 3 ✅ | Train Acc: 98.87% - Train Loss: 0.0472 | Val Acc: 99.19% - Val Loss: 0.0312\n"
     ]
    },
    {
     "name": "stderr",
     "output_type": "stream",
     "text": [
      "Fold 2 | Epoch 4/10: 100%|██████████| 600/600 [00:01<00:00, 406.23it/s]\n"
     ]
    },
    {
     "name": "stdout",
     "output_type": "stream",
     "text": [
      "Fold 2 - Epoch 4 ✅ | Train Acc: 99.10% - Train Loss: 0.0338 | Val Acc: 99.50% - Val Loss: 0.0202\n"
     ]
    },
    {
     "name": "stderr",
     "output_type": "stream",
     "text": [
      "Fold 2 | Epoch 5/10: 100%|██████████| 600/600 [00:01<00:00, 407.51it/s]\n"
     ]
    },
    {
     "name": "stdout",
     "output_type": "stream",
     "text": [
      "Fold 2 - Epoch 5 ✅ | Train Acc: 99.41% - Train Loss: 0.0258 | Val Acc: 99.54% - Val Loss: 0.0159\n"
     ]
    },
    {
     "name": "stderr",
     "output_type": "stream",
     "text": [
      "Fold 2 | Epoch 6/10: 100%|██████████| 600/600 [00:01<00:00, 352.15it/s]\n"
     ]
    },
    {
     "name": "stdout",
     "output_type": "stream",
     "text": [
      "Fold 2 - Epoch 6 ✅ | Train Acc: 99.49% - Train Loss: 0.0211 | Val Acc: 99.60% - Val Loss: 0.0166\n"
     ]
    },
    {
     "name": "stderr",
     "output_type": "stream",
     "text": [
      "Fold 2 | Epoch 7/10: 100%|██████████| 600/600 [00:01<00:00, 358.08it/s]\n"
     ]
    },
    {
     "name": "stdout",
     "output_type": "stream",
     "text": [
      "Fold 2 - Epoch 7 ✅ | Train Acc: 99.47% - Train Loss: 0.0208 | Val Acc: 99.75% - Val Loss: 0.0118\n"
     ]
    },
    {
     "name": "stderr",
     "output_type": "stream",
     "text": [
      "Fold 2 | Epoch 8/10: 100%|██████████| 600/600 [00:01<00:00, 357.43it/s]\n"
     ]
    },
    {
     "name": "stdout",
     "output_type": "stream",
     "text": [
      "Fold 2 - Epoch 8 ✅ | Train Acc: 99.58% - Train Loss: 0.0174 | Val Acc: 99.69% - Val Loss: 0.0102\n"
     ]
    },
    {
     "name": "stderr",
     "output_type": "stream",
     "text": [
      "Fold 2 | Epoch 9/10: 100%|██████████| 600/600 [00:01<00:00, 325.56it/s]\n"
     ]
    },
    {
     "name": "stdout",
     "output_type": "stream",
     "text": [
      "Fold 2 - Epoch 9 ✅ | Train Acc: 99.55% - Train Loss: 0.0175 | Val Acc: 99.67% - Val Loss: 0.0112\n"
     ]
    },
    {
     "name": "stderr",
     "output_type": "stream",
     "text": [
      "Fold 2 | Epoch 10/10: 100%|██████████| 600/600 [00:02<00:00, 290.42it/s]\n"
     ]
    },
    {
     "name": "stdout",
     "output_type": "stream",
     "text": [
      "Fold 2 - Epoch 10 ✅ | Train Acc: 99.62% - Train Loss: 0.0154 | Val Acc: 99.60% - Val Loss: 0.0168\n",
      "\n",
      "📂 Fold 3/5\n"
     ]
    },
    {
     "name": "stderr",
     "output_type": "stream",
     "text": [
      "Fold 3 | Epoch 1/10: 100%|██████████| 600/600 [00:01<00:00, 379.81it/s]\n"
     ]
    },
    {
     "name": "stdout",
     "output_type": "stream",
     "text": [
      "Fold 3 - Epoch 1 ✅ | Train Acc: 82.49% - Train Loss: 0.4464 | Val Acc: 98.42% - Val Loss: 0.0912\n"
     ]
    },
    {
     "name": "stderr",
     "output_type": "stream",
     "text": [
      "Fold 3 | Epoch 2/10: 100%|██████████| 600/600 [00:01<00:00, 394.88it/s]\n"
     ]
    },
    {
     "name": "stdout",
     "output_type": "stream",
     "text": [
      "Fold 3 - Epoch 2 ✅ | Train Acc: 98.30% - Train Loss: 0.0729 | Val Acc: 98.94% - Val Loss: 0.0395\n"
     ]
    },
    {
     "name": "stderr",
     "output_type": "stream",
     "text": [
      "Fold 3 | Epoch 3/10: 100%|██████████| 600/600 [00:01<00:00, 394.09it/s]\n"
     ]
    },
    {
     "name": "stdout",
     "output_type": "stream",
     "text": [
      "Fold 3 - Epoch 3 ✅ | Train Acc: 98.92% - Train Loss: 0.0443 | Val Acc: 98.85% - Val Loss: 0.0343\n"
     ]
    },
    {
     "name": "stderr",
     "output_type": "stream",
     "text": [
      "Fold 3 | Epoch 4/10: 100%|██████████| 600/600 [00:01<00:00, 402.93it/s]\n"
     ]
    },
    {
     "name": "stdout",
     "output_type": "stream",
     "text": [
      "Fold 3 - Epoch 4 ✅ | Train Acc: 99.29% - Train Loss: 0.0307 | Val Acc: 99.52% - Val Loss: 0.0210\n"
     ]
    },
    {
     "name": "stderr",
     "output_type": "stream",
     "text": [
      "Fold 3 | Epoch 5/10: 100%|██████████| 600/600 [00:01<00:00, 401.08it/s]\n"
     ]
    },
    {
     "name": "stdout",
     "output_type": "stream",
     "text": [
      "Fold 3 - Epoch 5 ✅ | Train Acc: 99.34% - Train Loss: 0.0248 | Val Acc: 99.15% - Val Loss: 0.0226\n"
     ]
    },
    {
     "name": "stderr",
     "output_type": "stream",
     "text": [
      "Fold 3 | Epoch 6/10: 100%|██████████| 600/600 [00:01<00:00, 389.86it/s]\n"
     ]
    },
    {
     "name": "stdout",
     "output_type": "stream",
     "text": [
      "Fold 3 - Epoch 6 ✅ | Train Acc: 99.54% - Train Loss: 0.0212 | Val Acc: 99.62% - Val Loss: 0.0140\n"
     ]
    },
    {
     "name": "stderr",
     "output_type": "stream",
     "text": [
      "Fold 3 | Epoch 7/10: 100%|██████████| 600/600 [00:01<00:00, 356.67it/s]\n"
     ]
    },
    {
     "name": "stdout",
     "output_type": "stream",
     "text": [
      "Fold 3 - Epoch 7 ✅ | Train Acc: 99.56% - Train Loss: 0.0193 | Val Acc: 99.75% - Val Loss: 0.0097\n"
     ]
    },
    {
     "name": "stderr",
     "output_type": "stream",
     "text": [
      "Fold 3 | Epoch 8/10: 100%|██████████| 600/600 [00:01<00:00, 404.58it/s]\n"
     ]
    },
    {
     "name": "stdout",
     "output_type": "stream",
     "text": [
      "Fold 3 - Epoch 8 ✅ | Train Acc: 99.61% - Train Loss: 0.0158 | Val Acc: 99.69% - Val Loss: 0.0097\n"
     ]
    },
    {
     "name": "stderr",
     "output_type": "stream",
     "text": [
      "Fold 3 | Epoch 9/10: 100%|██████████| 600/600 [00:01<00:00, 405.72it/s]\n"
     ]
    },
    {
     "name": "stdout",
     "output_type": "stream",
     "text": [
      "Fold 3 - Epoch 9 ✅ | Train Acc: 99.66% - Train Loss: 0.0141 | Val Acc: 99.69% - Val Loss: 0.0100\n"
     ]
    },
    {
     "name": "stderr",
     "output_type": "stream",
     "text": [
      "Fold 3 | Epoch 10/10: 100%|██████████| 600/600 [00:01<00:00, 403.18it/s]\n"
     ]
    },
    {
     "name": "stdout",
     "output_type": "stream",
     "text": [
      "Fold 3 - Epoch 10 ✅ | Train Acc: 99.73% - Train Loss: 0.0120 | Val Acc: 99.67% - Val Loss: 0.0117\n",
      "\n",
      "📂 Fold 4/5\n"
     ]
    },
    {
     "name": "stderr",
     "output_type": "stream",
     "text": [
      "Fold 4 | Epoch 1/10: 100%|██████████| 600/600 [00:01<00:00, 403.50it/s]\n"
     ]
    },
    {
     "name": "stdout",
     "output_type": "stream",
     "text": [
      "Fold 4 - Epoch 1 ✅ | Train Acc: 81.55% - Train Loss: 0.4618 | Val Acc: 98.10% - Val Loss: 0.0767\n"
     ]
    },
    {
     "name": "stderr",
     "output_type": "stream",
     "text": [
      "Fold 4 | Epoch 2/10: 100%|██████████| 600/600 [00:01<00:00, 405.41it/s]\n"
     ]
    },
    {
     "name": "stdout",
     "output_type": "stream",
     "text": [
      "Fold 4 - Epoch 2 ✅ | Train Acc: 97.89% - Train Loss: 0.0793 | Val Acc: 99.27% - Val Loss: 0.0326\n"
     ]
    },
    {
     "name": "stderr",
     "output_type": "stream",
     "text": [
      "Fold 4 | Epoch 3/10: 100%|██████████| 600/600 [00:01<00:00, 404.86it/s]\n"
     ]
    },
    {
     "name": "stdout",
     "output_type": "stream",
     "text": [
      "Fold 4 - Epoch 3 ✅ | Train Acc: 98.85% - Train Loss: 0.0457 | Val Acc: 99.15% - Val Loss: 0.0288\n"
     ]
    },
    {
     "name": "stderr",
     "output_type": "stream",
     "text": [
      "Fold 4 | Epoch 4/10: 100%|██████████| 600/600 [00:01<00:00, 408.72it/s]\n"
     ]
    },
    {
     "name": "stdout",
     "output_type": "stream",
     "text": [
      "Fold 4 - Epoch 4 ✅ | Train Acc: 99.09% - Train Loss: 0.0325 | Val Acc: 99.60% - Val Loss: 0.0163\n"
     ]
    },
    {
     "name": "stderr",
     "output_type": "stream",
     "text": [
      "Fold 4 | Epoch 5/10: 100%|██████████| 600/600 [00:01<00:00, 404.75it/s]\n"
     ]
    },
    {
     "name": "stdout",
     "output_type": "stream",
     "text": [
      "Fold 4 - Epoch 5 ✅ | Train Acc: 99.37% - Train Loss: 0.0241 | Val Acc: 99.73% - Val Loss: 0.0126\n"
     ]
    },
    {
     "name": "stderr",
     "output_type": "stream",
     "text": [
      "Fold 4 | Epoch 6/10: 100%|██████████| 600/600 [00:01<00:00, 397.70it/s]\n"
     ]
    },
    {
     "name": "stdout",
     "output_type": "stream",
     "text": [
      "Fold 4 - Epoch 6 ✅ | Train Acc: 99.48% - Train Loss: 0.0199 | Val Acc: 99.60% - Val Loss: 0.0160\n"
     ]
    },
    {
     "name": "stderr",
     "output_type": "stream",
     "text": [
      "Fold 4 | Epoch 7/10: 100%|██████████| 600/600 [00:01<00:00, 396.89it/s]\n"
     ]
    },
    {
     "name": "stdout",
     "output_type": "stream",
     "text": [
      "Fold 4 - Epoch 7 ✅ | Train Acc: 99.67% - Train Loss: 0.0142 | Val Acc: 99.60% - Val Loss: 0.0142\n"
     ]
    },
    {
     "name": "stderr",
     "output_type": "stream",
     "text": [
      "Fold 4 | Epoch 8/10: 100%|██████████| 600/600 [00:01<00:00, 394.27it/s]\n"
     ]
    },
    {
     "name": "stdout",
     "output_type": "stream",
     "text": [
      "Fold 4 - Epoch 8 ✅ | Train Acc: 99.67% - Train Loss: 0.0131 | Val Acc: 99.90% - Val Loss: 0.0064\n"
     ]
    },
    {
     "name": "stderr",
     "output_type": "stream",
     "text": [
      "Fold 4 | Epoch 9/10: 100%|██████████| 600/600 [00:01<00:00, 399.90it/s]\n"
     ]
    },
    {
     "name": "stdout",
     "output_type": "stream",
     "text": [
      "Fold 4 - Epoch 9 ✅ | Train Acc: 99.70% - Train Loss: 0.0123 | Val Acc: 99.85% - Val Loss: 0.0076\n"
     ]
    },
    {
     "name": "stderr",
     "output_type": "stream",
     "text": [
      "Fold 4 | Epoch 10/10: 100%|██████████| 600/600 [00:01<00:00, 397.09it/s]\n"
     ]
    },
    {
     "name": "stdout",
     "output_type": "stream",
     "text": [
      "Fold 4 - Epoch 10 ✅ | Train Acc: 99.66% - Train Loss: 0.0134 | Val Acc: 99.81% - Val Loss: 0.0091\n",
      "\n",
      "📂 Fold 5/5\n"
     ]
    },
    {
     "name": "stderr",
     "output_type": "stream",
     "text": [
      "Fold 5 | Epoch 1/10: 100%|██████████| 600/600 [00:01<00:00, 369.69it/s]\n"
     ]
    },
    {
     "name": "stdout",
     "output_type": "stream",
     "text": [
      "Fold 5 - Epoch 1 ✅ | Train Acc: 83.35% - Train Loss: 0.4350 | Val Acc: 98.23% - Val Loss: 0.0709\n"
     ]
    },
    {
     "name": "stderr",
     "output_type": "stream",
     "text": [
      "Fold 5 | Epoch 2/10: 100%|██████████| 600/600 [00:01<00:00, 361.45it/s]\n"
     ]
    },
    {
     "name": "stdout",
     "output_type": "stream",
     "text": [
      "Fold 5 - Epoch 2 ✅ | Train Acc: 98.60% - Train Loss: 0.0578 | Val Acc: 99.10% - Val Loss: 0.0348\n"
     ]
    },
    {
     "name": "stderr",
     "output_type": "stream",
     "text": [
      "Fold 5 | Epoch 3/10: 100%|██████████| 600/600 [00:01<00:00, 378.55it/s]\n"
     ]
    },
    {
     "name": "stdout",
     "output_type": "stream",
     "text": [
      "Fold 5 - Epoch 3 ✅ | Train Acc: 99.07% - Train Loss: 0.0359 | Val Acc: 99.29% - Val Loss: 0.0246\n"
     ]
    },
    {
     "name": "stderr",
     "output_type": "stream",
     "text": [
      "Fold 5 | Epoch 4/10: 100%|██████████| 600/600 [00:01<00:00, 376.65it/s]\n"
     ]
    },
    {
     "name": "stdout",
     "output_type": "stream",
     "text": [
      "Fold 5 - Epoch 4 ✅ | Train Acc: 99.26% - Train Loss: 0.0276 | Val Acc: 99.48% - Val Loss: 0.0176\n"
     ]
    },
    {
     "name": "stderr",
     "output_type": "stream",
     "text": [
      "Fold 5 | Epoch 5/10: 100%|██████████| 600/600 [00:01<00:00, 373.83it/s]\n"
     ]
    },
    {
     "name": "stdout",
     "output_type": "stream",
     "text": [
      "Fold 5 - Epoch 5 ✅ | Train Acc: 99.28% - Train Loss: 0.0257 | Val Acc: 99.50% - Val Loss: 0.0162\n"
     ]
    },
    {
     "name": "stderr",
     "output_type": "stream",
     "text": [
      "Fold 5 | Epoch 6/10: 100%|██████████| 600/600 [00:01<00:00, 357.78it/s]\n"
     ]
    },
    {
     "name": "stdout",
     "output_type": "stream",
     "text": [
      "Fold 5 - Epoch 6 ✅ | Train Acc: 99.51% - Train Loss: 0.0179 | Val Acc: 99.75% - Val Loss: 0.0114\n"
     ]
    },
    {
     "name": "stderr",
     "output_type": "stream",
     "text": [
      "Fold 5 | Epoch 7/10: 100%|██████████| 600/600 [00:01<00:00, 383.39it/s]\n"
     ]
    },
    {
     "name": "stdout",
     "output_type": "stream",
     "text": [
      "Fold 5 - Epoch 7 ✅ | Train Acc: 99.66% - Train Loss: 0.0142 | Val Acc: 99.69% - Val Loss: 0.0108\n"
     ]
    },
    {
     "name": "stderr",
     "output_type": "stream",
     "text": [
      "Fold 5 | Epoch 8/10: 100%|██████████| 600/600 [00:01<00:00, 395.52it/s]\n"
     ]
    },
    {
     "name": "stdout",
     "output_type": "stream",
     "text": [
      "Fold 5 - Epoch 8 ✅ | Train Acc: 99.61% - Train Loss: 0.0156 | Val Acc: 99.73% - Val Loss: 0.0096\n"
     ]
    },
    {
     "name": "stderr",
     "output_type": "stream",
     "text": [
      "Fold 5 | Epoch 9/10: 100%|██████████| 600/600 [00:01<00:00, 392.41it/s]\n"
     ]
    },
    {
     "name": "stdout",
     "output_type": "stream",
     "text": [
      "Fold 5 - Epoch 9 ✅ | Train Acc: 99.70% - Train Loss: 0.0123 | Val Acc: 99.79% - Val Loss: 0.0102\n"
     ]
    },
    {
     "name": "stderr",
     "output_type": "stream",
     "text": [
      "Fold 5 | Epoch 10/10: 100%|██████████| 600/600 [00:01<00:00, 394.48it/s]\n"
     ]
    },
    {
     "name": "stdout",
     "output_type": "stream",
     "text": [
      "Fold 5 - Epoch 10 ✅ | Train Acc: 99.70% - Train Loss: 0.0125 | Val Acc: 99.81% - Val Loss: 0.0063\n",
      "\n",
      "RESULTADOS:\n",
      "-> Mean Train Accuracy: 99.6895%\n",
      "-> Mean Train Loss: 0.0126\n",
      "-> Mean Validation Accuracy: 99.7458%\n",
      "-> Mean Validation Loss: 0.0102\n"
     ]
    }
   ],
   "source": [
    "train_dataset = TensorDataset(X_train, y_train)\n",
    "kfold = KFold(n_splits=k_folds, shuffle=True, random_state=42)\n",
    "\n",
    "fold_train_acc = []\n",
    "fold_train_loss = []\n",
    "fold_val_acc = []\n",
    "fold_val_loss = []\n",
    "\n",
    "best_val_acc = 0\n",
    "best_epoch_train_acc = []\n",
    "best_epoch_val_acc = []\n",
    "best_epoch_train_loss = []\n",
    "best_epoch_val_loss = []\n",
    "\n",
    "for fold, (train_idx, val_idx) in enumerate(kfold.split(train_dataset)):\n",
    "\n",
    "    epoch_train_acc = []\n",
    "    epoch_val_acc = []\n",
    "    epoch_train_loss = []\n",
    "    epoch_val_loss = []\n",
    "\n",
    "    print(f\"\\n📂 Fold {fold+1}/{k_folds}\")\n",
    "\n",
    "    train_subset = Subset(train_dataset, train_idx)\n",
    "    val_subset = Subset(train_dataset, val_idx)\n",
    "\n",
    "    train_loader = DataLoader(train_subset, batch_size=batch_size, shuffle=True)\n",
    "    val_loader = DataLoader(val_subset, batch_size=batch_size, shuffle=False)\n",
    "\n",
    "    model = CNN1D(num_classes=num_classes).to(device)\n",
    "\n",
    "    #Pesos inversamente proporcionales a la frecuencia de las clases\n",
    "    label_counts = Counter(y_train.cpu().numpy())\n",
    "    total_count = sum(label_counts.values())\n",
    "    weights = [total_count / (num_classes * label_counts[label]) for label in range(len(label_counts))]\n",
    "\n",
    "    criterion = nn.CrossEntropyLoss(weight=torch.tensor(weights).to(device))\n",
    "    optimizer = optim.Adam(model.parameters(), lr=0.001)\n",
    "\n",
    "    for epoch in range(num_epochs):\n",
    "        model.train()\n",
    "        train_loss = 0\n",
    "        correct_train = 0\n",
    "        total_train = 0\n",
    "\n",
    "        for inputs, labels in tqdm(train_loader, desc=f\"Fold {fold+1} | Epoch {epoch+1}/{num_epochs}\"):\n",
    "            inputs, labels = inputs.to(device), labels.to(device)\n",
    "            optimizer.zero_grad()\n",
    "            outputs = model(inputs)\n",
    "            loss = criterion(outputs, labels)\n",
    "            loss.backward()\n",
    "            optimizer.step()\n",
    "\n",
    "            _, predicted = torch.max(outputs, 1)\n",
    "            correct_train += (predicted == labels).sum().item()\n",
    "            total_train += labels.size(0)\n",
    "            train_loss += loss.item()\n",
    "\n",
    "        avg_train_loss = train_loss / len(train_loader)\n",
    "        train_acc = 100 * correct_train / total_train\n",
    "\n",
    "        model.eval()\n",
    "        val_loss = 0\n",
    "        correct_val = 0\n",
    "        total_val = 0\n",
    "        with torch.no_grad():\n",
    "            for inputs, labels in val_loader:\n",
    "                inputs, labels = inputs.to(device), labels.to(device)\n",
    "                outputs = model(inputs)\n",
    "                loss = criterion(outputs, labels)\n",
    "                _, predicted = torch.max(outputs, 1)\n",
    "                correct_val += (predicted == labels).sum().item()\n",
    "                total_val += labels.size(0)\n",
    "                val_loss += loss.item()\n",
    "\n",
    "        avg_val_loss = val_loss / len(val_loader)\n",
    "        val_acc = 100 * correct_val / total_val\n",
    "\n",
    "        epoch_train_acc.append(train_acc)\n",
    "        epoch_val_acc.append(val_acc)\n",
    "        epoch_train_loss.append(avg_train_loss)\n",
    "        epoch_val_loss.append(avg_val_loss)\n",
    "\n",
    "        print(f\"Fold {fold+1} - Epoch {epoch+1} ✅ | Train Acc: {train_acc:.2f}% - Train Loss: {avg_train_loss:.4f} | Val Acc: {val_acc:.2f}% - Val Loss: {avg_val_loss:.4f}\")\n",
    "\n",
    "    fold_train_acc.append(train_acc)\n",
    "    fold_val_acc.append(val_acc)\n",
    "    fold_train_loss.append(avg_train_loss)\n",
    "    fold_val_loss.append(avg_val_loss)\n",
    "\n",
    "    if val_acc > best_val_acc:\n",
    "        best_val_acc = val_acc\n",
    "        save_path = \"./Modelos/v4/representacion_1/longitud_8\"\n",
    "        os.makedirs(save_path, exist_ok=True)\n",
    "        torch.save(model.state_dict(), f\"{save_path}/CNN1D_fold_{fold+1}.pth\")\n",
    "        best_epoch_train_acc = epoch_train_acc.copy()\n",
    "        best_epoch_val_acc = epoch_val_acc.copy()\n",
    "        best_epoch_train_loss = epoch_train_loss.copy()\n",
    "        best_epoch_val_loss = epoch_val_loss.copy()\n",
    "\n",
    "print(\"\\nRESULTADOS:\")\n",
    "print(f\"-> Mean Train Accuracy: {np.mean(fold_train_acc):.4f}%\")\n",
    "print(f\"-> Mean Train Loss: {np.mean(fold_train_loss):.4f}\")\n",
    "print(f\"-> Mean Validation Accuracy: {np.mean(fold_val_acc):.4f}%\")\n",
    "print(f\"-> Mean Validation Loss: {np.mean(fold_val_loss):.4f}\")"
   ]
  },
  {
   "cell_type": "markdown",
   "metadata": {},
   "source": [
    "***Graficar los resultados del entrenamiento :***"
   ]
  },
  {
   "cell_type": "code",
   "execution_count": 8,
   "metadata": {},
   "outputs": [
    {
     "data": {
      "image/png": "[encoded data removed]",
      "text/plain": [
       "<Figure size 1000x500 with 2 Axes>"
      ]
     },
     "metadata": {},
     "output_type": "display_data"
    }
   ],
   "source": [
    "plt.figure(figsize=(10, 5))\n",
    "\n",
    "plt.subplot(1, 2, 1)\n",
    "plt.plot(range(1, num_epochs + 1), best_epoch_train_acc, label=\"Train Accuracy\")\n",
    "plt.plot(range(1, num_epochs + 1), best_epoch_val_acc, label=\"Validation Accuracy\")\n",
    "plt.xlabel(\"Epochs\")\n",
    "plt.ylabel(\"Accuracy (%)\")\n",
    "plt.legend()\n",
    "plt.grid()\n",
    "\n",
    "plt.subplot(1, 2, 2)\n",
    "plt.plot(range(1, num_epochs + 1), best_epoch_train_loss, label=\"Train Loss\")\n",
    "plt.plot(range(1, num_epochs + 1), best_epoch_val_loss, label=\"Validation Loss\")\n",
    "plt.xlabel(\"Epochs\")\n",
    "plt.ylabel(\"Loss\")\n",
    "plt.legend()\n",
    "plt.grid()\n",
    "\n",
    "plt.tight_layout()\n",
    "plt.savefig(f'./Graficas_entrenamiento/v4/representacion_1/longitud_8/CNN1D.png')\n",
    "plt.show()"
   ]
  },
  {
   "cell_type": "markdown",
   "metadata": {},
   "source": [
    "***Cargar el modelo :***"
   ]
  },
  {
   "cell_type": "code",
   "execution_count": 9,
   "metadata": {},
   "outputs": [
    {
     "data": {
      "text/plain": [
       "CNN1D(\n",
       "  (conv1): Conv1d(1, 32, kernel_size=(3,), stride=(1,), padding=(1,))\n",
       "  (pool): MaxPool1d(kernel_size=2, stride=2, padding=0, dilation=1, ceil_mode=False)\n",
       "  (conv2): Conv1d(32, 64, kernel_size=(3,), stride=(1,), padding=(1,))\n",
       "  (fc1): Linear(in_features=64, out_features=128, bias=True)\n",
       "  (dropout): Dropout(p=0.3, inplace=False)\n",
       "  (fc2): Linear(in_features=128, out_features=5, bias=True)\n",
       ")"
      ]
     },
     "execution_count": 9,
     "metadata": {},
     "output_type": "execute_result"
    }
   ],
   "source": [
    "model.load_state_dict(torch.load(\"./Modelos/v4/representacion_1/longitud_8/CNN1D_fold_1.pth\"))\n",
    "model.to(device)\n",
    "model.eval()"
   ]
  },
  {
   "cell_type": "markdown",
   "metadata": {},
   "source": [
    "***Evaluar el modelo :***"
   ]
  },
  {
   "cell_type": "code",
   "execution_count": 10,
   "metadata": {},
   "outputs": [],
   "source": [
    "all_preds = []\n",
    "all_labels = []\n",
    "\n",
    "test_dataset = TensorDataset(X_test, y_test)\n",
    "test_loader = DataLoader(test_dataset, batch_size=batch_size, shuffle=False)\n",
    "\n",
    "with torch.no_grad():\n",
    "    for images, labels in test_loader:\n",
    "        images, labels = images.to(device), labels.to(device)\n",
    "        outputs = model(images)\n",
    "        _, predicted = torch.max(outputs, 1)\n",
    "\n",
    "        all_preds.extend(predicted.cpu().numpy())\n",
    "        all_labels.extend(labels.cpu().numpy())"
   ]
  },
  {
   "cell_type": "code",
   "execution_count": null,
   "metadata": {},
   "outputs": [],
   "source": [
    "print(train_df['Type'].unique())         # Ver las clases únicas\n",
    "print(train_df['Type'].value_counts())   # Ver el conteo de cada clase"
   ]
  },
  {
   "cell_type": "markdown",
   "metadata": {},
   "source": [
    "***Matriz de confusión :***"
   ]
  },
  {
   "cell_type": "code",
   "execution_count": 11,
   "metadata": {},
   "outputs": [
    {
     "data": {
      "image/png": "[encoded data removed]",
      "text/plain": [
       "<Figure size 640x480 with 2 Axes>"
      ]
     },
     "metadata": {},
     "output_type": "display_data"
    }
   ],
   "source": [
    "#class_names = ['AIS(30)','AIS(31-32)','AIS(36)','AIS(37)','AIS(52)','AIS(56-57)','AIS(60-69)','AIS(70-79)','AIS(80-89)','AIS(90-99)']\n",
    "class_names = ['Cargo', 'Fishing', 'Military', 'Sailing', 'Tanker']\n",
    "#class_names = ['Cargo', 'Container', 'Cruise', 'Fishing', 'Tanker']\n",
    "cm = confusion_matrix(all_labels, all_preds)\n",
    "disp = ConfusionMatrixDisplay(confusion_matrix=cm, display_labels=class_names)\n",
    "disp.plot(cmap=\"Blues\", xticks_rotation=45)\n",
    "plt.show()"
   ]
  },
  {
   "cell_type": "markdown",
   "metadata": {},
   "source": [
    "***Análisis de los resultados obtenidos :***"
   ]
  },
  {
   "cell_type": "code",
   "execution_count": 13,
   "metadata": {},
   "outputs": [
    {
     "name": "stdout",
     "output_type": "stream",
     "text": [
      "              precision    recall  f1-score   support\n",
      "\n",
      "       Cargo       1.00      1.00      1.00       989\n",
      "     Fishing       1.00      1.00      1.00      1296\n",
      "    Military       1.00      1.00      1.00      1268\n",
      "     Sailing       1.00      1.00      1.00      1276\n",
      "      Tanker       1.00      1.00      1.00      1166\n",
      "\n",
      "    accuracy                           1.00      5995\n",
      "   macro avg       1.00      1.00      1.00      5995\n",
      "weighted avg       1.00      1.00      1.00      5995\n",
      "\n"
     ]
    }
   ],
   "source": [
    "print(classification_report(all_labels, all_preds, target_names=class_names))\n",
    "\n",
    "output_dir = Path('./Resultados/v4/representacion_1/longitud_8')\n",
    "\n",
    "classification_text = classification_report(all_labels, all_preds, target_names=class_names)\n",
    "\n",
    "with open(output_dir / 'CNN1D_report.txt', 'w') as f:\n",
    "    f.write(classification_text)"
   ]
  }
 ],
 "metadata": {
  "kernelspec": {
   "display_name": "venv",
   "language": "python",
   "name": "python3"
  },
  "language_info": {
   "codemirror_mode": {
    "name": "ipython",
    "version": 3
   },
   "file_extension": ".py",
   "mimetype": "text/x-python",
   "name": "python",
   "nbconvert_exporter": "python",
   "pygments_lexer": "ipython3",
   "version": "3.12.2"
  }
 },
 "nbformat": 4,
 "nbformat_minor": 2
}
