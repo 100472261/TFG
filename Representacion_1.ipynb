{
 "cells": [
  {
   "cell_type": "markdown",
   "metadata": {},
   "source": [
    "***Importamos las librerías necesarias :***"
   ]
  },
  {
   "cell_type": "code",
   "execution_count": 1,
   "metadata": {},
   "outputs": [],
   "source": [
    "import os\n",
    "import torch\n",
    "import numpy as np\n",
    "import pandas as pd\n",
    "from tqdm import tqdm\n",
    "import torch.nn as nn\n",
    "from pathlib import Path\n",
    "import torch.optim as optim\n",
    "import torch.nn.functional as F\n",
    "from collections import Counter\n",
    "import matplotlib.pyplot as plt\n",
    "from sklearn.model_selection import train_test_split, KFold\n",
    "from torch.utils.data import DataLoader, TensorDataset, Subset\n",
    "from sklearn.preprocessing import MinMaxScaler, LabelEncoder, OneHotEncoder\n",
    "from sklearn.metrics import confusion_matrix, ConfusionMatrixDisplay, accuracy_score, classification_report"
   ]
  },
  {
   "cell_type": "markdown",
   "metadata": {},
   "source": [
    "***Guardamos las trayectorias con sus respectivas clases en \"complete_df\" :***"
   ]
  },
  {
   "cell_type": "code",
   "execution_count": 2,
   "metadata": {},
   "outputs": [
    {
     "name": "stdout",
     "output_type": "stream",
     "text": [
      "Type: (30), Trajectory_ID: 303072000, Bearing: [96.5162, 304.4245, 112.0467, 270.0, 124.0176, 275.3023, 90.0]\n",
      "Type: (31-32), Trajectory_ID: 12345678, Bearing: [5.4935, 194.5566, 345.4434, 163.9059, 4.947, 153.6824, 283.0105]\n",
      "Type: (36), Trajectory_ID: 203617400, Bearing: [311.9546, 4.8022, 306.9435, 279.4963, 339.5848, 166.9011, 123.3999]\n",
      "Type: (37), Trajectory_ID: 36770590, Bearing: [180.0, 214.5701, 34.57, 0.0, 0.0, 270.0, 90.0]\n",
      "Type: (52), Trajectory_ID: 244820666, Bearing: [348.5608, 151.2762, 299.4578, 208.8924, 52.2166, 242.8648, 64.7952]\n",
      "Type: (56-57), Trajectory_ID: 338458000, Bearing: [60.1495, 16.8796, 94.1938, 37.3688, 10.4519, 41.1199, 85.2021]\n",
      "Type: (60-69), Trajectory_ID: 212259000, Bearing: [158.7121, 303.3421, 326.2097, 281.8299, 197.822, 143.7585, 112.7307]\n",
      "Type: (70-79), Trajectory_ID: 209087000, Bearing: [176.063, 221.7714, 252.6871, 258.9258, 254.2124, 230.3211, 203.7123]\n",
      "Type: (80-89), Trajectory_ID: 3791472, Bearing: [127.2361, 304.3033, 150.7023, 346.8875, 164.7439, 340.8538, 165.7902]\n",
      "Type: (90-99), Trajectory_ID: 111, Bearing: [118.1974, 313.3292, 136.1917, 341.3815, 164.7149, 318.389, 216.5072]\n",
      "\n",
      "Número total de trayectorias: 13668\n",
      "Type\n",
      "(37)       4160\n",
      "(31-32)    3260\n",
      "(70-79)    1216\n",
      "(90-99)    1058\n",
      "(36)       1014\n",
      "(60-69)     993\n",
      "(30)        896\n",
      "(80-89)     570\n",
      "(52)        310\n",
      "(56-57)     191\n",
      "Name: count, dtype: int64\n"
     ]
    }
   ],
   "source": [
    "csv_files = [\n",
    "    \"./Trayectorias/Tipos_de_barcos/longitud_8/(30)_modificado_compressed_8_v5.csv\",\n",
    "    \"./Trayectorias/Tipos_de_barcos/longitud_8/(31-32)_modificado_compressed_8_v5.csv\",\n",
    "    \"./Trayectorias/Tipos_de_barcos/longitud_8/(36)_modificado_compressed_8_v5.csv\",\n",
    "    \"./Trayectorias/Tipos_de_barcos/longitud_8/(37)_modificado_compressed_8_v5.csv\",\n",
    "    \"./Trayectorias/Tipos_de_barcos/longitud_8/(52)_modificado_compressed_8_v5.csv\",\n",
    "    \"./Trayectorias/Tipos_de_barcos/longitud_8/(56-57)_modificado_compressed_8_v5.csv\",\n",
    "    \"./Trayectorias/Tipos_de_barcos/longitud_8/(60-69)_modificado_compressed_8_v5.csv\",\n",
    "    \"./Trayectorias/Tipos_de_barcos/longitud_8/(70-79)_modificado_compressed_8_v5.csv\",\n",
    "    \"./Trayectorias/Tipos_de_barcos/longitud_8/(80-89)_modificado_compressed_8_v5.csv\",\n",
    "    \"./Trayectorias/Tipos_de_barcos/longitud_8/(90-99)_modificado_compressed_8_v5.csv\"\n",
    "]\n",
    "\n",
    "complete_df = pd.DataFrame()\n",
    "\n",
    "for file in csv_files:\n",
    "    df = pd.read_csv(file)\n",
    "    df['Bearing'] = df['Bearing'].round(4)\n",
    "    grouped = df.groupby('Trajectory_ID')['Bearing'].apply(lambda x: [i for i in x if pd.notna(i)]).reset_index()\n",
    "    grouped['Type'] = file.split('/')[-1].split('_')[0]\n",
    "    complete_df = pd.concat([complete_df, grouped], ignore_index=True)\n",
    "\n",
    "### COMPROBACIÓN BEARING ###\n",
    "for tipo in complete_df['Type'].unique():\n",
    "    first_element = complete_df[complete_df['Type'] == tipo].iloc[0]\n",
    "    print(f\"Type: {tipo}, Trajectory_ID: {first_element['Trajectory_ID']}, Bearing: {first_element['Bearing']}\")\n",
    "\n",
    "print()\n",
    "\n",
    "### COMPROBACIÓN NÚMERO DE TRAYECTORIAS ###\n",
    "print(\"Número total de trayectorias:\", len(complete_df))\n",
    "class_counts = complete_df['Type'].value_counts()\n",
    "print(class_counts)"
   ]
  },
  {
   "cell_type": "markdown",
   "metadata": {},
   "source": [
    "***Dividimos \"complete_df\" en entrenamiento y test :***"
   ]
  },
  {
   "cell_type": "code",
   "execution_count": 3,
   "metadata": {},
   "outputs": [
    {
     "name": "stdout",
     "output_type": "stream",
     "text": [
      "Nº de trayectorias en train: 10937\n",
      "Type\n",
      "(37)       3328\n",
      "(31-32)    2608\n",
      "(70-79)     973\n",
      "(90-99)     847\n",
      "(36)        812\n",
      "(60-69)     795\n",
      "(30)        717\n",
      "(80-89)     456\n",
      "(52)        248\n",
      "(56-57)     153\n",
      "Name: count, dtype: int64\n",
      "\n",
      "Nº de trayectorias en test: 2731\n",
      "Type\n",
      "(37)       832\n",
      "(31-32)    652\n",
      "(70-79)    243\n",
      "(90-99)    211\n",
      "(36)       202\n",
      "(60-69)    198\n",
      "(30)       179\n",
      "(80-89)    114\n",
      "(52)        62\n",
      "(56-57)     38\n",
      "Name: count, dtype: int64\n",
      "\n",
      "Ejm. conjunto train:\n",
      "   Trajectory_ID                                            Bearing     Type\n",
      "0      368023090  [9.4451, 204.1882, 32.0512, 212.6871, 49.2986,...     (37)\n",
      "1      366975420  [282.5374, 66.0225, 113.9775, 282.5374, 27.682...  (31-32)\n",
      "2      367100870  [184.2851, 5.107, 184.7496, 3.3873, 123.467, 1...  (60-69)\n",
      "3      367756780  [107.5292, 289.0127, 165.2204, 341.2626, 90.0,...     (36)\n",
      "4      338328994  [74.5412, 270.0, 121.106, 317.8865, 158.1109, ...     (37)\n",
      "\n",
      "Ejm. conjunto test:\n",
      "   Trajectory_ID                                            Bearing     Type\n",
      "0      338398921  [218.6249, 67.3547, 180.0, 11.2962, 270.0, 180...     (36)\n",
      "1      367328020  [119.5433, 311.666, 321.9695, 137.8338, 314.65...  (31-32)\n",
      "2      367777460  [296.6718, 119.3763, 311.5582, 31.1622, 197.78...  (31-32)\n",
      "3      368183730  [59.3094, 191.4299, 356.4941, 176.7856, 347.33...     (36)\n",
      "4      338239429  [134.0149, 328.8787, 254.5676, 137.8354, 327.9...     (37)\n"
     ]
    }
   ],
   "source": [
    "complete_df = complete_df.sample(frac=1, random_state=42).reset_index(drop=True)\n",
    "\n",
    "test_size = 0.2\n",
    "train_df_list = []\n",
    "test_df_list = []\n",
    "\n",
    "classes = complete_df['Type'].unique()\n",
    "\n",
    "for class_name in classes:\n",
    "    class_subset = complete_df[complete_df['Type'] == class_name]\n",
    "    \n",
    "    test_count = int(len(class_subset) * test_size)\n",
    "    \n",
    "    test_df_list.append(class_subset.iloc[:test_count])\n",
    "    train_df_list.append(class_subset.iloc[test_count:])\n",
    "\n",
    "train_df = pd.concat(train_df_list).reset_index(drop=True)\n",
    "test_df = pd.concat(test_df_list).reset_index(drop=True)\n",
    "\n",
    "train_df = train_df.sample(frac=1, random_state=42).reset_index(drop=True)\n",
    "test_df = test_df.sample(frac=1, random_state=42).reset_index(drop=True)\n",
    "\n",
    "#### COMPROBACIÓN ####\n",
    "print(f\"Nº de trayectorias en train: {len(train_df)}\")\n",
    "print(train_df['Type'].value_counts())\n",
    "print()\n",
    "print(f\"Nº de trayectorias en test: {len(test_df)}\")\n",
    "print(test_df['Type'].value_counts())\n",
    "print()\n",
    "print(\"Ejm. conjunto train:\")\n",
    "print(train_df.head(5))\n",
    "print()\n",
    "print(\"Ejm. conjunto test:\")\n",
    "print(test_df.head(5))"
   ]
  },
  {
   "cell_type": "markdown",
   "metadata": {},
   "source": [
    "***Pre-procesado de los datos :***"
   ]
  },
  {
   "cell_type": "code",
   "execution_count": 4,
   "metadata": {},
   "outputs": [
    {
     "name": "stdout",
     "output_type": "stream",
     "text": [
      "Device: cuda\n",
      "X_train: torch.Size([10937, 1, 7]) cuda:0\n",
      "y_train: torch.Size([10937]) cuda:0\n",
      "X_test: torch.Size([2731, 1, 7]) cuda:0\n",
      "y_test: torch.Size([2731]) cuda:0\n"
     ]
    }
   ],
   "source": [
    "#Convertimos Bearing a un array de numpy\n",
    "X_train = np.array(train_df['Bearing'].tolist())\n",
    "X_test = np.array(test_df['Bearing'].tolist())\n",
    "\n",
    "#Normalizamos los valores de Bearing\n",
    "scaler = MinMaxScaler()\n",
    "X_train = scaler.fit_transform(X_train)\n",
    "X_test = scaler.transform(X_test)\n",
    "\n",
    "#Añadimos una dimensión extra para que tenga la forma (n, 1)\n",
    "X_train = np.expand_dims(X_train, axis = -1)\n",
    "X_test = np.expand_dims(X_test, axis = -1)\n",
    "\n",
    "#Codificamos las etiquetas de Type\n",
    "label_encoder = LabelEncoder()\n",
    "y_train = label_encoder.fit_transform(train_df['Type'])\n",
    "y_test = label_encoder.transform(test_df['Type'])\n",
    "\n",
    "#Conversión a tensores\n",
    "device = torch.device(\"cuda\" if torch.cuda.is_available() else \"cpu\")\n",
    "print(\"Device:\", device)\n",
    "\n",
    "X_train = torch.tensor(X_train, dtype=torch.float32).permute(0, 2, 1).to(device)\n",
    "X_test = torch.tensor(X_test, dtype=torch.float32).permute(0, 2, 1).to(device)\n",
    "y_train = torch.tensor(y_train, dtype=torch.long).to(device)\n",
    "y_test = torch.tensor(y_test, dtype=torch.long).to(device)\n",
    "\n",
    "print(\"X_train:\", X_train.shape, X_train.device)\n",
    "print(\"y_train:\", y_train.shape, y_train.device)\n",
    "print(\"X_test:\", X_test.shape, X_test.device)\n",
    "print(\"y_test:\", y_test.shape, y_test.device)"
   ]
  },
  {
   "cell_type": "markdown",
   "metadata": {},
   "source": [
    "# ***CNN1D :***"
   ]
  },
  {
   "cell_type": "code",
   "execution_count": 5,
   "metadata": {},
   "outputs": [],
   "source": [
    "class CNN1D(nn.Module):\n",
    "    def __init__(self, num_classes):\n",
    "        super(CNN1D, self).__init__()\n",
    "        self.conv1 = nn.Conv1d(in_channels=1, out_channels=32, kernel_size=3, padding=1)\n",
    "        self.pool = nn.MaxPool1d(kernel_size=2)\n",
    "        self.conv2 = nn.Conv1d(32, 64, kernel_size=3, padding=1)\n",
    "        self.fc1 = nn.Linear(64 * (X_train.shape[2] // 4), 128)\n",
    "        self.dropout = nn.Dropout(0.3)\n",
    "        self.fc2 = nn.Linear(128, num_classes)\n",
    "\n",
    "    def forward(self, x):\n",
    "        x = F.relu(self.conv1(x))\n",
    "        x = self.pool(x)\n",
    "        x = F.relu(self.conv2(x))\n",
    "        x = self.pool(x)\n",
    "        x = x.view(x.size(0), -1)\n",
    "        x = F.relu(self.fc1(x))\n",
    "        x = self.dropout(x)\n",
    "        x = self.fc2(x)\n",
    "        return x"
   ]
  },
  {
   "cell_type": "markdown",
   "metadata": {},
   "source": [
    "***Configuración del modelo :***"
   ]
  },
  {
   "cell_type": "code",
   "execution_count": 6,
   "metadata": {},
   "outputs": [],
   "source": [
    "k_folds = 5\n",
    "batch_size = 32\n",
    "num_epochs = 100\n",
    "num_classes = 10"
   ]
  },
  {
   "cell_type": "markdown",
   "metadata": {},
   "source": [
    "***Entrenamiento del modelo :***"
   ]
  },
  {
   "cell_type": "code",
   "execution_count": 7,
   "metadata": {},
   "outputs": [
    {
     "name": "stdout",
     "output_type": "stream",
     "text": [
      "\n",
      "📂 Fold 1/5\n"
     ]
    },
    {
     "name": "stderr",
     "output_type": "stream",
     "text": [
      "Fold 1 | Epoch 1/100: 100%|██████████| 274/274 [00:03<00:00, 68.60it/s] \n"
     ]
    },
    {
     "name": "stdout",
     "output_type": "stream",
     "text": [
      "Fold 1 - Epoch 1 ✅ | Train Acc: 16.16% - Train Loss: 2.3004 | Val Acc: 10.60% - Val Loss: 2.2929\n"
     ]
    },
    {
     "name": "stderr",
     "output_type": "stream",
     "text": [
      "Fold 1 | Epoch 2/100: 100%|██████████| 274/274 [00:00<00:00, 416.02it/s]\n"
     ]
    },
    {
     "name": "stdout",
     "output_type": "stream",
     "text": [
      "Fold 1 - Epoch 2 ✅ | Train Acc: 25.20% - Train Loss: 2.2658 | Val Acc: 25.14% - Val Loss: 2.2584\n"
     ]
    },
    {
     "name": "stderr",
     "output_type": "stream",
     "text": [
      "Fold 1 | Epoch 3/100: 100%|██████████| 274/274 [00:00<00:00, 381.03it/s]\n"
     ]
    },
    {
     "name": "stdout",
     "output_type": "stream",
     "text": [
      "Fold 1 - Epoch 3 ✅ | Train Acc: 28.15% - Train Loss: 2.2465 | Val Acc: 26.69% - Val Loss: 2.2525\n"
     ]
    },
    {
     "name": "stderr",
     "output_type": "stream",
     "text": [
      "Fold 1 | Epoch 4/100: 100%|██████████| 274/274 [00:00<00:00, 402.37it/s]\n"
     ]
    },
    {
     "name": "stdout",
     "output_type": "stream",
     "text": [
      "Fold 1 - Epoch 4 ✅ | Train Acc: 28.01% - Train Loss: 2.2393 | Val Acc: 31.95% - Val Loss: 2.2468\n"
     ]
    },
    {
     "name": "stderr",
     "output_type": "stream",
     "text": [
      "Fold 1 | Epoch 5/100: 100%|██████████| 274/274 [00:00<00:00, 399.80it/s]\n"
     ]
    },
    {
     "name": "stdout",
     "output_type": "stream",
     "text": [
      "Fold 1 - Epoch 5 ✅ | Train Acc: 28.31% - Train Loss: 2.2379 | Val Acc: 26.87% - Val Loss: 2.2404\n"
     ]
    },
    {
     "name": "stderr",
     "output_type": "stream",
     "text": [
      "Fold 1 | Epoch 6/100: 100%|██████████| 274/274 [00:00<00:00, 402.43it/s]\n"
     ]
    },
    {
     "name": "stdout",
     "output_type": "stream",
     "text": [
      "Fold 1 - Epoch 6 ✅ | Train Acc: 28.83% - Train Loss: 2.2302 | Val Acc: 29.43% - Val Loss: 2.2356\n"
     ]
    },
    {
     "name": "stderr",
     "output_type": "stream",
     "text": [
      "Fold 1 | Epoch 7/100: 100%|██████████| 274/274 [00:00<00:00, 428.20it/s]\n"
     ]
    },
    {
     "name": "stdout",
     "output_type": "stream",
     "text": [
      "Fold 1 - Epoch 7 ✅ | Train Acc: 29.44% - Train Loss: 2.2265 | Val Acc: 30.62% - Val Loss: 2.2369\n"
     ]
    },
    {
     "name": "stderr",
     "output_type": "stream",
     "text": [
      "Fold 1 | Epoch 8/100: 100%|██████████| 274/274 [00:00<00:00, 417.96it/s]\n"
     ]
    },
    {
     "name": "stdout",
     "output_type": "stream",
     "text": [
      "Fold 1 - Epoch 8 ✅ | Train Acc: 27.93% - Train Loss: 2.2241 | Val Acc: 23.49% - Val Loss: 2.2421\n"
     ]
    },
    {
     "name": "stderr",
     "output_type": "stream",
     "text": [
      "Fold 1 | Epoch 9/100: 100%|██████████| 274/274 [00:00<00:00, 418.65it/s]\n"
     ]
    },
    {
     "name": "stdout",
     "output_type": "stream",
     "text": [
      "Fold 1 - Epoch 9 ✅ | Train Acc: 28.86% - Train Loss: 2.2227 | Val Acc: 26.69% - Val Loss: 2.2373\n"
     ]
    },
    {
     "name": "stderr",
     "output_type": "stream",
     "text": [
      "Fold 1 | Epoch 10/100: 100%|██████████| 274/274 [00:00<00:00, 424.11it/s]\n"
     ]
    },
    {
     "name": "stdout",
     "output_type": "stream",
     "text": [
      "Fold 1 - Epoch 10 ✅ | Train Acc: 27.65% - Train Loss: 2.2155 | Val Acc: 25.91% - Val Loss: 2.2303\n"
     ]
    },
    {
     "name": "stderr",
     "output_type": "stream",
     "text": [
      "Fold 1 | Epoch 11/100: 100%|██████████| 274/274 [00:00<00:00, 422.11it/s]\n"
     ]
    },
    {
     "name": "stdout",
     "output_type": "stream",
     "text": [
      "Fold 1 - Epoch 11 ✅ | Train Acc: 27.04% - Train Loss: 2.2151 | Val Acc: 24.41% - Val Loss: 2.2284\n"
     ]
    },
    {
     "name": "stderr",
     "output_type": "stream",
     "text": [
      "Fold 1 | Epoch 12/100: 100%|██████████| 274/274 [00:00<00:00, 413.00it/s]\n"
     ]
    },
    {
     "name": "stdout",
     "output_type": "stream",
     "text": [
      "Fold 1 - Epoch 12 ✅ | Train Acc: 27.43% - Train Loss: 2.2104 | Val Acc: 25.82% - Val Loss: 2.2234\n"
     ]
    },
    {
     "name": "stderr",
     "output_type": "stream",
     "text": [
      "Fold 1 | Epoch 13/100: 100%|██████████| 274/274 [00:00<00:00, 424.10it/s]\n"
     ]
    },
    {
     "name": "stdout",
     "output_type": "stream",
     "text": [
      "Fold 1 - Epoch 13 ✅ | Train Acc: 27.58% - Train Loss: 2.2098 | Val Acc: 29.02% - Val Loss: 2.2255\n"
     ]
    },
    {
     "name": "stderr",
     "output_type": "stream",
     "text": [
      "Fold 1 | Epoch 14/100: 100%|██████████| 274/274 [00:00<00:00, 419.66it/s]\n"
     ]
    },
    {
     "name": "stdout",
     "output_type": "stream",
     "text": [
      "Fold 1 - Epoch 14 ✅ | Train Acc: 28.56% - Train Loss: 2.2016 | Val Acc: 22.94% - Val Loss: 2.2179\n"
     ]
    },
    {
     "name": "stderr",
     "output_type": "stream",
     "text": [
      "Fold 1 | Epoch 15/100: 100%|██████████| 274/274 [00:00<00:00, 407.84it/s]\n"
     ]
    },
    {
     "name": "stdout",
     "output_type": "stream",
     "text": [
      "Fold 1 - Epoch 15 ✅ | Train Acc: 24.84% - Train Loss: 2.1990 | Val Acc: 24.36% - Val Loss: 2.2154\n"
     ]
    },
    {
     "name": "stderr",
     "output_type": "stream",
     "text": [
      "Fold 1 | Epoch 16/100: 100%|██████████| 274/274 [00:00<00:00, 392.37it/s]\n"
     ]
    },
    {
     "name": "stdout",
     "output_type": "stream",
     "text": [
      "Fold 1 - Epoch 16 ✅ | Train Acc: 26.39% - Train Loss: 2.2002 | Val Acc: 28.02% - Val Loss: 2.2203\n"
     ]
    },
    {
     "name": "stderr",
     "output_type": "stream",
     "text": [
      "Fold 1 | Epoch 17/100: 100%|██████████| 274/274 [00:00<00:00, 419.43it/s]\n"
     ]
    },
    {
     "name": "stdout",
     "output_type": "stream",
     "text": [
      "Fold 1 - Epoch 17 ✅ | Train Acc: 23.96% - Train Loss: 2.1945 | Val Acc: 24.68% - Val Loss: 2.2163\n"
     ]
    },
    {
     "name": "stderr",
     "output_type": "stream",
     "text": [
      "Fold 1 | Epoch 18/100: 100%|██████████| 274/274 [00:00<00:00, 363.60it/s]\n"
     ]
    },
    {
     "name": "stdout",
     "output_type": "stream",
     "text": [
      "Fold 1 - Epoch 18 ✅ | Train Acc: 27.02% - Train Loss: 2.1924 | Val Acc: 16.45% - Val Loss: 2.2274\n"
     ]
    },
    {
     "name": "stderr",
     "output_type": "stream",
     "text": [
      "Fold 1 | Epoch 19/100: 100%|██████████| 274/274 [00:00<00:00, 370.87it/s]\n"
     ]
    },
    {
     "name": "stdout",
     "output_type": "stream",
     "text": [
      "Fold 1 - Epoch 19 ✅ | Train Acc: 22.28% - Train Loss: 2.1843 | Val Acc: 23.54% - Val Loss: 2.2223\n"
     ]
    },
    {
     "name": "stderr",
     "output_type": "stream",
     "text": [
      "Fold 1 | Epoch 20/100: 100%|██████████| 274/274 [00:00<00:00, 389.09it/s]\n"
     ]
    },
    {
     "name": "stdout",
     "output_type": "stream",
     "text": [
      "Fold 1 - Epoch 20 ✅ | Train Acc: 24.92% - Train Loss: 2.1835 | Val Acc: 22.67% - Val Loss: 2.2186\n"
     ]
    },
    {
     "name": "stderr",
     "output_type": "stream",
     "text": [
      "Fold 1 | Epoch 21/100: 100%|██████████| 274/274 [00:00<00:00, 383.91it/s]\n"
     ]
    },
    {
     "name": "stdout",
     "output_type": "stream",
     "text": [
      "Fold 1 - Epoch 21 ✅ | Train Acc: 21.92% - Train Loss: 2.1881 | Val Acc: 18.88% - Val Loss: 2.2145\n"
     ]
    },
    {
     "name": "stderr",
     "output_type": "stream",
     "text": [
      "Fold 1 | Epoch 22/100: 100%|██████████| 274/274 [00:00<00:00, 390.59it/s]\n"
     ]
    },
    {
     "name": "stdout",
     "output_type": "stream",
     "text": [
      "Fold 1 - Epoch 22 ✅ | Train Acc: 22.25% - Train Loss: 2.1749 | Val Acc: 21.94% - Val Loss: 2.2179\n"
     ]
    },
    {
     "name": "stderr",
     "output_type": "stream",
     "text": [
      "Fold 1 | Epoch 23/100: 100%|██████████| 274/274 [00:00<00:00, 386.73it/s]\n"
     ]
    },
    {
     "name": "stdout",
     "output_type": "stream",
     "text": [
      "Fold 1 - Epoch 23 ✅ | Train Acc: 22.64% - Train Loss: 2.1751 | Val Acc: 26.78% - Val Loss: 2.2209\n"
     ]
    },
    {
     "name": "stderr",
     "output_type": "stream",
     "text": [
      "Fold 1 | Epoch 24/100: 100%|██████████| 274/274 [00:00<00:00, 382.58it/s]\n"
     ]
    },
    {
     "name": "stdout",
     "output_type": "stream",
     "text": [
      "Fold 1 - Epoch 24 ✅ | Train Acc: 23.60% - Train Loss: 2.1717 | Val Acc: 24.18% - Val Loss: 2.2194\n"
     ]
    },
    {
     "name": "stderr",
     "output_type": "stream",
     "text": [
      "Fold 1 | Epoch 25/100: 100%|██████████| 274/274 [00:00<00:00, 366.72it/s]\n"
     ]
    },
    {
     "name": "stdout",
     "output_type": "stream",
     "text": [
      "Fold 1 - Epoch 25 ✅ | Train Acc: 21.58% - Train Loss: 2.1674 | Val Acc: 23.35% - Val Loss: 2.2244\n"
     ]
    },
    {
     "name": "stderr",
     "output_type": "stream",
     "text": [
      "Fold 1 | Epoch 26/100: 100%|██████████| 274/274 [00:00<00:00, 403.31it/s]\n"
     ]
    },
    {
     "name": "stdout",
     "output_type": "stream",
     "text": [
      "Fold 1 - Epoch 26 ✅ | Train Acc: 24.48% - Train Loss: 2.1646 | Val Acc: 18.51% - Val Loss: 2.2154\n"
     ]
    },
    {
     "name": "stderr",
     "output_type": "stream",
     "text": [
      "Fold 1 | Epoch 27/100: 100%|██████████| 274/274 [00:00<00:00, 398.55it/s]\n"
     ]
    },
    {
     "name": "stdout",
     "output_type": "stream",
     "text": [
      "Fold 1 - Epoch 27 ✅ | Train Acc: 21.57% - Train Loss: 2.1595 | Val Acc: 19.15% - Val Loss: 2.2278\n"
     ]
    },
    {
     "name": "stderr",
     "output_type": "stream",
     "text": [
      "Fold 1 | Epoch 28/100: 100%|██████████| 274/274 [00:00<00:00, 398.36it/s]\n"
     ]
    },
    {
     "name": "stdout",
     "output_type": "stream",
     "text": [
      "Fold 1 - Epoch 28 ✅ | Train Acc: 21.88% - Train Loss: 2.1548 | Val Acc: 22.07% - Val Loss: 2.2111\n"
     ]
    },
    {
     "name": "stderr",
     "output_type": "stream",
     "text": [
      "Fold 1 | Epoch 29/100: 100%|██████████| 274/274 [00:00<00:00, 398.51it/s]\n"
     ]
    },
    {
     "name": "stdout",
     "output_type": "stream",
     "text": [
      "Fold 1 - Epoch 29 ✅ | Train Acc: 22.06% - Train Loss: 2.1485 | Val Acc: 21.89% - Val Loss: 2.2161\n"
     ]
    },
    {
     "name": "stderr",
     "output_type": "stream",
     "text": [
      "Fold 1 | Epoch 30/100: 100%|██████████| 274/274 [00:00<00:00, 390.07it/s]\n"
     ]
    },
    {
     "name": "stdout",
     "output_type": "stream",
     "text": [
      "Fold 1 - Epoch 30 ✅ | Train Acc: 21.51% - Train Loss: 2.1433 | Val Acc: 24.45% - Val Loss: 2.2219\n"
     ]
    },
    {
     "name": "stderr",
     "output_type": "stream",
     "text": [
      "Fold 1 | Epoch 31/100: 100%|██████████| 274/274 [00:00<00:00, 389.48it/s]\n"
     ]
    },
    {
     "name": "stdout",
     "output_type": "stream",
     "text": [
      "Fold 1 - Epoch 31 ✅ | Train Acc: 22.15% - Train Loss: 2.1447 | Val Acc: 15.72% - Val Loss: 2.2137\n"
     ]
    },
    {
     "name": "stderr",
     "output_type": "stream",
     "text": [
      "Fold 1 | Epoch 32/100: 100%|██████████| 274/274 [00:00<00:00, 398.59it/s]\n"
     ]
    },
    {
     "name": "stdout",
     "output_type": "stream",
     "text": [
      "Fold 1 - Epoch 32 ✅ | Train Acc: 20.86% - Train Loss: 2.1395 | Val Acc: 20.11% - Val Loss: 2.2296\n"
     ]
    },
    {
     "name": "stderr",
     "output_type": "stream",
     "text": [
      "Fold 1 | Epoch 33/100: 100%|██████████| 274/274 [00:00<00:00, 418.55it/s]\n"
     ]
    },
    {
     "name": "stdout",
     "output_type": "stream",
     "text": [
      "Fold 1 - Epoch 33 ✅ | Train Acc: 22.00% - Train Loss: 2.1346 | Val Acc: 14.85% - Val Loss: 2.2401\n"
     ]
    },
    {
     "name": "stderr",
     "output_type": "stream",
     "text": [
      "Fold 1 | Epoch 34/100: 100%|██████████| 274/274 [00:00<00:00, 412.92it/s]\n"
     ]
    },
    {
     "name": "stdout",
     "output_type": "stream",
     "text": [
      "Fold 1 - Epoch 34 ✅ | Train Acc: 20.57% - Train Loss: 2.1342 | Val Acc: 21.25% - Val Loss: 2.2182\n"
     ]
    },
    {
     "name": "stderr",
     "output_type": "stream",
     "text": [
      "Fold 1 | Epoch 35/100: 100%|██████████| 274/274 [00:00<00:00, 415.32it/s]\n"
     ]
    },
    {
     "name": "stdout",
     "output_type": "stream",
     "text": [
      "Fold 1 - Epoch 35 ✅ | Train Acc: 22.36% - Train Loss: 2.1252 | Val Acc: 18.42% - Val Loss: 2.2312\n"
     ]
    },
    {
     "name": "stderr",
     "output_type": "stream",
     "text": [
      "Fold 1 | Epoch 36/100: 100%|██████████| 274/274 [00:00<00:00, 411.27it/s]\n"
     ]
    },
    {
     "name": "stdout",
     "output_type": "stream",
     "text": [
      "Fold 1 - Epoch 36 ✅ | Train Acc: 21.49% - Train Loss: 2.1255 | Val Acc: 23.26% - Val Loss: 2.2394\n"
     ]
    },
    {
     "name": "stderr",
     "output_type": "stream",
     "text": [
      "Fold 1 | Epoch 37/100: 100%|██████████| 274/274 [00:00<00:00, 418.89it/s]\n"
     ]
    },
    {
     "name": "stdout",
     "output_type": "stream",
     "text": [
      "Fold 1 - Epoch 37 ✅ | Train Acc: 21.04% - Train Loss: 2.1224 | Val Acc: 22.44% - Val Loss: 2.2476\n"
     ]
    },
    {
     "name": "stderr",
     "output_type": "stream",
     "text": [
      "Fold 1 | Epoch 38/100: 100%|██████████| 274/274 [00:00<00:00, 406.75it/s]\n"
     ]
    },
    {
     "name": "stdout",
     "output_type": "stream",
     "text": [
      "Fold 1 - Epoch 38 ✅ | Train Acc: 20.29% - Train Loss: 2.1210 | Val Acc: 19.70% - Val Loss: 2.2220\n"
     ]
    },
    {
     "name": "stderr",
     "output_type": "stream",
     "text": [
      "Fold 1 | Epoch 39/100: 100%|██████████| 274/274 [00:00<00:00, 407.11it/s]\n"
     ]
    },
    {
     "name": "stdout",
     "output_type": "stream",
     "text": [
      "Fold 1 - Epoch 39 ✅ | Train Acc: 21.47% - Train Loss: 2.1143 | Val Acc: 24.31% - Val Loss: 2.2261\n"
     ]
    },
    {
     "name": "stderr",
     "output_type": "stream",
     "text": [
      "Fold 1 | Epoch 40/100: 100%|██████████| 274/274 [00:00<00:00, 419.79it/s]\n"
     ]
    },
    {
     "name": "stdout",
     "output_type": "stream",
     "text": [
      "Fold 1 - Epoch 40 ✅ | Train Acc: 21.15% - Train Loss: 2.1109 | Val Acc: 21.44% - Val Loss: 2.2383\n"
     ]
    },
    {
     "name": "stderr",
     "output_type": "stream",
     "text": [
      "Fold 1 | Epoch 41/100: 100%|██████████| 274/274 [00:00<00:00, 421.81it/s]\n"
     ]
    },
    {
     "name": "stdout",
     "output_type": "stream",
     "text": [
      "Fold 1 - Epoch 41 ✅ | Train Acc: 20.71% - Train Loss: 2.1091 | Val Acc: 17.00% - Val Loss: 2.2295\n"
     ]
    },
    {
     "name": "stderr",
     "output_type": "stream",
     "text": [
      "Fold 1 | Epoch 42/100: 100%|██████████| 274/274 [00:00<00:00, 417.18it/s]\n"
     ]
    },
    {
     "name": "stdout",
     "output_type": "stream",
     "text": [
      "Fold 1 - Epoch 42 ✅ | Train Acc: 20.30% - Train Loss: 2.1119 | Val Acc: 22.21% - Val Loss: 2.2485\n"
     ]
    },
    {
     "name": "stderr",
     "output_type": "stream",
     "text": [
      "Fold 1 | Epoch 43/100: 100%|██████████| 274/274 [00:00<00:00, 419.84it/s]\n"
     ]
    },
    {
     "name": "stdout",
     "output_type": "stream",
     "text": [
      "Fold 1 - Epoch 43 ✅ | Train Acc: 21.10% - Train Loss: 2.1017 | Val Acc: 16.27% - Val Loss: 2.2323\n"
     ]
    },
    {
     "name": "stderr",
     "output_type": "stream",
     "text": [
      "Fold 1 | Epoch 44/100: 100%|██████████| 274/274 [00:00<00:00, 416.92it/s]\n"
     ]
    },
    {
     "name": "stdout",
     "output_type": "stream",
     "text": [
      "Fold 1 - Epoch 44 ✅ | Train Acc: 20.44% - Train Loss: 2.0962 | Val Acc: 21.66% - Val Loss: 2.2344\n"
     ]
    },
    {
     "name": "stderr",
     "output_type": "stream",
     "text": [
      "Fold 1 | Epoch 45/100: 100%|██████████| 274/274 [00:00<00:00, 405.04it/s]\n"
     ]
    },
    {
     "name": "stdout",
     "output_type": "stream",
     "text": [
      "Fold 1 - Epoch 45 ✅ | Train Acc: 21.91% - Train Loss: 2.0944 | Val Acc: 21.44% - Val Loss: 2.2321\n"
     ]
    },
    {
     "name": "stderr",
     "output_type": "stream",
     "text": [
      "Fold 1 | Epoch 46/100: 100%|██████████| 274/274 [00:00<00:00, 415.38it/s]\n"
     ]
    },
    {
     "name": "stdout",
     "output_type": "stream",
     "text": [
      "Fold 1 - Epoch 46 ✅ | Train Acc: 19.80% - Train Loss: 2.0916 | Val Acc: 22.07% - Val Loss: 2.2343\n"
     ]
    },
    {
     "name": "stderr",
     "output_type": "stream",
     "text": [
      "Fold 1 | Epoch 47/100: 100%|██████████| 274/274 [00:00<00:00, 413.28it/s]\n"
     ]
    },
    {
     "name": "stdout",
     "output_type": "stream",
     "text": [
      "Fold 1 - Epoch 47 ✅ | Train Acc: 21.50% - Train Loss: 2.0860 | Val Acc: 21.94% - Val Loss: 2.2434\n"
     ]
    },
    {
     "name": "stderr",
     "output_type": "stream",
     "text": [
      "Fold 1 | Epoch 48/100: 100%|██████████| 274/274 [00:00<00:00, 407.05it/s]\n"
     ]
    },
    {
     "name": "stdout",
     "output_type": "stream",
     "text": [
      "Fold 1 - Epoch 48 ✅ | Train Acc: 21.07% - Train Loss: 2.0823 | Val Acc: 20.57% - Val Loss: 2.2744\n"
     ]
    },
    {
     "name": "stderr",
     "output_type": "stream",
     "text": [
      "Fold 1 | Epoch 49/100: 100%|██████████| 274/274 [00:00<00:00, 398.37it/s]\n"
     ]
    },
    {
     "name": "stdout",
     "output_type": "stream",
     "text": [
      "Fold 1 - Epoch 49 ✅ | Train Acc: 20.61% - Train Loss: 2.0837 | Val Acc: 15.27% - Val Loss: 2.2449\n"
     ]
    },
    {
     "name": "stderr",
     "output_type": "stream",
     "text": [
      "Fold 1 | Epoch 50/100: 100%|██████████| 274/274 [00:00<00:00, 403.12it/s]\n"
     ]
    },
    {
     "name": "stdout",
     "output_type": "stream",
     "text": [
      "Fold 1 - Epoch 50 ✅ | Train Acc: 19.99% - Train Loss: 2.0785 | Val Acc: 17.87% - Val Loss: 2.2499\n"
     ]
    },
    {
     "name": "stderr",
     "output_type": "stream",
     "text": [
      "Fold 1 | Epoch 51/100: 100%|██████████| 274/274 [00:00<00:00, 410.93it/s]\n"
     ]
    },
    {
     "name": "stdout",
     "output_type": "stream",
     "text": [
      "Fold 1 - Epoch 51 ✅ | Train Acc: 21.33% - Train Loss: 2.0749 | Val Acc: 21.48% - Val Loss: 2.2564\n"
     ]
    },
    {
     "name": "stderr",
     "output_type": "stream",
     "text": [
      "Fold 1 | Epoch 52/100: 100%|██████████| 274/274 [00:00<00:00, 394.56it/s]\n"
     ]
    },
    {
     "name": "stdout",
     "output_type": "stream",
     "text": [
      "Fold 1 - Epoch 52 ✅ | Train Acc: 19.96% - Train Loss: 2.0683 | Val Acc: 18.78% - Val Loss: 2.2743\n"
     ]
    },
    {
     "name": "stderr",
     "output_type": "stream",
     "text": [
      "Fold 1 | Epoch 53/100: 100%|██████████| 274/274 [00:00<00:00, 406.75it/s]\n"
     ]
    },
    {
     "name": "stdout",
     "output_type": "stream",
     "text": [
      "Fold 1 - Epoch 53 ✅ | Train Acc: 20.77% - Train Loss: 2.0723 | Val Acc: 16.64% - Val Loss: 2.2593\n"
     ]
    },
    {
     "name": "stderr",
     "output_type": "stream",
     "text": [
      "Fold 1 | Epoch 54/100: 100%|██████████| 274/274 [00:00<00:00, 409.14it/s]\n"
     ]
    },
    {
     "name": "stdout",
     "output_type": "stream",
     "text": [
      "Fold 1 - Epoch 54 ✅ | Train Acc: 20.35% - Train Loss: 2.0647 | Val Acc: 16.82% - Val Loss: 2.2715\n"
     ]
    },
    {
     "name": "stderr",
     "output_type": "stream",
     "text": [
      "Fold 1 | Epoch 55/100: 100%|██████████| 274/274 [00:00<00:00, 406.89it/s]\n"
     ]
    },
    {
     "name": "stdout",
     "output_type": "stream",
     "text": [
      "Fold 1 - Epoch 55 ✅ | Train Acc: 20.36% - Train Loss: 2.0630 | Val Acc: 16.45% - Val Loss: 2.2574\n"
     ]
    },
    {
     "name": "stderr",
     "output_type": "stream",
     "text": [
      "Fold 1 | Epoch 56/100: 100%|██████████| 274/274 [00:00<00:00, 407.33it/s]\n"
     ]
    },
    {
     "name": "stdout",
     "output_type": "stream",
     "text": [
      "Fold 1 - Epoch 56 ✅ | Train Acc: 20.31% - Train Loss: 2.0682 | Val Acc: 19.84% - Val Loss: 2.2694\n"
     ]
    },
    {
     "name": "stderr",
     "output_type": "stream",
     "text": [
      "Fold 1 | Epoch 57/100: 100%|██████████| 274/274 [00:00<00:00, 406.98it/s]\n"
     ]
    },
    {
     "name": "stdout",
     "output_type": "stream",
     "text": [
      "Fold 1 - Epoch 57 ✅ | Train Acc: 19.65% - Train Loss: 2.0562 | Val Acc: 20.06% - Val Loss: 2.2536\n"
     ]
    },
    {
     "name": "stderr",
     "output_type": "stream",
     "text": [
      "Fold 1 | Epoch 58/100: 100%|██████████| 274/274 [00:00<00:00, 407.23it/s]\n"
     ]
    },
    {
     "name": "stdout",
     "output_type": "stream",
     "text": [
      "Fold 1 - Epoch 58 ✅ | Train Acc: 20.25% - Train Loss: 2.0536 | Val Acc: 23.17% - Val Loss: 2.2789\n"
     ]
    },
    {
     "name": "stderr",
     "output_type": "stream",
     "text": [
      "Fold 1 | Epoch 59/100: 100%|██████████| 274/274 [00:00<00:00, 402.66it/s]\n"
     ]
    },
    {
     "name": "stdout",
     "output_type": "stream",
     "text": [
      "Fold 1 - Epoch 59 ✅ | Train Acc: 19.99% - Train Loss: 2.0601 | Val Acc: 19.70% - Val Loss: 2.2603\n"
     ]
    },
    {
     "name": "stderr",
     "output_type": "stream",
     "text": [
      "Fold 1 | Epoch 60/100: 100%|██████████| 274/274 [00:00<00:00, 402.65it/s]\n"
     ]
    },
    {
     "name": "stdout",
     "output_type": "stream",
     "text": [
      "Fold 1 - Epoch 60 ✅ | Train Acc: 21.51% - Train Loss: 2.0479 | Val Acc: 18.83% - Val Loss: 2.2880\n"
     ]
    },
    {
     "name": "stderr",
     "output_type": "stream",
     "text": [
      "Fold 1 | Epoch 61/100: 100%|██████████| 274/274 [00:00<00:00, 421.06it/s]\n"
     ]
    },
    {
     "name": "stdout",
     "output_type": "stream",
     "text": [
      "Fold 1 - Epoch 61 ✅ | Train Acc: 20.80% - Train Loss: 2.0530 | Val Acc: 13.89% - Val Loss: 2.2620\n"
     ]
    },
    {
     "name": "stderr",
     "output_type": "stream",
     "text": [
      "Fold 1 | Epoch 62/100: 100%|██████████| 274/274 [00:00<00:00, 406.76it/s]\n"
     ]
    },
    {
     "name": "stdout",
     "output_type": "stream",
     "text": [
      "Fold 1 - Epoch 62 ✅ | Train Acc: 20.41% - Train Loss: 2.0394 | Val Acc: 17.05% - Val Loss: 2.2747\n"
     ]
    },
    {
     "name": "stderr",
     "output_type": "stream",
     "text": [
      "Fold 1 | Epoch 63/100: 100%|██████████| 274/274 [00:00<00:00, 411.11it/s]\n"
     ]
    },
    {
     "name": "stdout",
     "output_type": "stream",
     "text": [
      "Fold 1 - Epoch 63 ✅ | Train Acc: 19.91% - Train Loss: 2.0360 | Val Acc: 19.97% - Val Loss: 2.2624\n"
     ]
    },
    {
     "name": "stderr",
     "output_type": "stream",
     "text": [
      "Fold 1 | Epoch 64/100: 100%|██████████| 274/274 [00:00<00:00, 415.18it/s]\n"
     ]
    },
    {
     "name": "stdout",
     "output_type": "stream",
     "text": [
      "Fold 1 - Epoch 64 ✅ | Train Acc: 19.73% - Train Loss: 2.0412 | Val Acc: 16.32% - Val Loss: 2.2751\n"
     ]
    },
    {
     "name": "stderr",
     "output_type": "stream",
     "text": [
      "Fold 1 | Epoch 65/100: 100%|██████████| 274/274 [00:00<00:00, 402.65it/s]\n"
     ]
    },
    {
     "name": "stdout",
     "output_type": "stream",
     "text": [
      "Fold 1 - Epoch 65 ✅ | Train Acc: 20.92% - Train Loss: 2.0352 | Val Acc: 18.33% - Val Loss: 2.2803\n"
     ]
    },
    {
     "name": "stderr",
     "output_type": "stream",
     "text": [
      "Fold 1 | Epoch 66/100: 100%|██████████| 274/274 [00:00<00:00, 402.56it/s]\n"
     ]
    },
    {
     "name": "stdout",
     "output_type": "stream",
     "text": [
      "Fold 1 - Epoch 66 ✅ | Train Acc: 20.24% - Train Loss: 2.0430 | Val Acc: 14.81% - Val Loss: 2.2772\n"
     ]
    },
    {
     "name": "stderr",
     "output_type": "stream",
     "text": [
      "Fold 1 | Epoch 67/100: 100%|██████████| 274/274 [00:00<00:00, 413.23it/s]\n"
     ]
    },
    {
     "name": "stdout",
     "output_type": "stream",
     "text": [
      "Fold 1 - Epoch 67 ✅ | Train Acc: 20.16% - Train Loss: 2.0257 | Val Acc: 20.02% - Val Loss: 2.2840\n"
     ]
    },
    {
     "name": "stderr",
     "output_type": "stream",
     "text": [
      "Fold 1 | Epoch 68/100: 100%|██████████| 274/274 [00:00<00:00, 418.25it/s]\n"
     ]
    },
    {
     "name": "stdout",
     "output_type": "stream",
     "text": [
      "Fold 1 - Epoch 68 ✅ | Train Acc: 20.13% - Train Loss: 2.0306 | Val Acc: 18.92% - Val Loss: 2.2919\n"
     ]
    },
    {
     "name": "stderr",
     "output_type": "stream",
     "text": [
      "Fold 1 | Epoch 69/100: 100%|██████████| 274/274 [00:00<00:00, 420.54it/s]\n"
     ]
    },
    {
     "name": "stdout",
     "output_type": "stream",
     "text": [
      "Fold 1 - Epoch 69 ✅ | Train Acc: 21.81% - Train Loss: 2.0204 | Val Acc: 14.58% - Val Loss: 2.2954\n"
     ]
    },
    {
     "name": "stderr",
     "output_type": "stream",
     "text": [
      "Fold 1 | Epoch 70/100: 100%|██████████| 274/274 [00:00<00:00, 408.67it/s]\n"
     ]
    },
    {
     "name": "stdout",
     "output_type": "stream",
     "text": [
      "Fold 1 - Epoch 70 ✅ | Train Acc: 20.93% - Train Loss: 2.0248 | Val Acc: 19.15% - Val Loss: 2.3061\n"
     ]
    },
    {
     "name": "stderr",
     "output_type": "stream",
     "text": [
      "Fold 1 | Epoch 71/100: 100%|██████████| 274/274 [00:00<00:00, 414.24it/s]\n"
     ]
    },
    {
     "name": "stdout",
     "output_type": "stream",
     "text": [
      "Fold 1 - Epoch 71 ✅ | Train Acc: 21.05% - Train Loss: 2.0166 | Val Acc: 21.16% - Val Loss: 2.3202\n"
     ]
    },
    {
     "name": "stderr",
     "output_type": "stream",
     "text": [
      "Fold 1 | Epoch 72/100: 100%|██████████| 274/274 [00:00<00:00, 414.59it/s]\n"
     ]
    },
    {
     "name": "stdout",
     "output_type": "stream",
     "text": [
      "Fold 1 - Epoch 72 ✅ | Train Acc: 20.14% - Train Loss: 2.0100 | Val Acc: 20.80% - Val Loss: 2.3006\n"
     ]
    },
    {
     "name": "stderr",
     "output_type": "stream",
     "text": [
      "Fold 1 | Epoch 73/100: 100%|██████████| 274/274 [00:00<00:00, 416.02it/s]\n"
     ]
    },
    {
     "name": "stdout",
     "output_type": "stream",
     "text": [
      "Fold 1 - Epoch 73 ✅ | Train Acc: 20.21% - Train Loss: 2.0223 | Val Acc: 17.55% - Val Loss: 2.2898\n"
     ]
    },
    {
     "name": "stderr",
     "output_type": "stream",
     "text": [
      "Fold 1 | Epoch 74/100: 100%|██████████| 274/274 [00:00<00:00, 417.15it/s]\n"
     ]
    },
    {
     "name": "stdout",
     "output_type": "stream",
     "text": [
      "Fold 1 - Epoch 74 ✅ | Train Acc: 21.24% - Train Loss: 2.0059 | Val Acc: 18.65% - Val Loss: 2.3078\n"
     ]
    },
    {
     "name": "stderr",
     "output_type": "stream",
     "text": [
      "Fold 1 | Epoch 75/100: 100%|██████████| 274/274 [00:00<00:00, 413.90it/s]\n"
     ]
    },
    {
     "name": "stdout",
     "output_type": "stream",
     "text": [
      "Fold 1 - Epoch 75 ✅ | Train Acc: 21.09% - Train Loss: 2.0147 | Val Acc: 18.14% - Val Loss: 2.2833\n"
     ]
    },
    {
     "name": "stderr",
     "output_type": "stream",
     "text": [
      "Fold 1 | Epoch 76/100: 100%|██████████| 274/274 [00:00<00:00, 412.97it/s]\n"
     ]
    },
    {
     "name": "stdout",
     "output_type": "stream",
     "text": [
      "Fold 1 - Epoch 76 ✅ | Train Acc: 21.71% - Train Loss: 2.0065 | Val Acc: 19.10% - Val Loss: 2.2883\n"
     ]
    },
    {
     "name": "stderr",
     "output_type": "stream",
     "text": [
      "Fold 1 | Epoch 77/100: 100%|██████████| 274/274 [00:00<00:00, 401.86it/s]\n"
     ]
    },
    {
     "name": "stdout",
     "output_type": "stream",
     "text": [
      "Fold 1 - Epoch 77 ✅ | Train Acc: 20.30% - Train Loss: 2.0012 | Val Acc: 19.38% - Val Loss: 2.3131\n"
     ]
    },
    {
     "name": "stderr",
     "output_type": "stream",
     "text": [
      "Fold 1 | Epoch 78/100: 100%|██████████| 274/274 [00:00<00:00, 408.74it/s]\n"
     ]
    },
    {
     "name": "stdout",
     "output_type": "stream",
     "text": [
      "Fold 1 - Epoch 78 ✅ | Train Acc: 21.20% - Train Loss: 2.0007 | Val Acc: 14.26% - Val Loss: 2.3204\n"
     ]
    },
    {
     "name": "stderr",
     "output_type": "stream",
     "text": [
      "Fold 1 | Epoch 79/100: 100%|██████████| 274/274 [00:00<00:00, 406.30it/s]\n"
     ]
    },
    {
     "name": "stdout",
     "output_type": "stream",
     "text": [
      "Fold 1 - Epoch 79 ✅ | Train Acc: 19.96% - Train Loss: 1.9961 | Val Acc: 22.58% - Val Loss: 2.3413\n"
     ]
    },
    {
     "name": "stderr",
     "output_type": "stream",
     "text": [
      "Fold 1 | Epoch 80/100: 100%|██████████| 274/274 [00:00<00:00, 409.36it/s]\n"
     ]
    },
    {
     "name": "stdout",
     "output_type": "stream",
     "text": [
      "Fold 1 - Epoch 80 ✅ | Train Acc: 20.96% - Train Loss: 2.0001 | Val Acc: 16.32% - Val Loss: 2.3164\n"
     ]
    },
    {
     "name": "stderr",
     "output_type": "stream",
     "text": [
      "Fold 1 | Epoch 81/100: 100%|██████████| 274/274 [00:00<00:00, 412.87it/s]\n"
     ]
    },
    {
     "name": "stdout",
     "output_type": "stream",
     "text": [
      "Fold 1 - Epoch 81 ✅ | Train Acc: 20.37% - Train Loss: 1.9952 | Val Acc: 18.83% - Val Loss: 2.3195\n"
     ]
    },
    {
     "name": "stderr",
     "output_type": "stream",
     "text": [
      "Fold 1 | Epoch 82/100: 100%|██████████| 274/274 [00:00<00:00, 409.28it/s]\n"
     ]
    },
    {
     "name": "stdout",
     "output_type": "stream",
     "text": [
      "Fold 1 - Epoch 82 ✅ | Train Acc: 20.38% - Train Loss: 1.9883 | Val Acc: 18.37% - Val Loss: 2.3407\n"
     ]
    },
    {
     "name": "stderr",
     "output_type": "stream",
     "text": [
      "Fold 1 | Epoch 83/100: 100%|██████████| 274/274 [00:00<00:00, 410.81it/s]\n"
     ]
    },
    {
     "name": "stdout",
     "output_type": "stream",
     "text": [
      "Fold 1 - Epoch 83 ✅ | Train Acc: 20.48% - Train Loss: 1.9854 | Val Acc: 17.50% - Val Loss: 2.3130\n"
     ]
    },
    {
     "name": "stderr",
     "output_type": "stream",
     "text": [
      "Fold 1 | Epoch 84/100: 100%|██████████| 274/274 [00:00<00:00, 399.23it/s]\n"
     ]
    },
    {
     "name": "stdout",
     "output_type": "stream",
     "text": [
      "Fold 1 - Epoch 84 ✅ | Train Acc: 20.88% - Train Loss: 1.9824 | Val Acc: 18.69% - Val Loss: 2.3326\n"
     ]
    },
    {
     "name": "stderr",
     "output_type": "stream",
     "text": [
      "Fold 1 | Epoch 85/100: 100%|██████████| 274/274 [00:00<00:00, 402.69it/s]\n"
     ]
    },
    {
     "name": "stdout",
     "output_type": "stream",
     "text": [
      "Fold 1 - Epoch 85 ✅ | Train Acc: 20.11% - Train Loss: 1.9717 | Val Acc: 15.40% - Val Loss: 2.3412\n"
     ]
    },
    {
     "name": "stderr",
     "output_type": "stream",
     "text": [
      "Fold 1 | Epoch 86/100: 100%|██████████| 274/274 [00:00<00:00, 405.16it/s]\n"
     ]
    },
    {
     "name": "stdout",
     "output_type": "stream",
     "text": [
      "Fold 1 - Epoch 86 ✅ | Train Acc: 21.48% - Train Loss: 1.9725 | Val Acc: 19.20% - Val Loss: 2.3435\n"
     ]
    },
    {
     "name": "stderr",
     "output_type": "stream",
     "text": [
      "Fold 1 | Epoch 87/100: 100%|██████████| 274/274 [00:00<00:00, 409.57it/s]\n"
     ]
    },
    {
     "name": "stdout",
     "output_type": "stream",
     "text": [
      "Fold 1 - Epoch 87 ✅ | Train Acc: 21.39% - Train Loss: 1.9762 | Val Acc: 18.19% - Val Loss: 2.3335\n"
     ]
    },
    {
     "name": "stderr",
     "output_type": "stream",
     "text": [
      "Fold 1 | Epoch 88/100: 100%|██████████| 274/274 [00:00<00:00, 402.58it/s]\n"
     ]
    },
    {
     "name": "stdout",
     "output_type": "stream",
     "text": [
      "Fold 1 - Epoch 88 ✅ | Train Acc: 20.55% - Train Loss: 1.9631 | Val Acc: 18.65% - Val Loss: 2.3359\n"
     ]
    },
    {
     "name": "stderr",
     "output_type": "stream",
     "text": [
      "Fold 1 | Epoch 89/100: 100%|██████████| 274/274 [00:00<00:00, 381.27it/s]\n"
     ]
    },
    {
     "name": "stdout",
     "output_type": "stream",
     "text": [
      "Fold 1 - Epoch 89 ✅ | Train Acc: 21.09% - Train Loss: 1.9812 | Val Acc: 16.91% - Val Loss: 2.3473\n"
     ]
    },
    {
     "name": "stderr",
     "output_type": "stream",
     "text": [
      "Fold 1 | Epoch 90/100: 100%|██████████| 274/274 [00:00<00:00, 381.42it/s]\n"
     ]
    },
    {
     "name": "stdout",
     "output_type": "stream",
     "text": [
      "Fold 1 - Epoch 90 ✅ | Train Acc: 20.70% - Train Loss: 1.9670 | Val Acc: 17.05% - Val Loss: 2.3690\n"
     ]
    },
    {
     "name": "stderr",
     "output_type": "stream",
     "text": [
      "Fold 1 | Epoch 91/100: 100%|██████████| 274/274 [00:00<00:00, 382.97it/s]\n"
     ]
    },
    {
     "name": "stdout",
     "output_type": "stream",
     "text": [
      "Fold 1 - Epoch 91 ✅ | Train Acc: 20.47% - Train Loss: 1.9632 | Val Acc: 15.27% - Val Loss: 2.3513\n"
     ]
    },
    {
     "name": "stderr",
     "output_type": "stream",
     "text": [
      "Fold 1 | Epoch 92/100: 100%|██████████| 274/274 [00:00<00:00, 386.31it/s]\n"
     ]
    },
    {
     "name": "stdout",
     "output_type": "stream",
     "text": [
      "Fold 1 - Epoch 92 ✅ | Train Acc: 21.61% - Train Loss: 1.9689 | Val Acc: 18.05% - Val Loss: 2.3625\n"
     ]
    },
    {
     "name": "stderr",
     "output_type": "stream",
     "text": [
      "Fold 1 | Epoch 93/100: 100%|██████████| 274/274 [00:00<00:00, 379.67it/s]\n"
     ]
    },
    {
     "name": "stdout",
     "output_type": "stream",
     "text": [
      "Fold 1 - Epoch 93 ✅ | Train Acc: 21.34% - Train Loss: 1.9625 | Val Acc: 15.63% - Val Loss: 2.3600\n"
     ]
    },
    {
     "name": "stderr",
     "output_type": "stream",
     "text": [
      "Fold 1 | Epoch 94/100: 100%|██████████| 274/274 [00:00<00:00, 379.65it/s]\n"
     ]
    },
    {
     "name": "stdout",
     "output_type": "stream",
     "text": [
      "Fold 1 - Epoch 94 ✅ | Train Acc: 21.24% - Train Loss: 1.9630 | Val Acc: 17.87% - Val Loss: 2.3514\n"
     ]
    },
    {
     "name": "stderr",
     "output_type": "stream",
     "text": [
      "Fold 1 | Epoch 95/100: 100%|██████████| 274/274 [00:00<00:00, 384.36it/s]\n"
     ]
    },
    {
     "name": "stdout",
     "output_type": "stream",
     "text": [
      "Fold 1 - Epoch 95 ✅ | Train Acc: 21.28% - Train Loss: 1.9561 | Val Acc: 14.26% - Val Loss: 2.3482\n"
     ]
    },
    {
     "name": "stderr",
     "output_type": "stream",
     "text": [
      "Fold 1 | Epoch 96/100: 100%|██████████| 274/274 [00:00<00:00, 399.58it/s]\n"
     ]
    },
    {
     "name": "stdout",
     "output_type": "stream",
     "text": [
      "Fold 1 - Epoch 96 ✅ | Train Acc: 20.63% - Train Loss: 1.9555 | Val Acc: 19.20% - Val Loss: 2.3655\n"
     ]
    },
    {
     "name": "stderr",
     "output_type": "stream",
     "text": [
      "Fold 1 | Epoch 97/100: 100%|██████████| 274/274 [00:00<00:00, 393.99it/s]\n"
     ]
    },
    {
     "name": "stdout",
     "output_type": "stream",
     "text": [
      "Fold 1 - Epoch 97 ✅ | Train Acc: 21.57% - Train Loss: 1.9582 | Val Acc: 19.33% - Val Loss: 2.3858\n"
     ]
    },
    {
     "name": "stderr",
     "output_type": "stream",
     "text": [
      "Fold 1 | Epoch 98/100: 100%|██████████| 274/274 [00:00<00:00, 390.25it/s]\n"
     ]
    },
    {
     "name": "stdout",
     "output_type": "stream",
     "text": [
      "Fold 1 - Epoch 98 ✅ | Train Acc: 22.00% - Train Loss: 1.9561 | Val Acc: 17.05% - Val Loss: 2.3609\n"
     ]
    },
    {
     "name": "stderr",
     "output_type": "stream",
     "text": [
      "Fold 1 | Epoch 99/100: 100%|██████████| 274/274 [00:00<00:00, 394.81it/s]\n"
     ]
    },
    {
     "name": "stdout",
     "output_type": "stream",
     "text": [
      "Fold 1 - Epoch 99 ✅ | Train Acc: 20.53% - Train Loss: 1.9463 | Val Acc: 14.58% - Val Loss: 2.3568\n"
     ]
    },
    {
     "name": "stderr",
     "output_type": "stream",
     "text": [
      "Fold 1 | Epoch 100/100: 100%|██████████| 274/274 [00:00<00:00, 394.09it/s]\n"
     ]
    },
    {
     "name": "stdout",
     "output_type": "stream",
     "text": [
      "Fold 1 - Epoch 100 ✅ | Train Acc: 21.11% - Train Loss: 1.9508 | Val Acc: 16.86% - Val Loss: 2.3878\n",
      "\n",
      "📂 Fold 2/5\n"
     ]
    },
    {
     "name": "stderr",
     "output_type": "stream",
     "text": [
      "Fold 2 | Epoch 1/100: 100%|██████████| 274/274 [00:00<00:00, 391.67it/s]\n"
     ]
    },
    {
     "name": "stdout",
     "output_type": "stream",
     "text": [
      "Fold 2 - Epoch 1 ✅ | Train Acc: 15.43% - Train Loss: 2.3031 | Val Acc: 26.97% - Val Loss: 2.2997\n"
     ]
    },
    {
     "name": "stderr",
     "output_type": "stream",
     "text": [
      "Fold 2 | Epoch 2/100: 100%|██████████| 274/274 [00:00<00:00, 379.34it/s]\n"
     ]
    },
    {
     "name": "stdout",
     "output_type": "stream",
     "text": [
      "Fold 2 - Epoch 2 ✅ | Train Acc: 24.94% - Train Loss: 2.2820 | Val Acc: 29.89% - Val Loss: 2.2670\n"
     ]
    },
    {
     "name": "stderr",
     "output_type": "stream",
     "text": [
      "Fold 2 | Epoch 3/100: 100%|██████████| 274/274 [00:00<00:00, 398.55it/s]\n"
     ]
    },
    {
     "name": "stdout",
     "output_type": "stream",
     "text": [
      "Fold 2 - Epoch 3 ✅ | Train Acc: 26.04% - Train Loss: 2.2507 | Val Acc: 30.26% - Val Loss: 2.2550\n"
     ]
    },
    {
     "name": "stderr",
     "output_type": "stream",
     "text": [
      "Fold 2 | Epoch 4/100: 100%|██████████| 274/274 [00:00<00:00, 396.77it/s]\n"
     ]
    },
    {
     "name": "stdout",
     "output_type": "stream",
     "text": [
      "Fold 2 - Epoch 4 ✅ | Train Acc: 26.09% - Train Loss: 2.2426 | Val Acc: 30.76% - Val Loss: 2.2490\n"
     ]
    },
    {
     "name": "stderr",
     "output_type": "stream",
     "text": [
      "Fold 2 | Epoch 5/100: 100%|██████████| 274/274 [00:00<00:00, 405.31it/s]\n"
     ]
    },
    {
     "name": "stdout",
     "output_type": "stream",
     "text": [
      "Fold 2 - Epoch 5 ✅ | Train Acc: 25.80% - Train Loss: 2.2337 | Val Acc: 31.40% - Val Loss: 2.2435\n"
     ]
    },
    {
     "name": "stderr",
     "output_type": "stream",
     "text": [
      "Fold 2 | Epoch 6/100: 100%|██████████| 274/274 [00:00<00:00, 392.63it/s]\n"
     ]
    },
    {
     "name": "stdout",
     "output_type": "stream",
     "text": [
      "Fold 2 - Epoch 6 ✅ | Train Acc: 27.48% - Train Loss: 2.2283 | Val Acc: 28.02% - Val Loss: 2.2386\n"
     ]
    },
    {
     "name": "stderr",
     "output_type": "stream",
     "text": [
      "Fold 2 | Epoch 7/100: 100%|██████████| 274/274 [00:00<00:00, 402.59it/s]\n"
     ]
    },
    {
     "name": "stdout",
     "output_type": "stream",
     "text": [
      "Fold 2 - Epoch 7 ✅ | Train Acc: 27.69% - Train Loss: 2.2265 | Val Acc: 24.73% - Val Loss: 2.2391\n"
     ]
    },
    {
     "name": "stderr",
     "output_type": "stream",
     "text": [
      "Fold 2 | Epoch 8/100: 100%|██████████| 274/274 [00:00<00:00, 406.77it/s]\n"
     ]
    },
    {
     "name": "stdout",
     "output_type": "stream",
     "text": [
      "Fold 2 - Epoch 8 ✅ | Train Acc: 27.41% - Train Loss: 2.2198 | Val Acc: 29.43% - Val Loss: 2.2283\n"
     ]
    },
    {
     "name": "stderr",
     "output_type": "stream",
     "text": [
      "Fold 2 | Epoch 9/100: 100%|██████████| 274/274 [00:00<00:00, 403.85it/s]\n"
     ]
    },
    {
     "name": "stdout",
     "output_type": "stream",
     "text": [
      "Fold 2 - Epoch 9 ✅ | Train Acc: 26.12% - Train Loss: 2.2165 | Val Acc: 26.55% - Val Loss: 2.2290\n"
     ]
    },
    {
     "name": "stderr",
     "output_type": "stream",
     "text": [
      "Fold 2 | Epoch 10/100: 100%|██████████| 274/274 [00:00<00:00, 397.81it/s]\n"
     ]
    },
    {
     "name": "stdout",
     "output_type": "stream",
     "text": [
      "Fold 2 - Epoch 10 ✅ | Train Acc: 26.35% - Train Loss: 2.2134 | Val Acc: 23.45% - Val Loss: 2.2430\n"
     ]
    },
    {
     "name": "stderr",
     "output_type": "stream",
     "text": [
      "Fold 2 | Epoch 11/100: 100%|██████████| 274/274 [00:00<00:00, 397.05it/s]\n"
     ]
    },
    {
     "name": "stdout",
     "output_type": "stream",
     "text": [
      "Fold 2 - Epoch 11 ✅ | Train Acc: 26.33% - Train Loss: 2.2115 | Val Acc: 28.38% - Val Loss: 2.2212\n"
     ]
    },
    {
     "name": "stderr",
     "output_type": "stream",
     "text": [
      "Fold 2 | Epoch 12/100: 100%|██████████| 274/274 [00:00<00:00, 403.85it/s]\n"
     ]
    },
    {
     "name": "stdout",
     "output_type": "stream",
     "text": [
      "Fold 2 - Epoch 12 ✅ | Train Acc: 24.41% - Train Loss: 2.2034 | Val Acc: 26.74% - Val Loss: 2.2368\n"
     ]
    },
    {
     "name": "stderr",
     "output_type": "stream",
     "text": [
      "Fold 2 | Epoch 13/100: 100%|██████████| 274/274 [00:00<00:00, 403.76it/s]\n"
     ]
    },
    {
     "name": "stdout",
     "output_type": "stream",
     "text": [
      "Fold 2 - Epoch 13 ✅ | Train Acc: 25.77% - Train Loss: 2.2035 | Val Acc: 24.36% - Val Loss: 2.2207\n"
     ]
    },
    {
     "name": "stderr",
     "output_type": "stream",
     "text": [
      "Fold 2 | Epoch 14/100: 100%|██████████| 274/274 [00:00<00:00, 408.09it/s]\n"
     ]
    },
    {
     "name": "stdout",
     "output_type": "stream",
     "text": [
      "Fold 2 - Epoch 14 ✅ | Train Acc: 24.20% - Train Loss: 2.1957 | Val Acc: 25.46% - Val Loss: 2.2215\n"
     ]
    },
    {
     "name": "stderr",
     "output_type": "stream",
     "text": [
      "Fold 2 | Epoch 15/100: 100%|██████████| 274/274 [00:00<00:00, 402.58it/s]\n"
     ]
    },
    {
     "name": "stdout",
     "output_type": "stream",
     "text": [
      "Fold 2 - Epoch 15 ✅ | Train Acc: 24.67% - Train Loss: 2.1928 | Val Acc: 21.98% - Val Loss: 2.2187\n"
     ]
    },
    {
     "name": "stderr",
     "output_type": "stream",
     "text": [
      "Fold 2 | Epoch 16/100: 100%|██████████| 274/274 [00:00<00:00, 402.20it/s]\n"
     ]
    },
    {
     "name": "stdout",
     "output_type": "stream",
     "text": [
      "Fold 2 - Epoch 16 ✅ | Train Acc: 23.52% - Train Loss: 2.1912 | Val Acc: 17.69% - Val Loss: 2.2121\n"
     ]
    },
    {
     "name": "stderr",
     "output_type": "stream",
     "text": [
      "Fold 2 | Epoch 17/100: 100%|██████████| 274/274 [00:00<00:00, 398.87it/s]\n"
     ]
    },
    {
     "name": "stdout",
     "output_type": "stream",
     "text": [
      "Fold 2 - Epoch 17 ✅ | Train Acc: 23.47% - Train Loss: 2.1867 | Val Acc: 18.46% - Val Loss: 2.2171\n"
     ]
    },
    {
     "name": "stderr",
     "output_type": "stream",
     "text": [
      "Fold 2 | Epoch 18/100: 100%|██████████| 274/274 [00:00<00:00, 387.00it/s]\n"
     ]
    },
    {
     "name": "stdout",
     "output_type": "stream",
     "text": [
      "Fold 2 - Epoch 18 ✅ | Train Acc: 22.73% - Train Loss: 2.1770 | Val Acc: 23.90% - Val Loss: 2.2100\n"
     ]
    },
    {
     "name": "stderr",
     "output_type": "stream",
     "text": [
      "Fold 2 | Epoch 19/100: 100%|██████████| 274/274 [00:00<00:00, 402.60it/s]\n"
     ]
    },
    {
     "name": "stdout",
     "output_type": "stream",
     "text": [
      "Fold 2 - Epoch 19 ✅ | Train Acc: 22.91% - Train Loss: 2.1712 | Val Acc: 23.45% - Val Loss: 2.2100\n"
     ]
    },
    {
     "name": "stderr",
     "output_type": "stream",
     "text": [
      "Fold 2 | Epoch 20/100: 100%|██████████| 274/274 [00:00<00:00, 402.42it/s]\n"
     ]
    },
    {
     "name": "stdout",
     "output_type": "stream",
     "text": [
      "Fold 2 - Epoch 20 ✅ | Train Acc: 22.67% - Train Loss: 2.1752 | Val Acc: 24.95% - Val Loss: 2.2175\n"
     ]
    },
    {
     "name": "stderr",
     "output_type": "stream",
     "text": [
      "Fold 2 | Epoch 21/100: 100%|██████████| 274/274 [00:00<00:00, 397.45it/s]\n"
     ]
    },
    {
     "name": "stdout",
     "output_type": "stream",
     "text": [
      "Fold 2 - Epoch 21 ✅ | Train Acc: 23.40% - Train Loss: 2.1637 | Val Acc: 19.15% - Val Loss: 2.2093\n"
     ]
    },
    {
     "name": "stderr",
     "output_type": "stream",
     "text": [
      "Fold 2 | Epoch 22/100: 100%|██████████| 274/274 [00:00<00:00, 408.62it/s]\n"
     ]
    },
    {
     "name": "stdout",
     "output_type": "stream",
     "text": [
      "Fold 2 - Epoch 22 ✅ | Train Acc: 22.79% - Train Loss: 2.1651 | Val Acc: 17.09% - Val Loss: 2.2135\n"
     ]
    },
    {
     "name": "stderr",
     "output_type": "stream",
     "text": [
      "Fold 2 | Epoch 23/100: 100%|██████████| 274/274 [00:00<00:00, 401.86it/s]\n"
     ]
    },
    {
     "name": "stdout",
     "output_type": "stream",
     "text": [
      "Fold 2 - Epoch 23 ✅ | Train Acc: 21.43% - Train Loss: 2.1587 | Val Acc: 17.32% - Val Loss: 2.2145\n"
     ]
    },
    {
     "name": "stderr",
     "output_type": "stream",
     "text": [
      "Fold 2 | Epoch 24/100: 100%|██████████| 274/274 [00:00<00:00, 396.02it/s]\n"
     ]
    },
    {
     "name": "stdout",
     "output_type": "stream",
     "text": [
      "Fold 2 - Epoch 24 ✅ | Train Acc: 22.07% - Train Loss: 2.1541 | Val Acc: 19.56% - Val Loss: 2.2103\n"
     ]
    },
    {
     "name": "stderr",
     "output_type": "stream",
     "text": [
      "Fold 2 | Epoch 25/100: 100%|██████████| 274/274 [00:00<00:00, 390.92it/s]\n"
     ]
    },
    {
     "name": "stdout",
     "output_type": "stream",
     "text": [
      "Fold 2 - Epoch 25 ✅ | Train Acc: 20.88% - Train Loss: 2.1480 | Val Acc: 23.54% - Val Loss: 2.2119\n"
     ]
    },
    {
     "name": "stderr",
     "output_type": "stream",
     "text": [
      "Fold 2 | Epoch 26/100: 100%|██████████| 274/274 [00:00<00:00, 402.64it/s]\n"
     ]
    },
    {
     "name": "stdout",
     "output_type": "stream",
     "text": [
      "Fold 2 - Epoch 26 ✅ | Train Acc: 22.03% - Train Loss: 2.1451 | Val Acc: 17.96% - Val Loss: 2.2100\n"
     ]
    },
    {
     "name": "stderr",
     "output_type": "stream",
     "text": [
      "Fold 2 | Epoch 27/100: 100%|██████████| 274/274 [00:00<00:00, 405.50it/s]\n"
     ]
    },
    {
     "name": "stdout",
     "output_type": "stream",
     "text": [
      "Fold 2 - Epoch 27 ✅ | Train Acc: 21.18% - Train Loss: 2.1411 | Val Acc: 19.79% - Val Loss: 2.2061\n"
     ]
    },
    {
     "name": "stderr",
     "output_type": "stream",
     "text": [
      "Fold 2 | Epoch 28/100: 100%|██████████| 274/274 [00:00<00:00, 406.79it/s]\n"
     ]
    },
    {
     "name": "stdout",
     "output_type": "stream",
     "text": [
      "Fold 2 - Epoch 28 ✅ | Train Acc: 21.10% - Train Loss: 2.1400 | Val Acc: 18.78% - Val Loss: 2.2081\n"
     ]
    },
    {
     "name": "stderr",
     "output_type": "stream",
     "text": [
      "Fold 2 | Epoch 29/100: 100%|██████████| 274/274 [00:00<00:00, 406.59it/s]\n"
     ]
    },
    {
     "name": "stdout",
     "output_type": "stream",
     "text": [
      "Fold 2 - Epoch 29 ✅ | Train Acc: 21.27% - Train Loss: 2.1318 | Val Acc: 22.58% - Val Loss: 2.2423\n"
     ]
    },
    {
     "name": "stderr",
     "output_type": "stream",
     "text": [
      "Fold 2 | Epoch 30/100: 100%|██████████| 274/274 [00:00<00:00, 405.62it/s]\n"
     ]
    },
    {
     "name": "stdout",
     "output_type": "stream",
     "text": [
      "Fold 2 - Epoch 30 ✅ | Train Acc: 20.96% - Train Loss: 2.1263 | Val Acc: 17.87% - Val Loss: 2.2113\n"
     ]
    },
    {
     "name": "stderr",
     "output_type": "stream",
     "text": [
      "Fold 2 | Epoch 31/100: 100%|██████████| 274/274 [00:00<00:00, 401.91it/s]\n"
     ]
    },
    {
     "name": "stdout",
     "output_type": "stream",
     "text": [
      "Fold 2 - Epoch 31 ✅ | Train Acc: 21.58% - Train Loss: 2.1235 | Val Acc: 18.19% - Val Loss: 2.2068\n"
     ]
    },
    {
     "name": "stderr",
     "output_type": "stream",
     "text": [
      "Fold 2 | Epoch 32/100: 100%|██████████| 274/274 [00:00<00:00, 394.57it/s]\n"
     ]
    },
    {
     "name": "stdout",
     "output_type": "stream",
     "text": [
      "Fold 2 - Epoch 32 ✅ | Train Acc: 21.12% - Train Loss: 2.1220 | Val Acc: 15.95% - Val Loss: 2.2251\n"
     ]
    },
    {
     "name": "stderr",
     "output_type": "stream",
     "text": [
      "Fold 2 | Epoch 33/100: 100%|██████████| 274/274 [00:00<00:00, 403.21it/s]\n"
     ]
    },
    {
     "name": "stdout",
     "output_type": "stream",
     "text": [
      "Fold 2 - Epoch 33 ✅ | Train Acc: 20.39% - Train Loss: 2.1122 | Val Acc: 20.98% - Val Loss: 2.2086\n"
     ]
    },
    {
     "name": "stderr",
     "output_type": "stream",
     "text": [
      "Fold 2 | Epoch 34/100: 100%|██████████| 274/274 [00:00<00:00, 402.03it/s]\n"
     ]
    },
    {
     "name": "stdout",
     "output_type": "stream",
     "text": [
      "Fold 2 - Epoch 34 ✅ | Train Acc: 20.64% - Train Loss: 2.1125 | Val Acc: 21.44% - Val Loss: 2.2214\n"
     ]
    },
    {
     "name": "stderr",
     "output_type": "stream",
     "text": [
      "Fold 2 | Epoch 35/100: 100%|██████████| 274/274 [00:00<00:00, 398.62it/s]\n"
     ]
    },
    {
     "name": "stdout",
     "output_type": "stream",
     "text": [
      "Fold 2 - Epoch 35 ✅ | Train Acc: 21.57% - Train Loss: 2.1086 | Val Acc: 17.28% - Val Loss: 2.2187\n"
     ]
    },
    {
     "name": "stderr",
     "output_type": "stream",
     "text": [
      "Fold 2 | Epoch 36/100: 100%|██████████| 274/274 [00:00<00:00, 395.60it/s]\n"
     ]
    },
    {
     "name": "stdout",
     "output_type": "stream",
     "text": [
      "Fold 2 - Epoch 36 ✅ | Train Acc: 21.17% - Train Loss: 2.1009 | Val Acc: 15.45% - Val Loss: 2.2237\n"
     ]
    },
    {
     "name": "stderr",
     "output_type": "stream",
     "text": [
      "Fold 2 | Epoch 37/100: 100%|██████████| 274/274 [00:00<00:00, 402.71it/s]\n"
     ]
    },
    {
     "name": "stdout",
     "output_type": "stream",
     "text": [
      "Fold 2 - Epoch 37 ✅ | Train Acc: 20.75% - Train Loss: 2.0952 | Val Acc: 21.76% - Val Loss: 2.2294\n"
     ]
    },
    {
     "name": "stderr",
     "output_type": "stream",
     "text": [
      "Fold 2 | Epoch 38/100: 100%|██████████| 274/274 [00:00<00:00, 398.49it/s]\n"
     ]
    },
    {
     "name": "stdout",
     "output_type": "stream",
     "text": [
      "Fold 2 - Epoch 38 ✅ | Train Acc: 21.25% - Train Loss: 2.0923 | Val Acc: 17.96% - Val Loss: 2.2339\n"
     ]
    },
    {
     "name": "stderr",
     "output_type": "stream",
     "text": [
      "Fold 2 | Epoch 39/100: 100%|██████████| 274/274 [00:00<00:00, 401.33it/s]\n"
     ]
    },
    {
     "name": "stdout",
     "output_type": "stream",
     "text": [
      "Fold 2 - Epoch 39 ✅ | Train Acc: 21.41% - Train Loss: 2.0940 | Val Acc: 24.13% - Val Loss: 2.2437\n"
     ]
    },
    {
     "name": "stderr",
     "output_type": "stream",
     "text": [
      "Fold 2 | Epoch 40/100: 100%|██████████| 274/274 [00:00<00:00, 403.75it/s]\n"
     ]
    },
    {
     "name": "stdout",
     "output_type": "stream",
     "text": [
      "Fold 2 - Epoch 40 ✅ | Train Acc: 21.24% - Train Loss: 2.0915 | Val Acc: 19.33% - Val Loss: 2.2173\n"
     ]
    },
    {
     "name": "stderr",
     "output_type": "stream",
     "text": [
      "Fold 2 | Epoch 41/100: 100%|██████████| 274/274 [00:00<00:00, 400.84it/s]\n"
     ]
    },
    {
     "name": "stdout",
     "output_type": "stream",
     "text": [
      "Fold 2 - Epoch 41 ✅ | Train Acc: 21.59% - Train Loss: 2.0889 | Val Acc: 19.01% - Val Loss: 2.2315\n"
     ]
    },
    {
     "name": "stderr",
     "output_type": "stream",
     "text": [
      "Fold 2 | Epoch 42/100: 100%|██████████| 274/274 [00:00<00:00, 398.67it/s]\n"
     ]
    },
    {
     "name": "stdout",
     "output_type": "stream",
     "text": [
      "Fold 2 - Epoch 42 ✅ | Train Acc: 20.78% - Train Loss: 2.0810 | Val Acc: 21.12% - Val Loss: 2.2278\n"
     ]
    },
    {
     "name": "stderr",
     "output_type": "stream",
     "text": [
      "Fold 2 | Epoch 43/100: 100%|██████████| 274/274 [00:00<00:00, 405.48it/s]\n"
     ]
    },
    {
     "name": "stdout",
     "output_type": "stream",
     "text": [
      "Fold 2 - Epoch 43 ✅ | Train Acc: 20.13% - Train Loss: 2.0781 | Val Acc: 19.47% - Val Loss: 2.2374\n"
     ]
    },
    {
     "name": "stderr",
     "output_type": "stream",
     "text": [
      "Fold 2 | Epoch 44/100: 100%|██████████| 274/274 [00:00<00:00, 402.86it/s]\n"
     ]
    },
    {
     "name": "stdout",
     "output_type": "stream",
     "text": [
      "Fold 2 - Epoch 44 ✅ | Train Acc: 20.68% - Train Loss: 2.0695 | Val Acc: 19.06% - Val Loss: 2.2249\n"
     ]
    },
    {
     "name": "stderr",
     "output_type": "stream",
     "text": [
      "Fold 2 | Epoch 45/100: 100%|██████████| 274/274 [00:00<00:00, 390.76it/s]\n"
     ]
    },
    {
     "name": "stdout",
     "output_type": "stream",
     "text": [
      "Fold 2 - Epoch 45 ✅ | Train Acc: 20.62% - Train Loss: 2.0690 | Val Acc: 21.21% - Val Loss: 2.2472\n"
     ]
    },
    {
     "name": "stderr",
     "output_type": "stream",
     "text": [
      "Fold 2 | Epoch 46/100: 100%|██████████| 274/274 [00:00<00:00, 400.63it/s]\n"
     ]
    },
    {
     "name": "stdout",
     "output_type": "stream",
     "text": [
      "Fold 2 - Epoch 46 ✅ | Train Acc: 20.68% - Train Loss: 2.0649 | Val Acc: 21.66% - Val Loss: 2.2349\n"
     ]
    },
    {
     "name": "stderr",
     "output_type": "stream",
     "text": [
      "Fold 2 | Epoch 47/100: 100%|██████████| 274/274 [00:00<00:00, 402.97it/s]\n"
     ]
    },
    {
     "name": "stdout",
     "output_type": "stream",
     "text": [
      "Fold 2 - Epoch 47 ✅ | Train Acc: 21.10% - Train Loss: 2.0613 | Val Acc: 19.61% - Val Loss: 2.2384\n"
     ]
    },
    {
     "name": "stderr",
     "output_type": "stream",
     "text": [
      "Fold 2 | Epoch 48/100: 100%|██████████| 274/274 [00:00<00:00, 402.21it/s]\n"
     ]
    },
    {
     "name": "stdout",
     "output_type": "stream",
     "text": [
      "Fold 2 - Epoch 48 ✅ | Train Acc: 20.76% - Train Loss: 2.0546 | Val Acc: 20.80% - Val Loss: 2.2438\n"
     ]
    },
    {
     "name": "stderr",
     "output_type": "stream",
     "text": [
      "Fold 2 | Epoch 49/100: 100%|██████████| 274/274 [00:00<00:00, 409.89it/s]\n"
     ]
    },
    {
     "name": "stdout",
     "output_type": "stream",
     "text": [
      "Fold 2 - Epoch 49 ✅ | Train Acc: 20.00% - Train Loss: 2.0576 | Val Acc: 18.28% - Val Loss: 2.2335\n"
     ]
    },
    {
     "name": "stderr",
     "output_type": "stream",
     "text": [
      "Fold 2 | Epoch 50/100: 100%|██████████| 274/274 [00:00<00:00, 408.52it/s]\n"
     ]
    },
    {
     "name": "stdout",
     "output_type": "stream",
     "text": [
      "Fold 2 - Epoch 50 ✅ | Train Acc: 21.11% - Train Loss: 2.0478 | Val Acc: 19.06% - Val Loss: 2.2664\n"
     ]
    },
    {
     "name": "stderr",
     "output_type": "stream",
     "text": [
      "Fold 2 | Epoch 51/100: 100%|██████████| 274/274 [00:00<00:00, 402.93it/s]\n"
     ]
    },
    {
     "name": "stdout",
     "output_type": "stream",
     "text": [
      "Fold 2 - Epoch 51 ✅ | Train Acc: 20.97% - Train Loss: 2.0510 | Val Acc: 17.69% - Val Loss: 2.2432\n"
     ]
    },
    {
     "name": "stderr",
     "output_type": "stream",
     "text": [
      "Fold 2 | Epoch 52/100: 100%|██████████| 274/274 [00:00<00:00, 409.91it/s]\n"
     ]
    },
    {
     "name": "stdout",
     "output_type": "stream",
     "text": [
      "Fold 2 - Epoch 52 ✅ | Train Acc: 20.81% - Train Loss: 2.0411 | Val Acc: 20.75% - Val Loss: 2.2546\n"
     ]
    },
    {
     "name": "stderr",
     "output_type": "stream",
     "text": [
      "Fold 2 | Epoch 53/100: 100%|██████████| 274/274 [00:00<00:00, 404.27it/s]\n"
     ]
    },
    {
     "name": "stdout",
     "output_type": "stream",
     "text": [
      "Fold 2 - Epoch 53 ✅ | Train Acc: 20.80% - Train Loss: 2.0441 | Val Acc: 21.94% - Val Loss: 2.2594\n"
     ]
    },
    {
     "name": "stderr",
     "output_type": "stream",
     "text": [
      "Fold 2 | Epoch 54/100: 100%|██████████| 274/274 [00:00<00:00, 406.70it/s]\n"
     ]
    },
    {
     "name": "stdout",
     "output_type": "stream",
     "text": [
      "Fold 2 - Epoch 54 ✅ | Train Acc: 20.48% - Train Loss: 2.0286 | Val Acc: 20.61% - Val Loss: 2.2558\n"
     ]
    },
    {
     "name": "stderr",
     "output_type": "stream",
     "text": [
      "Fold 2 | Epoch 55/100: 100%|██████████| 274/274 [00:00<00:00, 409.64it/s]\n"
     ]
    },
    {
     "name": "stdout",
     "output_type": "stream",
     "text": [
      "Fold 2 - Epoch 55 ✅ | Train Acc: 20.65% - Train Loss: 2.0282 | Val Acc: 21.02% - Val Loss: 2.2612\n"
     ]
    },
    {
     "name": "stderr",
     "output_type": "stream",
     "text": [
      "Fold 2 | Epoch 56/100: 100%|██████████| 274/274 [00:00<00:00, 408.31it/s]\n"
     ]
    },
    {
     "name": "stdout",
     "output_type": "stream",
     "text": [
      "Fold 2 - Epoch 56 ✅ | Train Acc: 20.43% - Train Loss: 2.0163 | Val Acc: 16.68% - Val Loss: 2.2832\n"
     ]
    },
    {
     "name": "stderr",
     "output_type": "stream",
     "text": [
      "Fold 2 | Epoch 57/100: 100%|██████████| 274/274 [00:00<00:00, 390.65it/s]\n"
     ]
    },
    {
     "name": "stdout",
     "output_type": "stream",
     "text": [
      "Fold 2 - Epoch 57 ✅ | Train Acc: 20.22% - Train Loss: 2.0163 | Val Acc: 19.15% - Val Loss: 2.2948\n"
     ]
    },
    {
     "name": "stderr",
     "output_type": "stream",
     "text": [
      "Fold 2 | Epoch 58/100: 100%|██████████| 274/274 [00:00<00:00, 378.29it/s]\n"
     ]
    },
    {
     "name": "stdout",
     "output_type": "stream",
     "text": [
      "Fold 2 - Epoch 58 ✅ | Train Acc: 20.31% - Train Loss: 2.0243 | Val Acc: 18.83% - Val Loss: 2.2699\n"
     ]
    },
    {
     "name": "stderr",
     "output_type": "stream",
     "text": [
      "Fold 2 | Epoch 59/100: 100%|██████████| 274/274 [00:00<00:00, 383.03it/s]\n"
     ]
    },
    {
     "name": "stdout",
     "output_type": "stream",
     "text": [
      "Fold 2 - Epoch 59 ✅ | Train Acc: 20.99% - Train Loss: 2.0145 | Val Acc: 17.87% - Val Loss: 2.2864\n"
     ]
    },
    {
     "name": "stderr",
     "output_type": "stream",
     "text": [
      "Fold 2 | Epoch 60/100: 100%|██████████| 274/274 [00:00<00:00, 382.02it/s]\n"
     ]
    },
    {
     "name": "stdout",
     "output_type": "stream",
     "text": [
      "Fold 2 - Epoch 60 ✅ | Train Acc: 20.53% - Train Loss: 2.0113 | Val Acc: 19.38% - Val Loss: 2.2837\n"
     ]
    },
    {
     "name": "stderr",
     "output_type": "stream",
     "text": [
      "Fold 2 | Epoch 61/100: 100%|██████████| 274/274 [00:00<00:00, 379.45it/s]\n"
     ]
    },
    {
     "name": "stdout",
     "output_type": "stream",
     "text": [
      "Fold 2 - Epoch 61 ✅ | Train Acc: 20.17% - Train Loss: 2.0124 | Val Acc: 18.19% - Val Loss: 2.2993\n"
     ]
    },
    {
     "name": "stderr",
     "output_type": "stream",
     "text": [
      "Fold 2 | Epoch 62/100: 100%|██████████| 274/274 [00:00<00:00, 387.36it/s]\n"
     ]
    },
    {
     "name": "stdout",
     "output_type": "stream",
     "text": [
      "Fold 2 - Epoch 62 ✅ | Train Acc: 20.75% - Train Loss: 2.0030 | Val Acc: 21.25% - Val Loss: 2.3153\n"
     ]
    },
    {
     "name": "stderr",
     "output_type": "stream",
     "text": [
      "Fold 2 | Epoch 63/100: 100%|██████████| 274/274 [00:00<00:00, 383.04it/s]\n"
     ]
    },
    {
     "name": "stdout",
     "output_type": "stream",
     "text": [
      "Fold 2 - Epoch 63 ✅ | Train Acc: 20.86% - Train Loss: 2.0014 | Val Acc: 19.79% - Val Loss: 2.3119\n"
     ]
    },
    {
     "name": "stderr",
     "output_type": "stream",
     "text": [
      "Fold 2 | Epoch 64/100: 100%|██████████| 274/274 [00:00<00:00, 382.11it/s]\n"
     ]
    },
    {
     "name": "stdout",
     "output_type": "stream",
     "text": [
      "Fold 2 - Epoch 64 ✅ | Train Acc: 21.75% - Train Loss: 1.9951 | Val Acc: 19.06% - Val Loss: 2.2992\n"
     ]
    },
    {
     "name": "stderr",
     "output_type": "stream",
     "text": [
      "Fold 2 | Epoch 65/100: 100%|██████████| 274/274 [00:00<00:00, 395.64it/s]\n"
     ]
    },
    {
     "name": "stdout",
     "output_type": "stream",
     "text": [
      "Fold 2 - Epoch 65 ✅ | Train Acc: 20.60% - Train Loss: 1.9952 | Val Acc: 19.84% - Val Loss: 2.3147\n"
     ]
    },
    {
     "name": "stderr",
     "output_type": "stream",
     "text": [
      "Fold 2 | Epoch 66/100: 100%|██████████| 274/274 [00:00<00:00, 390.65it/s]\n"
     ]
    },
    {
     "name": "stdout",
     "output_type": "stream",
     "text": [
      "Fold 2 - Epoch 66 ✅ | Train Acc: 20.31% - Train Loss: 1.9845 | Val Acc: 16.09% - Val Loss: 2.3106\n"
     ]
    },
    {
     "name": "stderr",
     "output_type": "stream",
     "text": [
      "Fold 2 | Epoch 67/100: 100%|██████████| 274/274 [00:00<00:00, 399.15it/s]\n"
     ]
    },
    {
     "name": "stdout",
     "output_type": "stream",
     "text": [
      "Fold 2 - Epoch 67 ✅ | Train Acc: 20.27% - Train Loss: 1.9817 | Val Acc: 19.93% - Val Loss: 2.3236\n"
     ]
    },
    {
     "name": "stderr",
     "output_type": "stream",
     "text": [
      "Fold 2 | Epoch 68/100: 100%|██████████| 274/274 [00:00<00:00, 391.82it/s]\n"
     ]
    },
    {
     "name": "stdout",
     "output_type": "stream",
     "text": [
      "Fold 2 - Epoch 68 ✅ | Train Acc: 20.46% - Train Loss: 1.9734 | Val Acc: 18.42% - Val Loss: 2.3143\n"
     ]
    },
    {
     "name": "stderr",
     "output_type": "stream",
     "text": [
      "Fold 2 | Epoch 69/100: 100%|██████████| 274/274 [00:00<00:00, 388.39it/s]\n"
     ]
    },
    {
     "name": "stdout",
     "output_type": "stream",
     "text": [
      "Fold 2 - Epoch 69 ✅ | Train Acc: 21.18% - Train Loss: 1.9759 | Val Acc: 16.22% - Val Loss: 2.3245\n"
     ]
    },
    {
     "name": "stderr",
     "output_type": "stream",
     "text": [
      "Fold 2 | Epoch 70/100: 100%|██████████| 274/274 [00:00<00:00, 392.38it/s]\n"
     ]
    },
    {
     "name": "stdout",
     "output_type": "stream",
     "text": [
      "Fold 2 - Epoch 70 ✅ | Train Acc: 20.69% - Train Loss: 1.9709 | Val Acc: 17.87% - Val Loss: 2.3325\n"
     ]
    },
    {
     "name": "stderr",
     "output_type": "stream",
     "text": [
      "Fold 2 | Epoch 71/100: 100%|██████████| 274/274 [00:00<00:00, 389.84it/s]\n"
     ]
    },
    {
     "name": "stdout",
     "output_type": "stream",
     "text": [
      "Fold 2 - Epoch 71 ✅ | Train Acc: 20.49% - Train Loss: 1.9809 | Val Acc: 18.83% - Val Loss: 2.3346\n"
     ]
    },
    {
     "name": "stderr",
     "output_type": "stream",
     "text": [
      "Fold 2 | Epoch 72/100: 100%|██████████| 274/274 [00:00<00:00, 398.20it/s]\n"
     ]
    },
    {
     "name": "stdout",
     "output_type": "stream",
     "text": [
      "Fold 2 - Epoch 72 ✅ | Train Acc: 21.95% - Train Loss: 1.9618 | Val Acc: 18.88% - Val Loss: 2.3542\n"
     ]
    },
    {
     "name": "stderr",
     "output_type": "stream",
     "text": [
      "Fold 2 | Epoch 73/100: 100%|██████████| 274/274 [00:00<00:00, 401.95it/s]\n"
     ]
    },
    {
     "name": "stdout",
     "output_type": "stream",
     "text": [
      "Fold 2 - Epoch 73 ✅ | Train Acc: 21.92% - Train Loss: 1.9675 | Val Acc: 14.67% - Val Loss: 2.3787\n"
     ]
    },
    {
     "name": "stderr",
     "output_type": "stream",
     "text": [
      "Fold 2 | Epoch 74/100: 100%|██████████| 274/274 [00:00<00:00, 407.36it/s]\n"
     ]
    },
    {
     "name": "stdout",
     "output_type": "stream",
     "text": [
      "Fold 2 - Epoch 74 ✅ | Train Acc: 20.71% - Train Loss: 1.9605 | Val Acc: 16.45% - Val Loss: 2.3580\n"
     ]
    },
    {
     "name": "stderr",
     "output_type": "stream",
     "text": [
      "Fold 2 | Epoch 75/100: 100%|██████████| 274/274 [00:00<00:00, 403.10it/s]\n"
     ]
    },
    {
     "name": "stdout",
     "output_type": "stream",
     "text": [
      "Fold 2 - Epoch 75 ✅ | Train Acc: 20.81% - Train Loss: 1.9527 | Val Acc: 20.02% - Val Loss: 2.3814\n"
     ]
    },
    {
     "name": "stderr",
     "output_type": "stream",
     "text": [
      "Fold 2 | Epoch 76/100: 100%|██████████| 274/274 [00:00<00:00, 395.20it/s]\n"
     ]
    },
    {
     "name": "stdout",
     "output_type": "stream",
     "text": [
      "Fold 2 - Epoch 76 ✅ | Train Acc: 20.91% - Train Loss: 1.9393 | Val Acc: 19.38% - Val Loss: 2.3543\n"
     ]
    },
    {
     "name": "stderr",
     "output_type": "stream",
     "text": [
      "Fold 2 | Epoch 77/100: 100%|██████████| 274/274 [00:00<00:00, 395.45it/s]\n"
     ]
    },
    {
     "name": "stdout",
     "output_type": "stream",
     "text": [
      "Fold 2 - Epoch 77 ✅ | Train Acc: 20.87% - Train Loss: 1.9482 | Val Acc: 18.88% - Val Loss: 2.3801\n"
     ]
    },
    {
     "name": "stderr",
     "output_type": "stream",
     "text": [
      "Fold 2 | Epoch 78/100: 100%|██████████| 274/274 [00:00<00:00, 393.98it/s]\n"
     ]
    },
    {
     "name": "stdout",
     "output_type": "stream",
     "text": [
      "Fold 2 - Epoch 78 ✅ | Train Acc: 21.53% - Train Loss: 1.9427 | Val Acc: 17.41% - Val Loss: 2.3796\n"
     ]
    },
    {
     "name": "stderr",
     "output_type": "stream",
     "text": [
      "Fold 2 | Epoch 79/100: 100%|██████████| 274/274 [00:00<00:00, 399.64it/s]\n"
     ]
    },
    {
     "name": "stdout",
     "output_type": "stream",
     "text": [
      "Fold 2 - Epoch 79 ✅ | Train Acc: 20.38% - Train Loss: 1.9389 | Val Acc: 18.97% - Val Loss: 2.4213\n"
     ]
    },
    {
     "name": "stderr",
     "output_type": "stream",
     "text": [
      "Fold 2 | Epoch 80/100: 100%|██████████| 274/274 [00:00<00:00, 390.49it/s]\n"
     ]
    },
    {
     "name": "stdout",
     "output_type": "stream",
     "text": [
      "Fold 2 - Epoch 80 ✅ | Train Acc: 21.05% - Train Loss: 1.9413 | Val Acc: 20.11% - Val Loss: 2.3783\n"
     ]
    },
    {
     "name": "stderr",
     "output_type": "stream",
     "text": [
      "Fold 2 | Epoch 81/100: 100%|██████████| 274/274 [00:00<00:00, 386.90it/s]\n"
     ]
    },
    {
     "name": "stdout",
     "output_type": "stream",
     "text": [
      "Fold 2 - Epoch 81 ✅ | Train Acc: 20.72% - Train Loss: 1.9456 | Val Acc: 19.10% - Val Loss: 2.4263\n"
     ]
    },
    {
     "name": "stderr",
     "output_type": "stream",
     "text": [
      "Fold 2 | Epoch 82/100: 100%|██████████| 274/274 [00:00<00:00, 390.11it/s]\n"
     ]
    },
    {
     "name": "stdout",
     "output_type": "stream",
     "text": [
      "Fold 2 - Epoch 82 ✅ | Train Acc: 21.57% - Train Loss: 1.9379 | Val Acc: 18.37% - Val Loss: 2.4107\n"
     ]
    },
    {
     "name": "stderr",
     "output_type": "stream",
     "text": [
      "Fold 2 | Epoch 83/100: 100%|██████████| 274/274 [00:00<00:00, 391.05it/s]\n"
     ]
    },
    {
     "name": "stdout",
     "output_type": "stream",
     "text": [
      "Fold 2 - Epoch 83 ✅ | Train Acc: 21.24% - Train Loss: 1.9302 | Val Acc: 19.65% - Val Loss: 2.4219\n"
     ]
    },
    {
     "name": "stderr",
     "output_type": "stream",
     "text": [
      "Fold 2 | Epoch 84/100: 100%|██████████| 274/274 [00:00<00:00, 375.32it/s]\n"
     ]
    },
    {
     "name": "stdout",
     "output_type": "stream",
     "text": [
      "Fold 2 - Epoch 84 ✅ | Train Acc: 20.92% - Train Loss: 1.9163 | Val Acc: 17.18% - Val Loss: 2.4679\n"
     ]
    },
    {
     "name": "stderr",
     "output_type": "stream",
     "text": [
      "Fold 2 | Epoch 85/100: 100%|██████████| 274/274 [00:00<00:00, 380.51it/s]\n"
     ]
    },
    {
     "name": "stdout",
     "output_type": "stream",
     "text": [
      "Fold 2 - Epoch 85 ✅ | Train Acc: 21.31% - Train Loss: 1.9175 | Val Acc: 16.59% - Val Loss: 2.4576\n"
     ]
    },
    {
     "name": "stderr",
     "output_type": "stream",
     "text": [
      "Fold 2 | Epoch 86/100: 100%|██████████| 274/274 [00:00<00:00, 384.15it/s]\n"
     ]
    },
    {
     "name": "stdout",
     "output_type": "stream",
     "text": [
      "Fold 2 - Epoch 86 ✅ | Train Acc: 20.97% - Train Loss: 1.9142 | Val Acc: 16.68% - Val Loss: 2.4410\n"
     ]
    },
    {
     "name": "stderr",
     "output_type": "stream",
     "text": [
      "Fold 2 | Epoch 87/100: 100%|██████████| 274/274 [00:00<00:00, 380.52it/s]\n"
     ]
    },
    {
     "name": "stdout",
     "output_type": "stream",
     "text": [
      "Fold 2 - Epoch 87 ✅ | Train Acc: 20.60% - Train Loss: 1.9152 | Val Acc: 18.01% - Val Loss: 2.4258\n"
     ]
    },
    {
     "name": "stderr",
     "output_type": "stream",
     "text": [
      "Fold 2 | Epoch 88/100: 100%|██████████| 274/274 [00:00<00:00, 383.06it/s]\n"
     ]
    },
    {
     "name": "stdout",
     "output_type": "stream",
     "text": [
      "Fold 2 - Epoch 88 ✅ | Train Acc: 21.15% - Train Loss: 1.9117 | Val Acc: 18.46% - Val Loss: 2.4516\n"
     ]
    },
    {
     "name": "stderr",
     "output_type": "stream",
     "text": [
      "Fold 2 | Epoch 89/100: 100%|██████████| 274/274 [00:00<00:00, 386.84it/s]\n"
     ]
    },
    {
     "name": "stdout",
     "output_type": "stream",
     "text": [
      "Fold 2 - Epoch 89 ✅ | Train Acc: 21.10% - Train Loss: 1.9107 | Val Acc: 16.96% - Val Loss: 2.4688\n"
     ]
    },
    {
     "name": "stderr",
     "output_type": "stream",
     "text": [
      "Fold 2 | Epoch 90/100: 100%|██████████| 274/274 [00:00<00:00, 385.24it/s]\n"
     ]
    },
    {
     "name": "stdout",
     "output_type": "stream",
     "text": [
      "Fold 2 - Epoch 90 ✅ | Train Acc: 20.86% - Train Loss: 1.9076 | Val Acc: 18.83% - Val Loss: 2.4500\n"
     ]
    },
    {
     "name": "stderr",
     "output_type": "stream",
     "text": [
      "Fold 2 | Epoch 91/100: 100%|██████████| 274/274 [00:00<00:00, 374.33it/s]\n"
     ]
    },
    {
     "name": "stdout",
     "output_type": "stream",
     "text": [
      "Fold 2 - Epoch 91 ✅ | Train Acc: 21.58% - Train Loss: 1.8996 | Val Acc: 21.02% - Val Loss: 2.4906\n"
     ]
    },
    {
     "name": "stderr",
     "output_type": "stream",
     "text": [
      "Fold 2 | Epoch 92/100: 100%|██████████| 274/274 [00:00<00:00, 383.02it/s]\n"
     ]
    },
    {
     "name": "stdout",
     "output_type": "stream",
     "text": [
      "Fold 2 - Epoch 92 ✅ | Train Acc: 22.06% - Train Loss: 1.8946 | Val Acc: 18.28% - Val Loss: 2.5165\n"
     ]
    },
    {
     "name": "stderr",
     "output_type": "stream",
     "text": [
      "Fold 2 | Epoch 93/100: 100%|██████████| 274/274 [00:00<00:00, 383.03it/s]\n"
     ]
    },
    {
     "name": "stdout",
     "output_type": "stream",
     "text": [
      "Fold 2 - Epoch 93 ✅ | Train Acc: 21.52% - Train Loss: 1.8905 | Val Acc: 16.59% - Val Loss: 2.5121\n"
     ]
    },
    {
     "name": "stderr",
     "output_type": "stream",
     "text": [
      "Fold 2 | Epoch 94/100: 100%|██████████| 274/274 [00:00<00:00, 372.43it/s]\n"
     ]
    },
    {
     "name": "stdout",
     "output_type": "stream",
     "text": [
      "Fold 2 - Epoch 94 ✅ | Train Acc: 20.73% - Train Loss: 1.9022 | Val Acc: 19.29% - Val Loss: 2.5181\n"
     ]
    },
    {
     "name": "stderr",
     "output_type": "stream",
     "text": [
      "Fold 2 | Epoch 95/100: 100%|██████████| 274/274 [00:00<00:00, 376.38it/s]\n"
     ]
    },
    {
     "name": "stdout",
     "output_type": "stream",
     "text": [
      "Fold 2 - Epoch 95 ✅ | Train Acc: 20.75% - Train Loss: 1.8963 | Val Acc: 17.82% - Val Loss: 2.4939\n"
     ]
    },
    {
     "name": "stderr",
     "output_type": "stream",
     "text": [
      "Fold 2 | Epoch 96/100: 100%|██████████| 274/274 [00:00<00:00, 383.07it/s]\n"
     ]
    },
    {
     "name": "stdout",
     "output_type": "stream",
     "text": [
      "Fold 2 - Epoch 96 ✅ | Train Acc: 21.68% - Train Loss: 1.8952 | Val Acc: 20.61% - Val Loss: 2.5405\n"
     ]
    },
    {
     "name": "stderr",
     "output_type": "stream",
     "text": [
      "Fold 2 | Epoch 97/100: 100%|██████████| 274/274 [00:00<00:00, 385.85it/s]\n"
     ]
    },
    {
     "name": "stdout",
     "output_type": "stream",
     "text": [
      "Fold 2 - Epoch 97 ✅ | Train Acc: 22.51% - Train Loss: 1.8903 | Val Acc: 16.50% - Val Loss: 2.5550\n"
     ]
    },
    {
     "name": "stderr",
     "output_type": "stream",
     "text": [
      "Fold 2 | Epoch 98/100: 100%|██████████| 274/274 [00:00<00:00, 388.39it/s]\n"
     ]
    },
    {
     "name": "stdout",
     "output_type": "stream",
     "text": [
      "Fold 2 - Epoch 98 ✅ | Train Acc: 21.98% - Train Loss: 1.8890 | Val Acc: 17.28% - Val Loss: 2.5586\n"
     ]
    },
    {
     "name": "stderr",
     "output_type": "stream",
     "text": [
      "Fold 2 | Epoch 99/100: 100%|██████████| 274/274 [00:00<00:00, 390.70it/s]\n"
     ]
    },
    {
     "name": "stdout",
     "output_type": "stream",
     "text": [
      "Fold 2 - Epoch 99 ✅ | Train Acc: 20.81% - Train Loss: 1.8879 | Val Acc: 19.97% - Val Loss: 2.5720\n"
     ]
    },
    {
     "name": "stderr",
     "output_type": "stream",
     "text": [
      "Fold 2 | Epoch 100/100: 100%|██████████| 274/274 [00:00<00:00, 377.38it/s]\n"
     ]
    },
    {
     "name": "stdout",
     "output_type": "stream",
     "text": [
      "Fold 2 - Epoch 100 ✅ | Train Acc: 21.04% - Train Loss: 1.8829 | Val Acc: 19.47% - Val Loss: 2.5403\n",
      "\n",
      "📂 Fold 3/5\n"
     ]
    },
    {
     "name": "stderr",
     "output_type": "stream",
     "text": [
      "Fold 3 | Epoch 1/100: 100%|██████████| 274/274 [00:00<00:00, 387.02it/s]\n"
     ]
    },
    {
     "name": "stdout",
     "output_type": "stream",
     "text": [
      "Fold 3 - Epoch 1 ✅ | Train Acc: 15.92% - Train Loss: 2.2992 | Val Acc: 20.35% - Val Loss: 2.2876\n"
     ]
    },
    {
     "name": "stderr",
     "output_type": "stream",
     "text": [
      "Fold 3 | Epoch 2/100: 100%|██████████| 274/274 [00:00<00:00, 361.20it/s]\n"
     ]
    },
    {
     "name": "stdout",
     "output_type": "stream",
     "text": [
      "Fold 3 - Epoch 2 ✅ | Train Acc: 21.59% - Train Loss: 2.2706 | Val Acc: 29.22% - Val Loss: 2.2600\n"
     ]
    },
    {
     "name": "stderr",
     "output_type": "stream",
     "text": [
      "Fold 3 | Epoch 3/100: 100%|██████████| 274/274 [00:00<00:00, 383.70it/s]\n"
     ]
    },
    {
     "name": "stdout",
     "output_type": "stream",
     "text": [
      "Fold 3 - Epoch 3 ✅ | Train Acc: 28.34% - Train Loss: 2.2474 | Val Acc: 29.13% - Val Loss: 2.2457\n"
     ]
    },
    {
     "name": "stderr",
     "output_type": "stream",
     "text": [
      "Fold 3 | Epoch 4/100: 100%|██████████| 274/274 [00:00<00:00, 386.29it/s]\n"
     ]
    },
    {
     "name": "stdout",
     "output_type": "stream",
     "text": [
      "Fold 3 - Epoch 4 ✅ | Train Acc: 27.86% - Train Loss: 2.2353 | Val Acc: 27.11% - Val Loss: 2.2413\n"
     ]
    },
    {
     "name": "stderr",
     "output_type": "stream",
     "text": [
      "Fold 3 | Epoch 5/100: 100%|██████████| 274/274 [00:00<00:00, 376.81it/s]\n"
     ]
    },
    {
     "name": "stdout",
     "output_type": "stream",
     "text": [
      "Fold 3 - Epoch 5 ✅ | Train Acc: 28.43% - Train Loss: 2.2276 | Val Acc: 30.64% - Val Loss: 2.2577\n"
     ]
    },
    {
     "name": "stderr",
     "output_type": "stream",
     "text": [
      "Fold 3 | Epoch 6/100: 100%|██████████| 274/274 [00:00<00:00, 402.78it/s]\n"
     ]
    },
    {
     "name": "stdout",
     "output_type": "stream",
     "text": [
      "Fold 3 - Epoch 6 ✅ | Train Acc: 27.44% - Train Loss: 2.2282 | Val Acc: 32.10% - Val Loss: 2.2354\n"
     ]
    },
    {
     "name": "stderr",
     "output_type": "stream",
     "text": [
      "Fold 3 | Epoch 7/100: 100%|██████████| 274/274 [00:00<00:00, 400.41it/s]\n"
     ]
    },
    {
     "name": "stdout",
     "output_type": "stream",
     "text": [
      "Fold 3 - Epoch 7 ✅ | Train Acc: 26.32% - Train Loss: 2.2183 | Val Acc: 27.75% - Val Loss: 2.2364\n"
     ]
    },
    {
     "name": "stderr",
     "output_type": "stream",
     "text": [
      "Fold 3 | Epoch 8/100: 100%|██████████| 274/274 [00:00<00:00, 403.08it/s]\n"
     ]
    },
    {
     "name": "stdout",
     "output_type": "stream",
     "text": [
      "Fold 3 - Epoch 8 ✅ | Train Acc: 26.70% - Train Loss: 2.2133 | Val Acc: 25.97% - Val Loss: 2.2270\n"
     ]
    },
    {
     "name": "stderr",
     "output_type": "stream",
     "text": [
      "Fold 3 | Epoch 9/100: 100%|██████████| 274/274 [00:00<00:00, 402.55it/s]\n"
     ]
    },
    {
     "name": "stdout",
     "output_type": "stream",
     "text": [
      "Fold 3 - Epoch 9 ✅ | Train Acc: 25.57% - Train Loss: 2.2069 | Val Acc: 25.47% - Val Loss: 2.2316\n"
     ]
    },
    {
     "name": "stderr",
     "output_type": "stream",
     "text": [
      "Fold 3 | Epoch 10/100: 100%|██████████| 274/274 [00:00<00:00, 404.72it/s]\n"
     ]
    },
    {
     "name": "stdout",
     "output_type": "stream",
     "text": [
      "Fold 3 - Epoch 10 ✅ | Train Acc: 26.50% - Train Loss: 2.2034 | Val Acc: 23.78% - Val Loss: 2.2217\n"
     ]
    },
    {
     "name": "stderr",
     "output_type": "stream",
     "text": [
      "Fold 3 | Epoch 11/100: 100%|██████████| 274/274 [00:00<00:00, 394.55it/s]\n"
     ]
    },
    {
     "name": "stdout",
     "output_type": "stream",
     "text": [
      "Fold 3 - Epoch 11 ✅ | Train Acc: 25.45% - Train Loss: 2.1999 | Val Acc: 24.74% - Val Loss: 2.2230\n"
     ]
    },
    {
     "name": "stderr",
     "output_type": "stream",
     "text": [
      "Fold 3 | Epoch 12/100: 100%|██████████| 274/274 [00:00<00:00, 401.44it/s]\n"
     ]
    },
    {
     "name": "stdout",
     "output_type": "stream",
     "text": [
      "Fold 3 - Epoch 12 ✅ | Train Acc: 24.93% - Train Loss: 2.1953 | Val Acc: 23.09% - Val Loss: 2.2311\n"
     ]
    },
    {
     "name": "stderr",
     "output_type": "stream",
     "text": [
      "Fold 3 | Epoch 13/100: 100%|██████████| 274/274 [00:00<00:00, 392.69it/s]\n"
     ]
    },
    {
     "name": "stdout",
     "output_type": "stream",
     "text": [
      "Fold 3 - Epoch 13 ✅ | Train Acc: 25.49% - Train Loss: 2.1897 | Val Acc: 23.09% - Val Loss: 2.2173\n"
     ]
    },
    {
     "name": "stderr",
     "output_type": "stream",
     "text": [
      "Fold 3 | Epoch 14/100: 100%|██████████| 274/274 [00:00<00:00, 403.21it/s]\n"
     ]
    },
    {
     "name": "stdout",
     "output_type": "stream",
     "text": [
      "Fold 3 - Epoch 14 ✅ | Train Acc: 23.06% - Train Loss: 2.1863 | Val Acc: 24.01% - Val Loss: 2.2228\n"
     ]
    },
    {
     "name": "stderr",
     "output_type": "stream",
     "text": [
      "Fold 3 | Epoch 15/100: 100%|██████████| 274/274 [00:00<00:00, 401.43it/s]\n"
     ]
    },
    {
     "name": "stdout",
     "output_type": "stream",
     "text": [
      "Fold 3 - Epoch 15 ✅ | Train Acc: 22.59% - Train Loss: 2.1847 | Val Acc: 17.88% - Val Loss: 2.2121\n"
     ]
    },
    {
     "name": "stderr",
     "output_type": "stream",
     "text": [
      "Fold 3 | Epoch 16/100: 100%|██████████| 274/274 [00:00<00:00, 398.31it/s]\n"
     ]
    },
    {
     "name": "stdout",
     "output_type": "stream",
     "text": [
      "Fold 3 - Epoch 16 ✅ | Train Acc: 24.16% - Train Loss: 2.1869 | Val Acc: 18.34% - Val Loss: 2.2166\n"
     ]
    },
    {
     "name": "stderr",
     "output_type": "stream",
     "text": [
      "Fold 3 | Epoch 17/100: 100%|██████████| 274/274 [00:00<00:00, 388.74it/s]\n"
     ]
    },
    {
     "name": "stdout",
     "output_type": "stream",
     "text": [
      "Fold 3 - Epoch 17 ✅ | Train Acc: 22.51% - Train Loss: 2.1784 | Val Acc: 21.35% - Val Loss: 2.2222\n"
     ]
    },
    {
     "name": "stderr",
     "output_type": "stream",
     "text": [
      "Fold 3 | Epoch 18/100: 100%|██████████| 274/274 [00:00<00:00, 402.53it/s]\n"
     ]
    },
    {
     "name": "stdout",
     "output_type": "stream",
     "text": [
      "Fold 3 - Epoch 18 ✅ | Train Acc: 22.61% - Train Loss: 2.1742 | Val Acc: 16.78% - Val Loss: 2.2154\n"
     ]
    },
    {
     "name": "stderr",
     "output_type": "stream",
     "text": [
      "Fold 3 | Epoch 19/100: 100%|██████████| 274/274 [00:00<00:00, 398.65it/s]\n"
     ]
    },
    {
     "name": "stdout",
     "output_type": "stream",
     "text": [
      "Fold 3 - Epoch 19 ✅ | Train Acc: 22.26% - Train Loss: 2.1724 | Val Acc: 22.09% - Val Loss: 2.2230\n"
     ]
    },
    {
     "name": "stderr",
     "output_type": "stream",
     "text": [
      "Fold 3 | Epoch 20/100: 100%|██████████| 274/274 [00:00<00:00, 399.87it/s]\n"
     ]
    },
    {
     "name": "stdout",
     "output_type": "stream",
     "text": [
      "Fold 3 - Epoch 20 ✅ | Train Acc: 22.41% - Train Loss: 2.1627 | Val Acc: 19.16% - Val Loss: 2.2152\n"
     ]
    },
    {
     "name": "stderr",
     "output_type": "stream",
     "text": [
      "Fold 3 | Epoch 21/100: 100%|██████████| 274/274 [00:00<00:00, 403.91it/s]\n"
     ]
    },
    {
     "name": "stdout",
     "output_type": "stream",
     "text": [
      "Fold 3 - Epoch 21 ✅ | Train Acc: 21.62% - Train Loss: 2.1679 | Val Acc: 20.30% - Val Loss: 2.2129\n"
     ]
    },
    {
     "name": "stderr",
     "output_type": "stream",
     "text": [
      "Fold 3 | Epoch 22/100: 100%|██████████| 274/274 [00:00<00:00, 402.86it/s]\n"
     ]
    },
    {
     "name": "stdout",
     "output_type": "stream",
     "text": [
      "Fold 3 - Epoch 22 ✅ | Train Acc: 22.78% - Train Loss: 2.1584 | Val Acc: 18.66% - Val Loss: 2.2256\n"
     ]
    },
    {
     "name": "stderr",
     "output_type": "stream",
     "text": [
      "Fold 3 | Epoch 23/100: 100%|██████████| 274/274 [00:00<00:00, 406.70it/s]\n"
     ]
    },
    {
     "name": "stdout",
     "output_type": "stream",
     "text": [
      "Fold 3 - Epoch 23 ✅ | Train Acc: 21.98% - Train Loss: 2.1499 | Val Acc: 19.94% - Val Loss: 2.2402\n"
     ]
    },
    {
     "name": "stderr",
     "output_type": "stream",
     "text": [
      "Fold 3 | Epoch 24/100: 100%|██████████| 274/274 [00:00<00:00, 382.89it/s]\n"
     ]
    },
    {
     "name": "stdout",
     "output_type": "stream",
     "text": [
      "Fold 3 - Epoch 24 ✅ | Train Acc: 23.26% - Train Loss: 2.1485 | Val Acc: 20.03% - Val Loss: 2.2096\n"
     ]
    },
    {
     "name": "stderr",
     "output_type": "stream",
     "text": [
      "Fold 3 | Epoch 25/100: 100%|██████████| 274/274 [00:00<00:00, 382.40it/s]\n"
     ]
    },
    {
     "name": "stdout",
     "output_type": "stream",
     "text": [
      "Fold 3 - Epoch 25 ✅ | Train Acc: 22.31% - Train Loss: 2.1406 | Val Acc: 17.42% - Val Loss: 2.2059\n"
     ]
    },
    {
     "name": "stderr",
     "output_type": "stream",
     "text": [
      "Fold 3 | Epoch 26/100: 100%|██████████| 274/274 [00:00<00:00, 379.40it/s]\n"
     ]
    },
    {
     "name": "stdout",
     "output_type": "stream",
     "text": [
      "Fold 3 - Epoch 26 ✅ | Train Acc: 22.15% - Train Loss: 2.1367 | Val Acc: 19.94% - Val Loss: 2.2158\n"
     ]
    },
    {
     "name": "stderr",
     "output_type": "stream",
     "text": [
      "Fold 3 | Epoch 27/100: 100%|██████████| 274/274 [00:00<00:00, 378.82it/s]\n"
     ]
    },
    {
     "name": "stdout",
     "output_type": "stream",
     "text": [
      "Fold 3 - Epoch 27 ✅ | Train Acc: 23.21% - Train Loss: 2.1343 | Val Acc: 15.91% - Val Loss: 2.2207\n"
     ]
    },
    {
     "name": "stderr",
     "output_type": "stream",
     "text": [
      "Fold 3 | Epoch 28/100: 100%|██████████| 274/274 [00:00<00:00, 385.88it/s]\n"
     ]
    },
    {
     "name": "stdout",
     "output_type": "stream",
     "text": [
      "Fold 3 - Epoch 28 ✅ | Train Acc: 22.16% - Train Loss: 2.1328 | Val Acc: 17.33% - Val Loss: 2.2158\n"
     ]
    },
    {
     "name": "stderr",
     "output_type": "stream",
     "text": [
      "Fold 3 | Epoch 29/100: 100%|██████████| 274/274 [00:00<00:00, 384.73it/s]\n"
     ]
    },
    {
     "name": "stdout",
     "output_type": "stream",
     "text": [
      "Fold 3 - Epoch 29 ✅ | Train Acc: 21.20% - Train Loss: 2.1249 | Val Acc: 18.79% - Val Loss: 2.2324\n"
     ]
    },
    {
     "name": "stderr",
     "output_type": "stream",
     "text": [
      "Fold 3 | Epoch 30/100: 100%|██████████| 274/274 [00:00<00:00, 379.00it/s]\n"
     ]
    },
    {
     "name": "stdout",
     "output_type": "stream",
     "text": [
      "Fold 3 - Epoch 30 ✅ | Train Acc: 22.48% - Train Loss: 2.1249 | Val Acc: 18.61% - Val Loss: 2.2203\n"
     ]
    },
    {
     "name": "stderr",
     "output_type": "stream",
     "text": [
      "Fold 3 | Epoch 31/100: 100%|██████████| 274/274 [00:00<00:00, 382.08it/s]\n"
     ]
    },
    {
     "name": "stdout",
     "output_type": "stream",
     "text": [
      "Fold 3 - Epoch 31 ✅ | Train Acc: 21.66% - Train Loss: 2.1211 | Val Acc: 19.16% - Val Loss: 2.2487\n"
     ]
    },
    {
     "name": "stderr",
     "output_type": "stream",
     "text": [
      "Fold 3 | Epoch 32/100: 100%|██████████| 274/274 [00:00<00:00, 386.42it/s]\n"
     ]
    },
    {
     "name": "stdout",
     "output_type": "stream",
     "text": [
      "Fold 3 - Epoch 32 ✅ | Train Acc: 22.90% - Train Loss: 2.1131 | Val Acc: 17.74% - Val Loss: 2.2215\n"
     ]
    },
    {
     "name": "stderr",
     "output_type": "stream",
     "text": [
      "Fold 3 | Epoch 33/100: 100%|██████████| 274/274 [00:00<00:00, 385.59it/s]\n"
     ]
    },
    {
     "name": "stdout",
     "output_type": "stream",
     "text": [
      "Fold 3 - Epoch 33 ✅ | Train Acc: 21.76% - Train Loss: 2.1050 | Val Acc: 17.33% - Val Loss: 2.2176\n"
     ]
    },
    {
     "name": "stderr",
     "output_type": "stream",
     "text": [
      "Fold 3 | Epoch 34/100: 100%|██████████| 274/274 [00:00<00:00, 386.61it/s]\n"
     ]
    },
    {
     "name": "stdout",
     "output_type": "stream",
     "text": [
      "Fold 3 - Epoch 34 ✅ | Train Acc: 20.83% - Train Loss: 2.1091 | Val Acc: 24.78% - Val Loss: 2.2416\n"
     ]
    },
    {
     "name": "stderr",
     "output_type": "stream",
     "text": [
      "Fold 3 | Epoch 35/100: 100%|██████████| 274/274 [00:00<00:00, 392.29it/s]\n"
     ]
    },
    {
     "name": "stdout",
     "output_type": "stream",
     "text": [
      "Fold 3 - Epoch 35 ✅ | Train Acc: 21.74% - Train Loss: 2.1050 | Val Acc: 24.55% - Val Loss: 2.2532\n"
     ]
    },
    {
     "name": "stderr",
     "output_type": "stream",
     "text": [
      "Fold 3 | Epoch 36/100: 100%|██████████| 274/274 [00:00<00:00, 389.27it/s]\n"
     ]
    },
    {
     "name": "stdout",
     "output_type": "stream",
     "text": [
      "Fold 3 - Epoch 36 ✅ | Train Acc: 22.34% - Train Loss: 2.0938 | Val Acc: 18.79% - Val Loss: 2.2321\n"
     ]
    },
    {
     "name": "stderr",
     "output_type": "stream",
     "text": [
      "Fold 3 | Epoch 37/100: 100%|██████████| 274/274 [00:00<00:00, 390.86it/s]\n"
     ]
    },
    {
     "name": "stdout",
     "output_type": "stream",
     "text": [
      "Fold 3 - Epoch 37 ✅ | Train Acc: 22.41% - Train Loss: 2.0906 | Val Acc: 17.74% - Val Loss: 2.2403\n"
     ]
    },
    {
     "name": "stderr",
     "output_type": "stream",
     "text": [
      "Fold 3 | Epoch 38/100: 100%|██████████| 274/274 [00:00<00:00, 392.95it/s]\n"
     ]
    },
    {
     "name": "stdout",
     "output_type": "stream",
     "text": [
      "Fold 3 - Epoch 38 ✅ | Train Acc: 20.97% - Train Loss: 2.0925 | Val Acc: 20.03% - Val Loss: 2.2206\n"
     ]
    },
    {
     "name": "stderr",
     "output_type": "stream",
     "text": [
      "Fold 3 | Epoch 39/100: 100%|██████████| 274/274 [00:00<00:00, 392.38it/s]\n"
     ]
    },
    {
     "name": "stdout",
     "output_type": "stream",
     "text": [
      "Fold 3 - Epoch 39 ✅ | Train Acc: 22.07% - Train Loss: 2.0840 | Val Acc: 15.45% - Val Loss: 2.2299\n"
     ]
    },
    {
     "name": "stderr",
     "output_type": "stream",
     "text": [
      "Fold 3 | Epoch 40/100: 100%|██████████| 274/274 [00:00<00:00, 399.32it/s]\n"
     ]
    },
    {
     "name": "stdout",
     "output_type": "stream",
     "text": [
      "Fold 3 - Epoch 40 ✅ | Train Acc: 21.65% - Train Loss: 2.0834 | Val Acc: 21.67% - Val Loss: 2.2375\n"
     ]
    },
    {
     "name": "stderr",
     "output_type": "stream",
     "text": [
      "Fold 3 | Epoch 41/100: 100%|██████████| 274/274 [00:00<00:00, 404.41it/s]\n"
     ]
    },
    {
     "name": "stdout",
     "output_type": "stream",
     "text": [
      "Fold 3 - Epoch 41 ✅ | Train Acc: 22.10% - Train Loss: 2.0791 | Val Acc: 15.96% - Val Loss: 2.2378\n"
     ]
    },
    {
     "name": "stderr",
     "output_type": "stream",
     "text": [
      "Fold 3 | Epoch 42/100: 100%|██████████| 274/274 [00:00<00:00, 390.70it/s]\n"
     ]
    },
    {
     "name": "stdout",
     "output_type": "stream",
     "text": [
      "Fold 3 - Epoch 42 ✅ | Train Acc: 21.46% - Train Loss: 2.0699 | Val Acc: 18.98% - Val Loss: 2.2570\n"
     ]
    },
    {
     "name": "stderr",
     "output_type": "stream",
     "text": [
      "Fold 3 | Epoch 43/100: 100%|██████████| 274/274 [00:00<00:00, 396.74it/s]\n"
     ]
    },
    {
     "name": "stdout",
     "output_type": "stream",
     "text": [
      "Fold 3 - Epoch 43 ✅ | Train Acc: 21.20% - Train Loss: 2.0648 | Val Acc: 21.67% - Val Loss: 2.2630\n"
     ]
    },
    {
     "name": "stderr",
     "output_type": "stream",
     "text": [
      "Fold 3 | Epoch 44/100: 100%|██████████| 274/274 [00:00<00:00, 404.07it/s]\n"
     ]
    },
    {
     "name": "stdout",
     "output_type": "stream",
     "text": [
      "Fold 3 - Epoch 44 ✅ | Train Acc: 21.46% - Train Loss: 2.0677 | Val Acc: 23.05% - Val Loss: 2.2383\n"
     ]
    },
    {
     "name": "stderr",
     "output_type": "stream",
     "text": [
      "Fold 3 | Epoch 45/100: 100%|██████████| 274/274 [00:00<00:00, 382.87it/s]\n"
     ]
    },
    {
     "name": "stdout",
     "output_type": "stream",
     "text": [
      "Fold 3 - Epoch 45 ✅ | Train Acc: 21.19% - Train Loss: 2.0580 | Val Acc: 23.14% - Val Loss: 2.2543\n"
     ]
    },
    {
     "name": "stderr",
     "output_type": "stream",
     "text": [
      "Fold 3 | Epoch 46/100: 100%|██████████| 274/274 [00:00<00:00, 395.54it/s]\n"
     ]
    },
    {
     "name": "stdout",
     "output_type": "stream",
     "text": [
      "Fold 3 - Epoch 46 ✅ | Train Acc: 21.95% - Train Loss: 2.0499 | Val Acc: 17.51% - Val Loss: 2.2460\n"
     ]
    },
    {
     "name": "stderr",
     "output_type": "stream",
     "text": [
      "Fold 3 | Epoch 47/100: 100%|██████████| 274/274 [00:00<00:00, 396.24it/s]\n"
     ]
    },
    {
     "name": "stdout",
     "output_type": "stream",
     "text": [
      "Fold 3 - Epoch 47 ✅ | Train Acc: 20.75% - Train Loss: 2.0536 | Val Acc: 23.14% - Val Loss: 2.2805\n"
     ]
    },
    {
     "name": "stderr",
     "output_type": "stream",
     "text": [
      "Fold 3 | Epoch 48/100: 100%|██████████| 274/274 [00:00<00:00, 394.88it/s]\n"
     ]
    },
    {
     "name": "stdout",
     "output_type": "stream",
     "text": [
      "Fold 3 - Epoch 48 ✅ | Train Acc: 22.00% - Train Loss: 2.0505 | Val Acc: 19.07% - Val Loss: 2.2530\n"
     ]
    },
    {
     "name": "stderr",
     "output_type": "stream",
     "text": [
      "Fold 3 | Epoch 49/100: 100%|██████████| 274/274 [00:00<00:00, 396.65it/s]\n"
     ]
    },
    {
     "name": "stdout",
     "output_type": "stream",
     "text": [
      "Fold 3 - Epoch 49 ✅ | Train Acc: 20.99% - Train Loss: 2.0412 | Val Acc: 18.79% - Val Loss: 2.2633\n"
     ]
    },
    {
     "name": "stderr",
     "output_type": "stream",
     "text": [
      "Fold 3 | Epoch 50/100: 100%|██████████| 274/274 [00:00<00:00, 399.97it/s]\n"
     ]
    },
    {
     "name": "stdout",
     "output_type": "stream",
     "text": [
      "Fold 3 - Epoch 50 ✅ | Train Acc: 22.55% - Train Loss: 2.0358 | Val Acc: 16.00% - Val Loss: 2.2675\n"
     ]
    },
    {
     "name": "stderr",
     "output_type": "stream",
     "text": [
      "Fold 3 | Epoch 51/100: 100%|██████████| 274/274 [00:00<00:00, 404.21it/s]\n"
     ]
    },
    {
     "name": "stdout",
     "output_type": "stream",
     "text": [
      "Fold 3 - Epoch 51 ✅ | Train Acc: 20.87% - Train Loss: 2.0368 | Val Acc: 18.56% - Val Loss: 2.2692\n"
     ]
    },
    {
     "name": "stderr",
     "output_type": "stream",
     "text": [
      "Fold 3 | Epoch 52/100: 100%|██████████| 274/274 [00:00<00:00, 400.53it/s]\n"
     ]
    },
    {
     "name": "stdout",
     "output_type": "stream",
     "text": [
      "Fold 3 - Epoch 52 ✅ | Train Acc: 21.55% - Train Loss: 2.0271 | Val Acc: 20.21% - Val Loss: 2.2755\n"
     ]
    },
    {
     "name": "stderr",
     "output_type": "stream",
     "text": [
      "Fold 3 | Epoch 53/100: 100%|██████████| 274/274 [00:00<00:00, 408.15it/s]\n"
     ]
    },
    {
     "name": "stdout",
     "output_type": "stream",
     "text": [
      "Fold 3 - Epoch 53 ✅ | Train Acc: 21.54% - Train Loss: 2.0331 | Val Acc: 17.65% - Val Loss: 2.2541\n"
     ]
    },
    {
     "name": "stderr",
     "output_type": "stream",
     "text": [
      "Fold 3 | Epoch 54/100: 100%|██████████| 274/274 [00:00<00:00, 394.36it/s]\n"
     ]
    },
    {
     "name": "stdout",
     "output_type": "stream",
     "text": [
      "Fold 3 - Epoch 54 ✅ | Train Acc: 20.70% - Train Loss: 2.0268 | Val Acc: 16.87% - Val Loss: 2.2511\n"
     ]
    },
    {
     "name": "stderr",
     "output_type": "stream",
     "text": [
      "Fold 3 | Epoch 55/100: 100%|██████████| 274/274 [00:00<00:00, 402.49it/s]\n"
     ]
    },
    {
     "name": "stdout",
     "output_type": "stream",
     "text": [
      "Fold 3 - Epoch 55 ✅ | Train Acc: 20.89% - Train Loss: 2.0214 | Val Acc: 20.03% - Val Loss: 2.2631\n"
     ]
    },
    {
     "name": "stderr",
     "output_type": "stream",
     "text": [
      "Fold 3 | Epoch 56/100: 100%|██████████| 274/274 [00:00<00:00, 402.83it/s]\n"
     ]
    },
    {
     "name": "stdout",
     "output_type": "stream",
     "text": [
      "Fold 3 - Epoch 56 ✅ | Train Acc: 22.27% - Train Loss: 2.0088 | Val Acc: 16.83% - Val Loss: 2.2830\n"
     ]
    },
    {
     "name": "stderr",
     "output_type": "stream",
     "text": [
      "Fold 3 | Epoch 57/100: 100%|██████████| 274/274 [00:00<00:00, 406.72it/s]\n"
     ]
    },
    {
     "name": "stdout",
     "output_type": "stream",
     "text": [
      "Fold 3 - Epoch 57 ✅ | Train Acc: 21.19% - Train Loss: 2.0150 | Val Acc: 17.51% - Val Loss: 2.3050\n"
     ]
    },
    {
     "name": "stderr",
     "output_type": "stream",
     "text": [
      "Fold 3 | Epoch 58/100: 100%|██████████| 274/274 [00:00<00:00, 410.44it/s]\n"
     ]
    },
    {
     "name": "stdout",
     "output_type": "stream",
     "text": [
      "Fold 3 - Epoch 58 ✅ | Train Acc: 20.96% - Train Loss: 2.0143 | Val Acc: 18.43% - Val Loss: 2.2883\n"
     ]
    },
    {
     "name": "stderr",
     "output_type": "stream",
     "text": [
      "Fold 3 | Epoch 59/100: 100%|██████████| 274/274 [00:00<00:00, 412.25it/s]\n"
     ]
    },
    {
     "name": "stdout",
     "output_type": "stream",
     "text": [
      "Fold 3 - Epoch 59 ✅ | Train Acc: 20.73% - Train Loss: 2.0020 | Val Acc: 17.19% - Val Loss: 2.2601\n"
     ]
    },
    {
     "name": "stderr",
     "output_type": "stream",
     "text": [
      "Fold 3 | Epoch 60/100: 100%|██████████| 274/274 [00:00<00:00, 406.98it/s]\n"
     ]
    },
    {
     "name": "stdout",
     "output_type": "stream",
     "text": [
      "Fold 3 - Epoch 60 ✅ | Train Acc: 22.11% - Train Loss: 2.0063 | Val Acc: 18.29% - Val Loss: 2.2836\n"
     ]
    },
    {
     "name": "stderr",
     "output_type": "stream",
     "text": [
      "Fold 3 | Epoch 61/100: 100%|██████████| 274/274 [00:00<00:00, 406.86it/s]\n"
     ]
    },
    {
     "name": "stdout",
     "output_type": "stream",
     "text": [
      "Fold 3 - Epoch 61 ✅ | Train Acc: 21.45% - Train Loss: 2.0001 | Val Acc: 19.84% - Val Loss: 2.3116\n"
     ]
    },
    {
     "name": "stderr",
     "output_type": "stream",
     "text": [
      "Fold 3 | Epoch 62/100: 100%|██████████| 274/274 [00:00<00:00, 407.95it/s]\n"
     ]
    },
    {
     "name": "stdout",
     "output_type": "stream",
     "text": [
      "Fold 3 - Epoch 62 ✅ | Train Acc: 21.41% - Train Loss: 1.9948 | Val Acc: 17.28% - Val Loss: 2.2917\n"
     ]
    },
    {
     "name": "stderr",
     "output_type": "stream",
     "text": [
      "Fold 3 | Epoch 63/100: 100%|██████████| 274/274 [00:00<00:00, 402.42it/s]\n"
     ]
    },
    {
     "name": "stdout",
     "output_type": "stream",
     "text": [
      "Fold 3 - Epoch 63 ✅ | Train Acc: 20.38% - Train Loss: 1.9785 | Val Acc: 21.86% - Val Loss: 2.3188\n"
     ]
    },
    {
     "name": "stderr",
     "output_type": "stream",
     "text": [
      "Fold 3 | Epoch 64/100: 100%|██████████| 274/274 [00:00<00:00, 406.26it/s]\n"
     ]
    },
    {
     "name": "stdout",
     "output_type": "stream",
     "text": [
      "Fold 3 - Epoch 64 ✅ | Train Acc: 21.06% - Train Loss: 1.9877 | Val Acc: 20.90% - Val Loss: 2.3223\n"
     ]
    },
    {
     "name": "stderr",
     "output_type": "stream",
     "text": [
      "Fold 3 | Epoch 65/100: 100%|██████████| 274/274 [00:00<00:00, 404.72it/s]\n"
     ]
    },
    {
     "name": "stdout",
     "output_type": "stream",
     "text": [
      "Fold 3 - Epoch 65 ✅ | Train Acc: 21.67% - Train Loss: 1.9893 | Val Acc: 18.43% - Val Loss: 2.2917\n"
     ]
    },
    {
     "name": "stderr",
     "output_type": "stream",
     "text": [
      "Fold 3 | Epoch 66/100: 100%|██████████| 274/274 [00:00<00:00, 410.64it/s]\n"
     ]
    },
    {
     "name": "stdout",
     "output_type": "stream",
     "text": [
      "Fold 3 - Epoch 66 ✅ | Train Acc: 21.28% - Train Loss: 1.9774 | Val Acc: 16.92% - Val Loss: 2.3031\n"
     ]
    },
    {
     "name": "stderr",
     "output_type": "stream",
     "text": [
      "Fold 3 | Epoch 67/100: 100%|██████████| 274/274 [00:00<00:00, 408.43it/s]\n"
     ]
    },
    {
     "name": "stdout",
     "output_type": "stream",
     "text": [
      "Fold 3 - Epoch 67 ✅ | Train Acc: 22.24% - Train Loss: 1.9712 | Val Acc: 15.00% - Val Loss: 2.2909\n"
     ]
    },
    {
     "name": "stderr",
     "output_type": "stream",
     "text": [
      "Fold 3 | Epoch 68/100: 100%|██████████| 274/274 [00:00<00:00, 403.78it/s]\n"
     ]
    },
    {
     "name": "stdout",
     "output_type": "stream",
     "text": [
      "Fold 3 - Epoch 68 ✅ | Train Acc: 20.77% - Train Loss: 1.9660 | Val Acc: 16.64% - Val Loss: 2.3123\n"
     ]
    },
    {
     "name": "stderr",
     "output_type": "stream",
     "text": [
      "Fold 3 | Epoch 69/100: 100%|██████████| 274/274 [00:00<00:00, 413.47it/s]\n"
     ]
    },
    {
     "name": "stdout",
     "output_type": "stream",
     "text": [
      "Fold 3 - Epoch 69 ✅ | Train Acc: 21.62% - Train Loss: 1.9701 | Val Acc: 18.93% - Val Loss: 2.3270\n"
     ]
    },
    {
     "name": "stderr",
     "output_type": "stream",
     "text": [
      "Fold 3 | Epoch 70/100: 100%|██████████| 274/274 [00:00<00:00, 406.78it/s]\n"
     ]
    },
    {
     "name": "stdout",
     "output_type": "stream",
     "text": [
      "Fold 3 - Epoch 70 ✅ | Train Acc: 21.98% - Train Loss: 1.9609 | Val Acc: 17.33% - Val Loss: 2.3108\n"
     ]
    },
    {
     "name": "stderr",
     "output_type": "stream",
     "text": [
      "Fold 3 | Epoch 71/100: 100%|██████████| 274/274 [00:00<00:00, 406.20it/s]\n"
     ]
    },
    {
     "name": "stdout",
     "output_type": "stream",
     "text": [
      "Fold 3 - Epoch 71 ✅ | Train Acc: 21.74% - Train Loss: 1.9577 | Val Acc: 16.51% - Val Loss: 2.3373\n"
     ]
    },
    {
     "name": "stderr",
     "output_type": "stream",
     "text": [
      "Fold 3 | Epoch 72/100: 100%|██████████| 274/274 [00:00<00:00, 407.94it/s]\n"
     ]
    },
    {
     "name": "stdout",
     "output_type": "stream",
     "text": [
      "Fold 3 - Epoch 72 ✅ | Train Acc: 21.18% - Train Loss: 1.9716 | Val Acc: 17.19% - Val Loss: 2.3285\n"
     ]
    },
    {
     "name": "stderr",
     "output_type": "stream",
     "text": [
      "Fold 3 | Epoch 73/100: 100%|██████████| 274/274 [00:00<00:00, 398.58it/s]\n"
     ]
    },
    {
     "name": "stdout",
     "output_type": "stream",
     "text": [
      "Fold 3 - Epoch 73 ✅ | Train Acc: 21.60% - Train Loss: 1.9599 | Val Acc: 19.94% - Val Loss: 2.3238\n"
     ]
    },
    {
     "name": "stderr",
     "output_type": "stream",
     "text": [
      "Fold 3 | Epoch 74/100: 100%|██████████| 274/274 [00:00<00:00, 400.93it/s]\n"
     ]
    },
    {
     "name": "stdout",
     "output_type": "stream",
     "text": [
      "Fold 3 - Epoch 74 ✅ | Train Acc: 21.91% - Train Loss: 1.9500 | Val Acc: 17.74% - Val Loss: 2.3197\n"
     ]
    },
    {
     "name": "stderr",
     "output_type": "stream",
     "text": [
      "Fold 3 | Epoch 75/100: 100%|██████████| 274/274 [00:00<00:00, 409.88it/s]\n"
     ]
    },
    {
     "name": "stdout",
     "output_type": "stream",
     "text": [
      "Fold 3 - Epoch 75 ✅ | Train Acc: 22.66% - Train Loss: 1.9406 | Val Acc: 17.38% - Val Loss: 2.3275\n"
     ]
    },
    {
     "name": "stderr",
     "output_type": "stream",
     "text": [
      "Fold 3 | Epoch 76/100: 100%|██████████| 274/274 [00:00<00:00, 398.48it/s]\n"
     ]
    },
    {
     "name": "stdout",
     "output_type": "stream",
     "text": [
      "Fold 3 - Epoch 76 ✅ | Train Acc: 21.33% - Train Loss: 1.9379 | Val Acc: 18.29% - Val Loss: 2.3588\n"
     ]
    },
    {
     "name": "stderr",
     "output_type": "stream",
     "text": [
      "Fold 3 | Epoch 77/100: 100%|██████████| 274/274 [00:00<00:00, 407.91it/s]\n"
     ]
    },
    {
     "name": "stdout",
     "output_type": "stream",
     "text": [
      "Fold 3 - Epoch 77 ✅ | Train Acc: 21.44% - Train Loss: 1.9380 | Val Acc: 18.06% - Val Loss: 2.3354\n"
     ]
    },
    {
     "name": "stderr",
     "output_type": "stream",
     "text": [
      "Fold 3 | Epoch 78/100: 100%|██████████| 274/274 [00:00<00:00, 406.33it/s]\n"
     ]
    },
    {
     "name": "stdout",
     "output_type": "stream",
     "text": [
      "Fold 3 - Epoch 78 ✅ | Train Acc: 21.97% - Train Loss: 1.9385 | Val Acc: 19.07% - Val Loss: 2.4369\n"
     ]
    },
    {
     "name": "stderr",
     "output_type": "stream",
     "text": [
      "Fold 3 | Epoch 79/100: 100%|██████████| 274/274 [00:00<00:00, 409.78it/s]\n"
     ]
    },
    {
     "name": "stdout",
     "output_type": "stream",
     "text": [
      "Fold 3 - Epoch 79 ✅ | Train Acc: 21.52% - Train Loss: 1.9174 | Val Acc: 15.78% - Val Loss: 2.3372\n"
     ]
    },
    {
     "name": "stderr",
     "output_type": "stream",
     "text": [
      "Fold 3 | Epoch 80/100: 100%|██████████| 274/274 [00:00<00:00, 415.60it/s]\n"
     ]
    },
    {
     "name": "stdout",
     "output_type": "stream",
     "text": [
      "Fold 3 - Epoch 80 ✅ | Train Acc: 21.89% - Train Loss: 1.9221 | Val Acc: 17.28% - Val Loss: 2.4104\n"
     ]
    },
    {
     "name": "stderr",
     "output_type": "stream",
     "text": [
      "Fold 3 | Epoch 81/100: 100%|██████████| 274/274 [00:00<00:00, 410.88it/s]\n"
     ]
    },
    {
     "name": "stdout",
     "output_type": "stream",
     "text": [
      "Fold 3 - Epoch 81 ✅ | Train Acc: 22.01% - Train Loss: 1.9198 | Val Acc: 18.15% - Val Loss: 2.3722\n"
     ]
    },
    {
     "name": "stderr",
     "output_type": "stream",
     "text": [
      "Fold 3 | Epoch 82/100: 100%|██████████| 274/274 [00:00<00:00, 415.41it/s]\n"
     ]
    },
    {
     "name": "stdout",
     "output_type": "stream",
     "text": [
      "Fold 3 - Epoch 82 ✅ | Train Acc: 22.07% - Train Loss: 1.9186 | Val Acc: 18.15% - Val Loss: 2.3832\n"
     ]
    },
    {
     "name": "stderr",
     "output_type": "stream",
     "text": [
      "Fold 3 | Epoch 83/100: 100%|██████████| 274/274 [00:00<00:00, 412.15it/s]\n"
     ]
    },
    {
     "name": "stdout",
     "output_type": "stream",
     "text": [
      "Fold 3 - Epoch 83 ✅ | Train Acc: 21.86% - Train Loss: 1.9163 | Val Acc: 18.29% - Val Loss: 2.3877\n"
     ]
    },
    {
     "name": "stderr",
     "output_type": "stream",
     "text": [
      "Fold 3 | Epoch 84/100: 100%|██████████| 274/274 [00:00<00:00, 409.81it/s]\n"
     ]
    },
    {
     "name": "stdout",
     "output_type": "stream",
     "text": [
      "Fold 3 - Epoch 84 ✅ | Train Acc: 22.23% - Train Loss: 1.9087 | Val Acc: 17.70% - Val Loss: 2.4015\n"
     ]
    },
    {
     "name": "stderr",
     "output_type": "stream",
     "text": [
      "Fold 3 | Epoch 85/100: 100%|██████████| 274/274 [00:00<00:00, 395.03it/s]\n"
     ]
    },
    {
     "name": "stdout",
     "output_type": "stream",
     "text": [
      "Fold 3 - Epoch 85 ✅ | Train Acc: 22.72% - Train Loss: 1.8979 | Val Acc: 17.19% - Val Loss: 2.4344\n"
     ]
    },
    {
     "name": "stderr",
     "output_type": "stream",
     "text": [
      "Fold 3 | Epoch 86/100: 100%|██████████| 274/274 [00:00<00:00, 403.19it/s]\n"
     ]
    },
    {
     "name": "stdout",
     "output_type": "stream",
     "text": [
      "Fold 3 - Epoch 86 ✅ | Train Acc: 23.19% - Train Loss: 1.8836 | Val Acc: 18.11% - Val Loss: 2.3994\n"
     ]
    },
    {
     "name": "stderr",
     "output_type": "stream",
     "text": [
      "Fold 3 | Epoch 87/100: 100%|██████████| 274/274 [00:00<00:00, 414.69it/s]\n"
     ]
    },
    {
     "name": "stdout",
     "output_type": "stream",
     "text": [
      "Fold 3 - Epoch 87 ✅ | Train Acc: 22.29% - Train Loss: 1.9007 | Val Acc: 19.39% - Val Loss: 2.3947\n"
     ]
    },
    {
     "name": "stderr",
     "output_type": "stream",
     "text": [
      "Fold 3 | Epoch 88/100: 100%|██████████| 274/274 [00:00<00:00, 415.71it/s]\n"
     ]
    },
    {
     "name": "stdout",
     "output_type": "stream",
     "text": [
      "Fold 3 - Epoch 88 ✅ | Train Acc: 22.37% - Train Loss: 1.9058 | Val Acc: 17.88% - Val Loss: 2.4044\n"
     ]
    },
    {
     "name": "stderr",
     "output_type": "stream",
     "text": [
      "Fold 3 | Epoch 89/100: 100%|██████████| 274/274 [00:00<00:00, 406.67it/s]\n"
     ]
    },
    {
     "name": "stdout",
     "output_type": "stream",
     "text": [
      "Fold 3 - Epoch 89 ✅ | Train Acc: 23.38% - Train Loss: 1.8863 | Val Acc: 17.38% - Val Loss: 2.3981\n"
     ]
    },
    {
     "name": "stderr",
     "output_type": "stream",
     "text": [
      "Fold 3 | Epoch 90/100: 100%|██████████| 274/274 [00:00<00:00, 394.74it/s]\n"
     ]
    },
    {
     "name": "stdout",
     "output_type": "stream",
     "text": [
      "Fold 3 - Epoch 90 ✅ | Train Acc: 22.31% - Train Loss: 1.8883 | Val Acc: 18.24% - Val Loss: 2.4255\n"
     ]
    },
    {
     "name": "stderr",
     "output_type": "stream",
     "text": [
      "Fold 3 | Epoch 91/100: 100%|██████████| 274/274 [00:00<00:00, 405.76it/s]\n"
     ]
    },
    {
     "name": "stdout",
     "output_type": "stream",
     "text": [
      "Fold 3 - Epoch 91 ✅ | Train Acc: 22.39% - Train Loss: 1.8974 | Val Acc: 17.88% - Val Loss: 2.4302\n"
     ]
    },
    {
     "name": "stderr",
     "output_type": "stream",
     "text": [
      "Fold 3 | Epoch 92/100: 100%|██████████| 274/274 [00:00<00:00, 404.00it/s]\n"
     ]
    },
    {
     "name": "stdout",
     "output_type": "stream",
     "text": [
      "Fold 3 - Epoch 92 ✅ | Train Acc: 23.44% - Train Loss: 1.8708 | Val Acc: 18.70% - Val Loss: 2.4246\n"
     ]
    },
    {
     "name": "stderr",
     "output_type": "stream",
     "text": [
      "Fold 3 | Epoch 93/100: 100%|██████████| 274/274 [00:00<00:00, 355.47it/s]\n"
     ]
    },
    {
     "name": "stdout",
     "output_type": "stream",
     "text": [
      "Fold 3 - Epoch 93 ✅ | Train Acc: 23.15% - Train Loss: 1.8657 | Val Acc: 18.15% - Val Loss: 2.4500\n"
     ]
    },
    {
     "name": "stderr",
     "output_type": "stream",
     "text": [
      "Fold 3 | Epoch 94/100: 100%|██████████| 274/274 [00:00<00:00, 384.69it/s]\n"
     ]
    },
    {
     "name": "stdout",
     "output_type": "stream",
     "text": [
      "Fold 3 - Epoch 94 ✅ | Train Acc: 21.78% - Train Loss: 1.8837 | Val Acc: 17.79% - Val Loss: 2.4416\n"
     ]
    },
    {
     "name": "stderr",
     "output_type": "stream",
     "text": [
      "Fold 3 | Epoch 95/100: 100%|██████████| 274/274 [00:00<00:00, 384.99it/s]\n"
     ]
    },
    {
     "name": "stdout",
     "output_type": "stream",
     "text": [
      "Fold 3 - Epoch 95 ✅ | Train Acc: 22.66% - Train Loss: 1.8622 | Val Acc: 17.24% - Val Loss: 2.4527\n"
     ]
    },
    {
     "name": "stderr",
     "output_type": "stream",
     "text": [
      "Fold 3 | Epoch 96/100: 100%|██████████| 274/274 [00:00<00:00, 386.38it/s]\n"
     ]
    },
    {
     "name": "stdout",
     "output_type": "stream",
     "text": [
      "Fold 3 - Epoch 96 ✅ | Train Acc: 22.69% - Train Loss: 1.8596 | Val Acc: 18.66% - Val Loss: 2.4877\n"
     ]
    },
    {
     "name": "stderr",
     "output_type": "stream",
     "text": [
      "Fold 3 | Epoch 97/100: 100%|██████████| 274/274 [00:00<00:00, 386.28it/s]\n"
     ]
    },
    {
     "name": "stdout",
     "output_type": "stream",
     "text": [
      "Fold 3 - Epoch 97 ✅ | Train Acc: 23.09% - Train Loss: 1.8653 | Val Acc: 16.05% - Val Loss: 2.4741\n"
     ]
    },
    {
     "name": "stderr",
     "output_type": "stream",
     "text": [
      "Fold 3 | Epoch 98/100: 100%|██████████| 274/274 [00:00<00:00, 396.25it/s]\n"
     ]
    },
    {
     "name": "stdout",
     "output_type": "stream",
     "text": [
      "Fold 3 - Epoch 98 ✅ | Train Acc: 23.04% - Train Loss: 1.8618 | Val Acc: 14.81% - Val Loss: 2.4548\n"
     ]
    },
    {
     "name": "stderr",
     "output_type": "stream",
     "text": [
      "Fold 3 | Epoch 99/100: 100%|██████████| 274/274 [00:00<00:00, 375.55it/s]\n"
     ]
    },
    {
     "name": "stdout",
     "output_type": "stream",
     "text": [
      "Fold 3 - Epoch 99 ✅ | Train Acc: 22.74% - Train Loss: 1.8530 | Val Acc: 18.88% - Val Loss: 2.4971\n"
     ]
    },
    {
     "name": "stderr",
     "output_type": "stream",
     "text": [
      "Fold 3 | Epoch 100/100: 100%|██████████| 274/274 [00:00<00:00, 394.15it/s]\n"
     ]
    },
    {
     "name": "stdout",
     "output_type": "stream",
     "text": [
      "Fold 3 - Epoch 100 ✅ | Train Acc: 22.90% - Train Loss: 1.8561 | Val Acc: 17.06% - Val Loss: 2.5011\n",
      "\n",
      "📂 Fold 4/5\n"
     ]
    },
    {
     "name": "stderr",
     "output_type": "stream",
     "text": [
      "Fold 4 | Epoch 1/100: 100%|██████████| 274/274 [00:00<00:00, 395.65it/s]\n"
     ]
    },
    {
     "name": "stdout",
     "output_type": "stream",
     "text": [
      "Fold 4 - Epoch 1 ✅ | Train Acc: 13.01% - Train Loss: 2.3017 | Val Acc: 10.29% - Val Loss: 2.2917\n"
     ]
    },
    {
     "name": "stderr",
     "output_type": "stream",
     "text": [
      "Fold 4 | Epoch 2/100: 100%|██████████| 274/274 [00:00<00:00, 403.72it/s]\n"
     ]
    },
    {
     "name": "stdout",
     "output_type": "stream",
     "text": [
      "Fold 4 - Epoch 2 ✅ | Train Acc: 21.54% - Train Loss: 2.2776 | Val Acc: 34.39% - Val Loss: 2.2629\n"
     ]
    },
    {
     "name": "stderr",
     "output_type": "stream",
     "text": [
      "Fold 4 | Epoch 3/100: 100%|██████████| 274/274 [00:00<00:00, 398.53it/s]\n"
     ]
    },
    {
     "name": "stdout",
     "output_type": "stream",
     "text": [
      "Fold 4 - Epoch 3 ✅ | Train Acc: 23.11% - Train Loss: 2.2555 | Val Acc: 24.01% - Val Loss: 2.2375\n"
     ]
    },
    {
     "name": "stderr",
     "output_type": "stream",
     "text": [
      "Fold 4 | Epoch 4/100: 100%|██████████| 274/274 [00:00<00:00, 390.70it/s]\n"
     ]
    },
    {
     "name": "stdout",
     "output_type": "stream",
     "text": [
      "Fold 4 - Epoch 4 ✅ | Train Acc: 24.72% - Train Loss: 2.2425 | Val Acc: 25.79% - Val Loss: 2.2335\n"
     ]
    },
    {
     "name": "stderr",
     "output_type": "stream",
     "text": [
      "Fold 4 | Epoch 5/100: 100%|██████████| 274/274 [00:00<00:00, 396.27it/s]\n"
     ]
    },
    {
     "name": "stdout",
     "output_type": "stream",
     "text": [
      "Fold 4 - Epoch 5 ✅ | Train Acc: 26.10% - Train Loss: 2.2368 | Val Acc: 34.25% - Val Loss: 2.2422\n"
     ]
    },
    {
     "name": "stderr",
     "output_type": "stream",
     "text": [
      "Fold 4 | Epoch 6/100: 100%|██████████| 274/274 [00:00<00:00, 404.86it/s]\n"
     ]
    },
    {
     "name": "stdout",
     "output_type": "stream",
     "text": [
      "Fold 4 - Epoch 6 ✅ | Train Acc: 26.93% - Train Loss: 2.2319 | Val Acc: 26.93% - Val Loss: 2.2270\n"
     ]
    },
    {
     "name": "stderr",
     "output_type": "stream",
     "text": [
      "Fold 4 | Epoch 7/100: 100%|██████████| 274/274 [00:00<00:00, 405.64it/s]\n"
     ]
    },
    {
     "name": "stdout",
     "output_type": "stream",
     "text": [
      "Fold 4 - Epoch 7 ✅ | Train Acc: 24.51% - Train Loss: 2.2284 | Val Acc: 31.55% - Val Loss: 2.2230\n"
     ]
    },
    {
     "name": "stderr",
     "output_type": "stream",
     "text": [
      "Fold 4 | Epoch 8/100: 100%|██████████| 274/274 [00:00<00:00, 408.80it/s]\n"
     ]
    },
    {
     "name": "stdout",
     "output_type": "stream",
     "text": [
      "Fold 4 - Epoch 8 ✅ | Train Acc: 25.29% - Train Loss: 2.2237 | Val Acc: 22.95% - Val Loss: 2.2182\n"
     ]
    },
    {
     "name": "stderr",
     "output_type": "stream",
     "text": [
      "Fold 4 | Epoch 9/100: 100%|██████████| 274/274 [00:00<00:00, 411.68it/s]\n"
     ]
    },
    {
     "name": "stdout",
     "output_type": "stream",
     "text": [
      "Fold 4 - Epoch 9 ✅ | Train Acc: 24.08% - Train Loss: 2.2220 | Val Acc: 25.61% - Val Loss: 2.2164\n"
     ]
    },
    {
     "name": "stderr",
     "output_type": "stream",
     "text": [
      "Fold 4 | Epoch 10/100: 100%|██████████| 274/274 [00:00<00:00, 410.98it/s]\n"
     ]
    },
    {
     "name": "stdout",
     "output_type": "stream",
     "text": [
      "Fold 4 - Epoch 10 ✅ | Train Acc: 23.82% - Train Loss: 2.2108 | Val Acc: 28.35% - Val Loss: 2.2113\n"
     ]
    },
    {
     "name": "stderr",
     "output_type": "stream",
     "text": [
      "Fold 4 | Epoch 11/100: 100%|██████████| 274/274 [00:00<00:00, 410.74it/s]\n"
     ]
    },
    {
     "name": "stdout",
     "output_type": "stream",
     "text": [
      "Fold 4 - Epoch 11 ✅ | Train Acc: 21.70% - Train Loss: 2.2146 | Val Acc: 23.64% - Val Loss: 2.2172\n"
     ]
    },
    {
     "name": "stderr",
     "output_type": "stream",
     "text": [
      "Fold 4 | Epoch 12/100: 100%|██████████| 274/274 [00:00<00:00, 402.81it/s]\n"
     ]
    },
    {
     "name": "stdout",
     "output_type": "stream",
     "text": [
      "Fold 4 - Epoch 12 ✅ | Train Acc: 23.76% - Train Loss: 2.2090 | Val Acc: 29.31% - Val Loss: 2.2150\n"
     ]
    },
    {
     "name": "stderr",
     "output_type": "stream",
     "text": [
      "Fold 4 | Epoch 13/100: 100%|██████████| 274/274 [00:00<00:00, 408.21it/s]\n"
     ]
    },
    {
     "name": "stdout",
     "output_type": "stream",
     "text": [
      "Fold 4 - Epoch 13 ✅ | Train Acc: 22.39% - Train Loss: 2.2047 | Val Acc: 24.51% - Val Loss: 2.2236\n"
     ]
    },
    {
     "name": "stderr",
     "output_type": "stream",
     "text": [
      "Fold 4 | Epoch 14/100: 100%|██████████| 274/274 [00:00<00:00, 402.38it/s]\n"
     ]
    },
    {
     "name": "stdout",
     "output_type": "stream",
     "text": [
      "Fold 4 - Epoch 14 ✅ | Train Acc: 22.05% - Train Loss: 2.2011 | Val Acc: 26.02% - Val Loss: 2.2170\n"
     ]
    },
    {
     "name": "stderr",
     "output_type": "stream",
     "text": [
      "Fold 4 | Epoch 15/100: 100%|██████████| 274/274 [00:00<00:00, 402.54it/s]\n"
     ]
    },
    {
     "name": "stdout",
     "output_type": "stream",
     "text": [
      "Fold 4 - Epoch 15 ✅ | Train Acc: 21.26% - Train Loss: 2.1973 | Val Acc: 25.24% - Val Loss: 2.2027\n"
     ]
    },
    {
     "name": "stderr",
     "output_type": "stream",
     "text": [
      "Fold 4 | Epoch 16/100: 100%|██████████| 274/274 [00:00<00:00, 406.59it/s]\n"
     ]
    },
    {
     "name": "stdout",
     "output_type": "stream",
     "text": [
      "Fold 4 - Epoch 16 ✅ | Train Acc: 21.47% - Train Loss: 2.1998 | Val Acc: 23.69% - Val Loss: 2.2026\n"
     ]
    },
    {
     "name": "stderr",
     "output_type": "stream",
     "text": [
      "Fold 4 | Epoch 17/100: 100%|██████████| 274/274 [00:00<00:00, 406.92it/s]\n"
     ]
    },
    {
     "name": "stdout",
     "output_type": "stream",
     "text": [
      "Fold 4 - Epoch 17 ✅ | Train Acc: 22.72% - Train Loss: 2.1910 | Val Acc: 23.82% - Val Loss: 2.2145\n"
     ]
    },
    {
     "name": "stderr",
     "output_type": "stream",
     "text": [
      "Fold 4 | Epoch 18/100: 100%|██████████| 274/274 [00:00<00:00, 406.22it/s]\n"
     ]
    },
    {
     "name": "stdout",
     "output_type": "stream",
     "text": [
      "Fold 4 - Epoch 18 ✅ | Train Acc: 21.01% - Train Loss: 2.1895 | Val Acc: 22.77% - Val Loss: 2.2019\n"
     ]
    },
    {
     "name": "stderr",
     "output_type": "stream",
     "text": [
      "Fold 4 | Epoch 19/100: 100%|██████████| 274/274 [00:00<00:00, 406.20it/s]\n"
     ]
    },
    {
     "name": "stdout",
     "output_type": "stream",
     "text": [
      "Fold 4 - Epoch 19 ✅ | Train Acc: 20.77% - Train Loss: 2.1845 | Val Acc: 22.13% - Val Loss: 2.2083\n"
     ]
    },
    {
     "name": "stderr",
     "output_type": "stream",
     "text": [
      "Fold 4 | Epoch 20/100: 100%|██████████| 274/274 [00:00<00:00, 403.13it/s]\n"
     ]
    },
    {
     "name": "stdout",
     "output_type": "stream",
     "text": [
      "Fold 4 - Epoch 20 ✅ | Train Acc: 21.26% - Train Loss: 2.1849 | Val Acc: 22.63% - Val Loss: 2.1991\n"
     ]
    },
    {
     "name": "stderr",
     "output_type": "stream",
     "text": [
      "Fold 4 | Epoch 21/100: 100%|██████████| 274/274 [00:00<00:00, 406.72it/s]\n"
     ]
    },
    {
     "name": "stdout",
     "output_type": "stream",
     "text": [
      "Fold 4 - Epoch 21 ✅ | Train Acc: 21.89% - Train Loss: 2.1777 | Val Acc: 23.59% - Val Loss: 2.2027\n"
     ]
    },
    {
     "name": "stderr",
     "output_type": "stream",
     "text": [
      "Fold 4 | Epoch 22/100: 100%|██████████| 274/274 [00:00<00:00, 409.23it/s]\n"
     ]
    },
    {
     "name": "stdout",
     "output_type": "stream",
     "text": [
      "Fold 4 - Epoch 22 ✅ | Train Acc: 19.39% - Train Loss: 2.1737 | Val Acc: 24.60% - Val Loss: 2.2060\n"
     ]
    },
    {
     "name": "stderr",
     "output_type": "stream",
     "text": [
      "Fold 4 | Epoch 23/100: 100%|██████████| 274/274 [00:00<00:00, 409.24it/s]\n"
     ]
    },
    {
     "name": "stdout",
     "output_type": "stream",
     "text": [
      "Fold 4 - Epoch 23 ✅ | Train Acc: 20.59% - Train Loss: 2.1740 | Val Acc: 15.41% - Val Loss: 2.2057\n"
     ]
    },
    {
     "name": "stderr",
     "output_type": "stream",
     "text": [
      "Fold 4 | Epoch 24/100: 100%|██████████| 274/274 [00:00<00:00, 408.64it/s]\n"
     ]
    },
    {
     "name": "stdout",
     "output_type": "stream",
     "text": [
      "Fold 4 - Epoch 24 ✅ | Train Acc: 19.90% - Train Loss: 2.1642 | Val Acc: 18.11% - Val Loss: 2.2063\n"
     ]
    },
    {
     "name": "stderr",
     "output_type": "stream",
     "text": [
      "Fold 4 | Epoch 25/100: 100%|██████████| 274/274 [00:00<00:00, 401.46it/s]\n"
     ]
    },
    {
     "name": "stdout",
     "output_type": "stream",
     "text": [
      "Fold 4 - Epoch 25 ✅ | Train Acc: 20.73% - Train Loss: 2.1634 | Val Acc: 15.45% - Val Loss: 2.2058\n"
     ]
    },
    {
     "name": "stderr",
     "output_type": "stream",
     "text": [
      "Fold 4 | Epoch 26/100: 100%|██████████| 274/274 [00:00<00:00, 409.19it/s]\n"
     ]
    },
    {
     "name": "stdout",
     "output_type": "stream",
     "text": [
      "Fold 4 - Epoch 26 ✅ | Train Acc: 19.82% - Train Loss: 2.1643 | Val Acc: 18.66% - Val Loss: 2.1984\n"
     ]
    },
    {
     "name": "stderr",
     "output_type": "stream",
     "text": [
      "Fold 4 | Epoch 27/100: 100%|██████████| 274/274 [00:00<00:00, 406.83it/s]\n"
     ]
    },
    {
     "name": "stdout",
     "output_type": "stream",
     "text": [
      "Fold 4 - Epoch 27 ✅ | Train Acc: 19.97% - Train Loss: 2.1560 | Val Acc: 16.69% - Val Loss: 2.1990\n"
     ]
    },
    {
     "name": "stderr",
     "output_type": "stream",
     "text": [
      "Fold 4 | Epoch 28/100: 100%|██████████| 274/274 [00:00<00:00, 405.69it/s]\n"
     ]
    },
    {
     "name": "stdout",
     "output_type": "stream",
     "text": [
      "Fold 4 - Epoch 28 ✅ | Train Acc: 21.23% - Train Loss: 2.1472 | Val Acc: 20.90% - Val Loss: 2.2074\n"
     ]
    },
    {
     "name": "stderr",
     "output_type": "stream",
     "text": [
      "Fold 4 | Epoch 29/100: 100%|██████████| 274/274 [00:00<00:00, 406.73it/s]\n"
     ]
    },
    {
     "name": "stdout",
     "output_type": "stream",
     "text": [
      "Fold 4 - Epoch 29 ✅ | Train Acc: 19.92% - Train Loss: 2.1489 | Val Acc: 21.40% - Val Loss: 2.2012\n"
     ]
    },
    {
     "name": "stderr",
     "output_type": "stream",
     "text": [
      "Fold 4 | Epoch 30/100: 100%|██████████| 274/274 [00:00<00:00, 405.13it/s]\n"
     ]
    },
    {
     "name": "stdout",
     "output_type": "stream",
     "text": [
      "Fold 4 - Epoch 30 ✅ | Train Acc: 21.09% - Train Loss: 2.1392 | Val Acc: 23.14% - Val Loss: 2.1955\n"
     ]
    },
    {
     "name": "stderr",
     "output_type": "stream",
     "text": [
      "Fold 4 | Epoch 31/100: 100%|██████████| 274/274 [00:00<00:00, 410.93it/s]\n"
     ]
    },
    {
     "name": "stdout",
     "output_type": "stream",
     "text": [
      "Fold 4 - Epoch 31 ✅ | Train Acc: 21.04% - Train Loss: 2.1365 | Val Acc: 20.94% - Val Loss: 2.2229\n"
     ]
    },
    {
     "name": "stderr",
     "output_type": "stream",
     "text": [
      "Fold 4 | Epoch 32/100: 100%|██████████| 274/274 [00:00<00:00, 406.34it/s]\n"
     ]
    },
    {
     "name": "stdout",
     "output_type": "stream",
     "text": [
      "Fold 4 - Epoch 32 ✅ | Train Acc: 19.50% - Train Loss: 2.1376 | Val Acc: 20.53% - Val Loss: 2.2157\n"
     ]
    },
    {
     "name": "stderr",
     "output_type": "stream",
     "text": [
      "Fold 4 | Epoch 33/100: 100%|██████████| 274/274 [00:00<00:00, 400.91it/s]\n"
     ]
    },
    {
     "name": "stdout",
     "output_type": "stream",
     "text": [
      "Fold 4 - Epoch 33 ✅ | Train Acc: 19.53% - Train Loss: 2.1317 | Val Acc: 18.61% - Val Loss: 2.2041\n"
     ]
    },
    {
     "name": "stderr",
     "output_type": "stream",
     "text": [
      "Fold 4 | Epoch 34/100: 100%|██████████| 274/274 [00:00<00:00, 409.15it/s]\n"
     ]
    },
    {
     "name": "stdout",
     "output_type": "stream",
     "text": [
      "Fold 4 - Epoch 34 ✅ | Train Acc: 20.72% - Train Loss: 2.1287 | Val Acc: 19.94% - Val Loss: 2.2073\n"
     ]
    },
    {
     "name": "stderr",
     "output_type": "stream",
     "text": [
      "Fold 4 | Epoch 35/100: 100%|██████████| 274/274 [00:00<00:00, 391.34it/s]\n"
     ]
    },
    {
     "name": "stdout",
     "output_type": "stream",
     "text": [
      "Fold 4 - Epoch 35 ✅ | Train Acc: 19.43% - Train Loss: 2.1246 | Val Acc: 20.80% - Val Loss: 2.2082\n"
     ]
    },
    {
     "name": "stderr",
     "output_type": "stream",
     "text": [
      "Fold 4 | Epoch 36/100: 100%|██████████| 274/274 [00:00<00:00, 402.91it/s]\n"
     ]
    },
    {
     "name": "stdout",
     "output_type": "stream",
     "text": [
      "Fold 4 - Epoch 36 ✅ | Train Acc: 19.77% - Train Loss: 2.1145 | Val Acc: 18.70% - Val Loss: 2.2078\n"
     ]
    },
    {
     "name": "stderr",
     "output_type": "stream",
     "text": [
      "Fold 4 | Epoch 37/100: 100%|██████████| 274/274 [00:00<00:00, 406.76it/s]\n"
     ]
    },
    {
     "name": "stdout",
     "output_type": "stream",
     "text": [
      "Fold 4 - Epoch 37 ✅ | Train Acc: 20.48% - Train Loss: 2.1126 | Val Acc: 15.96% - Val Loss: 2.2018\n"
     ]
    },
    {
     "name": "stderr",
     "output_type": "stream",
     "text": [
      "Fold 4 | Epoch 38/100: 100%|██████████| 274/274 [00:00<00:00, 413.13it/s]\n"
     ]
    },
    {
     "name": "stdout",
     "output_type": "stream",
     "text": [
      "Fold 4 - Epoch 38 ✅ | Train Acc: 19.25% - Train Loss: 2.1108 | Val Acc: 20.44% - Val Loss: 2.2056\n"
     ]
    },
    {
     "name": "stderr",
     "output_type": "stream",
     "text": [
      "Fold 4 | Epoch 39/100: 100%|██████████| 274/274 [00:00<00:00, 410.95it/s]\n"
     ]
    },
    {
     "name": "stdout",
     "output_type": "stream",
     "text": [
      "Fold 4 - Epoch 39 ✅ | Train Acc: 19.52% - Train Loss: 2.1032 | Val Acc: 18.11% - Val Loss: 2.2062\n"
     ]
    },
    {
     "name": "stderr",
     "output_type": "stream",
     "text": [
      "Fold 4 | Epoch 40/100: 100%|██████████| 274/274 [00:00<00:00, 409.16it/s]\n"
     ]
    },
    {
     "name": "stdout",
     "output_type": "stream",
     "text": [
      "Fold 4 - Epoch 40 ✅ | Train Acc: 19.04% - Train Loss: 2.1034 | Val Acc: 22.13% - Val Loss: 2.2278\n"
     ]
    },
    {
     "name": "stderr",
     "output_type": "stream",
     "text": [
      "Fold 4 | Epoch 41/100: 100%|██████████| 274/274 [00:00<00:00, 411.08it/s]\n"
     ]
    },
    {
     "name": "stdout",
     "output_type": "stream",
     "text": [
      "Fold 4 - Epoch 41 ✅ | Train Acc: 20.30% - Train Loss: 2.0985 | Val Acc: 17.56% - Val Loss: 2.2116\n"
     ]
    },
    {
     "name": "stderr",
     "output_type": "stream",
     "text": [
      "Fold 4 | Epoch 42/100: 100%|██████████| 274/274 [00:00<00:00, 411.10it/s]\n"
     ]
    },
    {
     "name": "stdout",
     "output_type": "stream",
     "text": [
      "Fold 4 - Epoch 42 ✅ | Train Acc: 19.84% - Train Loss: 2.0948 | Val Acc: 15.36% - Val Loss: 2.2085\n"
     ]
    },
    {
     "name": "stderr",
     "output_type": "stream",
     "text": [
      "Fold 4 | Epoch 43/100: 100%|██████████| 274/274 [00:00<00:00, 411.62it/s]\n"
     ]
    },
    {
     "name": "stdout",
     "output_type": "stream",
     "text": [
      "Fold 4 - Epoch 43 ✅ | Train Acc: 19.86% - Train Loss: 2.0845 | Val Acc: 17.56% - Val Loss: 2.2094\n"
     ]
    },
    {
     "name": "stderr",
     "output_type": "stream",
     "text": [
      "Fold 4 | Epoch 44/100: 100%|██████████| 274/274 [00:00<00:00, 409.17it/s]\n"
     ]
    },
    {
     "name": "stdout",
     "output_type": "stream",
     "text": [
      "Fold 4 - Epoch 44 ✅ | Train Acc: 19.58% - Train Loss: 2.0872 | Val Acc: 18.93% - Val Loss: 2.2206\n"
     ]
    },
    {
     "name": "stderr",
     "output_type": "stream",
     "text": [
      "Fold 4 | Epoch 45/100: 100%|██████████| 274/274 [00:00<00:00, 407.81it/s]\n"
     ]
    },
    {
     "name": "stdout",
     "output_type": "stream",
     "text": [
      "Fold 4 - Epoch 45 ✅ | Train Acc: 19.29% - Train Loss: 2.0790 | Val Acc: 17.01% - Val Loss: 2.2226\n"
     ]
    },
    {
     "name": "stderr",
     "output_type": "stream",
     "text": [
      "Fold 4 | Epoch 46/100: 100%|██████████| 274/274 [00:00<00:00, 409.11it/s]\n"
     ]
    },
    {
     "name": "stdout",
     "output_type": "stream",
     "text": [
      "Fold 4 - Epoch 46 ✅ | Train Acc: 19.51% - Train Loss: 2.0833 | Val Acc: 18.70% - Val Loss: 2.2300\n"
     ]
    },
    {
     "name": "stderr",
     "output_type": "stream",
     "text": [
      "Fold 4 | Epoch 47/100: 100%|██████████| 274/274 [00:00<00:00, 409.82it/s]\n"
     ]
    },
    {
     "name": "stdout",
     "output_type": "stream",
     "text": [
      "Fold 4 - Epoch 47 ✅ | Train Acc: 19.99% - Train Loss: 2.0777 | Val Acc: 21.03% - Val Loss: 2.2378\n"
     ]
    },
    {
     "name": "stderr",
     "output_type": "stream",
     "text": [
      "Fold 4 | Epoch 48/100: 100%|██████████| 274/274 [00:00<00:00, 415.28it/s]\n"
     ]
    },
    {
     "name": "stdout",
     "output_type": "stream",
     "text": [
      "Fold 4 - Epoch 48 ✅ | Train Acc: 20.40% - Train Loss: 2.0662 | Val Acc: 20.21% - Val Loss: 2.2451\n"
     ]
    },
    {
     "name": "stderr",
     "output_type": "stream",
     "text": [
      "Fold 4 | Epoch 49/100: 100%|██████████| 274/274 [00:00<00:00, 415.59it/s]\n"
     ]
    },
    {
     "name": "stdout",
     "output_type": "stream",
     "text": [
      "Fold 4 - Epoch 49 ✅ | Train Acc: 20.03% - Train Loss: 2.0624 | Val Acc: 19.52% - Val Loss: 2.2458\n"
     ]
    },
    {
     "name": "stderr",
     "output_type": "stream",
     "text": [
      "Fold 4 | Epoch 50/100: 100%|██████████| 274/274 [00:00<00:00, 419.13it/s]\n"
     ]
    },
    {
     "name": "stdout",
     "output_type": "stream",
     "text": [
      "Fold 4 - Epoch 50 ✅ | Train Acc: 19.70% - Train Loss: 2.0594 | Val Acc: 15.64% - Val Loss: 2.2511\n"
     ]
    },
    {
     "name": "stderr",
     "output_type": "stream",
     "text": [
      "Fold 4 | Epoch 51/100: 100%|██████████| 274/274 [00:00<00:00, 417.09it/s]\n"
     ]
    },
    {
     "name": "stdout",
     "output_type": "stream",
     "text": [
      "Fold 4 - Epoch 51 ✅ | Train Acc: 20.29% - Train Loss: 2.0595 | Val Acc: 18.47% - Val Loss: 2.2441\n"
     ]
    },
    {
     "name": "stderr",
     "output_type": "stream",
     "text": [
      "Fold 4 | Epoch 52/100: 100%|██████████| 274/274 [00:00<00:00, 408.45it/s]\n"
     ]
    },
    {
     "name": "stdout",
     "output_type": "stream",
     "text": [
      "Fold 4 - Epoch 52 ✅ | Train Acc: 19.92% - Train Loss: 2.0537 | Val Acc: 18.11% - Val Loss: 2.2549\n"
     ]
    },
    {
     "name": "stderr",
     "output_type": "stream",
     "text": [
      "Fold 4 | Epoch 53/100: 100%|██████████| 274/274 [00:00<00:00, 415.35it/s]\n"
     ]
    },
    {
     "name": "stdout",
     "output_type": "stream",
     "text": [
      "Fold 4 - Epoch 53 ✅ | Train Acc: 21.05% - Train Loss: 2.0444 | Val Acc: 19.43% - Val Loss: 2.2450\n"
     ]
    },
    {
     "name": "stderr",
     "output_type": "stream",
     "text": [
      "Fold 4 | Epoch 54/100: 100%|██████████| 274/274 [00:00<00:00, 415.58it/s]\n"
     ]
    },
    {
     "name": "stdout",
     "output_type": "stream",
     "text": [
      "Fold 4 - Epoch 54 ✅ | Train Acc: 19.31% - Train Loss: 2.0459 | Val Acc: 19.94% - Val Loss: 2.2642\n"
     ]
    },
    {
     "name": "stderr",
     "output_type": "stream",
     "text": [
      "Fold 4 | Epoch 55/100: 100%|██████████| 274/274 [00:00<00:00, 415.10it/s]\n"
     ]
    },
    {
     "name": "stdout",
     "output_type": "stream",
     "text": [
      "Fold 4 - Epoch 55 ✅ | Train Acc: 20.38% - Train Loss: 2.0494 | Val Acc: 15.00% - Val Loss: 2.2458\n"
     ]
    },
    {
     "name": "stderr",
     "output_type": "stream",
     "text": [
      "Fold 4 | Epoch 56/100: 100%|██████████| 274/274 [00:00<00:00, 416.58it/s]\n"
     ]
    },
    {
     "name": "stdout",
     "output_type": "stream",
     "text": [
      "Fold 4 - Epoch 56 ✅ | Train Acc: 19.21% - Train Loss: 2.0390 | Val Acc: 16.87% - Val Loss: 2.2682\n"
     ]
    },
    {
     "name": "stderr",
     "output_type": "stream",
     "text": [
      "Fold 4 | Epoch 57/100: 100%|██████████| 274/274 [00:00<00:00, 421.14it/s]\n"
     ]
    },
    {
     "name": "stdout",
     "output_type": "stream",
     "text": [
      "Fold 4 - Epoch 57 ✅ | Train Acc: 20.45% - Train Loss: 2.0332 | Val Acc: 17.19% - Val Loss: 2.2563\n"
     ]
    },
    {
     "name": "stderr",
     "output_type": "stream",
     "text": [
      "Fold 4 | Epoch 58/100: 100%|██████████| 274/274 [00:00<00:00, 411.08it/s]\n"
     ]
    },
    {
     "name": "stdout",
     "output_type": "stream",
     "text": [
      "Fold 4 - Epoch 58 ✅ | Train Acc: 20.48% - Train Loss: 2.0360 | Val Acc: 20.39% - Val Loss: 2.2628\n"
     ]
    },
    {
     "name": "stderr",
     "output_type": "stream",
     "text": [
      "Fold 4 | Epoch 59/100: 100%|██████████| 274/274 [00:00<00:00, 412.24it/s]\n"
     ]
    },
    {
     "name": "stdout",
     "output_type": "stream",
     "text": [
      "Fold 4 - Epoch 59 ✅ | Train Acc: 20.42% - Train Loss: 2.0273 | Val Acc: 18.75% - Val Loss: 2.2610\n"
     ]
    },
    {
     "name": "stderr",
     "output_type": "stream",
     "text": [
      "Fold 4 | Epoch 60/100: 100%|██████████| 274/274 [00:00<00:00, 417.08it/s]\n"
     ]
    },
    {
     "name": "stdout",
     "output_type": "stream",
     "text": [
      "Fold 4 - Epoch 60 ✅ | Train Acc: 19.97% - Train Loss: 2.0207 | Val Acc: 20.12% - Val Loss: 2.2850\n"
     ]
    },
    {
     "name": "stderr",
     "output_type": "stream",
     "text": [
      "Fold 4 | Epoch 61/100: 100%|██████████| 274/274 [00:00<00:00, 422.31it/s]\n"
     ]
    },
    {
     "name": "stdout",
     "output_type": "stream",
     "text": [
      "Fold 4 - Epoch 61 ✅ | Train Acc: 20.80% - Train Loss: 2.0220 | Val Acc: 17.42% - Val Loss: 2.2857\n"
     ]
    },
    {
     "name": "stderr",
     "output_type": "stream",
     "text": [
      "Fold 4 | Epoch 62/100: 100%|██████████| 274/274 [00:00<00:00, 415.24it/s]\n"
     ]
    },
    {
     "name": "stdout",
     "output_type": "stream",
     "text": [
      "Fold 4 - Epoch 62 ✅ | Train Acc: 19.99% - Train Loss: 2.0140 | Val Acc: 16.14% - Val Loss: 2.2868\n"
     ]
    },
    {
     "name": "stderr",
     "output_type": "stream",
     "text": [
      "Fold 4 | Epoch 63/100: 100%|██████████| 274/274 [00:00<00:00, 407.14it/s]\n"
     ]
    },
    {
     "name": "stdout",
     "output_type": "stream",
     "text": [
      "Fold 4 - Epoch 63 ✅ | Train Acc: 19.67% - Train Loss: 2.0085 | Val Acc: 15.55% - Val Loss: 2.2927\n"
     ]
    },
    {
     "name": "stderr",
     "output_type": "stream",
     "text": [
      "Fold 4 | Epoch 64/100: 100%|██████████| 274/274 [00:00<00:00, 394.67it/s]\n"
     ]
    },
    {
     "name": "stdout",
     "output_type": "stream",
     "text": [
      "Fold 4 - Epoch 64 ✅ | Train Acc: 20.74% - Train Loss: 2.0085 | Val Acc: 17.10% - Val Loss: 2.2969\n"
     ]
    },
    {
     "name": "stderr",
     "output_type": "stream",
     "text": [
      "Fold 4 | Epoch 65/100: 100%|██████████| 274/274 [00:00<00:00, 390.69it/s]\n"
     ]
    },
    {
     "name": "stdout",
     "output_type": "stream",
     "text": [
      "Fold 4 - Epoch 65 ✅ | Train Acc: 20.62% - Train Loss: 2.0069 | Val Acc: 18.93% - Val Loss: 2.2892\n"
     ]
    },
    {
     "name": "stderr",
     "output_type": "stream",
     "text": [
      "Fold 4 | Epoch 66/100: 100%|██████████| 274/274 [00:00<00:00, 389.04it/s]\n"
     ]
    },
    {
     "name": "stdout",
     "output_type": "stream",
     "text": [
      "Fold 4 - Epoch 66 ✅ | Train Acc: 19.95% - Train Loss: 2.0080 | Val Acc: 17.06% - Val Loss: 2.2975\n"
     ]
    },
    {
     "name": "stderr",
     "output_type": "stream",
     "text": [
      "Fold 4 | Epoch 67/100: 100%|██████████| 274/274 [00:00<00:00, 395.71it/s]\n"
     ]
    },
    {
     "name": "stdout",
     "output_type": "stream",
     "text": [
      "Fold 4 - Epoch 67 ✅ | Train Acc: 19.94% - Train Loss: 1.9998 | Val Acc: 18.84% - Val Loss: 2.2893\n"
     ]
    },
    {
     "name": "stderr",
     "output_type": "stream",
     "text": [
      "Fold 4 | Epoch 68/100: 100%|██████████| 274/274 [00:00<00:00, 396.85it/s]\n"
     ]
    },
    {
     "name": "stdout",
     "output_type": "stream",
     "text": [
      "Fold 4 - Epoch 68 ✅ | Train Acc: 20.82% - Train Loss: 2.0007 | Val Acc: 19.94% - Val Loss: 2.3074\n"
     ]
    },
    {
     "name": "stderr",
     "output_type": "stream",
     "text": [
      "Fold 4 | Epoch 69/100: 100%|██████████| 274/274 [00:00<00:00, 394.75it/s]\n"
     ]
    },
    {
     "name": "stdout",
     "output_type": "stream",
     "text": [
      "Fold 4 - Epoch 69 ✅ | Train Acc: 21.01% - Train Loss: 1.9948 | Val Acc: 17.24% - Val Loss: 2.3156\n"
     ]
    },
    {
     "name": "stderr",
     "output_type": "stream",
     "text": [
      "Fold 4 | Epoch 70/100: 100%|██████████| 274/274 [00:00<00:00, 393.18it/s]\n"
     ]
    },
    {
     "name": "stdout",
     "output_type": "stream",
     "text": [
      "Fold 4 - Epoch 70 ✅ | Train Acc: 20.43% - Train Loss: 1.9890 | Val Acc: 17.83% - Val Loss: 2.2843\n"
     ]
    },
    {
     "name": "stderr",
     "output_type": "stream",
     "text": [
      "Fold 4 | Epoch 71/100: 100%|██████████| 274/274 [00:00<00:00, 402.91it/s]\n"
     ]
    },
    {
     "name": "stdout",
     "output_type": "stream",
     "text": [
      "Fold 4 - Epoch 71 ✅ | Train Acc: 20.87% - Train Loss: 1.9952 | Val Acc: 16.55% - Val Loss: 2.3001\n"
     ]
    },
    {
     "name": "stderr",
     "output_type": "stream",
     "text": [
      "Fold 4 | Epoch 72/100: 100%|██████████| 274/274 [00:00<00:00, 407.06it/s]\n"
     ]
    },
    {
     "name": "stdout",
     "output_type": "stream",
     "text": [
      "Fold 4 - Epoch 72 ✅ | Train Acc: 20.32% - Train Loss: 1.9977 | Val Acc: 18.75% - Val Loss: 2.3323\n"
     ]
    },
    {
     "name": "stderr",
     "output_type": "stream",
     "text": [
      "Fold 4 | Epoch 73/100: 100%|██████████| 274/274 [00:00<00:00, 405.15it/s]\n"
     ]
    },
    {
     "name": "stdout",
     "output_type": "stream",
     "text": [
      "Fold 4 - Epoch 73 ✅ | Train Acc: 20.40% - Train Loss: 1.9892 | Val Acc: 19.48% - Val Loss: 2.3200\n"
     ]
    },
    {
     "name": "stderr",
     "output_type": "stream",
     "text": [
      "Fold 4 | Epoch 74/100: 100%|██████████| 274/274 [00:00<00:00, 408.55it/s]\n"
     ]
    },
    {
     "name": "stdout",
     "output_type": "stream",
     "text": [
      "Fold 4 - Epoch 74 ✅ | Train Acc: 20.56% - Train Loss: 1.9821 | Val Acc: 17.83% - Val Loss: 2.3162\n"
     ]
    },
    {
     "name": "stderr",
     "output_type": "stream",
     "text": [
      "Fold 4 | Epoch 75/100: 100%|██████████| 274/274 [00:00<00:00, 405.38it/s]\n"
     ]
    },
    {
     "name": "stdout",
     "output_type": "stream",
     "text": [
      "Fold 4 - Epoch 75 ✅ | Train Acc: 20.31% - Train Loss: 1.9802 | Val Acc: 18.75% - Val Loss: 2.3249\n"
     ]
    },
    {
     "name": "stderr",
     "output_type": "stream",
     "text": [
      "Fold 4 | Epoch 76/100: 100%|██████████| 274/274 [00:00<00:00, 398.66it/s]\n"
     ]
    },
    {
     "name": "stdout",
     "output_type": "stream",
     "text": [
      "Fold 4 - Epoch 76 ✅ | Train Acc: 21.53% - Train Loss: 1.9770 | Val Acc: 18.11% - Val Loss: 2.3457\n"
     ]
    },
    {
     "name": "stderr",
     "output_type": "stream",
     "text": [
      "Fold 4 | Epoch 77/100: 100%|██████████| 274/274 [00:00<00:00, 402.55it/s]\n"
     ]
    },
    {
     "name": "stdout",
     "output_type": "stream",
     "text": [
      "Fold 4 - Epoch 77 ✅ | Train Acc: 19.69% - Train Loss: 1.9749 | Val Acc: 17.88% - Val Loss: 2.3669\n"
     ]
    },
    {
     "name": "stderr",
     "output_type": "stream",
     "text": [
      "Fold 4 | Epoch 78/100: 100%|██████████| 274/274 [00:00<00:00, 403.18it/s]\n"
     ]
    },
    {
     "name": "stdout",
     "output_type": "stream",
     "text": [
      "Fold 4 - Epoch 78 ✅ | Train Acc: 20.42% - Train Loss: 1.9849 | Val Acc: 17.38% - Val Loss: 2.3466\n"
     ]
    },
    {
     "name": "stderr",
     "output_type": "stream",
     "text": [
      "Fold 4 | Epoch 79/100: 100%|██████████| 274/274 [00:00<00:00, 402.93it/s]\n"
     ]
    },
    {
     "name": "stdout",
     "output_type": "stream",
     "text": [
      "Fold 4 - Epoch 79 ✅ | Train Acc: 20.43% - Train Loss: 1.9671 | Val Acc: 14.95% - Val Loss: 2.3354\n"
     ]
    },
    {
     "name": "stderr",
     "output_type": "stream",
     "text": [
      "Fold 4 | Epoch 80/100: 100%|██████████| 274/274 [00:00<00:00, 406.74it/s]\n"
     ]
    },
    {
     "name": "stdout",
     "output_type": "stream",
     "text": [
      "Fold 4 - Epoch 80 ✅ | Train Acc: 20.73% - Train Loss: 1.9585 | Val Acc: 16.60% - Val Loss: 2.3266\n"
     ]
    },
    {
     "name": "stderr",
     "output_type": "stream",
     "text": [
      "Fold 4 | Epoch 81/100: 100%|██████████| 274/274 [00:00<00:00, 404.45it/s]\n"
     ]
    },
    {
     "name": "stdout",
     "output_type": "stream",
     "text": [
      "Fold 4 - Epoch 81 ✅ | Train Acc: 20.98% - Train Loss: 1.9521 | Val Acc: 17.97% - Val Loss: 2.3444\n"
     ]
    },
    {
     "name": "stderr",
     "output_type": "stream",
     "text": [
      "Fold 4 | Epoch 82/100: 100%|██████████| 274/274 [00:00<00:00, 405.04it/s]\n"
     ]
    },
    {
     "name": "stdout",
     "output_type": "stream",
     "text": [
      "Fold 4 - Epoch 82 ✅ | Train Acc: 20.77% - Train Loss: 1.9515 | Val Acc: 16.92% - Val Loss: 2.3196\n"
     ]
    },
    {
     "name": "stderr",
     "output_type": "stream",
     "text": [
      "Fold 4 | Epoch 83/100: 100%|██████████| 274/274 [00:00<00:00, 402.61it/s]\n"
     ]
    },
    {
     "name": "stdout",
     "output_type": "stream",
     "text": [
      "Fold 4 - Epoch 83 ✅ | Train Acc: 20.42% - Train Loss: 1.9535 | Val Acc: 17.47% - Val Loss: 2.3355\n"
     ]
    },
    {
     "name": "stderr",
     "output_type": "stream",
     "text": [
      "Fold 4 | Epoch 84/100: 100%|██████████| 274/274 [00:00<00:00, 400.96it/s]\n"
     ]
    },
    {
     "name": "stdout",
     "output_type": "stream",
     "text": [
      "Fold 4 - Epoch 84 ✅ | Train Acc: 21.06% - Train Loss: 1.9516 | Val Acc: 16.83% - Val Loss: 2.3552\n"
     ]
    },
    {
     "name": "stderr",
     "output_type": "stream",
     "text": [
      "Fold 4 | Epoch 85/100: 100%|██████████| 274/274 [00:00<00:00, 398.60it/s]\n"
     ]
    },
    {
     "name": "stdout",
     "output_type": "stream",
     "text": [
      "Fold 4 - Epoch 85 ✅ | Train Acc: 20.81% - Train Loss: 1.9416 | Val Acc: 19.57% - Val Loss: 2.3996\n"
     ]
    },
    {
     "name": "stderr",
     "output_type": "stream",
     "text": [
      "Fold 4 | Epoch 86/100: 100%|██████████| 274/274 [00:00<00:00, 401.36it/s]\n"
     ]
    },
    {
     "name": "stdout",
     "output_type": "stream",
     "text": [
      "Fold 4 - Epoch 86 ✅ | Train Acc: 21.15% - Train Loss: 1.9372 | Val Acc: 17.28% - Val Loss: 2.4020\n"
     ]
    },
    {
     "name": "stderr",
     "output_type": "stream",
     "text": [
      "Fold 4 | Epoch 87/100: 100%|██████████| 274/274 [00:00<00:00, 406.72it/s]\n"
     ]
    },
    {
     "name": "stdout",
     "output_type": "stream",
     "text": [
      "Fold 4 - Epoch 87 ✅ | Train Acc: 20.85% - Train Loss: 1.9347 | Val Acc: 15.78% - Val Loss: 2.3640\n"
     ]
    },
    {
     "name": "stderr",
     "output_type": "stream",
     "text": [
      "Fold 4 | Epoch 88/100: 100%|██████████| 274/274 [00:00<00:00, 405.68it/s]\n"
     ]
    },
    {
     "name": "stdout",
     "output_type": "stream",
     "text": [
      "Fold 4 - Epoch 88 ✅ | Train Acc: 20.67% - Train Loss: 1.9479 | Val Acc: 19.20% - Val Loss: 2.4327\n"
     ]
    },
    {
     "name": "stderr",
     "output_type": "stream",
     "text": [
      "Fold 4 | Epoch 89/100: 100%|██████████| 274/274 [00:00<00:00, 407.40it/s]\n"
     ]
    },
    {
     "name": "stdout",
     "output_type": "stream",
     "text": [
      "Fold 4 - Epoch 89 ✅ | Train Acc: 21.49% - Train Loss: 1.9329 | Val Acc: 17.06% - Val Loss: 2.3887\n"
     ]
    },
    {
     "name": "stderr",
     "output_type": "stream",
     "text": [
      "Fold 4 | Epoch 90/100: 100%|██████████| 274/274 [00:00<00:00, 406.14it/s]\n"
     ]
    },
    {
     "name": "stdout",
     "output_type": "stream",
     "text": [
      "Fold 4 - Epoch 90 ✅ | Train Acc: 20.37% - Train Loss: 1.9383 | Val Acc: 18.52% - Val Loss: 2.4056\n"
     ]
    },
    {
     "name": "stderr",
     "output_type": "stream",
     "text": [
      "Fold 4 | Epoch 91/100: 100%|██████████| 274/274 [00:00<00:00, 408.11it/s]\n"
     ]
    },
    {
     "name": "stdout",
     "output_type": "stream",
     "text": [
      "Fold 4 - Epoch 91 ✅ | Train Acc: 21.07% - Train Loss: 1.9295 | Val Acc: 17.83% - Val Loss: 2.3825\n"
     ]
    },
    {
     "name": "stderr",
     "output_type": "stream",
     "text": [
      "Fold 4 | Epoch 92/100: 100%|██████████| 274/274 [00:00<00:00, 407.58it/s]\n"
     ]
    },
    {
     "name": "stdout",
     "output_type": "stream",
     "text": [
      "Fold 4 - Epoch 92 ✅ | Train Acc: 20.70% - Train Loss: 1.9241 | Val Acc: 19.98% - Val Loss: 2.3987\n"
     ]
    },
    {
     "name": "stderr",
     "output_type": "stream",
     "text": [
      "Fold 4 | Epoch 93/100: 100%|██████████| 274/274 [00:00<00:00, 413.53it/s]\n"
     ]
    },
    {
     "name": "stdout",
     "output_type": "stream",
     "text": [
      "Fold 4 - Epoch 93 ✅ | Train Acc: 21.63% - Train Loss: 1.9319 | Val Acc: 19.57% - Val Loss: 2.4335\n"
     ]
    },
    {
     "name": "stderr",
     "output_type": "stream",
     "text": [
      "Fold 4 | Epoch 94/100: 100%|██████████| 274/274 [00:00<00:00, 412.35it/s]\n"
     ]
    },
    {
     "name": "stdout",
     "output_type": "stream",
     "text": [
      "Fold 4 - Epoch 94 ✅ | Train Acc: 21.67% - Train Loss: 1.9056 | Val Acc: 15.82% - Val Loss: 2.4220\n"
     ]
    },
    {
     "name": "stderr",
     "output_type": "stream",
     "text": [
      "Fold 4 | Epoch 95/100: 100%|██████████| 274/274 [00:00<00:00, 411.38it/s]\n"
     ]
    },
    {
     "name": "stdout",
     "output_type": "stream",
     "text": [
      "Fold 4 - Epoch 95 ✅ | Train Acc: 20.65% - Train Loss: 1.9225 | Val Acc: 19.62% - Val Loss: 2.3991\n"
     ]
    },
    {
     "name": "stderr",
     "output_type": "stream",
     "text": [
      "Fold 4 | Epoch 96/100: 100%|██████████| 274/274 [00:00<00:00, 402.63it/s]\n"
     ]
    },
    {
     "name": "stdout",
     "output_type": "stream",
     "text": [
      "Fold 4 - Epoch 96 ✅ | Train Acc: 21.35% - Train Loss: 1.9176 | Val Acc: 18.98% - Val Loss: 2.4404\n"
     ]
    },
    {
     "name": "stderr",
     "output_type": "stream",
     "text": [
      "Fold 4 | Epoch 97/100: 100%|██████████| 274/274 [00:00<00:00, 408.70it/s]\n"
     ]
    },
    {
     "name": "stdout",
     "output_type": "stream",
     "text": [
      "Fold 4 - Epoch 97 ✅ | Train Acc: 21.07% - Train Loss: 1.9043 | Val Acc: 18.15% - Val Loss: 2.4630\n"
     ]
    },
    {
     "name": "stderr",
     "output_type": "stream",
     "text": [
      "Fold 4 | Epoch 98/100: 100%|██████████| 274/274 [00:00<00:00, 410.59it/s]\n"
     ]
    },
    {
     "name": "stdout",
     "output_type": "stream",
     "text": [
      "Fold 4 - Epoch 98 ✅ | Train Acc: 22.18% - Train Loss: 1.9100 | Val Acc: 17.65% - Val Loss: 2.4788\n"
     ]
    },
    {
     "name": "stderr",
     "output_type": "stream",
     "text": [
      "Fold 4 | Epoch 99/100: 100%|██████████| 274/274 [00:00<00:00, 412.64it/s]\n"
     ]
    },
    {
     "name": "stdout",
     "output_type": "stream",
     "text": [
      "Fold 4 - Epoch 99 ✅ | Train Acc: 21.37% - Train Loss: 1.9238 | Val Acc: 16.96% - Val Loss: 2.4615\n"
     ]
    },
    {
     "name": "stderr",
     "output_type": "stream",
     "text": [
      "Fold 4 | Epoch 100/100: 100%|██████████| 274/274 [00:00<00:00, 411.04it/s]\n"
     ]
    },
    {
     "name": "stdout",
     "output_type": "stream",
     "text": [
      "Fold 4 - Epoch 100 ✅ | Train Acc: 21.77% - Train Loss: 1.8987 | Val Acc: 16.05% - Val Loss: 2.4144\n",
      "\n",
      "📂 Fold 5/5\n"
     ]
    },
    {
     "name": "stderr",
     "output_type": "stream",
     "text": [
      "Fold 5 | Epoch 1/100: 100%|██████████| 274/274 [00:00<00:00, 413.05it/s]\n"
     ]
    },
    {
     "name": "stdout",
     "output_type": "stream",
     "text": [
      "Fold 5 - Epoch 1 ✅ | Train Acc: 17.97% - Train Loss: 2.3012 | Val Acc: 16.42% - Val Loss: 2.2968\n"
     ]
    },
    {
     "name": "stderr",
     "output_type": "stream",
     "text": [
      "Fold 5 | Epoch 2/100: 100%|██████████| 274/274 [00:00<00:00, 413.82it/s]\n"
     ]
    },
    {
     "name": "stdout",
     "output_type": "stream",
     "text": [
      "Fold 5 - Epoch 2 ✅ | Train Acc: 20.95% - Train Loss: 2.2852 | Val Acc: 24.87% - Val Loss: 2.2615\n"
     ]
    },
    {
     "name": "stderr",
     "output_type": "stream",
     "text": [
      "Fold 5 | Epoch 3/100: 100%|██████████| 274/274 [00:00<00:00, 411.61it/s]\n"
     ]
    },
    {
     "name": "stdout",
     "output_type": "stream",
     "text": [
      "Fold 5 - Epoch 3 ✅ | Train Acc: 22.80% - Train Loss: 2.2532 | Val Acc: 22.36% - Val Loss: 2.2391\n"
     ]
    },
    {
     "name": "stderr",
     "output_type": "stream",
     "text": [
      "Fold 5 | Epoch 4/100: 100%|██████████| 274/274 [00:00<00:00, 411.99it/s]\n"
     ]
    },
    {
     "name": "stdout",
     "output_type": "stream",
     "text": [
      "Fold 5 - Epoch 4 ✅ | Train Acc: 26.77% - Train Loss: 2.2470 | Val Acc: 28.76% - Val Loss: 2.2268\n"
     ]
    },
    {
     "name": "stderr",
     "output_type": "stream",
     "text": [
      "Fold 5 | Epoch 5/100: 100%|██████████| 274/274 [00:00<00:00, 415.31it/s]\n"
     ]
    },
    {
     "name": "stdout",
     "output_type": "stream",
     "text": [
      "Fold 5 - Epoch 5 ✅ | Train Acc: 28.03% - Train Loss: 2.2388 | Val Acc: 26.52% - Val Loss: 2.2194\n"
     ]
    },
    {
     "name": "stderr",
     "output_type": "stream",
     "text": [
      "Fold 5 | Epoch 6/100: 100%|██████████| 274/274 [00:00<00:00, 407.95it/s]\n"
     ]
    },
    {
     "name": "stdout",
     "output_type": "stream",
     "text": [
      "Fold 5 - Epoch 6 ✅ | Train Acc: 25.65% - Train Loss: 2.2337 | Val Acc: 29.26% - Val Loss: 2.2186\n"
     ]
    },
    {
     "name": "stderr",
     "output_type": "stream",
     "text": [
      "Fold 5 | Epoch 7/100: 100%|██████████| 274/274 [00:00<00:00, 412.30it/s]\n"
     ]
    },
    {
     "name": "stdout",
     "output_type": "stream",
     "text": [
      "Fold 5 - Epoch 7 ✅ | Train Acc: 24.39% - Train Loss: 2.2287 | Val Acc: 32.14% - Val Loss: 2.2132\n"
     ]
    },
    {
     "name": "stderr",
     "output_type": "stream",
     "text": [
      "Fold 5 | Epoch 8/100: 100%|██████████| 274/274 [00:00<00:00, 415.89it/s]\n"
     ]
    },
    {
     "name": "stdout",
     "output_type": "stream",
     "text": [
      "Fold 5 - Epoch 8 ✅ | Train Acc: 28.06% - Train Loss: 2.2259 | Val Acc: 21.22% - Val Loss: 2.2137\n"
     ]
    },
    {
     "name": "stderr",
     "output_type": "stream",
     "text": [
      "Fold 5 | Epoch 9/100: 100%|██████████| 274/274 [00:00<00:00, 414.02it/s]\n"
     ]
    },
    {
     "name": "stdout",
     "output_type": "stream",
     "text": [
      "Fold 5 - Epoch 9 ✅ | Train Acc: 23.94% - Train Loss: 2.2220 | Val Acc: 28.94% - Val Loss: 2.2224\n"
     ]
    },
    {
     "name": "stderr",
     "output_type": "stream",
     "text": [
      "Fold 5 | Epoch 10/100: 100%|██████████| 274/274 [00:00<00:00, 413.67it/s]\n"
     ]
    },
    {
     "name": "stdout",
     "output_type": "stream",
     "text": [
      "Fold 5 - Epoch 10 ✅ | Train Acc: 26.18% - Train Loss: 2.2161 | Val Acc: 26.06% - Val Loss: 2.2101\n"
     ]
    },
    {
     "name": "stderr",
     "output_type": "stream",
     "text": [
      "Fold 5 | Epoch 11/100: 100%|██████████| 274/274 [00:00<00:00, 413.72it/s]\n"
     ]
    },
    {
     "name": "stdout",
     "output_type": "stream",
     "text": [
      "Fold 5 - Epoch 11 ✅ | Train Acc: 24.13% - Train Loss: 2.2161 | Val Acc: 25.29% - Val Loss: 2.2130\n"
     ]
    },
    {
     "name": "stderr",
     "output_type": "stream",
     "text": [
      "Fold 5 | Epoch 12/100: 100%|██████████| 274/274 [00:00<00:00, 411.20it/s]\n"
     ]
    },
    {
     "name": "stdout",
     "output_type": "stream",
     "text": [
      "Fold 5 - Epoch 12 ✅ | Train Acc: 23.71% - Train Loss: 2.2137 | Val Acc: 26.43% - Val Loss: 2.2142\n"
     ]
    },
    {
     "name": "stderr",
     "output_type": "stream",
     "text": [
      "Fold 5 | Epoch 13/100: 100%|██████████| 274/274 [00:00<00:00, 411.11it/s]\n"
     ]
    },
    {
     "name": "stdout",
     "output_type": "stream",
     "text": [
      "Fold 5 - Epoch 13 ✅ | Train Acc: 24.05% - Train Loss: 2.2052 | Val Acc: 20.90% - Val Loss: 2.2158\n"
     ]
    },
    {
     "name": "stderr",
     "output_type": "stream",
     "text": [
      "Fold 5 | Epoch 14/100: 100%|██████████| 274/274 [00:00<00:00, 411.17it/s]\n"
     ]
    },
    {
     "name": "stdout",
     "output_type": "stream",
     "text": [
      "Fold 5 - Epoch 14 ✅ | Train Acc: 24.00% - Train Loss: 2.1978 | Val Acc: 29.77% - Val Loss: 2.2167\n"
     ]
    },
    {
     "name": "stderr",
     "output_type": "stream",
     "text": [
      "Fold 5 | Epoch 15/100: 100%|██████████| 274/274 [00:00<00:00, 403.26it/s]\n"
     ]
    },
    {
     "name": "stdout",
     "output_type": "stream",
     "text": [
      "Fold 5 - Epoch 15 ✅ | Train Acc: 22.66% - Train Loss: 2.1971 | Val Acc: 23.46% - Val Loss: 2.2063\n"
     ]
    },
    {
     "name": "stderr",
     "output_type": "stream",
     "text": [
      "Fold 5 | Epoch 16/100: 100%|██████████| 274/274 [00:00<00:00, 402.67it/s]\n"
     ]
    },
    {
     "name": "stdout",
     "output_type": "stream",
     "text": [
      "Fold 5 - Epoch 16 ✅ | Train Acc: 23.68% - Train Loss: 2.1919 | Val Acc: 15.50% - Val Loss: 2.2120\n"
     ]
    },
    {
     "name": "stderr",
     "output_type": "stream",
     "text": [
      "Fold 5 | Epoch 17/100: 100%|██████████| 274/274 [00:00<00:00, 411.60it/s]\n"
     ]
    },
    {
     "name": "stdout",
     "output_type": "stream",
     "text": [
      "Fold 5 - Epoch 17 ✅ | Train Acc: 20.71% - Train Loss: 2.1899 | Val Acc: 19.52% - Val Loss: 2.2064\n"
     ]
    },
    {
     "name": "stderr",
     "output_type": "stream",
     "text": [
      "Fold 5 | Epoch 18/100: 100%|██████████| 274/274 [00:00<00:00, 410.98it/s]\n"
     ]
    },
    {
     "name": "stdout",
     "output_type": "stream",
     "text": [
      "Fold 5 - Epoch 18 ✅ | Train Acc: 21.52% - Train Loss: 2.1882 | Val Acc: 15.50% - Val Loss: 2.2123\n"
     ]
    },
    {
     "name": "stderr",
     "output_type": "stream",
     "text": [
      "Fold 5 | Epoch 19/100: 100%|██████████| 274/274 [00:00<00:00, 417.97it/s]\n"
     ]
    },
    {
     "name": "stdout",
     "output_type": "stream",
     "text": [
      "Fold 5 - Epoch 19 ✅ | Train Acc: 22.06% - Train Loss: 2.1832 | Val Acc: 22.45% - Val Loss: 2.2109\n"
     ]
    },
    {
     "name": "stderr",
     "output_type": "stream",
     "text": [
      "Fold 5 | Epoch 20/100: 100%|██████████| 274/274 [00:00<00:00, 407.13it/s]\n"
     ]
    },
    {
     "name": "stdout",
     "output_type": "stream",
     "text": [
      "Fold 5 - Epoch 20 ✅ | Train Acc: 20.40% - Train Loss: 2.1758 | Val Acc: 21.67% - Val Loss: 2.2113\n"
     ]
    },
    {
     "name": "stderr",
     "output_type": "stream",
     "text": [
      "Fold 5 | Epoch 21/100: 100%|██████████| 274/274 [00:00<00:00, 407.66it/s]\n"
     ]
    },
    {
     "name": "stdout",
     "output_type": "stream",
     "text": [
      "Fold 5 - Epoch 21 ✅ | Train Acc: 21.69% - Train Loss: 2.1761 | Val Acc: 25.06% - Val Loss: 2.2057\n"
     ]
    },
    {
     "name": "stderr",
     "output_type": "stream",
     "text": [
      "Fold 5 | Epoch 22/100: 100%|██████████| 274/274 [00:00<00:00, 407.12it/s]\n"
     ]
    },
    {
     "name": "stdout",
     "output_type": "stream",
     "text": [
      "Fold 5 - Epoch 22 ✅ | Train Acc: 21.34% - Train Loss: 2.1646 | Val Acc: 21.99% - Val Loss: 2.2140\n"
     ]
    },
    {
     "name": "stderr",
     "output_type": "stream",
     "text": [
      "Fold 5 | Epoch 23/100: 100%|██████████| 274/274 [00:00<00:00, 406.41it/s]\n"
     ]
    },
    {
     "name": "stdout",
     "output_type": "stream",
     "text": [
      "Fold 5 - Epoch 23 ✅ | Train Acc: 21.11% - Train Loss: 2.1652 | Val Acc: 17.47% - Val Loss: 2.2074\n"
     ]
    },
    {
     "name": "stderr",
     "output_type": "stream",
     "text": [
      "Fold 5 | Epoch 24/100: 100%|██████████| 274/274 [00:00<00:00, 391.51it/s]\n"
     ]
    },
    {
     "name": "stdout",
     "output_type": "stream",
     "text": [
      "Fold 5 - Epoch 24 ✅ | Train Acc: 20.38% - Train Loss: 2.1577 | Val Acc: 24.97% - Val Loss: 2.2092\n"
     ]
    },
    {
     "name": "stderr",
     "output_type": "stream",
     "text": [
      "Fold 5 | Epoch 25/100: 100%|██████████| 274/274 [00:00<00:00, 372.87it/s]\n"
     ]
    },
    {
     "name": "stdout",
     "output_type": "stream",
     "text": [
      "Fold 5 - Epoch 25 ✅ | Train Acc: 19.78% - Train Loss: 2.1552 | Val Acc: 21.31% - Val Loss: 2.2253\n"
     ]
    },
    {
     "name": "stderr",
     "output_type": "stream",
     "text": [
      "Fold 5 | Epoch 26/100: 100%|██████████| 274/274 [00:00<00:00, 387.77it/s]\n"
     ]
    },
    {
     "name": "stdout",
     "output_type": "stream",
     "text": [
      "Fold 5 - Epoch 26 ✅ | Train Acc: 21.06% - Train Loss: 2.1523 | Val Acc: 19.94% - Val Loss: 2.2091\n"
     ]
    },
    {
     "name": "stderr",
     "output_type": "stream",
     "text": [
      "Fold 5 | Epoch 27/100: 100%|██████████| 274/274 [00:00<00:00, 406.52it/s]\n"
     ]
    },
    {
     "name": "stdout",
     "output_type": "stream",
     "text": [
      "Fold 5 - Epoch 27 ✅ | Train Acc: 19.73% - Train Loss: 2.1447 | Val Acc: 18.15% - Val Loss: 2.2107\n"
     ]
    },
    {
     "name": "stderr",
     "output_type": "stream",
     "text": [
      "Fold 5 | Epoch 28/100: 100%|██████████| 274/274 [00:00<00:00, 398.47it/s]\n"
     ]
    },
    {
     "name": "stdout",
     "output_type": "stream",
     "text": [
      "Fold 5 - Epoch 28 ✅ | Train Acc: 20.87% - Train Loss: 2.1440 | Val Acc: 16.83% - Val Loss: 2.2170\n"
     ]
    },
    {
     "name": "stderr",
     "output_type": "stream",
     "text": [
      "Fold 5 | Epoch 29/100: 100%|██████████| 274/274 [00:00<00:00, 407.90it/s]\n"
     ]
    },
    {
     "name": "stdout",
     "output_type": "stream",
     "text": [
      "Fold 5 - Epoch 29 ✅ | Train Acc: 20.45% - Train Loss: 2.1374 | Val Acc: 19.94% - Val Loss: 2.2113\n"
     ]
    },
    {
     "name": "stderr",
     "output_type": "stream",
     "text": [
      "Fold 5 | Epoch 30/100: 100%|██████████| 274/274 [00:00<00:00, 399.40it/s]\n"
     ]
    },
    {
     "name": "stdout",
     "output_type": "stream",
     "text": [
      "Fold 5 - Epoch 30 ✅ | Train Acc: 19.44% - Train Loss: 2.1413 | Val Acc: 25.01% - Val Loss: 2.2109\n"
     ]
    },
    {
     "name": "stderr",
     "output_type": "stream",
     "text": [
      "Fold 5 | Epoch 31/100: 100%|██████████| 274/274 [00:00<00:00, 393.77it/s]\n"
     ]
    },
    {
     "name": "stdout",
     "output_type": "stream",
     "text": [
      "Fold 5 - Epoch 31 ✅ | Train Acc: 21.34% - Train Loss: 2.1328 | Val Acc: 21.72% - Val Loss: 2.2312\n"
     ]
    },
    {
     "name": "stderr",
     "output_type": "stream",
     "text": [
      "Fold 5 | Epoch 32/100: 100%|██████████| 274/274 [00:00<00:00, 402.41it/s]\n"
     ]
    },
    {
     "name": "stdout",
     "output_type": "stream",
     "text": [
      "Fold 5 - Epoch 32 ✅ | Train Acc: 20.59% - Train Loss: 2.1281 | Val Acc: 18.52% - Val Loss: 2.2240\n"
     ]
    },
    {
     "name": "stderr",
     "output_type": "stream",
     "text": [
      "Fold 5 | Epoch 33/100: 100%|██████████| 274/274 [00:00<00:00, 399.82it/s]\n"
     ]
    },
    {
     "name": "stdout",
     "output_type": "stream",
     "text": [
      "Fold 5 - Epoch 33 ✅ | Train Acc: 19.15% - Train Loss: 2.1218 | Val Acc: 20.53% - Val Loss: 2.2490\n"
     ]
    },
    {
     "name": "stderr",
     "output_type": "stream",
     "text": [
      "Fold 5 | Epoch 34/100: 100%|██████████| 274/274 [00:00<00:00, 395.68it/s]\n"
     ]
    },
    {
     "name": "stdout",
     "output_type": "stream",
     "text": [
      "Fold 5 - Epoch 34 ✅ | Train Acc: 19.70% - Train Loss: 2.1153 | Val Acc: 15.41% - Val Loss: 2.2499\n"
     ]
    },
    {
     "name": "stderr",
     "output_type": "stream",
     "text": [
      "Fold 5 | Epoch 35/100: 100%|██████████| 274/274 [00:00<00:00, 391.37it/s]\n"
     ]
    },
    {
     "name": "stdout",
     "output_type": "stream",
     "text": [
      "Fold 5 - Epoch 35 ✅ | Train Acc: 19.95% - Train Loss: 2.1159 | Val Acc: 21.90% - Val Loss: 2.2536\n"
     ]
    },
    {
     "name": "stderr",
     "output_type": "stream",
     "text": [
      "Fold 5 | Epoch 36/100: 100%|██████████| 274/274 [00:00<00:00, 380.27it/s]\n"
     ]
    },
    {
     "name": "stdout",
     "output_type": "stream",
     "text": [
      "Fold 5 - Epoch 36 ✅ | Train Acc: 19.37% - Train Loss: 2.1120 | Val Acc: 20.44% - Val Loss: 2.2283\n"
     ]
    },
    {
     "name": "stderr",
     "output_type": "stream",
     "text": [
      "Fold 5 | Epoch 37/100: 100%|██████████| 274/274 [00:00<00:00, 390.88it/s]\n"
     ]
    },
    {
     "name": "stdout",
     "output_type": "stream",
     "text": [
      "Fold 5 - Epoch 37 ✅ | Train Acc: 19.98% - Train Loss: 2.1133 | Val Acc: 15.23% - Val Loss: 2.2272\n"
     ]
    },
    {
     "name": "stderr",
     "output_type": "stream",
     "text": [
      "Fold 5 | Epoch 38/100: 100%|██████████| 274/274 [00:00<00:00, 392.39it/s]\n"
     ]
    },
    {
     "name": "stdout",
     "output_type": "stream",
     "text": [
      "Fold 5 - Epoch 38 ✅ | Train Acc: 18.35% - Train Loss: 2.1062 | Val Acc: 17.88% - Val Loss: 2.2515\n"
     ]
    },
    {
     "name": "stderr",
     "output_type": "stream",
     "text": [
      "Fold 5 | Epoch 39/100: 100%|██████████| 274/274 [00:00<00:00, 363.26it/s]\n"
     ]
    },
    {
     "name": "stdout",
     "output_type": "stream",
     "text": [
      "Fold 5 - Epoch 39 ✅ | Train Acc: 21.28% - Train Loss: 2.1024 | Val Acc: 17.28% - Val Loss: 2.2287\n"
     ]
    },
    {
     "name": "stderr",
     "output_type": "stream",
     "text": [
      "Fold 5 | Epoch 40/100: 100%|██████████| 274/274 [00:00<00:00, 384.74it/s]\n"
     ]
    },
    {
     "name": "stdout",
     "output_type": "stream",
     "text": [
      "Fold 5 - Epoch 40 ✅ | Train Acc: 18.74% - Train Loss: 2.0927 | Val Acc: 20.99% - Val Loss: 2.2421\n"
     ]
    },
    {
     "name": "stderr",
     "output_type": "stream",
     "text": [
      "Fold 5 | Epoch 41/100: 100%|██████████| 274/274 [00:00<00:00, 390.64it/s]\n"
     ]
    },
    {
     "name": "stdout",
     "output_type": "stream",
     "text": [
      "Fold 5 - Epoch 41 ✅ | Train Acc: 20.88% - Train Loss: 2.0903 | Val Acc: 22.22% - Val Loss: 2.2647\n"
     ]
    },
    {
     "name": "stderr",
     "output_type": "stream",
     "text": [
      "Fold 5 | Epoch 42/100: 100%|██████████| 274/274 [00:00<00:00, 389.22it/s]\n"
     ]
    },
    {
     "name": "stdout",
     "output_type": "stream",
     "text": [
      "Fold 5 - Epoch 42 ✅ | Train Acc: 18.50% - Train Loss: 2.0820 | Val Acc: 23.14% - Val Loss: 2.2812\n"
     ]
    },
    {
     "name": "stderr",
     "output_type": "stream",
     "text": [
      "Fold 5 | Epoch 43/100: 100%|██████████| 274/274 [00:00<00:00, 402.66it/s]\n"
     ]
    },
    {
     "name": "stdout",
     "output_type": "stream",
     "text": [
      "Fold 5 - Epoch 43 ✅ | Train Acc: 20.65% - Train Loss: 2.0823 | Val Acc: 20.71% - Val Loss: 2.2361\n"
     ]
    },
    {
     "name": "stderr",
     "output_type": "stream",
     "text": [
      "Fold 5 | Epoch 44/100: 100%|██████████| 274/274 [00:00<00:00, 402.84it/s]\n"
     ]
    },
    {
     "name": "stdout",
     "output_type": "stream",
     "text": [
      "Fold 5 - Epoch 44 ✅ | Train Acc: 19.49% - Train Loss: 2.0736 | Val Acc: 19.34% - Val Loss: 2.2524\n"
     ]
    },
    {
     "name": "stderr",
     "output_type": "stream",
     "text": [
      "Fold 5 | Epoch 45/100: 100%|██████████| 274/274 [00:00<00:00, 383.12it/s]\n"
     ]
    },
    {
     "name": "stdout",
     "output_type": "stream",
     "text": [
      "Fold 5 - Epoch 45 ✅ | Train Acc: 20.31% - Train Loss: 2.0751 | Val Acc: 14.45% - Val Loss: 2.2427\n"
     ]
    },
    {
     "name": "stderr",
     "output_type": "stream",
     "text": [
      "Fold 5 | Epoch 46/100: 100%|██████████| 274/274 [00:00<00:00, 403.05it/s]\n"
     ]
    },
    {
     "name": "stdout",
     "output_type": "stream",
     "text": [
      "Fold 5 - Epoch 46 ✅ | Train Acc: 19.55% - Train Loss: 2.0654 | Val Acc: 20.35% - Val Loss: 2.2700\n"
     ]
    },
    {
     "name": "stderr",
     "output_type": "stream",
     "text": [
      "Fold 5 | Epoch 47/100: 100%|██████████| 274/274 [00:00<00:00, 406.84it/s]\n"
     ]
    },
    {
     "name": "stdout",
     "output_type": "stream",
     "text": [
      "Fold 5 - Epoch 47 ✅ | Train Acc: 20.06% - Train Loss: 2.0654 | Val Acc: 16.83% - Val Loss: 2.2373\n"
     ]
    },
    {
     "name": "stderr",
     "output_type": "stream",
     "text": [
      "Fold 5 | Epoch 48/100: 100%|██████████| 274/274 [00:00<00:00, 419.69it/s]\n"
     ]
    },
    {
     "name": "stdout",
     "output_type": "stream",
     "text": [
      "Fold 5 - Epoch 48 ✅ | Train Acc: 20.38% - Train Loss: 2.0635 | Val Acc: 19.62% - Val Loss: 2.2613\n"
     ]
    },
    {
     "name": "stderr",
     "output_type": "stream",
     "text": [
      "Fold 5 | Epoch 49/100: 100%|██████████| 274/274 [00:00<00:00, 404.26it/s]\n"
     ]
    },
    {
     "name": "stdout",
     "output_type": "stream",
     "text": [
      "Fold 5 - Epoch 49 ✅ | Train Acc: 18.99% - Train Loss: 2.0620 | Val Acc: 19.20% - Val Loss: 2.2545\n"
     ]
    },
    {
     "name": "stderr",
     "output_type": "stream",
     "text": [
      "Fold 5 | Epoch 50/100: 100%|██████████| 274/274 [00:00<00:00, 410.95it/s]\n"
     ]
    },
    {
     "name": "stdout",
     "output_type": "stream",
     "text": [
      "Fold 5 - Epoch 50 ✅ | Train Acc: 20.67% - Train Loss: 2.0559 | Val Acc: 20.80% - Val Loss: 2.2590\n"
     ]
    },
    {
     "name": "stderr",
     "output_type": "stream",
     "text": [
      "Fold 5 | Epoch 51/100: 100%|██████████| 274/274 [00:00<00:00, 406.53it/s]\n"
     ]
    },
    {
     "name": "stdout",
     "output_type": "stream",
     "text": [
      "Fold 5 - Epoch 51 ✅ | Train Acc: 19.97% - Train Loss: 2.0446 | Val Acc: 19.25% - Val Loss: 2.2611\n"
     ]
    },
    {
     "name": "stderr",
     "output_type": "stream",
     "text": [
      "Fold 5 | Epoch 52/100: 100%|██████████| 274/274 [00:00<00:00, 394.22it/s]\n"
     ]
    },
    {
     "name": "stdout",
     "output_type": "stream",
     "text": [
      "Fold 5 - Epoch 52 ✅ | Train Acc: 20.22% - Train Loss: 2.0540 | Val Acc: 20.26% - Val Loss: 2.2597\n"
     ]
    },
    {
     "name": "stderr",
     "output_type": "stream",
     "text": [
      "Fold 5 | Epoch 53/100: 100%|██████████| 274/274 [00:00<00:00, 406.59it/s]\n"
     ]
    },
    {
     "name": "stdout",
     "output_type": "stream",
     "text": [
      "Fold 5 - Epoch 53 ✅ | Train Acc: 20.94% - Train Loss: 2.0351 | Val Acc: 19.02% - Val Loss: 2.2788\n"
     ]
    },
    {
     "name": "stderr",
     "output_type": "stream",
     "text": [
      "Fold 5 | Epoch 54/100: 100%|██████████| 274/274 [00:00<00:00, 398.59it/s]\n"
     ]
    },
    {
     "name": "stdout",
     "output_type": "stream",
     "text": [
      "Fold 5 - Epoch 54 ✅ | Train Acc: 20.18% - Train Loss: 2.0423 | Val Acc: 19.52% - Val Loss: 2.2925\n"
     ]
    },
    {
     "name": "stderr",
     "output_type": "stream",
     "text": [
      "Fold 5 | Epoch 55/100: 100%|██████████| 274/274 [00:00<00:00, 410.24it/s]\n"
     ]
    },
    {
     "name": "stdout",
     "output_type": "stream",
     "text": [
      "Fold 5 - Epoch 55 ✅ | Train Acc: 21.09% - Train Loss: 2.0353 | Val Acc: 18.29% - Val Loss: 2.2676\n"
     ]
    },
    {
     "name": "stderr",
     "output_type": "stream",
     "text": [
      "Fold 5 | Epoch 56/100: 100%|██████████| 274/274 [00:00<00:00, 411.51it/s]\n"
     ]
    },
    {
     "name": "stdout",
     "output_type": "stream",
     "text": [
      "Fold 5 - Epoch 56 ✅ | Train Acc: 19.99% - Train Loss: 2.0350 | Val Acc: 20.16% - Val Loss: 2.3053\n"
     ]
    },
    {
     "name": "stderr",
     "output_type": "stream",
     "text": [
      "Fold 5 | Epoch 57/100: 100%|██████████| 274/274 [00:00<00:00, 394.27it/s]\n"
     ]
    },
    {
     "name": "stdout",
     "output_type": "stream",
     "text": [
      "Fold 5 - Epoch 57 ✅ | Train Acc: 19.37% - Train Loss: 2.0293 | Val Acc: 18.84% - Val Loss: 2.2883\n"
     ]
    },
    {
     "name": "stderr",
     "output_type": "stream",
     "text": [
      "Fold 5 | Epoch 58/100: 100%|██████████| 274/274 [00:00<00:00, 410.02it/s]\n"
     ]
    },
    {
     "name": "stdout",
     "output_type": "stream",
     "text": [
      "Fold 5 - Epoch 58 ✅ | Train Acc: 20.57% - Train Loss: 2.0259 | Val Acc: 17.24% - Val Loss: 2.2959\n"
     ]
    },
    {
     "name": "stderr",
     "output_type": "stream",
     "text": [
      "Fold 5 | Epoch 59/100: 100%|██████████| 274/274 [00:00<00:00, 401.72it/s]\n"
     ]
    },
    {
     "name": "stdout",
     "output_type": "stream",
     "text": [
      "Fold 5 - Epoch 59 ✅ | Train Acc: 20.01% - Train Loss: 2.0221 | Val Acc: 17.70% - Val Loss: 2.2834\n"
     ]
    },
    {
     "name": "stderr",
     "output_type": "stream",
     "text": [
      "Fold 5 | Epoch 60/100: 100%|██████████| 274/274 [00:00<00:00, 413.95it/s]\n"
     ]
    },
    {
     "name": "stdout",
     "output_type": "stream",
     "text": [
      "Fold 5 - Epoch 60 ✅ | Train Acc: 20.00% - Train Loss: 2.0172 | Val Acc: 19.25% - Val Loss: 2.2969\n"
     ]
    },
    {
     "name": "stderr",
     "output_type": "stream",
     "text": [
      "Fold 5 | Epoch 61/100: 100%|██████████| 274/274 [00:00<00:00, 398.62it/s]\n"
     ]
    },
    {
     "name": "stdout",
     "output_type": "stream",
     "text": [
      "Fold 5 - Epoch 61 ✅ | Train Acc: 20.90% - Train Loss: 2.0158 | Val Acc: 18.02% - Val Loss: 2.3132\n"
     ]
    },
    {
     "name": "stderr",
     "output_type": "stream",
     "text": [
      "Fold 5 | Epoch 62/100: 100%|██████████| 274/274 [00:00<00:00, 410.77it/s]\n"
     ]
    },
    {
     "name": "stdout",
     "output_type": "stream",
     "text": [
      "Fold 5 - Epoch 62 ✅ | Train Acc: 20.81% - Train Loss: 2.0032 | Val Acc: 21.99% - Val Loss: 2.3231\n"
     ]
    },
    {
     "name": "stderr",
     "output_type": "stream",
     "text": [
      "Fold 5 | Epoch 63/100: 100%|██████████| 274/274 [00:00<00:00, 412.80it/s]\n"
     ]
    },
    {
     "name": "stdout",
     "output_type": "stream",
     "text": [
      "Fold 5 - Epoch 63 ✅ | Train Acc: 20.83% - Train Loss: 2.0036 | Val Acc: 20.80% - Val Loss: 2.3158\n"
     ]
    },
    {
     "name": "stderr",
     "output_type": "stream",
     "text": [
      "Fold 5 | Epoch 64/100: 100%|██████████| 274/274 [00:00<00:00, 408.90it/s]\n"
     ]
    },
    {
     "name": "stdout",
     "output_type": "stream",
     "text": [
      "Fold 5 - Epoch 64 ✅ | Train Acc: 21.23% - Train Loss: 2.0059 | Val Acc: 14.04% - Val Loss: 2.2661\n"
     ]
    },
    {
     "name": "stderr",
     "output_type": "stream",
     "text": [
      "Fold 5 | Epoch 65/100: 100%|██████████| 274/274 [00:00<00:00, 412.73it/s]\n"
     ]
    },
    {
     "name": "stdout",
     "output_type": "stream",
     "text": [
      "Fold 5 - Epoch 65 ✅ | Train Acc: 20.33% - Train Loss: 2.0048 | Val Acc: 17.79% - Val Loss: 2.3361\n"
     ]
    },
    {
     "name": "stderr",
     "output_type": "stream",
     "text": [
      "Fold 5 | Epoch 66/100: 100%|██████████| 274/274 [00:00<00:00, 405.28it/s]\n"
     ]
    },
    {
     "name": "stdout",
     "output_type": "stream",
     "text": [
      "Fold 5 - Epoch 66 ✅ | Train Acc: 20.58% - Train Loss: 2.0007 | Val Acc: 18.29% - Val Loss: 2.3015\n"
     ]
    },
    {
     "name": "stderr",
     "output_type": "stream",
     "text": [
      "Fold 5 | Epoch 67/100: 100%|██████████| 274/274 [00:00<00:00, 412.69it/s]\n"
     ]
    },
    {
     "name": "stdout",
     "output_type": "stream",
     "text": [
      "Fold 5 - Epoch 67 ✅ | Train Acc: 20.27% - Train Loss: 1.9875 | Val Acc: 19.11% - Val Loss: 2.3241\n"
     ]
    },
    {
     "name": "stderr",
     "output_type": "stream",
     "text": [
      "Fold 5 | Epoch 68/100: 100%|██████████| 274/274 [00:00<00:00, 405.95it/s]\n"
     ]
    },
    {
     "name": "stdout",
     "output_type": "stream",
     "text": [
      "Fold 5 - Epoch 68 ✅ | Train Acc: 20.97% - Train Loss: 2.0001 | Val Acc: 18.79% - Val Loss: 2.3348\n"
     ]
    },
    {
     "name": "stderr",
     "output_type": "stream",
     "text": [
      "Fold 5 | Epoch 69/100: 100%|██████████| 274/274 [00:00<00:00, 415.13it/s]\n"
     ]
    },
    {
     "name": "stdout",
     "output_type": "stream",
     "text": [
      "Fold 5 - Epoch 69 ✅ | Train Acc: 20.62% - Train Loss: 1.9890 | Val Acc: 18.02% - Val Loss: 2.3424\n"
     ]
    },
    {
     "name": "stderr",
     "output_type": "stream",
     "text": [
      "Fold 5 | Epoch 70/100: 100%|██████████| 274/274 [00:00<00:00, 410.77it/s]\n"
     ]
    },
    {
     "name": "stdout",
     "output_type": "stream",
     "text": [
      "Fold 5 - Epoch 70 ✅ | Train Acc: 21.10% - Train Loss: 1.9752 | Val Acc: 19.57% - Val Loss: 2.3440\n"
     ]
    },
    {
     "name": "stderr",
     "output_type": "stream",
     "text": [
      "Fold 5 | Epoch 71/100: 100%|██████████| 274/274 [00:00<00:00, 394.93it/s]\n"
     ]
    },
    {
     "name": "stdout",
     "output_type": "stream",
     "text": [
      "Fold 5 - Epoch 71 ✅ | Train Acc: 21.52% - Train Loss: 1.9675 | Val Acc: 19.25% - Val Loss: 2.4355\n"
     ]
    },
    {
     "name": "stderr",
     "output_type": "stream",
     "text": [
      "Fold 5 | Epoch 72/100: 100%|██████████| 274/274 [00:00<00:00, 411.12it/s]\n"
     ]
    },
    {
     "name": "stdout",
     "output_type": "stream",
     "text": [
      "Fold 5 - Epoch 72 ✅ | Train Acc: 20.50% - Train Loss: 1.9766 | Val Acc: 18.52% - Val Loss: 2.3325\n"
     ]
    },
    {
     "name": "stderr",
     "output_type": "stream",
     "text": [
      "Fold 5 | Epoch 73/100: 100%|██████████| 274/274 [00:00<00:00, 410.96it/s]\n"
     ]
    },
    {
     "name": "stdout",
     "output_type": "stream",
     "text": [
      "Fold 5 - Epoch 73 ✅ | Train Acc: 20.59% - Train Loss: 1.9677 | Val Acc: 22.45% - Val Loss: 2.3571\n"
     ]
    },
    {
     "name": "stderr",
     "output_type": "stream",
     "text": [
      "Fold 5 | Epoch 74/100: 100%|██████████| 274/274 [00:00<00:00, 411.03it/s]\n"
     ]
    },
    {
     "name": "stdout",
     "output_type": "stream",
     "text": [
      "Fold 5 - Epoch 74 ✅ | Train Acc: 21.78% - Train Loss: 1.9667 | Val Acc: 15.87% - Val Loss: 2.3537\n"
     ]
    },
    {
     "name": "stderr",
     "output_type": "stream",
     "text": [
      "Fold 5 | Epoch 75/100: 100%|██████████| 274/274 [00:00<00:00, 408.37it/s]\n"
     ]
    },
    {
     "name": "stdout",
     "output_type": "stream",
     "text": [
      "Fold 5 - Epoch 75 ✅ | Train Acc: 20.51% - Train Loss: 1.9659 | Val Acc: 19.84% - Val Loss: 2.3481\n"
     ]
    },
    {
     "name": "stderr",
     "output_type": "stream",
     "text": [
      "Fold 5 | Epoch 76/100: 100%|██████████| 274/274 [00:00<00:00, 419.75it/s]\n"
     ]
    },
    {
     "name": "stdout",
     "output_type": "stream",
     "text": [
      "Fold 5 - Epoch 76 ✅ | Train Acc: 21.15% - Train Loss: 1.9615 | Val Acc: 18.34% - Val Loss: 2.3983\n"
     ]
    },
    {
     "name": "stderr",
     "output_type": "stream",
     "text": [
      "Fold 5 | Epoch 77/100: 100%|██████████| 274/274 [00:00<00:00, 415.27it/s]\n"
     ]
    },
    {
     "name": "stdout",
     "output_type": "stream",
     "text": [
      "Fold 5 - Epoch 77 ✅ | Train Acc: 21.69% - Train Loss: 1.9614 | Val Acc: 16.10% - Val Loss: 2.3174\n"
     ]
    },
    {
     "name": "stderr",
     "output_type": "stream",
     "text": [
      "Fold 5 | Epoch 78/100: 100%|██████████| 274/274 [00:00<00:00, 413.44it/s]\n"
     ]
    },
    {
     "name": "stdout",
     "output_type": "stream",
     "text": [
      "Fold 5 - Epoch 78 ✅ | Train Acc: 20.78% - Train Loss: 1.9555 | Val Acc: 19.20% - Val Loss: 2.3771\n"
     ]
    },
    {
     "name": "stderr",
     "output_type": "stream",
     "text": [
      "Fold 5 | Epoch 79/100: 100%|██████████| 274/274 [00:00<00:00, 412.26it/s]\n"
     ]
    },
    {
     "name": "stdout",
     "output_type": "stream",
     "text": [
      "Fold 5 - Epoch 79 ✅ | Train Acc: 20.98% - Train Loss: 1.9455 | Val Acc: 19.20% - Val Loss: 2.4385\n"
     ]
    },
    {
     "name": "stderr",
     "output_type": "stream",
     "text": [
      "Fold 5 | Epoch 80/100: 100%|██████████| 274/274 [00:00<00:00, 415.89it/s]\n"
     ]
    },
    {
     "name": "stdout",
     "output_type": "stream",
     "text": [
      "Fold 5 - Epoch 80 ✅ | Train Acc: 21.14% - Train Loss: 1.9581 | Val Acc: 16.28% - Val Loss: 2.3192\n"
     ]
    },
    {
     "name": "stderr",
     "output_type": "stream",
     "text": [
      "Fold 5 | Epoch 81/100: 100%|██████████| 274/274 [00:00<00:00, 410.80it/s]\n"
     ]
    },
    {
     "name": "stdout",
     "output_type": "stream",
     "text": [
      "Fold 5 - Epoch 81 ✅ | Train Acc: 20.89% - Train Loss: 1.9450 | Val Acc: 17.42% - Val Loss: 2.3649\n"
     ]
    },
    {
     "name": "stderr",
     "output_type": "stream",
     "text": [
      "Fold 5 | Epoch 82/100: 100%|██████████| 274/274 [00:00<00:00, 408.93it/s]\n"
     ]
    },
    {
     "name": "stdout",
     "output_type": "stream",
     "text": [
      "Fold 5 - Epoch 82 ✅ | Train Acc: 21.03% - Train Loss: 1.9422 | Val Acc: 21.81% - Val Loss: 2.3788\n"
     ]
    },
    {
     "name": "stderr",
     "output_type": "stream",
     "text": [
      "Fold 5 | Epoch 83/100: 100%|██████████| 274/274 [00:00<00:00, 410.91it/s]\n"
     ]
    },
    {
     "name": "stdout",
     "output_type": "stream",
     "text": [
      "Fold 5 - Epoch 83 ✅ | Train Acc: 21.82% - Train Loss: 1.9381 | Val Acc: 18.84% - Val Loss: 2.3756\n"
     ]
    },
    {
     "name": "stderr",
     "output_type": "stream",
     "text": [
      "Fold 5 | Epoch 84/100: 100%|██████████| 274/274 [00:00<00:00, 414.69it/s]\n"
     ]
    },
    {
     "name": "stdout",
     "output_type": "stream",
     "text": [
      "Fold 5 - Epoch 84 ✅ | Train Acc: 21.26% - Train Loss: 1.9419 | Val Acc: 18.93% - Val Loss: 2.4254\n"
     ]
    },
    {
     "name": "stderr",
     "output_type": "stream",
     "text": [
      "Fold 5 | Epoch 85/100: 100%|██████████| 274/274 [00:00<00:00, 414.70it/s]\n"
     ]
    },
    {
     "name": "stdout",
     "output_type": "stream",
     "text": [
      "Fold 5 - Epoch 85 ✅ | Train Acc: 21.74% - Train Loss: 1.9321 | Val Acc: 19.48% - Val Loss: 2.4692\n"
     ]
    },
    {
     "name": "stderr",
     "output_type": "stream",
     "text": [
      "Fold 5 | Epoch 86/100: 100%|██████████| 274/274 [00:00<00:00, 419.88it/s]\n"
     ]
    },
    {
     "name": "stdout",
     "output_type": "stream",
     "text": [
      "Fold 5 - Epoch 86 ✅ | Train Acc: 21.52% - Train Loss: 1.9333 | Val Acc: 19.48% - Val Loss: 2.4188\n"
     ]
    },
    {
     "name": "stderr",
     "output_type": "stream",
     "text": [
      "Fold 5 | Epoch 87/100: 100%|██████████| 274/274 [00:00<00:00, 419.44it/s]\n"
     ]
    },
    {
     "name": "stdout",
     "output_type": "stream",
     "text": [
      "Fold 5 - Epoch 87 ✅ | Train Acc: 22.03% - Train Loss: 1.9295 | Val Acc: 18.24% - Val Loss: 2.3650\n"
     ]
    },
    {
     "name": "stderr",
     "output_type": "stream",
     "text": [
      "Fold 5 | Epoch 88/100: 100%|██████████| 274/274 [00:00<00:00, 416.68it/s]\n"
     ]
    },
    {
     "name": "stdout",
     "output_type": "stream",
     "text": [
      "Fold 5 - Epoch 88 ✅ | Train Acc: 21.35% - Train Loss: 1.9263 | Val Acc: 19.52% - Val Loss: 2.3811\n"
     ]
    },
    {
     "name": "stderr",
     "output_type": "stream",
     "text": [
      "Fold 5 | Epoch 89/100: 100%|██████████| 274/274 [00:00<00:00, 415.23it/s]\n"
     ]
    },
    {
     "name": "stdout",
     "output_type": "stream",
     "text": [
      "Fold 5 - Epoch 89 ✅ | Train Acc: 22.47% - Train Loss: 1.9204 | Val Acc: 18.20% - Val Loss: 2.4029\n"
     ]
    },
    {
     "name": "stderr",
     "output_type": "stream",
     "text": [
      "Fold 5 | Epoch 90/100: 100%|██████████| 274/274 [00:00<00:00, 402.64it/s]\n"
     ]
    },
    {
     "name": "stdout",
     "output_type": "stream",
     "text": [
      "Fold 5 - Epoch 90 ✅ | Train Acc: 22.43% - Train Loss: 1.9098 | Val Acc: 17.74% - Val Loss: 2.4006\n"
     ]
    },
    {
     "name": "stderr",
     "output_type": "stream",
     "text": [
      "Fold 5 | Epoch 91/100: 100%|██████████| 274/274 [00:00<00:00, 407.83it/s]\n"
     ]
    },
    {
     "name": "stdout",
     "output_type": "stream",
     "text": [
      "Fold 5 - Epoch 91 ✅ | Train Acc: 21.83% - Train Loss: 1.9169 | Val Acc: 19.80% - Val Loss: 2.4400\n"
     ]
    },
    {
     "name": "stderr",
     "output_type": "stream",
     "text": [
      "Fold 5 | Epoch 92/100: 100%|██████████| 274/274 [00:00<00:00, 409.53it/s]\n"
     ]
    },
    {
     "name": "stdout",
     "output_type": "stream",
     "text": [
      "Fold 5 - Epoch 92 ✅ | Train Acc: 21.76% - Train Loss: 1.9148 | Val Acc: 16.83% - Val Loss: 2.3971\n"
     ]
    },
    {
     "name": "stderr",
     "output_type": "stream",
     "text": [
      "Fold 5 | Epoch 93/100: 100%|██████████| 274/274 [00:00<00:00, 415.28it/s]\n"
     ]
    },
    {
     "name": "stdout",
     "output_type": "stream",
     "text": [
      "Fold 5 - Epoch 93 ✅ | Train Acc: 21.23% - Train Loss: 1.9099 | Val Acc: 20.62% - Val Loss: 2.4196\n"
     ]
    },
    {
     "name": "stderr",
     "output_type": "stream",
     "text": [
      "Fold 5 | Epoch 94/100: 100%|██████████| 274/274 [00:00<00:00, 406.97it/s]\n"
     ]
    },
    {
     "name": "stdout",
     "output_type": "stream",
     "text": [
      "Fold 5 - Epoch 94 ✅ | Train Acc: 22.24% - Train Loss: 1.8978 | Val Acc: 20.99% - Val Loss: 2.4517\n"
     ]
    },
    {
     "name": "stderr",
     "output_type": "stream",
     "text": [
      "Fold 5 | Epoch 95/100: 100%|██████████| 274/274 [00:00<00:00, 409.31it/s]\n"
     ]
    },
    {
     "name": "stdout",
     "output_type": "stream",
     "text": [
      "Fold 5 - Epoch 95 ✅ | Train Acc: 22.94% - Train Loss: 1.8982 | Val Acc: 18.15% - Val Loss: 2.4490\n"
     ]
    },
    {
     "name": "stderr",
     "output_type": "stream",
     "text": [
      "Fold 5 | Epoch 96/100: 100%|██████████| 274/274 [00:00<00:00, 408.47it/s]\n"
     ]
    },
    {
     "name": "stdout",
     "output_type": "stream",
     "text": [
      "Fold 5 - Epoch 96 ✅ | Train Acc: 21.75% - Train Loss: 1.8886 | Val Acc: 18.98% - Val Loss: 2.4991\n"
     ]
    },
    {
     "name": "stderr",
     "output_type": "stream",
     "text": [
      "Fold 5 | Epoch 97/100: 100%|██████████| 274/274 [00:00<00:00, 412.80it/s]\n"
     ]
    },
    {
     "name": "stdout",
     "output_type": "stream",
     "text": [
      "Fold 5 - Epoch 97 ✅ | Train Acc: 22.35% - Train Loss: 1.8891 | Val Acc: 18.70% - Val Loss: 2.5581\n"
     ]
    },
    {
     "name": "stderr",
     "output_type": "stream",
     "text": [
      "Fold 5 | Epoch 98/100: 100%|██████████| 274/274 [00:00<00:00, 410.80it/s]\n"
     ]
    },
    {
     "name": "stdout",
     "output_type": "stream",
     "text": [
      "Fold 5 - Epoch 98 ✅ | Train Acc: 22.22% - Train Loss: 1.8961 | Val Acc: 17.74% - Val Loss: 2.4145\n"
     ]
    },
    {
     "name": "stderr",
     "output_type": "stream",
     "text": [
      "Fold 5 | Epoch 99/100: 100%|██████████| 274/274 [00:00<00:00, 409.44it/s]\n"
     ]
    },
    {
     "name": "stdout",
     "output_type": "stream",
     "text": [
      "Fold 5 - Epoch 99 ✅ | Train Acc: 21.18% - Train Loss: 1.8985 | Val Acc: 19.62% - Val Loss: 2.5048\n"
     ]
    },
    {
     "name": "stderr",
     "output_type": "stream",
     "text": [
      "Fold 5 | Epoch 100/100: 100%|██████████| 274/274 [00:00<00:00, 409.68it/s]\n"
     ]
    },
    {
     "name": "stdout",
     "output_type": "stream",
     "text": [
      "Fold 5 - Epoch 100 ✅ | Train Acc: 21.63% - Train Loss: 1.8934 | Val Acc: 18.61% - Val Loss: 2.5368\n",
      "\n",
      "RESULTADOS:\n",
      "-> Mean Train Accuracy: 21.6924%\n",
      "-> Mean Train Loss: 1.8964\n",
      "-> Mean Validation Accuracy: 17.6098%\n",
      "-> Mean Validation Loss: 2.4761\n"
     ]
    }
   ],
   "source": [
    "train_dataset = TensorDataset(X_train, y_train)\n",
    "kfold = KFold(n_splits=k_folds, shuffle=True, random_state=42)\n",
    "\n",
    "fold_train_acc = []\n",
    "fold_train_loss = []\n",
    "fold_val_acc = []\n",
    "fold_val_loss = []\n",
    "\n",
    "best_val_acc = 0\n",
    "best_epoch_train_acc = []\n",
    "best_epoch_val_acc = []\n",
    "best_epoch_train_loss = []\n",
    "best_epoch_val_loss = []\n",
    "\n",
    "for fold, (train_idx, val_idx) in enumerate(kfold.split(train_dataset)):\n",
    "\n",
    "    epoch_train_acc = []\n",
    "    epoch_val_acc = []\n",
    "    epoch_train_loss = []\n",
    "    epoch_val_loss = []\n",
    "\n",
    "    print(f\"\\n📂 Fold {fold+1}/{k_folds}\")\n",
    "\n",
    "    train_subset = Subset(train_dataset, train_idx)\n",
    "    val_subset = Subset(train_dataset, val_idx)\n",
    "\n",
    "    train_loader = DataLoader(train_subset, batch_size=batch_size, shuffle=True)\n",
    "    val_loader = DataLoader(val_subset, batch_size=batch_size, shuffle=False)\n",
    "\n",
    "    model = CNN1D(num_classes=num_classes).to(device)\n",
    "\n",
    "    #Pesos inversamente proporcionales a la frecuencia de las clases\n",
    "    label_counts = Counter(y_train.cpu().numpy())\n",
    "    total_count = sum(label_counts.values())\n",
    "    weights = [total_count / (num_classes * label_counts[label]) for label in range(len(label_counts))]\n",
    "\n",
    "    criterion = nn.CrossEntropyLoss(weight=torch.tensor(weights).to(device))\n",
    "    optimizer = optim.Adam(model.parameters(), lr=0.001)\n",
    "\n",
    "    for epoch in range(num_epochs):\n",
    "        model.train()\n",
    "        train_loss = 0\n",
    "        correct_train = 0\n",
    "        total_train = 0\n",
    "\n",
    "        for inputs, labels in tqdm(train_loader, desc=f\"Fold {fold+1} | Epoch {epoch+1}/{num_epochs}\"):\n",
    "            inputs, labels = inputs.to(device), labels.to(device)\n",
    "            optimizer.zero_grad()\n",
    "            outputs = model(inputs)\n",
    "            loss = criterion(outputs, labels)\n",
    "            loss.backward()\n",
    "            optimizer.step()\n",
    "\n",
    "            _, predicted = torch.max(outputs, 1)\n",
    "            correct_train += (predicted == labels).sum().item()\n",
    "            total_train += labels.size(0)\n",
    "            train_loss += loss.item()\n",
    "\n",
    "        avg_train_loss = train_loss / len(train_loader)\n",
    "        train_acc = 100 * correct_train / total_train\n",
    "\n",
    "        model.eval()\n",
    "        val_loss = 0\n",
    "        correct_val = 0\n",
    "        total_val = 0\n",
    "        with torch.no_grad():\n",
    "            for inputs, labels in val_loader:\n",
    "                inputs, labels = inputs.to(device), labels.to(device)\n",
    "                outputs = model(inputs)\n",
    "                loss = criterion(outputs, labels)\n",
    "                _, predicted = torch.max(outputs, 1)\n",
    "                correct_val += (predicted == labels).sum().item()\n",
    "                total_val += labels.size(0)\n",
    "                val_loss += loss.item()\n",
    "\n",
    "        avg_val_loss = val_loss / len(val_loader)\n",
    "        val_acc = 100 * correct_val / total_val\n",
    "\n",
    "        epoch_train_acc.append(train_acc)\n",
    "        epoch_val_acc.append(val_acc)\n",
    "        epoch_train_loss.append(avg_train_loss)\n",
    "        epoch_val_loss.append(avg_val_loss)\n",
    "\n",
    "        print(f\"Fold {fold+1} - Epoch {epoch+1} ✅ | Train Acc: {train_acc:.2f}% - Train Loss: {avg_train_loss:.4f} | Val Acc: {val_acc:.2f}% - Val Loss: {avg_val_loss:.4f}\")\n",
    "\n",
    "    fold_train_acc.append(train_acc)\n",
    "    fold_val_acc.append(val_acc)\n",
    "    fold_train_loss.append(avg_train_loss)\n",
    "    fold_val_loss.append(avg_val_loss)\n",
    "\n",
    "    if val_acc > best_val_acc:\n",
    "        best_val_acc = val_acc\n",
    "        save_path = \"./Modelos/v5/representacion_1/longitud_8\"\n",
    "        os.makedirs(save_path, exist_ok=True)\n",
    "        torch.save(model.state_dict(), f\"{save_path}/CNN1D_fold_{fold+1}.pth\")\n",
    "        best_epoch_train_acc = epoch_train_acc.copy()\n",
    "        best_epoch_val_acc = epoch_val_acc.copy()\n",
    "        best_epoch_train_loss = epoch_train_loss.copy()\n",
    "        best_epoch_val_loss = epoch_val_loss.copy()\n",
    "\n",
    "print(\"\\nRESULTADOS:\")\n",
    "print(f\"-> Mean Train Accuracy: {np.mean(fold_train_acc):.4f}%\")\n",
    "print(f\"-> Mean Train Loss: {np.mean(fold_train_loss):.4f}\")\n",
    "print(f\"-> Mean Validation Accuracy: {np.mean(fold_val_acc):.4f}%\")\n",
    "print(f\"-> Mean Validation Loss: {np.mean(fold_val_loss):.4f}\")"
   ]
  },
  {
   "cell_type": "markdown",
   "metadata": {},
   "source": [
    "***Graficar los resultados del entrenamiento :***"
   ]
  },
  {
   "cell_type": "code",
   "execution_count": 8,
   "metadata": {},
   "outputs": [
    {
     "data": {
      "image/png": "[encoded data removed]",
      "text/plain": [
       "<Figure size 1000x500 with 2 Axes>"
      ]
     },
     "metadata": {},
     "output_type": "display_data"
    }
   ],
   "source": [
    "plt.figure(figsize=(10, 5))\n",
    "\n",
    "plt.subplot(1, 2, 1)\n",
    "plt.plot(range(1, num_epochs + 1), best_epoch_train_acc, label=\"Train Accuracy\")\n",
    "plt.plot(range(1, num_epochs + 1), best_epoch_val_acc, label=\"Validation Accuracy\")\n",
    "plt.xlabel(\"Epochs\")\n",
    "plt.ylabel(\"Accuracy (%)\")\n",
    "plt.legend()\n",
    "plt.grid()\n",
    "\n",
    "plt.subplot(1, 2, 2)\n",
    "plt.plot(range(1, num_epochs + 1), best_epoch_train_loss, label=\"Train Loss\")\n",
    "plt.plot(range(1, num_epochs + 1), best_epoch_val_loss, label=\"Validation Loss\")\n",
    "plt.xlabel(\"Epochs\")\n",
    "plt.ylabel(\"Loss\")\n",
    "plt.legend()\n",
    "plt.grid()\n",
    "\n",
    "plt.tight_layout()\n",
    "plt.savefig(f'./Graficas_entrenamiento/v5/representacion_1/longitud_8/CNN1D.png')\n",
    "plt.show()"
   ]
  },
  {
   "cell_type": "markdown",
   "metadata": {},
   "source": [
    "***Cargar el modelo :***"
   ]
  },
  {
   "cell_type": "code",
   "execution_count": 9,
   "metadata": {},
   "outputs": [
    {
     "data": {
      "text/plain": [
       "CNN1D(\n",
       "  (conv1): Conv1d(1, 32, kernel_size=(3,), stride=(1,), padding=(1,))\n",
       "  (pool): MaxPool1d(kernel_size=2, stride=2, padding=0, dilation=1, ceil_mode=False)\n",
       "  (conv2): Conv1d(32, 64, kernel_size=(3,), stride=(1,), padding=(1,))\n",
       "  (fc1): Linear(in_features=64, out_features=128, bias=True)\n",
       "  (dropout): Dropout(p=0.3, inplace=False)\n",
       "  (fc2): Linear(in_features=128, out_features=10, bias=True)\n",
       ")"
      ]
     },
     "execution_count": 9,
     "metadata": {},
     "output_type": "execute_result"
    }
   ],
   "source": [
    "model.load_state_dict(torch.load(\"./Modelos/v5/representacion_1/longitud_8/CNN1D_fold_2.pth\"))\n",
    "model.to(device)\n",
    "model.eval()"
   ]
  },
  {
   "cell_type": "markdown",
   "metadata": {},
   "source": [
    "***Evaluar el modelo :***"
   ]
  },
  {
   "cell_type": "code",
   "execution_count": 10,
   "metadata": {},
   "outputs": [],
   "source": [
    "all_preds = []\n",
    "all_labels = []\n",
    "\n",
    "test_dataset = TensorDataset(X_test, y_test)\n",
    "test_loader = DataLoader(test_dataset, batch_size=batch_size, shuffle=False)\n",
    "\n",
    "with torch.no_grad():\n",
    "    for images, labels in test_loader:\n",
    "        images, labels = images.to(device), labels.to(device)\n",
    "        outputs = model(images)\n",
    "        _, predicted = torch.max(outputs, 1)\n",
    "\n",
    "        all_preds.extend(predicted.cpu().numpy())\n",
    "        all_labels.extend(labels.cpu().numpy())"
   ]
  },
  {
   "cell_type": "code",
   "execution_count": null,
   "metadata": {},
   "outputs": [],
   "source": [
    "print(train_df['Type'].unique())         # Ver las clases únicas\n",
    "print(train_df['Type'].value_counts())   # Ver el conteo de cada clase"
   ]
  },
  {
   "cell_type": "markdown",
   "metadata": {},
   "source": [
    "***Matriz de confusión :***"
   ]
  },
  {
   "cell_type": "code",
   "execution_count": 11,
   "metadata": {},
   "outputs": [
    {
     "data": {
      "image/png": "[encoded data removed]",
      "text/plain": [
       "<Figure size 640x480 with 2 Axes>"
      ]
     },
     "metadata": {},
     "output_type": "display_data"
    }
   ],
   "source": [
    "class_names = ['AIS(30)','AIS(31-32)','AIS(36)','AIS(37)','AIS(52)','AIS(56-57)','AIS(60-69)','AIS(70-79)','AIS(80-89)','AIS(90-99)']\n",
    "#class_names = ['Cargo', 'Fishing', 'Military', 'Sailing', 'Tanker']\n",
    "#class_names = ['Cargo', 'Container', 'Cruise', 'Fishing', 'Tanker']\n",
    "cm = confusion_matrix(all_labels, all_preds)\n",
    "disp = ConfusionMatrixDisplay(confusion_matrix=cm, display_labels=class_names)\n",
    "disp.plot(cmap=\"Blues\", xticks_rotation=45)\n",
    "plt.show()"
   ]
  },
  {
   "cell_type": "markdown",
   "metadata": {},
   "source": [
    "***Análisis de los resultados obtenidos :***"
   ]
  },
  {
   "cell_type": "code",
   "execution_count": 12,
   "metadata": {},
   "outputs": [
    {
     "name": "stdout",
     "output_type": "stream",
     "text": [
      "              precision    recall  f1-score   support\n",
      "\n",
      "     AIS(30)       0.06      0.14      0.08       179\n",
      "  AIS(31-32)       0.41      0.07      0.12       652\n",
      "     AIS(36)       0.11      0.06      0.08       202\n",
      "     AIS(37)       0.44      0.32      0.38       832\n",
      "     AIS(52)       0.02      0.11      0.04        62\n",
      "  AIS(56-57)       0.04      0.21      0.06        38\n",
      "  AIS(60-69)       0.15      0.29      0.20       198\n",
      "  AIS(70-79)       0.20      0.04      0.06       243\n",
      "  AIS(80-89)       0.16      0.35      0.22       114\n",
      "  AIS(90-99)       0.10      0.13      0.11       211\n",
      "\n",
      "    accuracy                           0.18      2731\n",
      "   macro avg       0.17      0.17      0.14      2731\n",
      "weighted avg       0.29      0.18      0.19      2731\n",
      "\n"
     ]
    }
   ],
   "source": [
    "print(classification_report(all_labels, all_preds, target_names=class_names))\n",
    "\n",
    "output_dir = Path('./Resultados/v5/representacion_1/longitud_8')\n",
    "\n",
    "classification_text = classification_report(all_labels, all_preds, target_names=class_names)\n",
    "\n",
    "with open(output_dir / 'CNN1D_report.txt', 'w') as f:\n",
    "    f.write(classification_text)"
   ]
  }
 ],
 "metadata": {
  "kernelspec": {
   "display_name": "venv",
   "language": "python",
   "name": "python3"
  },
  "language_info": {
   "codemirror_mode": {
    "name": "ipython",
    "version": 3
   },
   "file_extension": ".py",
   "mimetype": "text/x-python",
   "name": "python",
   "nbconvert_exporter": "python",
   "pygments_lexer": "ipython3",
   "version": "3.12.2"
  }
 },
 "nbformat": 4,
 "nbformat_minor": 2
}
