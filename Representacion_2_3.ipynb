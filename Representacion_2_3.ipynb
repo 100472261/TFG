{
 "cells": [
  {
   "cell_type": "markdown",
   "metadata": {},
   "source": [
    "***Importamos las librerías necesarias :***"
   ]
  },
  {
   "cell_type": "code",
   "execution_count": 1,
   "metadata": {},
   "outputs": [],
   "source": [
    "import os\n",
    "import torch\n",
    "import zipfile\n",
    "import numpy as np\n",
    "import pandas as pd\n",
    "from PIL import Image\n",
    "from tqdm import tqdm\n",
    "import torch.nn as nn\n",
    "from io import BytesIO\n",
    "from pathlib import Path\n",
    "import torch.optim as optim\n",
    "import torch.nn.functional as F\n",
    "import matplotlib.pyplot as plt\n",
    "from collections import Counter\n",
    "from torchvision import transforms\n",
    "from torchvision.transforms import ToTensor\n",
    "from torchvision.models import alexnet, AlexNet_Weights\n",
    "from torchvision.models import resnet50, ResNet50_Weights\n",
    "from sklearn.model_selection import train_test_split, KFold\n",
    "from sklearn.preprocessing import LabelEncoder, OneHotEncoder\n",
    "from torchvision.models import densenet121, DenseNet121_Weights\n",
    "from torchvision.models import convnext_tiny, ConvNeXt_Tiny_Weights\n",
    "from torch.utils.data import Dataset, DataLoader, TensorDataset, Subset\n",
    "from sklearn.metrics import confusion_matrix, ConfusionMatrixDisplay, accuracy_score, classification_report"
   ]
  },
  {
   "cell_type": "markdown",
   "metadata": {},
   "source": [
    "***Guardamos las imágenes con sus respectivas clases en \"complete_df\" :***"
   ]
  },
  {
   "cell_type": "code",
   "execution_count": 2,
   "metadata": {},
   "outputs": [
    {
     "name": "stdout",
     "output_type": "stream",
     "text": [
      "Número total de imágenes: 3884\n",
      "class_name\n",
      "Fishing      949\n",
      "Container    933\n",
      "Cruise       918\n",
      "Tanker       688\n",
      "Cargo        396\n",
      "Name: count, dtype: int64\n"
     ]
    }
   ],
   "source": [
    "image_dir = Path('./Imagenes/Trayectorias_dominio_tiempo_frecuencia/longitud_28/raw-img-v3-COMPLETO')\n",
    "\n",
    "file_paths = list(image_dir.rglob(\"*.jpg\")) + \\\n",
    "             list(image_dir.rglob(\"*.jpeg\")) + \\\n",
    "             list(image_dir.rglob(\"*.png\"))\n",
    "\n",
    "complete_df = pd.DataFrame()\n",
    "complete_df['file_name'] = [str(p) for p in file_paths]\n",
    "complete_df['class_name'] = complete_df['file_name'].map(lambda x: Path(x).parent.name)\n",
    "\n",
    "### COMPROBACIÓN ###\n",
    "print(\"Número total de imágenes:\", len(complete_df))\n",
    "class_counts = complete_df['class_name'].value_counts()\n",
    "print(class_counts)\n"
   ]
  },
  {
   "cell_type": "markdown",
   "metadata": {},
   "source": [
    "***Dividimos \"complete_df\" en entrenamiento y test :***"
   ]
  },
  {
   "cell_type": "code",
   "execution_count": 3,
   "metadata": {},
   "outputs": [
    {
     "name": "stdout",
     "output_type": "stream",
     "text": [
      "Nº de imágenes en train: 3110\n",
      "class_name\n",
      "Fishing      760\n",
      "Container    747\n",
      "Cruise       735\n",
      "Tanker       551\n",
      "Cargo        317\n",
      "Name: count, dtype: int64\n",
      "\n",
      "Nº de imágenes en test: 774\n",
      "class_name\n",
      "Fishing      189\n",
      "Container    186\n",
      "Cruise       183\n",
      "Tanker       137\n",
      "Cargo         79\n",
      "Name: count, dtype: int64\n",
      "\n",
      "Ejm. conjunto train:\n",
      "                                           file_name class_name\n",
      "0  Imagenes\\Trayectorias_dominio_tiempo_frecuenci...     Cruise\n",
      "1  Imagenes\\Trayectorias_dominio_tiempo_frecuenci...     Tanker\n",
      "2  Imagenes\\Trayectorias_dominio_tiempo_frecuenci...     Cruise\n",
      "3  Imagenes\\Trayectorias_dominio_tiempo_frecuenci...      Cargo\n",
      "4  Imagenes\\Trayectorias_dominio_tiempo_frecuenci...     Cruise\n",
      "5  Imagenes\\Trayectorias_dominio_tiempo_frecuenci...     Cruise\n",
      "6  Imagenes\\Trayectorias_dominio_tiempo_frecuenci...     Cruise\n",
      "7  Imagenes\\Trayectorias_dominio_tiempo_frecuenci...     Cruise\n",
      "8  Imagenes\\Trayectorias_dominio_tiempo_frecuenci...     Tanker\n",
      "9  Imagenes\\Trayectorias_dominio_tiempo_frecuenci...    Fishing\n",
      "\n",
      "Ejm. conjunto test:\n",
      "                                           file_name class_name\n",
      "0  Imagenes\\Trayectorias_dominio_tiempo_frecuenci...    Fishing\n",
      "1  Imagenes\\Trayectorias_dominio_tiempo_frecuenci...     Tanker\n",
      "2  Imagenes\\Trayectorias_dominio_tiempo_frecuenci...  Container\n",
      "3  Imagenes\\Trayectorias_dominio_tiempo_frecuenci...    Fishing\n",
      "4  Imagenes\\Trayectorias_dominio_tiempo_frecuenci...    Fishing\n",
      "5  Imagenes\\Trayectorias_dominio_tiempo_frecuenci...      Cargo\n",
      "6  Imagenes\\Trayectorias_dominio_tiempo_frecuenci...  Container\n",
      "7  Imagenes\\Trayectorias_dominio_tiempo_frecuenci...      Cargo\n",
      "8  Imagenes\\Trayectorias_dominio_tiempo_frecuenci...     Cruise\n",
      "9  Imagenes\\Trayectorias_dominio_tiempo_frecuenci...  Container\n"
     ]
    }
   ],
   "source": [
    "complete_df = complete_df.sample(frac=1, random_state=42).reset_index(drop=True)\n",
    "\n",
    "test_size = 0.2\n",
    "train_df_list = []\n",
    "test_df_list = []\n",
    "\n",
    "classes = complete_df['class_name'].unique()\n",
    "\n",
    "for class_name in classes:\n",
    "    class_subset = complete_df[complete_df['class_name'] == class_name]\n",
    "    \n",
    "    test_count = int(len(class_subset) * test_size)\n",
    "    \n",
    "    test_df_list.append(class_subset.iloc[:test_count])\n",
    "    train_df_list.append(class_subset.iloc[test_count:])\n",
    "\n",
    "train_df = pd.concat(train_df_list).reset_index(drop=True)\n",
    "test_df = pd.concat(test_df_list).reset_index(drop=True)\n",
    "\n",
    "train_df = train_df.sample(frac=1, random_state=42).reset_index(drop=True)\n",
    "test_df = test_df.sample(frac=1, random_state=42).reset_index(drop=True)\n",
    "\n",
    "#### COMPROBACIÓN ####\n",
    "print(f\"Nº de imágenes en train: {len(train_df)}\")\n",
    "print(train_df['class_name'].value_counts())\n",
    "print()\n",
    "print(f\"Nº de imágenes en test: {len(test_df)}\")\n",
    "print(test_df['class_name'].value_counts())\n",
    "print()\n",
    "print(\"Ejm. conjunto train:\")\n",
    "print(train_df.head(10))\n",
    "print()\n",
    "print(\"Ejm. conjunto test:\")\n",
    "print(test_df.head(10))"
   ]
  },
  {
   "cell_type": "markdown",
   "metadata": {},
   "source": [
    "***Imágenes de entrenamiento y test antes del pre-procesado :***"
   ]
  },
  {
   "cell_type": "code",
   "execution_count": 4,
   "metadata": {},
   "outputs": [
    {
     "data": {
      "image/png": "[encoded data removed]",
      "text/plain": [
       "<Figure size 1500x1500 with 5 Axes>"
      ]
     },
     "metadata": {},
     "output_type": "display_data"
    },
    {
     "data": {
      "image/png": "[encoded data removed]",
      "text/plain": [
       "<Figure size 1500x1500 with 5 Axes>"
      ]
     },
     "metadata": {},
     "output_type": "display_data"
    }
   ],
   "source": [
    "def mostrar_imagenes_antes_preprocesado(df):\n",
    "    plt.figure(figsize=(15, 15))\n",
    "    grouped = df.groupby('class_name')\n",
    "    \n",
    "    for i, (class_name, group) in enumerate(grouped):\n",
    "        image_path = group['file_name'].iloc[0]\n",
    "        image = Image.open(image_path).convert(\"RGB\")\n",
    "        \n",
    "        plt.subplot(1, len(grouped), i + 1)\n",
    "        plt.imshow(image)\n",
    "        plt.title(class_name)\n",
    "        plt.axis('off')\n",
    "    \n",
    "    plt.show()\n",
    "\n",
    "mostrar_imagenes_antes_preprocesado(train_df)\n",
    "mostrar_imagenes_antes_preprocesado(test_df)\n"
   ]
  },
  {
   "cell_type": "markdown",
   "metadata": {},
   "source": [
    "***Pre-procesado de las imágenes :***"
   ]
  },
  {
   "cell_type": "code",
   "execution_count": 5,
   "metadata": {},
   "outputs": [
    {
     "name": "stdout",
     "output_type": "stream",
     "text": [
      "cuda disponible\n",
      "X_train: torch.Size([3110, 3, 227, 227]) cpu\n",
      "y_train: torch.Size([3110]) cpu\n",
      "X_test: torch.Size([774, 3, 227, 227]) cpu\n",
      "y_test: torch.Size([774]) cpu\n"
     ]
    }
   ],
   "source": [
    "IMG_SIZE = (227, 227)\n",
    "X_train = []\n",
    "y_train = []\n",
    "X_test = []\n",
    "y_test = []\n",
    "\n",
    "device = torch.device(\"cuda\" if torch.cuda.is_available() else \"cpu\")\n",
    "print(f\"{device} disponible\")\n",
    "\n",
    "transform = transforms.Compose([transforms.Resize(IMG_SIZE),transforms.ToTensor()])\n",
    "\n",
    "def preprocesado_imagen(image_path):\n",
    "    image = Image.open(image_path).convert(\"RGB\")\n",
    "    image = transform(image)\n",
    "    return image\n",
    "\n",
    "for index, row in train_df.iterrows():\n",
    "    image_tensor = preprocesado_imagen(row['file_name'])\n",
    "    X_train.append(image_tensor)\n",
    "    y_train.append(row['class_name'])\n",
    "\n",
    "for index, row in test_df.iterrows():\n",
    "    image_tensor = preprocesado_imagen(row['file_name'])\n",
    "    X_test.append(image_tensor)\n",
    "    y_test.append(row['class_name'])\n",
    "\n",
    "X_train = torch.stack(X_train)\n",
    "X_test = torch.stack(X_test)\n",
    "\n",
    "label_encoder = LabelEncoder()\n",
    "y_train_encoded = label_encoder.fit_transform(y_train)\n",
    "y_test_encoded = label_encoder.transform(y_test)\n",
    "\n",
    "y_train = torch.tensor(y_train_encoded, dtype=torch.long)\n",
    "y_test = torch.tensor(y_test_encoded, dtype=torch.long)\n",
    "\n",
    "### COMPROBACIÓN ###\n",
    "print(\"X_train:\", X_train.shape, X_train.device)\n",
    "print(\"y_train:\", y_train.shape, y_train.device)\n",
    "print(\"X_test:\", X_test.shape, X_test.device)\n",
    "print(\"y_test:\", y_test.shape, y_test.device)\n"
   ]
  },
  {
   "cell_type": "markdown",
   "metadata": {},
   "source": [
    "# ***AlexNet :***"
   ]
  },
  {
   "cell_type": "code",
   "execution_count": null,
   "metadata": {},
   "outputs": [],
   "source": [
    "def get_alexnet_model(num_classes, pretrained):\n",
    "    if pretrained:\n",
    "        modelo = alexnet(weights=AlexNet_Weights.DEFAULT)\n",
    "    else:\n",
    "        modelo = alexnet(weights=None)\n",
    "\n",
    "    modelo.classifier[6] = nn.Linear(modelo.classifier[6].in_features, num_classes)\n",
    "\n",
    "    if pretrained:\n",
    "        for param in modelo.features.parameters():\n",
    "            param.requires_grad = False\n",
    "            \n",
    "        for param in modelo.classifier[6].parameters():\n",
    "            param.requires_grad = True\n",
    "\n",
    "    return modelo"
   ]
  },
  {
   "cell_type": "markdown",
   "metadata": {},
   "source": [
    "# ***ResNet50 :***"
   ]
  },
  {
   "cell_type": "code",
   "execution_count": null,
   "metadata": {},
   "outputs": [],
   "source": [
    "def get_resnet50_model(num_classes, pretrained):\n",
    "    if pretrained:\n",
    "        modelo = resnet50(weights=ResNet50_Weights.DEFAULT)\n",
    "    else:\n",
    "        modelo = resnet50(weights=None)\n",
    "\n",
    "    modelo.fc = nn.Linear(modelo.fc.in_features, num_classes)\n",
    "\n",
    "    if pretrained:\n",
    "        for param in modelo.parameters():\n",
    "            param.requires_grad = False\n",
    "\n",
    "        for param in modelo.fc.parameters():\n",
    "            param.requires_grad = True\n",
    "\n",
    "    return modelo"
   ]
  },
  {
   "cell_type": "markdown",
   "metadata": {},
   "source": [
    "# ***DenseNet121 :***"
   ]
  },
  {
   "cell_type": "code",
   "execution_count": 6,
   "metadata": {},
   "outputs": [],
   "source": [
    "def get_densenet121_model(num_classes, pretrained):\n",
    "    if pretrained:\n",
    "        modelo = densenet121(weights=DenseNet121_Weights.DEFAULT)\n",
    "    else:\n",
    "        modelo = densenet121(weights=None)\n",
    "\n",
    "    modelo.classifier = nn.Linear(modelo.classifier.in_features, num_classes)\n",
    "\n",
    "    if pretrained:\n",
    "        for param in modelo.parameters():\n",
    "            param.requires_grad = False\n",
    "\n",
    "        for param in modelo.classifier.parameters():\n",
    "            param.requires_grad = True\n",
    "\n",
    "    return modelo"
   ]
  },
  {
   "cell_type": "markdown",
   "metadata": {},
   "source": [
    "# ***ConvNeXt Tiny :***"
   ]
  },
  {
   "cell_type": "code",
   "execution_count": 6,
   "metadata": {},
   "outputs": [],
   "source": [
    "def get_convnext_tiny_model(num_classes, pretrained):\n",
    "    if pretrained:\n",
    "        modelo = convnext_tiny(weights=ConvNeXt_Tiny_Weights.DEFAULT)\n",
    "    else:\n",
    "        modelo = convnext_tiny(weights=None)\n",
    "\n",
    "    modelo.classifier[2] = nn.Linear(modelo.classifier[2].in_features, num_classes)\n",
    "\n",
    "    if pretrained:\n",
    "        for param in modelo.parameters():\n",
    "            param.requires_grad = False\n",
    "\n",
    "        for param in modelo.classifier[2].parameters():\n",
    "            param.requires_grad = True\n",
    "\n",
    "    return modelo"
   ]
  },
  {
   "cell_type": "markdown",
   "metadata": {},
   "source": [
    "***Configuración del modelo :***"
   ]
  },
  {
   "cell_type": "code",
   "execution_count": 7,
   "metadata": {},
   "outputs": [],
   "source": [
    "k_folds = 5\n",
    "batch_size = 32\n",
    "num_epochs = 100\n",
    "num_classes = 5\n",
    "device = torch.device(\"cuda\" if torch.cuda.is_available() else \"cpu\")"
   ]
  },
  {
   "cell_type": "markdown",
   "metadata": {},
   "source": [
    "***Entrenamiento del modelo :***"
   ]
  },
  {
   "cell_type": "code",
   "execution_count": 8,
   "metadata": {},
   "outputs": [
    {
     "name": "stdout",
     "output_type": "stream",
     "text": [
      "\n",
      "📂 Fold 1/5\n"
     ]
    },
    {
     "name": "stderr",
     "output_type": "stream",
     "text": [
      "Fold 1 | Epoch 1/100: 100%|██████████| 78/78 [00:28<00:00,  2.76it/s]\n"
     ]
    },
    {
     "name": "stdout",
     "output_type": "stream",
     "text": [
      "Fold 1 - Epoch 1 ✅ | Train Acc: 20.90% - Train Loss: 1.6263 | Val Acc: 24.12% - Val Loss: 1.6362\n"
     ]
    },
    {
     "name": "stderr",
     "output_type": "stream",
     "text": [
      "Fold 1 | Epoch 2/100: 100%|██████████| 78/78 [00:14<00:00,  5.30it/s]\n"
     ]
    },
    {
     "name": "stdout",
     "output_type": "stream",
     "text": [
      "Fold 1 - Epoch 2 ✅ | Train Acc: 20.02% - Train Loss: 1.6281 | Val Acc: 23.79% - Val Loss: 1.6367\n"
     ]
    },
    {
     "name": "stderr",
     "output_type": "stream",
     "text": [
      "Fold 1 | Epoch 3/100: 100%|██████████| 78/78 [00:15<00:00,  5.00it/s]\n"
     ]
    },
    {
     "name": "stdout",
     "output_type": "stream",
     "text": [
      "Fold 1 - Epoch 3 ✅ | Train Acc: 22.31% - Train Loss: 1.6214 | Val Acc: 22.99% - Val Loss: 1.6253\n"
     ]
    },
    {
     "name": "stderr",
     "output_type": "stream",
     "text": [
      "Fold 1 | Epoch 4/100: 100%|██████████| 78/78 [00:15<00:00,  4.99it/s]\n"
     ]
    },
    {
     "name": "stdout",
     "output_type": "stream",
     "text": [
      "Fold 1 - Epoch 4 ✅ | Train Acc: 19.13% - Train Loss: 1.6328 | Val Acc: 25.56% - Val Loss: 1.6166\n"
     ]
    },
    {
     "name": "stderr",
     "output_type": "stream",
     "text": [
      "Fold 1 | Epoch 5/100: 100%|██████████| 78/78 [00:15<00:00,  4.93it/s]\n"
     ]
    },
    {
     "name": "stdout",
     "output_type": "stream",
     "text": [
      "Fold 1 - Epoch 5 ✅ | Train Acc: 21.34% - Train Loss: 1.6218 | Val Acc: 25.88% - Val Loss: 1.5945\n"
     ]
    },
    {
     "name": "stderr",
     "output_type": "stream",
     "text": [
      "Fold 1 | Epoch 6/100: 100%|██████████| 78/78 [00:15<00:00,  4.91it/s]\n"
     ]
    },
    {
     "name": "stdout",
     "output_type": "stream",
     "text": [
      "Fold 1 - Epoch 6 ✅ | Train Acc: 21.58% - Train Loss: 1.6269 | Val Acc: 18.97% - Val Loss: 1.6004\n"
     ]
    },
    {
     "name": "stderr",
     "output_type": "stream",
     "text": [
      "Fold 1 | Epoch 7/100: 100%|██████████| 78/78 [00:15<00:00,  4.91it/s]\n"
     ]
    },
    {
     "name": "stdout",
     "output_type": "stream",
     "text": [
      "Fold 1 - Epoch 7 ✅ | Train Acc: 22.55% - Train Loss: 1.6168 | Val Acc: 19.77% - Val Loss: 1.5930\n"
     ]
    },
    {
     "name": "stderr",
     "output_type": "stream",
     "text": [
      "Fold 1 | Epoch 8/100: 100%|██████████| 78/78 [00:16<00:00,  4.85it/s]\n"
     ]
    },
    {
     "name": "stdout",
     "output_type": "stream",
     "text": [
      "Fold 1 - Epoch 8 ✅ | Train Acc: 22.87% - Train Loss: 1.6078 | Val Acc: 26.05% - Val Loss: 1.5962\n"
     ]
    },
    {
     "name": "stderr",
     "output_type": "stream",
     "text": [
      "Fold 1 | Epoch 9/100: 100%|██████████| 78/78 [00:16<00:00,  4.85it/s]\n"
     ]
    },
    {
     "name": "stdout",
     "output_type": "stream",
     "text": [
      "Fold 1 - Epoch 9 ✅ | Train Acc: 23.15% - Train Loss: 1.6127 | Val Acc: 18.33% - Val Loss: 1.6169\n"
     ]
    },
    {
     "name": "stderr",
     "output_type": "stream",
     "text": [
      "Fold 1 | Epoch 10/100: 100%|██████████| 78/78 [00:16<00:00,  4.71it/s]\n"
     ]
    },
    {
     "name": "stdout",
     "output_type": "stream",
     "text": [
      "Fold 1 - Epoch 10 ✅ | Train Acc: 22.15% - Train Loss: 1.6227 | Val Acc: 27.01% - Val Loss: 1.5960\n"
     ]
    },
    {
     "name": "stderr",
     "output_type": "stream",
     "text": [
      "Fold 1 | Epoch 11/100: 100%|██████████| 78/78 [00:16<00:00,  4.83it/s]\n"
     ]
    },
    {
     "name": "stdout",
     "output_type": "stream",
     "text": [
      "Fold 1 - Epoch 11 ✅ | Train Acc: 22.71% - Train Loss: 1.6166 | Val Acc: 20.42% - Val Loss: 1.6649\n"
     ]
    },
    {
     "name": "stderr",
     "output_type": "stream",
     "text": [
      "Fold 1 | Epoch 12/100: 100%|██████████| 78/78 [00:16<00:00,  4.76it/s]\n"
     ]
    },
    {
     "name": "stdout",
     "output_type": "stream",
     "text": [
      "Fold 1 - Epoch 12 ✅ | Train Acc: 22.59% - Train Loss: 1.6231 | Val Acc: 23.15% - Val Loss: 1.6103\n"
     ]
    },
    {
     "name": "stderr",
     "output_type": "stream",
     "text": [
      "Fold 1 | Epoch 13/100: 100%|██████████| 78/78 [00:16<00:00,  4.66it/s]\n"
     ]
    },
    {
     "name": "stdout",
     "output_type": "stream",
     "text": [
      "Fold 1 - Epoch 13 ✅ | Train Acc: 21.70% - Train Loss: 1.6229 | Val Acc: 11.09% - Val Loss: 1.6703\n"
     ]
    },
    {
     "name": "stderr",
     "output_type": "stream",
     "text": [
      "Fold 1 | Epoch 14/100: 100%|██████████| 78/78 [00:14<00:00,  5.22it/s]\n"
     ]
    },
    {
     "name": "stdout",
     "output_type": "stream",
     "text": [
      "Fold 1 - Epoch 14 ✅ | Train Acc: 22.03% - Train Loss: 1.6179 | Val Acc: 27.49% - Val Loss: 1.6006\n"
     ]
    },
    {
     "name": "stderr",
     "output_type": "stream",
     "text": [
      "Fold 1 | Epoch 15/100: 100%|██████████| 78/78 [00:14<00:00,  5.21it/s]\n"
     ]
    },
    {
     "name": "stdout",
     "output_type": "stream",
     "text": [
      "Fold 1 - Epoch 15 ✅ | Train Acc: 20.98% - Train Loss: 1.6192 | Val Acc: 27.81% - Val Loss: 1.6306\n"
     ]
    },
    {
     "name": "stderr",
     "output_type": "stream",
     "text": [
      "Fold 1 | Epoch 16/100: 100%|██████████| 78/78 [00:14<00:00,  5.39it/s]\n"
     ]
    },
    {
     "name": "stdout",
     "output_type": "stream",
     "text": [
      "Fold 1 - Epoch 16 ✅ | Train Acc: 22.91% - Train Loss: 1.6099 | Val Acc: 27.49% - Val Loss: 1.6053\n"
     ]
    },
    {
     "name": "stderr",
     "output_type": "stream",
     "text": [
      "Fold 1 | Epoch 17/100: 100%|██████████| 78/78 [00:14<00:00,  5.39it/s]\n"
     ]
    },
    {
     "name": "stdout",
     "output_type": "stream",
     "text": [
      "Fold 1 - Epoch 17 ✅ | Train Acc: 21.86% - Train Loss: 1.6090 | Val Acc: 22.67% - Val Loss: 1.5988\n"
     ]
    },
    {
     "name": "stderr",
     "output_type": "stream",
     "text": [
      "Fold 1 | Epoch 18/100: 100%|██████████| 78/78 [00:14<00:00,  5.46it/s]\n"
     ]
    },
    {
     "name": "stdout",
     "output_type": "stream",
     "text": [
      "Fold 1 - Epoch 18 ✅ | Train Acc: 23.07% - Train Loss: 1.6060 | Val Acc: 16.88% - Val Loss: 1.6325\n"
     ]
    },
    {
     "name": "stderr",
     "output_type": "stream",
     "text": [
      "Fold 1 | Epoch 19/100: 100%|██████████| 78/78 [00:14<00:00,  5.38it/s]\n"
     ]
    },
    {
     "name": "stdout",
     "output_type": "stream",
     "text": [
      "Fold 1 - Epoch 19 ✅ | Train Acc: 21.99% - Train Loss: 1.6144 | Val Acc: 21.70% - Val Loss: 1.5876\n"
     ]
    },
    {
     "name": "stderr",
     "output_type": "stream",
     "text": [
      "Fold 1 | Epoch 20/100: 100%|██████████| 78/78 [00:14<00:00,  5.45it/s]\n"
     ]
    },
    {
     "name": "stdout",
     "output_type": "stream",
     "text": [
      "Fold 1 - Epoch 20 ✅ | Train Acc: 23.07% - Train Loss: 1.6038 | Val Acc: 25.72% - Val Loss: 1.6011\n"
     ]
    },
    {
     "name": "stderr",
     "output_type": "stream",
     "text": [
      "Fold 1 | Epoch 21/100: 100%|██████████| 78/78 [00:14<00:00,  5.44it/s]\n"
     ]
    },
    {
     "name": "stdout",
     "output_type": "stream",
     "text": [
      "Fold 1 - Epoch 21 ✅ | Train Acc: 22.75% - Train Loss: 1.6096 | Val Acc: 23.95% - Val Loss: 1.6245\n"
     ]
    },
    {
     "name": "stderr",
     "output_type": "stream",
     "text": [
      "Fold 1 | Epoch 22/100: 100%|██████████| 78/78 [00:14<00:00,  5.46it/s]\n"
     ]
    },
    {
     "name": "stdout",
     "output_type": "stream",
     "text": [
      "Fold 1 - Epoch 22 ✅ | Train Acc: 22.55% - Train Loss: 1.6148 | Val Acc: 24.28% - Val Loss: 1.6007\n"
     ]
    },
    {
     "name": "stderr",
     "output_type": "stream",
     "text": [
      "Fold 1 | Epoch 23/100: 100%|██████████| 78/78 [00:14<00:00,  5.44it/s]\n"
     ]
    },
    {
     "name": "stdout",
     "output_type": "stream",
     "text": [
      "Fold 1 - Epoch 23 ✅ | Train Acc: 23.27% - Train Loss: 1.6036 | Val Acc: 15.11% - Val Loss: 1.6297\n"
     ]
    },
    {
     "name": "stderr",
     "output_type": "stream",
     "text": [
      "Fold 1 | Epoch 24/100: 100%|██████████| 78/78 [00:14<00:00,  5.46it/s]\n"
     ]
    },
    {
     "name": "stdout",
     "output_type": "stream",
     "text": [
      "Fold 1 - Epoch 24 ✅ | Train Acc: 22.75% - Train Loss: 1.6100 | Val Acc: 27.97% - Val Loss: 1.5973\n"
     ]
    },
    {
     "name": "stderr",
     "output_type": "stream",
     "text": [
      "Fold 1 | Epoch 25/100: 100%|██████████| 78/78 [00:14<00:00,  5.45it/s]\n"
     ]
    },
    {
     "name": "stdout",
     "output_type": "stream",
     "text": [
      "Fold 1 - Epoch 25 ✅ | Train Acc: 23.95% - Train Loss: 1.6132 | Val Acc: 16.88% - Val Loss: 1.6330\n"
     ]
    },
    {
     "name": "stderr",
     "output_type": "stream",
     "text": [
      "Fold 1 | Epoch 26/100: 100%|██████████| 78/78 [00:14<00:00,  5.51it/s]\n"
     ]
    },
    {
     "name": "stdout",
     "output_type": "stream",
     "text": [
      "Fold 1 - Epoch 26 ✅ | Train Acc: 23.63% - Train Loss: 1.5976 | Val Acc: 25.24% - Val Loss: 1.6260\n"
     ]
    },
    {
     "name": "stderr",
     "output_type": "stream",
     "text": [
      "Fold 1 | Epoch 27/100: 100%|██████████| 78/78 [00:14<00:00,  5.52it/s]\n"
     ]
    },
    {
     "name": "stdout",
     "output_type": "stream",
     "text": [
      "Fold 1 - Epoch 27 ✅ | Train Acc: 23.43% - Train Loss: 1.6031 | Val Acc: 21.86% - Val Loss: 1.6488\n"
     ]
    },
    {
     "name": "stderr",
     "output_type": "stream",
     "text": [
      "Fold 1 | Epoch 28/100: 100%|██████████| 78/78 [00:14<00:00,  5.46it/s]\n"
     ]
    },
    {
     "name": "stdout",
     "output_type": "stream",
     "text": [
      "Fold 1 - Epoch 28 ✅ | Train Acc: 22.79% - Train Loss: 1.6095 | Val Acc: 25.72% - Val Loss: 1.6057\n"
     ]
    },
    {
     "name": "stderr",
     "output_type": "stream",
     "text": [
      "Fold 1 | Epoch 29/100: 100%|██████████| 78/78 [00:14<00:00,  5.43it/s]\n"
     ]
    },
    {
     "name": "stdout",
     "output_type": "stream",
     "text": [
      "Fold 1 - Epoch 29 ✅ | Train Acc: 22.31% - Train Loss: 1.6152 | Val Acc: 26.21% - Val Loss: 1.6151\n"
     ]
    },
    {
     "name": "stderr",
     "output_type": "stream",
     "text": [
      "Fold 1 | Epoch 30/100: 100%|██████████| 78/78 [00:14<00:00,  5.46it/s]\n"
     ]
    },
    {
     "name": "stdout",
     "output_type": "stream",
     "text": [
      "Fold 1 - Epoch 30 ✅ | Train Acc: 22.63% - Train Loss: 1.6133 | Val Acc: 22.51% - Val Loss: 1.6125\n"
     ]
    },
    {
     "name": "stderr",
     "output_type": "stream",
     "text": [
      "Fold 1 | Epoch 31/100: 100%|██████████| 78/78 [00:14<00:00,  5.46it/s]\n"
     ]
    },
    {
     "name": "stdout",
     "output_type": "stream",
     "text": [
      "Fold 1 - Epoch 31 ✅ | Train Acc: 22.91% - Train Loss: 1.6056 | Val Acc: 24.44% - Val Loss: 1.6577\n"
     ]
    },
    {
     "name": "stderr",
     "output_type": "stream",
     "text": [
      "Fold 1 | Epoch 32/100: 100%|██████████| 78/78 [00:14<00:00,  5.53it/s]\n"
     ]
    },
    {
     "name": "stdout",
     "output_type": "stream",
     "text": [
      "Fold 1 - Epoch 32 ✅ | Train Acc: 23.35% - Train Loss: 1.6150 | Val Acc: 18.33% - Val Loss: 1.6285\n"
     ]
    },
    {
     "name": "stderr",
     "output_type": "stream",
     "text": [
      "Fold 1 | Epoch 33/100: 100%|██████████| 78/78 [00:14<00:00,  5.46it/s]\n"
     ]
    },
    {
     "name": "stdout",
     "output_type": "stream",
     "text": [
      "Fold 1 - Epoch 33 ✅ | Train Acc: 22.67% - Train Loss: 1.6108 | Val Acc: 22.67% - Val Loss: 1.5969\n"
     ]
    },
    {
     "name": "stderr",
     "output_type": "stream",
     "text": [
      "Fold 1 | Epoch 34/100: 100%|██████████| 78/78 [00:14<00:00,  5.47it/s]\n"
     ]
    },
    {
     "name": "stdout",
     "output_type": "stream",
     "text": [
      "Fold 1 - Epoch 34 ✅ | Train Acc: 23.71% - Train Loss: 1.6243 | Val Acc: 27.01% - Val Loss: 1.5966\n"
     ]
    },
    {
     "name": "stderr",
     "output_type": "stream",
     "text": [
      "Fold 1 | Epoch 35/100: 100%|██████████| 78/78 [00:14<00:00,  5.52it/s]\n"
     ]
    },
    {
     "name": "stdout",
     "output_type": "stream",
     "text": [
      "Fold 1 - Epoch 35 ✅ | Train Acc: 24.04% - Train Loss: 1.6080 | Val Acc: 19.29% - Val Loss: 1.6310\n"
     ]
    },
    {
     "name": "stderr",
     "output_type": "stream",
     "text": [
      "Fold 1 | Epoch 36/100: 100%|██████████| 78/78 [00:14<00:00,  5.53it/s]\n"
     ]
    },
    {
     "name": "stdout",
     "output_type": "stream",
     "text": [
      "Fold 1 - Epoch 36 ✅ | Train Acc: 22.79% - Train Loss: 1.6175 | Val Acc: 16.56% - Val Loss: 1.6133\n"
     ]
    },
    {
     "name": "stderr",
     "output_type": "stream",
     "text": [
      "Fold 1 | Epoch 37/100: 100%|██████████| 78/78 [00:14<00:00,  5.54it/s]\n"
     ]
    },
    {
     "name": "stdout",
     "output_type": "stream",
     "text": [
      "Fold 1 - Epoch 37 ✅ | Train Acc: 22.31% - Train Loss: 1.6106 | Val Acc: 24.76% - Val Loss: 1.6099\n"
     ]
    },
    {
     "name": "stderr",
     "output_type": "stream",
     "text": [
      "Fold 1 | Epoch 38/100: 100%|██████████| 78/78 [00:14<00:00,  5.54it/s]\n"
     ]
    },
    {
     "name": "stdout",
     "output_type": "stream",
     "text": [
      "Fold 1 - Epoch 38 ✅ | Train Acc: 23.63% - Train Loss: 1.6032 | Val Acc: 23.31% - Val Loss: 1.5904\n"
     ]
    },
    {
     "name": "stderr",
     "output_type": "stream",
     "text": [
      "Fold 1 | Epoch 39/100: 100%|██████████| 78/78 [00:14<00:00,  5.54it/s]\n"
     ]
    },
    {
     "name": "stdout",
     "output_type": "stream",
     "text": [
      "Fold 1 - Epoch 39 ✅ | Train Acc: 24.72% - Train Loss: 1.5996 | Val Acc: 27.33% - Val Loss: 1.6232\n"
     ]
    },
    {
     "name": "stderr",
     "output_type": "stream",
     "text": [
      "Fold 1 | Epoch 40/100: 100%|██████████| 78/78 [00:14<00:00,  5.47it/s]\n"
     ]
    },
    {
     "name": "stdout",
     "output_type": "stream",
     "text": [
      "Fold 1 - Epoch 40 ✅ | Train Acc: 23.71% - Train Loss: 1.6105 | Val Acc: 19.13% - Val Loss: 1.6276\n"
     ]
    },
    {
     "name": "stderr",
     "output_type": "stream",
     "text": [
      "Fold 1 | Epoch 41/100: 100%|██████████| 78/78 [00:14<00:00,  5.54it/s]\n"
     ]
    },
    {
     "name": "stdout",
     "output_type": "stream",
     "text": [
      "Fold 1 - Epoch 41 ✅ | Train Acc: 24.68% - Train Loss: 1.6004 | Val Acc: 27.97% - Val Loss: 1.6034\n"
     ]
    },
    {
     "name": "stderr",
     "output_type": "stream",
     "text": [
      "Fold 1 | Epoch 42/100: 100%|██████████| 78/78 [00:14<00:00,  5.54it/s]\n"
     ]
    },
    {
     "name": "stdout",
     "output_type": "stream",
     "text": [
      "Fold 1 - Epoch 42 ✅ | Train Acc: 24.08% - Train Loss: 1.6164 | Val Acc: 25.08% - Val Loss: 1.5941\n"
     ]
    },
    {
     "name": "stderr",
     "output_type": "stream",
     "text": [
      "Fold 1 | Epoch 43/100: 100%|██████████| 78/78 [00:14<00:00,  5.43it/s]\n"
     ]
    },
    {
     "name": "stdout",
     "output_type": "stream",
     "text": [
      "Fold 1 - Epoch 43 ✅ | Train Acc: 25.08% - Train Loss: 1.6024 | Val Acc: 20.58% - Val Loss: 1.5996\n"
     ]
    },
    {
     "name": "stderr",
     "output_type": "stream",
     "text": [
      "Fold 1 | Epoch 44/100: 100%|██████████| 78/78 [00:14<00:00,  5.48it/s]\n"
     ]
    },
    {
     "name": "stdout",
     "output_type": "stream",
     "text": [
      "Fold 1 - Epoch 44 ✅ | Train Acc: 25.04% - Train Loss: 1.6020 | Val Acc: 19.29% - Val Loss: 1.6005\n"
     ]
    },
    {
     "name": "stderr",
     "output_type": "stream",
     "text": [
      "Fold 1 | Epoch 45/100: 100%|██████████| 78/78 [00:14<00:00,  5.44it/s]\n"
     ]
    },
    {
     "name": "stdout",
     "output_type": "stream",
     "text": [
      "Fold 1 - Epoch 45 ✅ | Train Acc: 23.47% - Train Loss: 1.6051 | Val Acc: 26.69% - Val Loss: 1.6267\n"
     ]
    },
    {
     "name": "stderr",
     "output_type": "stream",
     "text": [
      "Fold 1 | Epoch 46/100: 100%|██████████| 78/78 [00:14<00:00,  5.55it/s]\n"
     ]
    },
    {
     "name": "stdout",
     "output_type": "stream",
     "text": [
      "Fold 1 - Epoch 46 ✅ | Train Acc: 23.71% - Train Loss: 1.6039 | Val Acc: 25.24% - Val Loss: 1.6217\n"
     ]
    },
    {
     "name": "stderr",
     "output_type": "stream",
     "text": [
      "Fold 1 | Epoch 47/100: 100%|██████████| 78/78 [00:14<00:00,  5.53it/s]\n"
     ]
    },
    {
     "name": "stdout",
     "output_type": "stream",
     "text": [
      "Fold 1 - Epoch 47 ✅ | Train Acc: 23.47% - Train Loss: 1.6041 | Val Acc: 18.65% - Val Loss: 1.5950\n"
     ]
    },
    {
     "name": "stderr",
     "output_type": "stream",
     "text": [
      "Fold 1 | Epoch 48/100: 100%|██████████| 78/78 [00:13<00:00,  5.58it/s]\n"
     ]
    },
    {
     "name": "stdout",
     "output_type": "stream",
     "text": [
      "Fold 1 - Epoch 48 ✅ | Train Acc: 22.47% - Train Loss: 1.6074 | Val Acc: 22.67% - Val Loss: 1.6072\n"
     ]
    },
    {
     "name": "stderr",
     "output_type": "stream",
     "text": [
      "Fold 1 | Epoch 49/100: 100%|██████████| 78/78 [00:13<00:00,  5.59it/s]\n"
     ]
    },
    {
     "name": "stdout",
     "output_type": "stream",
     "text": [
      "Fold 1 - Epoch 49 ✅ | Train Acc: 23.87% - Train Loss: 1.6039 | Val Acc: 19.45% - Val Loss: 1.6105\n"
     ]
    },
    {
     "name": "stderr",
     "output_type": "stream",
     "text": [
      "Fold 1 | Epoch 50/100: 100%|██████████| 78/78 [00:14<00:00,  5.56it/s]\n"
     ]
    },
    {
     "name": "stdout",
     "output_type": "stream",
     "text": [
      "Fold 1 - Epoch 50 ✅ | Train Acc: 22.67% - Train Loss: 1.6248 | Val Acc: 18.33% - Val Loss: 1.5965\n"
     ]
    },
    {
     "name": "stderr",
     "output_type": "stream",
     "text": [
      "Fold 1 | Epoch 51/100: 100%|██████████| 78/78 [00:14<00:00,  5.57it/s]\n"
     ]
    },
    {
     "name": "stdout",
     "output_type": "stream",
     "text": [
      "Fold 1 - Epoch 51 ✅ | Train Acc: 23.83% - Train Loss: 1.5988 | Val Acc: 21.86% - Val Loss: 1.6236\n"
     ]
    },
    {
     "name": "stderr",
     "output_type": "stream",
     "text": [
      "Fold 1 | Epoch 52/100: 100%|██████████| 78/78 [00:13<00:00,  5.61it/s]\n"
     ]
    },
    {
     "name": "stdout",
     "output_type": "stream",
     "text": [
      "Fold 1 - Epoch 52 ✅ | Train Acc: 24.80% - Train Loss: 1.6013 | Val Acc: 28.14% - Val Loss: 1.6487\n"
     ]
    },
    {
     "name": "stderr",
     "output_type": "stream",
     "text": [
      "Fold 1 | Epoch 53/100: 100%|██████████| 78/78 [00:13<00:00,  5.59it/s]\n"
     ]
    },
    {
     "name": "stdout",
     "output_type": "stream",
     "text": [
      "Fold 1 - Epoch 53 ✅ | Train Acc: 24.80% - Train Loss: 1.6068 | Val Acc: 17.04% - Val Loss: 1.6544\n"
     ]
    },
    {
     "name": "stderr",
     "output_type": "stream",
     "text": [
      "Fold 1 | Epoch 54/100: 100%|██████████| 78/78 [00:13<00:00,  5.58it/s]\n"
     ]
    },
    {
     "name": "stdout",
     "output_type": "stream",
     "text": [
      "Fold 1 - Epoch 54 ✅ | Train Acc: 23.51% - Train Loss: 1.6025 | Val Acc: 16.24% - Val Loss: 1.6134\n"
     ]
    },
    {
     "name": "stderr",
     "output_type": "stream",
     "text": [
      "Fold 1 | Epoch 55/100: 100%|██████████| 78/78 [00:14<00:00,  5.54it/s]\n"
     ]
    },
    {
     "name": "stdout",
     "output_type": "stream",
     "text": [
      "Fold 1 - Epoch 55 ✅ | Train Acc: 25.64% - Train Loss: 1.5999 | Val Acc: 16.72% - Val Loss: 1.6081\n"
     ]
    },
    {
     "name": "stderr",
     "output_type": "stream",
     "text": [
      "Fold 1 | Epoch 56/100: 100%|██████████| 78/78 [00:14<00:00,  5.53it/s]\n"
     ]
    },
    {
     "name": "stdout",
     "output_type": "stream",
     "text": [
      "Fold 1 - Epoch 56 ✅ | Train Acc: 24.16% - Train Loss: 1.5946 | Val Acc: 18.65% - Val Loss: 1.6139\n"
     ]
    },
    {
     "name": "stderr",
     "output_type": "stream",
     "text": [
      "Fold 1 | Epoch 57/100: 100%|██████████| 78/78 [00:14<00:00,  5.52it/s]\n"
     ]
    },
    {
     "name": "stdout",
     "output_type": "stream",
     "text": [
      "Fold 1 - Epoch 57 ✅ | Train Acc: 23.79% - Train Loss: 1.6045 | Val Acc: 22.03% - Val Loss: 1.5975\n"
     ]
    },
    {
     "name": "stderr",
     "output_type": "stream",
     "text": [
      "Fold 1 | Epoch 58/100: 100%|██████████| 78/78 [00:14<00:00,  5.54it/s]\n"
     ]
    },
    {
     "name": "stdout",
     "output_type": "stream",
     "text": [
      "Fold 1 - Epoch 58 ✅ | Train Acc: 25.40% - Train Loss: 1.5944 | Val Acc: 24.76% - Val Loss: 1.5985\n"
     ]
    },
    {
     "name": "stderr",
     "output_type": "stream",
     "text": [
      "Fold 1 | Epoch 59/100: 100%|██████████| 78/78 [00:14<00:00,  5.53it/s]\n"
     ]
    },
    {
     "name": "stdout",
     "output_type": "stream",
     "text": [
      "Fold 1 - Epoch 59 ✅ | Train Acc: 22.87% - Train Loss: 1.5974 | Val Acc: 17.20% - Val Loss: 1.6061\n"
     ]
    },
    {
     "name": "stderr",
     "output_type": "stream",
     "text": [
      "Fold 1 | Epoch 60/100: 100%|██████████| 78/78 [00:13<00:00,  5.59it/s]\n"
     ]
    },
    {
     "name": "stdout",
     "output_type": "stream",
     "text": [
      "Fold 1 - Epoch 60 ✅ | Train Acc: 23.59% - Train Loss: 1.6071 | Val Acc: 18.65% - Val Loss: 1.5917\n"
     ]
    },
    {
     "name": "stderr",
     "output_type": "stream",
     "text": [
      "Fold 1 | Epoch 61/100: 100%|██████████| 78/78 [00:13<00:00,  5.57it/s]\n"
     ]
    },
    {
     "name": "stdout",
     "output_type": "stream",
     "text": [
      "Fold 1 - Epoch 61 ✅ | Train Acc: 24.44% - Train Loss: 1.5976 | Val Acc: 25.08% - Val Loss: 1.6109\n"
     ]
    },
    {
     "name": "stderr",
     "output_type": "stream",
     "text": [
      "Fold 1 | Epoch 62/100: 100%|██████████| 78/78 [00:13<00:00,  5.61it/s]\n"
     ]
    },
    {
     "name": "stdout",
     "output_type": "stream",
     "text": [
      "Fold 1 - Epoch 62 ✅ | Train Acc: 23.35% - Train Loss: 1.5922 | Val Acc: 17.52% - Val Loss: 1.6141\n"
     ]
    },
    {
     "name": "stderr",
     "output_type": "stream",
     "text": [
      "Fold 1 | Epoch 63/100: 100%|██████████| 78/78 [00:14<00:00,  5.46it/s]\n"
     ]
    },
    {
     "name": "stdout",
     "output_type": "stream",
     "text": [
      "Fold 1 - Epoch 63 ✅ | Train Acc: 23.91% - Train Loss: 1.5994 | Val Acc: 26.69% - Val Loss: 1.6051\n"
     ]
    },
    {
     "name": "stderr",
     "output_type": "stream",
     "text": [
      "Fold 1 | Epoch 64/100: 100%|██████████| 78/78 [00:14<00:00,  5.47it/s]\n"
     ]
    },
    {
     "name": "stdout",
     "output_type": "stream",
     "text": [
      "Fold 1 - Epoch 64 ✅ | Train Acc: 23.83% - Train Loss: 1.5998 | Val Acc: 24.12% - Val Loss: 1.5960\n"
     ]
    },
    {
     "name": "stderr",
     "output_type": "stream",
     "text": [
      "Fold 1 | Epoch 65/100: 100%|██████████| 78/78 [00:14<00:00,  5.55it/s]\n"
     ]
    },
    {
     "name": "stdout",
     "output_type": "stream",
     "text": [
      "Fold 1 - Epoch 65 ✅ | Train Acc: 23.75% - Train Loss: 1.6054 | Val Acc: 22.99% - Val Loss: 1.6269\n"
     ]
    },
    {
     "name": "stderr",
     "output_type": "stream",
     "text": [
      "Fold 1 | Epoch 66/100: 100%|██████████| 78/78 [00:14<00:00,  5.53it/s]\n"
     ]
    },
    {
     "name": "stdout",
     "output_type": "stream",
     "text": [
      "Fold 1 - Epoch 66 ✅ | Train Acc: 22.95% - Train Loss: 1.6062 | Val Acc: 24.12% - Val Loss: 1.5936\n"
     ]
    },
    {
     "name": "stderr",
     "output_type": "stream",
     "text": [
      "Fold 1 | Epoch 67/100: 100%|██████████| 78/78 [00:14<00:00,  5.53it/s]\n"
     ]
    },
    {
     "name": "stdout",
     "output_type": "stream",
     "text": [
      "Fold 1 - Epoch 67 ✅ | Train Acc: 25.72% - Train Loss: 1.5935 | Val Acc: 26.85% - Val Loss: 1.6147\n"
     ]
    },
    {
     "name": "stderr",
     "output_type": "stream",
     "text": [
      "Fold 1 | Epoch 68/100: 100%|██████████| 78/78 [00:14<00:00,  5.45it/s]\n"
     ]
    },
    {
     "name": "stdout",
     "output_type": "stream",
     "text": [
      "Fold 1 - Epoch 68 ✅ | Train Acc: 24.28% - Train Loss: 1.6016 | Val Acc: 28.94% - Val Loss: 1.5973\n"
     ]
    },
    {
     "name": "stderr",
     "output_type": "stream",
     "text": [
      "Fold 1 | Epoch 69/100: 100%|██████████| 78/78 [00:14<00:00,  5.54it/s]\n"
     ]
    },
    {
     "name": "stdout",
     "output_type": "stream",
     "text": [
      "Fold 1 - Epoch 69 ✅ | Train Acc: 24.48% - Train Loss: 1.5975 | Val Acc: 23.63% - Val Loss: 1.6177\n"
     ]
    },
    {
     "name": "stderr",
     "output_type": "stream",
     "text": [
      "Fold 1 | Epoch 70/100: 100%|██████████| 78/78 [00:14<00:00,  5.56it/s]\n"
     ]
    },
    {
     "name": "stdout",
     "output_type": "stream",
     "text": [
      "Fold 1 - Epoch 70 ✅ | Train Acc: 24.88% - Train Loss: 1.5944 | Val Acc: 27.81% - Val Loss: 1.6146\n"
     ]
    },
    {
     "name": "stderr",
     "output_type": "stream",
     "text": [
      "Fold 1 | Epoch 71/100: 100%|██████████| 78/78 [00:13<00:00,  5.59it/s]\n"
     ]
    },
    {
     "name": "stdout",
     "output_type": "stream",
     "text": [
      "Fold 1 - Epoch 71 ✅ | Train Acc: 24.84% - Train Loss: 1.5976 | Val Acc: 19.13% - Val Loss: 1.6455\n"
     ]
    },
    {
     "name": "stderr",
     "output_type": "stream",
     "text": [
      "Fold 1 | Epoch 72/100: 100%|██████████| 78/78 [00:14<00:00,  5.56it/s]\n"
     ]
    },
    {
     "name": "stdout",
     "output_type": "stream",
     "text": [
      "Fold 1 - Epoch 72 ✅ | Train Acc: 23.79% - Train Loss: 1.6043 | Val Acc: 21.54% - Val Loss: 1.6131\n"
     ]
    },
    {
     "name": "stderr",
     "output_type": "stream",
     "text": [
      "Fold 1 | Epoch 73/100: 100%|██████████| 78/78 [00:13<00:00,  5.59it/s]\n"
     ]
    },
    {
     "name": "stdout",
     "output_type": "stream",
     "text": [
      "Fold 1 - Epoch 73 ✅ | Train Acc: 23.87% - Train Loss: 1.5993 | Val Acc: 24.60% - Val Loss: 1.6092\n"
     ]
    },
    {
     "name": "stderr",
     "output_type": "stream",
     "text": [
      "Fold 1 | Epoch 74/100: 100%|██████████| 78/78 [00:14<00:00,  5.53it/s]\n"
     ]
    },
    {
     "name": "stdout",
     "output_type": "stream",
     "text": [
      "Fold 1 - Epoch 74 ✅ | Train Acc: 25.16% - Train Loss: 1.5962 | Val Acc: 22.99% - Val Loss: 1.5989\n"
     ]
    },
    {
     "name": "stderr",
     "output_type": "stream",
     "text": [
      "Fold 1 | Epoch 75/100: 100%|██████████| 78/78 [00:14<00:00,  5.56it/s]\n"
     ]
    },
    {
     "name": "stdout",
     "output_type": "stream",
     "text": [
      "Fold 1 - Epoch 75 ✅ | Train Acc: 24.68% - Train Loss: 1.5913 | Val Acc: 18.81% - Val Loss: 1.5963\n"
     ]
    },
    {
     "name": "stderr",
     "output_type": "stream",
     "text": [
      "Fold 1 | Epoch 76/100: 100%|██████████| 78/78 [00:14<00:00,  5.52it/s]\n"
     ]
    },
    {
     "name": "stdout",
     "output_type": "stream",
     "text": [
      "Fold 1 - Epoch 76 ✅ | Train Acc: 24.12% - Train Loss: 1.5934 | Val Acc: 26.37% - Val Loss: 1.5951\n"
     ]
    },
    {
     "name": "stderr",
     "output_type": "stream",
     "text": [
      "Fold 1 | Epoch 77/100: 100%|██████████| 78/78 [00:13<00:00,  5.60it/s]\n"
     ]
    },
    {
     "name": "stdout",
     "output_type": "stream",
     "text": [
      "Fold 1 - Epoch 77 ✅ | Train Acc: 24.56% - Train Loss: 1.6000 | Val Acc: 17.20% - Val Loss: 1.6006\n"
     ]
    },
    {
     "name": "stderr",
     "output_type": "stream",
     "text": [
      "Fold 1 | Epoch 78/100: 100%|██████████| 78/78 [00:14<00:00,  5.53it/s]\n"
     ]
    },
    {
     "name": "stdout",
     "output_type": "stream",
     "text": [
      "Fold 1 - Epoch 78 ✅ | Train Acc: 23.59% - Train Loss: 1.5948 | Val Acc: 17.68% - Val Loss: 1.6022\n"
     ]
    },
    {
     "name": "stderr",
     "output_type": "stream",
     "text": [
      "Fold 1 | Epoch 79/100: 100%|██████████| 78/78 [00:14<00:00,  5.52it/s]\n"
     ]
    },
    {
     "name": "stdout",
     "output_type": "stream",
     "text": [
      "Fold 1 - Epoch 79 ✅ | Train Acc: 25.00% - Train Loss: 1.5987 | Val Acc: 25.72% - Val Loss: 1.6269\n"
     ]
    },
    {
     "name": "stderr",
     "output_type": "stream",
     "text": [
      "Fold 1 | Epoch 80/100: 100%|██████████| 78/78 [00:14<00:00,  5.53it/s]\n"
     ]
    },
    {
     "name": "stdout",
     "output_type": "stream",
     "text": [
      "Fold 1 - Epoch 80 ✅ | Train Acc: 24.92% - Train Loss: 1.5932 | Val Acc: 24.12% - Val Loss: 1.6551\n"
     ]
    },
    {
     "name": "stderr",
     "output_type": "stream",
     "text": [
      "Fold 1 | Epoch 81/100: 100%|██████████| 78/78 [00:14<00:00,  5.52it/s]\n"
     ]
    },
    {
     "name": "stdout",
     "output_type": "stream",
     "text": [
      "Fold 1 - Epoch 81 ✅ | Train Acc: 24.04% - Train Loss: 1.5995 | Val Acc: 25.40% - Val Loss: 1.6169\n"
     ]
    },
    {
     "name": "stderr",
     "output_type": "stream",
     "text": [
      "Fold 1 | Epoch 82/100: 100%|██████████| 78/78 [00:14<00:00,  5.53it/s]\n"
     ]
    },
    {
     "name": "stdout",
     "output_type": "stream",
     "text": [
      "Fold 1 - Epoch 82 ✅ | Train Acc: 23.95% - Train Loss: 1.6059 | Val Acc: 24.76% - Val Loss: 1.6875\n"
     ]
    },
    {
     "name": "stderr",
     "output_type": "stream",
     "text": [
      "Fold 1 | Epoch 83/100: 100%|██████████| 78/78 [00:14<00:00,  5.52it/s]\n"
     ]
    },
    {
     "name": "stdout",
     "output_type": "stream",
     "text": [
      "Fold 1 - Epoch 83 ✅ | Train Acc: 25.52% - Train Loss: 1.5948 | Val Acc: 27.97% - Val Loss: 1.6201\n"
     ]
    },
    {
     "name": "stderr",
     "output_type": "stream",
     "text": [
      "Fold 1 | Epoch 84/100: 100%|██████████| 78/78 [00:13<00:00,  5.59it/s]\n"
     ]
    },
    {
     "name": "stdout",
     "output_type": "stream",
     "text": [
      "Fold 1 - Epoch 84 ✅ | Train Acc: 22.87% - Train Loss: 1.5968 | Val Acc: 26.37% - Val Loss: 1.5985\n"
     ]
    },
    {
     "name": "stderr",
     "output_type": "stream",
     "text": [
      "Fold 1 | Epoch 85/100: 100%|██████████| 78/78 [00:14<00:00,  5.53it/s]\n"
     ]
    },
    {
     "name": "stdout",
     "output_type": "stream",
     "text": [
      "Fold 1 - Epoch 85 ✅ | Train Acc: 24.40% - Train Loss: 1.6018 | Val Acc: 26.53% - Val Loss: 1.6082\n"
     ]
    },
    {
     "name": "stderr",
     "output_type": "stream",
     "text": [
      "Fold 1 | Epoch 86/100: 100%|██████████| 78/78 [00:14<00:00,  5.54it/s]\n"
     ]
    },
    {
     "name": "stdout",
     "output_type": "stream",
     "text": [
      "Fold 1 - Epoch 86 ✅ | Train Acc: 24.04% - Train Loss: 1.5967 | Val Acc: 24.60% - Val Loss: 1.5952\n"
     ]
    },
    {
     "name": "stderr",
     "output_type": "stream",
     "text": [
      "Fold 1 | Epoch 87/100: 100%|██████████| 78/78 [00:14<00:00,  5.46it/s]\n"
     ]
    },
    {
     "name": "stdout",
     "output_type": "stream",
     "text": [
      "Fold 1 - Epoch 87 ✅ | Train Acc: 24.36% - Train Loss: 1.5951 | Val Acc: 27.33% - Val Loss: 1.6088\n"
     ]
    },
    {
     "name": "stderr",
     "output_type": "stream",
     "text": [
      "Fold 1 | Epoch 88/100: 100%|██████████| 78/78 [00:14<00:00,  5.51it/s]\n"
     ]
    },
    {
     "name": "stdout",
     "output_type": "stream",
     "text": [
      "Fold 1 - Epoch 88 ✅ | Train Acc: 24.88% - Train Loss: 1.5938 | Val Acc: 25.24% - Val Loss: 1.5980\n"
     ]
    },
    {
     "name": "stderr",
     "output_type": "stream",
     "text": [
      "Fold 1 | Epoch 89/100: 100%|██████████| 78/78 [00:14<00:00,  5.53it/s]\n"
     ]
    },
    {
     "name": "stdout",
     "output_type": "stream",
     "text": [
      "Fold 1 - Epoch 89 ✅ | Train Acc: 22.67% - Train Loss: 1.6097 | Val Acc: 27.33% - Val Loss: 1.6547\n"
     ]
    },
    {
     "name": "stderr",
     "output_type": "stream",
     "text": [
      "Fold 1 | Epoch 90/100: 100%|██████████| 78/78 [00:14<00:00,  5.54it/s]\n"
     ]
    },
    {
     "name": "stdout",
     "output_type": "stream",
     "text": [
      "Fold 1 - Epoch 90 ✅ | Train Acc: 25.20% - Train Loss: 1.5887 | Val Acc: 22.67% - Val Loss: 1.5990\n"
     ]
    },
    {
     "name": "stderr",
     "output_type": "stream",
     "text": [
      "Fold 1 | Epoch 91/100: 100%|██████████| 78/78 [00:14<00:00,  5.44it/s]\n"
     ]
    },
    {
     "name": "stdout",
     "output_type": "stream",
     "text": [
      "Fold 1 - Epoch 91 ✅ | Train Acc: 25.08% - Train Loss: 1.5963 | Val Acc: 17.68% - Val Loss: 1.6466\n"
     ]
    },
    {
     "name": "stderr",
     "output_type": "stream",
     "text": [
      "Fold 1 | Epoch 92/100: 100%|██████████| 78/78 [00:14<00:00,  5.52it/s]\n"
     ]
    },
    {
     "name": "stdout",
     "output_type": "stream",
     "text": [
      "Fold 1 - Epoch 92 ✅ | Train Acc: 23.91% - Train Loss: 1.5948 | Val Acc: 25.56% - Val Loss: 1.6490\n"
     ]
    },
    {
     "name": "stderr",
     "output_type": "stream",
     "text": [
      "Fold 1 | Epoch 93/100: 100%|██████████| 78/78 [00:14<00:00,  5.53it/s]\n"
     ]
    },
    {
     "name": "stdout",
     "output_type": "stream",
     "text": [
      "Fold 1 - Epoch 93 ✅ | Train Acc: 24.16% - Train Loss: 1.5929 | Val Acc: 25.72% - Val Loss: 1.6099\n"
     ]
    },
    {
     "name": "stderr",
     "output_type": "stream",
     "text": [
      "Fold 1 | Epoch 94/100: 100%|██████████| 78/78 [00:13<00:00,  5.59it/s]\n"
     ]
    },
    {
     "name": "stdout",
     "output_type": "stream",
     "text": [
      "Fold 1 - Epoch 94 ✅ | Train Acc: 24.84% - Train Loss: 1.5917 | Val Acc: 18.17% - Val Loss: 1.5971\n"
     ]
    },
    {
     "name": "stderr",
     "output_type": "stream",
     "text": [
      "Fold 1 | Epoch 95/100: 100%|██████████| 78/78 [00:14<00:00,  5.52it/s]\n"
     ]
    },
    {
     "name": "stdout",
     "output_type": "stream",
     "text": [
      "Fold 1 - Epoch 95 ✅ | Train Acc: 24.56% - Train Loss: 1.5995 | Val Acc: 21.54% - Val Loss: 1.6351\n"
     ]
    },
    {
     "name": "stderr",
     "output_type": "stream",
     "text": [
      "Fold 1 | Epoch 96/100: 100%|██████████| 78/78 [00:14<00:00,  5.54it/s]\n"
     ]
    },
    {
     "name": "stdout",
     "output_type": "stream",
     "text": [
      "Fold 1 - Epoch 96 ✅ | Train Acc: 24.00% - Train Loss: 1.6015 | Val Acc: 24.92% - Val Loss: 1.6248\n"
     ]
    },
    {
     "name": "stderr",
     "output_type": "stream",
     "text": [
      "Fold 1 | Epoch 97/100: 100%|██████████| 78/78 [00:14<00:00,  5.52it/s]\n"
     ]
    },
    {
     "name": "stdout",
     "output_type": "stream",
     "text": [
      "Fold 1 - Epoch 97 ✅ | Train Acc: 25.76% - Train Loss: 1.5911 | Val Acc: 23.47% - Val Loss: 1.5903\n"
     ]
    },
    {
     "name": "stderr",
     "output_type": "stream",
     "text": [
      "Fold 1 | Epoch 98/100: 100%|██████████| 78/78 [00:14<00:00,  5.53it/s]\n"
     ]
    },
    {
     "name": "stdout",
     "output_type": "stream",
     "text": [
      "Fold 1 - Epoch 98 ✅ | Train Acc: 25.12% - Train Loss: 1.5958 | Val Acc: 22.03% - Val Loss: 1.6136\n"
     ]
    },
    {
     "name": "stderr",
     "output_type": "stream",
     "text": [
      "Fold 1 | Epoch 99/100: 100%|██████████| 78/78 [00:14<00:00,  5.53it/s]\n"
     ]
    },
    {
     "name": "stdout",
     "output_type": "stream",
     "text": [
      "Fold 1 - Epoch 99 ✅ | Train Acc: 26.53% - Train Loss: 1.5837 | Val Acc: 21.22% - Val Loss: 1.6527\n"
     ]
    },
    {
     "name": "stderr",
     "output_type": "stream",
     "text": [
      "Fold 1 | Epoch 100/100: 100%|██████████| 78/78 [00:14<00:00,  5.51it/s]\n"
     ]
    },
    {
     "name": "stdout",
     "output_type": "stream",
     "text": [
      "Fold 1 - Epoch 100 ✅ | Train Acc: 26.13% - Train Loss: 1.5860 | Val Acc: 26.37% - Val Loss: 1.6008\n",
      "\n",
      "📂 Fold 2/5\n"
     ]
    },
    {
     "name": "stderr",
     "output_type": "stream",
     "text": [
      "Fold 2 | Epoch 1/100: 100%|██████████| 78/78 [00:14<00:00,  5.45it/s]\n"
     ]
    },
    {
     "name": "stdout",
     "output_type": "stream",
     "text": [
      "Fold 2 - Epoch 1 ✅ | Train Acc: 20.86% - Train Loss: 1.6257 | Val Acc: 23.95% - Val Loss: 1.6486\n"
     ]
    },
    {
     "name": "stderr",
     "output_type": "stream",
     "text": [
      "Fold 2 | Epoch 2/100: 100%|██████████| 78/78 [00:14<00:00,  5.52it/s]\n"
     ]
    },
    {
     "name": "stdout",
     "output_type": "stream",
     "text": [
      "Fold 2 - Epoch 2 ✅ | Train Acc: 21.10% - Train Loss: 1.6277 | Val Acc: 26.21% - Val Loss: 1.6499\n"
     ]
    },
    {
     "name": "stderr",
     "output_type": "stream",
     "text": [
      "Fold 2 | Epoch 3/100: 100%|██████████| 78/78 [00:14<00:00,  5.53it/s]\n"
     ]
    },
    {
     "name": "stdout",
     "output_type": "stream",
     "text": [
      "Fold 2 - Epoch 3 ✅ | Train Acc: 21.78% - Train Loss: 1.6101 | Val Acc: 23.31% - Val Loss: 1.6223\n"
     ]
    },
    {
     "name": "stderr",
     "output_type": "stream",
     "text": [
      "Fold 2 | Epoch 4/100: 100%|██████████| 78/78 [00:14<00:00,  5.52it/s]\n"
     ]
    },
    {
     "name": "stdout",
     "output_type": "stream",
     "text": [
      "Fold 2 - Epoch 4 ✅ | Train Acc: 21.74% - Train Loss: 1.6322 | Val Acc: 24.12% - Val Loss: 1.6652\n"
     ]
    },
    {
     "name": "stderr",
     "output_type": "stream",
     "text": [
      "Fold 2 | Epoch 5/100: 100%|██████████| 78/78 [00:14<00:00,  5.46it/s]\n"
     ]
    },
    {
     "name": "stdout",
     "output_type": "stream",
     "text": [
      "Fold 2 - Epoch 5 ✅ | Train Acc: 22.39% - Train Loss: 1.6214 | Val Acc: 24.44% - Val Loss: 1.6072\n"
     ]
    },
    {
     "name": "stderr",
     "output_type": "stream",
     "text": [
      "Fold 2 | Epoch 6/100: 100%|██████████| 78/78 [00:14<00:00,  5.47it/s]\n"
     ]
    },
    {
     "name": "stdout",
     "output_type": "stream",
     "text": [
      "Fold 2 - Epoch 6 ✅ | Train Acc: 22.83% - Train Loss: 1.6136 | Val Acc: 23.63% - Val Loss: 1.6316\n"
     ]
    },
    {
     "name": "stderr",
     "output_type": "stream",
     "text": [
      "Fold 2 | Epoch 7/100: 100%|██████████| 78/78 [00:14<00:00,  5.46it/s]\n"
     ]
    },
    {
     "name": "stdout",
     "output_type": "stream",
     "text": [
      "Fold 2 - Epoch 7 ✅ | Train Acc: 23.75% - Train Loss: 1.6148 | Val Acc: 21.54% - Val Loss: 1.6364\n"
     ]
    },
    {
     "name": "stderr",
     "output_type": "stream",
     "text": [
      "Fold 2 | Epoch 8/100: 100%|██████████| 78/78 [00:14<00:00,  5.50it/s]\n"
     ]
    },
    {
     "name": "stdout",
     "output_type": "stream",
     "text": [
      "Fold 2 - Epoch 8 ✅ | Train Acc: 21.82% - Train Loss: 1.6224 | Val Acc: 19.61% - Val Loss: 1.6153\n"
     ]
    },
    {
     "name": "stderr",
     "output_type": "stream",
     "text": [
      "Fold 2 | Epoch 9/100: 100%|██████████| 78/78 [00:14<00:00,  5.52it/s]\n"
     ]
    },
    {
     "name": "stdout",
     "output_type": "stream",
     "text": [
      "Fold 2 - Epoch 9 ✅ | Train Acc: 21.91% - Train Loss: 1.6161 | Val Acc: 23.79% - Val Loss: 1.6303\n"
     ]
    },
    {
     "name": "stderr",
     "output_type": "stream",
     "text": [
      "Fold 2 | Epoch 10/100: 100%|██████████| 78/78 [00:14<00:00,  5.51it/s]\n"
     ]
    },
    {
     "name": "stdout",
     "output_type": "stream",
     "text": [
      "Fold 2 - Epoch 10 ✅ | Train Acc: 24.40% - Train Loss: 1.5991 | Val Acc: 25.56% - Val Loss: 1.6269\n"
     ]
    },
    {
     "name": "stderr",
     "output_type": "stream",
     "text": [
      "Fold 2 | Epoch 11/100: 100%|██████████| 78/78 [00:14<00:00,  5.44it/s]\n"
     ]
    },
    {
     "name": "stdout",
     "output_type": "stream",
     "text": [
      "Fold 2 - Epoch 11 ✅ | Train Acc: 24.16% - Train Loss: 1.6138 | Val Acc: 25.40% - Val Loss: 1.6306\n"
     ]
    },
    {
     "name": "stderr",
     "output_type": "stream",
     "text": [
      "Fold 2 | Epoch 12/100: 100%|██████████| 78/78 [00:14<00:00,  5.52it/s]\n"
     ]
    },
    {
     "name": "stdout",
     "output_type": "stream",
     "text": [
      "Fold 2 - Epoch 12 ✅ | Train Acc: 22.51% - Train Loss: 1.6140 | Val Acc: 21.86% - Val Loss: 1.6330\n"
     ]
    },
    {
     "name": "stderr",
     "output_type": "stream",
     "text": [
      "Fold 2 | Epoch 13/100: 100%|██████████| 78/78 [00:14<00:00,  5.45it/s]\n"
     ]
    },
    {
     "name": "stdout",
     "output_type": "stream",
     "text": [
      "Fold 2 - Epoch 13 ✅ | Train Acc: 24.12% - Train Loss: 1.6093 | Val Acc: 21.38% - Val Loss: 1.6201\n"
     ]
    },
    {
     "name": "stderr",
     "output_type": "stream",
     "text": [
      "Fold 2 | Epoch 14/100: 100%|██████████| 78/78 [00:14<00:00,  5.51it/s]\n"
     ]
    },
    {
     "name": "stdout",
     "output_type": "stream",
     "text": [
      "Fold 2 - Epoch 14 ✅ | Train Acc: 22.31% - Train Loss: 1.6095 | Val Acc: 23.31% - Val Loss: 1.6611\n"
     ]
    },
    {
     "name": "stderr",
     "output_type": "stream",
     "text": [
      "Fold 2 | Epoch 15/100: 100%|██████████| 78/78 [00:14<00:00,  5.53it/s]\n"
     ]
    },
    {
     "name": "stdout",
     "output_type": "stream",
     "text": [
      "Fold 2 - Epoch 15 ✅ | Train Acc: 25.08% - Train Loss: 1.6146 | Val Acc: 21.06% - Val Loss: 1.6303\n"
     ]
    },
    {
     "name": "stderr",
     "output_type": "stream",
     "text": [
      "Fold 2 | Epoch 16/100: 100%|██████████| 78/78 [00:13<00:00,  5.60it/s]\n"
     ]
    },
    {
     "name": "stdout",
     "output_type": "stream",
     "text": [
      "Fold 2 - Epoch 16 ✅ | Train Acc: 22.95% - Train Loss: 1.6058 | Val Acc: 22.03% - Val Loss: 1.6445\n"
     ]
    },
    {
     "name": "stderr",
     "output_type": "stream",
     "text": [
      "Fold 2 | Epoch 17/100: 100%|██████████| 78/78 [00:14<00:00,  5.47it/s]\n"
     ]
    },
    {
     "name": "stdout",
     "output_type": "stream",
     "text": [
      "Fold 2 - Epoch 17 ✅ | Train Acc: 25.00% - Train Loss: 1.6098 | Val Acc: 18.33% - Val Loss: 1.6134\n"
     ]
    },
    {
     "name": "stderr",
     "output_type": "stream",
     "text": [
      "Fold 2 | Epoch 18/100: 100%|██████████| 78/78 [00:13<00:00,  5.59it/s]\n"
     ]
    },
    {
     "name": "stdout",
     "output_type": "stream",
     "text": [
      "Fold 2 - Epoch 18 ✅ | Train Acc: 23.23% - Train Loss: 1.6142 | Val Acc: 22.51% - Val Loss: 1.6396\n"
     ]
    },
    {
     "name": "stderr",
     "output_type": "stream",
     "text": [
      "Fold 2 | Epoch 19/100: 100%|██████████| 78/78 [00:14<00:00,  5.54it/s]\n"
     ]
    },
    {
     "name": "stdout",
     "output_type": "stream",
     "text": [
      "Fold 2 - Epoch 19 ✅ | Train Acc: 24.52% - Train Loss: 1.6012 | Val Acc: 20.58% - Val Loss: 1.6247\n"
     ]
    },
    {
     "name": "stderr",
     "output_type": "stream",
     "text": [
      "Fold 2 | Epoch 20/100: 100%|██████████| 78/78 [00:14<00:00,  5.54it/s]\n"
     ]
    },
    {
     "name": "stdout",
     "output_type": "stream",
     "text": [
      "Fold 2 - Epoch 20 ✅ | Train Acc: 24.00% - Train Loss: 1.6035 | Val Acc: 23.31% - Val Loss: 1.6306\n"
     ]
    },
    {
     "name": "stderr",
     "output_type": "stream",
     "text": [
      "Fold 2 | Epoch 21/100: 100%|██████████| 78/78 [00:14<00:00,  5.51it/s]\n"
     ]
    },
    {
     "name": "stdout",
     "output_type": "stream",
     "text": [
      "Fold 2 - Epoch 21 ✅ | Train Acc: 23.27% - Train Loss: 1.6172 | Val Acc: 20.10% - Val Loss: 1.6608\n"
     ]
    },
    {
     "name": "stderr",
     "output_type": "stream",
     "text": [
      "Fold 2 | Epoch 22/100: 100%|██████████| 78/78 [00:14<00:00,  5.44it/s]\n"
     ]
    },
    {
     "name": "stdout",
     "output_type": "stream",
     "text": [
      "Fold 2 - Epoch 22 ✅ | Train Acc: 24.80% - Train Loss: 1.5967 | Val Acc: 20.90% - Val Loss: 1.6400\n"
     ]
    },
    {
     "name": "stderr",
     "output_type": "stream",
     "text": [
      "Fold 2 | Epoch 23/100: 100%|██████████| 78/78 [00:14<00:00,  5.52it/s]\n"
     ]
    },
    {
     "name": "stdout",
     "output_type": "stream",
     "text": [
      "Fold 2 - Epoch 23 ✅ | Train Acc: 23.15% - Train Loss: 1.6143 | Val Acc: 22.19% - Val Loss: 1.6447\n"
     ]
    },
    {
     "name": "stderr",
     "output_type": "stream",
     "text": [
      "Fold 2 | Epoch 24/100: 100%|██████████| 78/78 [00:13<00:00,  5.60it/s]\n"
     ]
    },
    {
     "name": "stdout",
     "output_type": "stream",
     "text": [
      "Fold 2 - Epoch 24 ✅ | Train Acc: 24.16% - Train Loss: 1.6050 | Val Acc: 24.92% - Val Loss: 1.6263\n"
     ]
    },
    {
     "name": "stderr",
     "output_type": "stream",
     "text": [
      "Fold 2 | Epoch 25/100: 100%|██████████| 78/78 [00:14<00:00,  5.53it/s]\n"
     ]
    },
    {
     "name": "stdout",
     "output_type": "stream",
     "text": [
      "Fold 2 - Epoch 25 ✅ | Train Acc: 23.87% - Train Loss: 1.6048 | Val Acc: 23.79% - Val Loss: 1.6540\n"
     ]
    },
    {
     "name": "stderr",
     "output_type": "stream",
     "text": [
      "Fold 2 | Epoch 26/100: 100%|██████████| 78/78 [00:13<00:00,  5.59it/s]\n"
     ]
    },
    {
     "name": "stdout",
     "output_type": "stream",
     "text": [
      "Fold 2 - Epoch 26 ✅ | Train Acc: 23.39% - Train Loss: 1.6055 | Val Acc: 17.52% - Val Loss: 1.6208\n"
     ]
    },
    {
     "name": "stderr",
     "output_type": "stream",
     "text": [
      "Fold 2 | Epoch 27/100: 100%|██████████| 78/78 [00:14<00:00,  5.53it/s]\n"
     ]
    },
    {
     "name": "stdout",
     "output_type": "stream",
     "text": [
      "Fold 2 - Epoch 27 ✅ | Train Acc: 25.84% - Train Loss: 1.5963 | Val Acc: 18.49% - Val Loss: 1.6389\n"
     ]
    },
    {
     "name": "stderr",
     "output_type": "stream",
     "text": [
      "Fold 2 | Epoch 28/100: 100%|██████████| 78/78 [00:14<00:00,  5.53it/s]\n"
     ]
    },
    {
     "name": "stdout",
     "output_type": "stream",
     "text": [
      "Fold 2 - Epoch 28 ✅ | Train Acc: 24.36% - Train Loss: 1.6039 | Val Acc: 19.94% - Val Loss: 1.6265\n"
     ]
    },
    {
     "name": "stderr",
     "output_type": "stream",
     "text": [
      "Fold 2 | Epoch 29/100: 100%|██████████| 78/78 [00:14<00:00,  5.52it/s]\n"
     ]
    },
    {
     "name": "stdout",
     "output_type": "stream",
     "text": [
      "Fold 2 - Epoch 29 ✅ | Train Acc: 24.56% - Train Loss: 1.6070 | Val Acc: 21.38% - Val Loss: 1.6278\n"
     ]
    },
    {
     "name": "stderr",
     "output_type": "stream",
     "text": [
      "Fold 2 | Epoch 30/100: 100%|██████████| 78/78 [00:14<00:00,  5.53it/s]\n"
     ]
    },
    {
     "name": "stdout",
     "output_type": "stream",
     "text": [
      "Fold 2 - Epoch 30 ✅ | Train Acc: 24.36% - Train Loss: 1.6082 | Val Acc: 17.52% - Val Loss: 1.6204\n"
     ]
    },
    {
     "name": "stderr",
     "output_type": "stream",
     "text": [
      "Fold 2 | Epoch 31/100: 100%|██████████| 78/78 [00:13<00:00,  5.58it/s]\n"
     ]
    },
    {
     "name": "stdout",
     "output_type": "stream",
     "text": [
      "Fold 2 - Epoch 31 ✅ | Train Acc: 24.36% - Train Loss: 1.5907 | Val Acc: 23.47% - Val Loss: 1.6610\n"
     ]
    },
    {
     "name": "stderr",
     "output_type": "stream",
     "text": [
      "Fold 2 | Epoch 32/100: 100%|██████████| 78/78 [00:14<00:00,  5.52it/s]\n"
     ]
    },
    {
     "name": "stdout",
     "output_type": "stream",
     "text": [
      "Fold 2 - Epoch 32 ✅ | Train Acc: 25.24% - Train Loss: 1.5984 | Val Acc: 18.17% - Val Loss: 1.6237\n"
     ]
    },
    {
     "name": "stderr",
     "output_type": "stream",
     "text": [
      "Fold 2 | Epoch 33/100: 100%|██████████| 78/78 [00:14<00:00,  5.45it/s]\n"
     ]
    },
    {
     "name": "stdout",
     "output_type": "stream",
     "text": [
      "Fold 2 - Epoch 33 ✅ | Train Acc: 25.00% - Train Loss: 1.5924 | Val Acc: 23.95% - Val Loss: 1.6256\n"
     ]
    },
    {
     "name": "stderr",
     "output_type": "stream",
     "text": [
      "Fold 2 | Epoch 34/100: 100%|██████████| 78/78 [00:14<00:00,  5.52it/s]\n"
     ]
    },
    {
     "name": "stdout",
     "output_type": "stream",
     "text": [
      "Fold 2 - Epoch 34 ✅ | Train Acc: 24.20% - Train Loss: 1.5994 | Val Acc: 18.49% - Val Loss: 1.6213\n"
     ]
    },
    {
     "name": "stderr",
     "output_type": "stream",
     "text": [
      "Fold 2 | Epoch 35/100: 100%|██████████| 78/78 [00:14<00:00,  5.56it/s]\n"
     ]
    },
    {
     "name": "stdout",
     "output_type": "stream",
     "text": [
      "Fold 2 - Epoch 35 ✅ | Train Acc: 23.87% - Train Loss: 1.6015 | Val Acc: 24.76% - Val Loss: 1.6623\n"
     ]
    },
    {
     "name": "stderr",
     "output_type": "stream",
     "text": [
      "Fold 2 | Epoch 36/100: 100%|██████████| 78/78 [00:13<00:00,  5.59it/s]\n"
     ]
    },
    {
     "name": "stdout",
     "output_type": "stream",
     "text": [
      "Fold 2 - Epoch 36 ✅ | Train Acc: 24.20% - Train Loss: 1.5908 | Val Acc: 24.44% - Val Loss: 1.6584\n"
     ]
    },
    {
     "name": "stderr",
     "output_type": "stream",
     "text": [
      "Fold 2 | Epoch 37/100: 100%|██████████| 78/78 [00:14<00:00,  5.52it/s]\n"
     ]
    },
    {
     "name": "stdout",
     "output_type": "stream",
     "text": [
      "Fold 2 - Epoch 37 ✅ | Train Acc: 24.76% - Train Loss: 1.6057 | Val Acc: 21.70% - Val Loss: 1.6602\n"
     ]
    },
    {
     "name": "stderr",
     "output_type": "stream",
     "text": [
      "Fold 2 | Epoch 38/100: 100%|██████████| 78/78 [00:14<00:00,  5.51it/s]\n"
     ]
    },
    {
     "name": "stdout",
     "output_type": "stream",
     "text": [
      "Fold 2 - Epoch 38 ✅ | Train Acc: 23.15% - Train Loss: 1.5938 | Val Acc: 19.13% - Val Loss: 1.6160\n"
     ]
    },
    {
     "name": "stderr",
     "output_type": "stream",
     "text": [
      "Fold 2 | Epoch 39/100: 100%|██████████| 78/78 [00:14<00:00,  5.52it/s]\n"
     ]
    },
    {
     "name": "stdout",
     "output_type": "stream",
     "text": [
      "Fold 2 - Epoch 39 ✅ | Train Acc: 23.43% - Train Loss: 1.6058 | Val Acc: 25.72% - Val Loss: 1.6555\n"
     ]
    },
    {
     "name": "stderr",
     "output_type": "stream",
     "text": [
      "Fold 2 | Epoch 40/100: 100%|██████████| 78/78 [00:14<00:00,  5.45it/s]\n"
     ]
    },
    {
     "name": "stdout",
     "output_type": "stream",
     "text": [
      "Fold 2 - Epoch 40 ✅ | Train Acc: 24.04% - Train Loss: 1.6071 | Val Acc: 26.37% - Val Loss: 1.6586\n"
     ]
    },
    {
     "name": "stderr",
     "output_type": "stream",
     "text": [
      "Fold 2 | Epoch 41/100: 100%|██████████| 78/78 [00:14<00:00,  5.52it/s]\n"
     ]
    },
    {
     "name": "stdout",
     "output_type": "stream",
     "text": [
      "Fold 2 - Epoch 41 ✅ | Train Acc: 24.88% - Train Loss: 1.5954 | Val Acc: 22.67% - Val Loss: 1.6225\n"
     ]
    },
    {
     "name": "stderr",
     "output_type": "stream",
     "text": [
      "Fold 2 | Epoch 42/100: 100%|██████████| 78/78 [00:13<00:00,  5.58it/s]\n"
     ]
    },
    {
     "name": "stdout",
     "output_type": "stream",
     "text": [
      "Fold 2 - Epoch 42 ✅ | Train Acc: 23.87% - Train Loss: 1.6004 | Val Acc: 18.49% - Val Loss: 1.6483\n"
     ]
    },
    {
     "name": "stderr",
     "output_type": "stream",
     "text": [
      "Fold 2 | Epoch 43/100: 100%|██████████| 78/78 [00:14<00:00,  5.56it/s]\n"
     ]
    },
    {
     "name": "stdout",
     "output_type": "stream",
     "text": [
      "Fold 2 - Epoch 43 ✅ | Train Acc: 25.04% - Train Loss: 1.5925 | Val Acc: 19.94% - Val Loss: 1.6336\n"
     ]
    },
    {
     "name": "stderr",
     "output_type": "stream",
     "text": [
      "Fold 2 | Epoch 44/100: 100%|██████████| 78/78 [00:14<00:00,  5.47it/s]\n"
     ]
    },
    {
     "name": "stdout",
     "output_type": "stream",
     "text": [
      "Fold 2 - Epoch 44 ✅ | Train Acc: 25.04% - Train Loss: 1.5947 | Val Acc: 25.24% - Val Loss: 1.6407\n"
     ]
    },
    {
     "name": "stderr",
     "output_type": "stream",
     "text": [
      "Fold 2 | Epoch 45/100: 100%|██████████| 78/78 [00:14<00:00,  5.44it/s]\n"
     ]
    },
    {
     "name": "stdout",
     "output_type": "stream",
     "text": [
      "Fold 2 - Epoch 45 ✅ | Train Acc: 24.04% - Train Loss: 1.6179 | Val Acc: 22.35% - Val Loss: 1.6220\n"
     ]
    },
    {
     "name": "stderr",
     "output_type": "stream",
     "text": [
      "Fold 2 | Epoch 46/100: 100%|██████████| 78/78 [00:14<00:00,  5.52it/s]\n"
     ]
    },
    {
     "name": "stdout",
     "output_type": "stream",
     "text": [
      "Fold 2 - Epoch 46 ✅ | Train Acc: 24.76% - Train Loss: 1.5928 | Val Acc: 24.12% - Val Loss: 1.6446\n"
     ]
    },
    {
     "name": "stderr",
     "output_type": "stream",
     "text": [
      "Fold 2 | Epoch 47/100: 100%|██████████| 78/78 [00:13<00:00,  5.58it/s]\n"
     ]
    },
    {
     "name": "stdout",
     "output_type": "stream",
     "text": [
      "Fold 2 - Epoch 47 ✅ | Train Acc: 24.84% - Train Loss: 1.5938 | Val Acc: 18.33% - Val Loss: 1.6311\n"
     ]
    },
    {
     "name": "stderr",
     "output_type": "stream",
     "text": [
      "Fold 2 | Epoch 48/100: 100%|██████████| 78/78 [00:14<00:00,  5.53it/s]\n"
     ]
    },
    {
     "name": "stdout",
     "output_type": "stream",
     "text": [
      "Fold 2 - Epoch 48 ✅ | Train Acc: 24.32% - Train Loss: 1.5916 | Val Acc: 25.56% - Val Loss: 1.6529\n"
     ]
    },
    {
     "name": "stderr",
     "output_type": "stream",
     "text": [
      "Fold 2 | Epoch 49/100: 100%|██████████| 78/78 [00:14<00:00,  5.53it/s]\n"
     ]
    },
    {
     "name": "stdout",
     "output_type": "stream",
     "text": [
      "Fold 2 - Epoch 49 ✅ | Train Acc: 24.32% - Train Loss: 1.6022 | Val Acc: 21.54% - Val Loss: 1.6366\n"
     ]
    },
    {
     "name": "stderr",
     "output_type": "stream",
     "text": [
      "Fold 2 | Epoch 50/100: 100%|██████████| 78/78 [00:14<00:00,  5.51it/s]\n"
     ]
    },
    {
     "name": "stdout",
     "output_type": "stream",
     "text": [
      "Fold 2 - Epoch 50 ✅ | Train Acc: 24.56% - Train Loss: 1.6033 | Val Acc: 14.79% - Val Loss: 1.6289\n"
     ]
    },
    {
     "name": "stderr",
     "output_type": "stream",
     "text": [
      "Fold 2 | Epoch 51/100: 100%|██████████| 78/78 [00:14<00:00,  5.52it/s]\n"
     ]
    },
    {
     "name": "stdout",
     "output_type": "stream",
     "text": [
      "Fold 2 - Epoch 51 ✅ | Train Acc: 24.48% - Train Loss: 1.5976 | Val Acc: 26.21% - Val Loss: 1.6532\n"
     ]
    },
    {
     "name": "stderr",
     "output_type": "stream",
     "text": [
      "Fold 2 | Epoch 52/100: 100%|██████████| 78/78 [00:14<00:00,  5.51it/s]\n"
     ]
    },
    {
     "name": "stdout",
     "output_type": "stream",
     "text": [
      "Fold 2 - Epoch 52 ✅ | Train Acc: 23.71% - Train Loss: 1.5925 | Val Acc: 25.72% - Val Loss: 1.6287\n"
     ]
    },
    {
     "name": "stderr",
     "output_type": "stream",
     "text": [
      "Fold 2 | Epoch 53/100: 100%|██████████| 78/78 [00:14<00:00,  5.52it/s]\n"
     ]
    },
    {
     "name": "stdout",
     "output_type": "stream",
     "text": [
      "Fold 2 - Epoch 53 ✅ | Train Acc: 24.68% - Train Loss: 1.5979 | Val Acc: 25.08% - Val Loss: 1.6515\n"
     ]
    },
    {
     "name": "stderr",
     "output_type": "stream",
     "text": [
      "Fold 2 | Epoch 54/100: 100%|██████████| 78/78 [00:14<00:00,  5.47it/s]\n"
     ]
    },
    {
     "name": "stdout",
     "output_type": "stream",
     "text": [
      "Fold 2 - Epoch 54 ✅ | Train Acc: 26.57% - Train Loss: 1.5853 | Val Acc: 18.65% - Val Loss: 1.6257\n"
     ]
    },
    {
     "name": "stderr",
     "output_type": "stream",
     "text": [
      "Fold 2 | Epoch 55/100: 100%|██████████| 78/78 [00:14<00:00,  5.44it/s]\n"
     ]
    },
    {
     "name": "stdout",
     "output_type": "stream",
     "text": [
      "Fold 2 - Epoch 55 ✅ | Train Acc: 24.52% - Train Loss: 1.5918 | Val Acc: 24.60% - Val Loss: 1.6525\n"
     ]
    },
    {
     "name": "stderr",
     "output_type": "stream",
     "text": [
      "Fold 2 | Epoch 56/100: 100%|██████████| 78/78 [00:14<00:00,  5.53it/s]\n"
     ]
    },
    {
     "name": "stdout",
     "output_type": "stream",
     "text": [
      "Fold 2 - Epoch 56 ✅ | Train Acc: 25.52% - Train Loss: 1.5883 | Val Acc: 18.17% - Val Loss: 1.6290\n"
     ]
    },
    {
     "name": "stderr",
     "output_type": "stream",
     "text": [
      "Fold 2 | Epoch 57/100: 100%|██████████| 78/78 [00:14<00:00,  5.53it/s]\n"
     ]
    },
    {
     "name": "stdout",
     "output_type": "stream",
     "text": [
      "Fold 2 - Epoch 57 ✅ | Train Acc: 25.60% - Train Loss: 1.5956 | Val Acc: 19.29% - Val Loss: 1.6170\n"
     ]
    },
    {
     "name": "stderr",
     "output_type": "stream",
     "text": [
      "Fold 2 | Epoch 58/100: 100%|██████████| 78/78 [00:14<00:00,  5.56it/s]\n"
     ]
    },
    {
     "name": "stdout",
     "output_type": "stream",
     "text": [
      "Fold 2 - Epoch 58 ✅ | Train Acc: 25.80% - Train Loss: 1.5934 | Val Acc: 21.70% - Val Loss: 1.6438\n"
     ]
    },
    {
     "name": "stderr",
     "output_type": "stream",
     "text": [
      "Fold 2 | Epoch 59/100: 100%|██████████| 78/78 [00:14<00:00,  5.51it/s]\n"
     ]
    },
    {
     "name": "stdout",
     "output_type": "stream",
     "text": [
      "Fold 2 - Epoch 59 ✅ | Train Acc: 25.76% - Train Loss: 1.5867 | Val Acc: 21.22% - Val Loss: 1.6405\n"
     ]
    },
    {
     "name": "stderr",
     "output_type": "stream",
     "text": [
      "Fold 2 | Epoch 60/100: 100%|██████████| 78/78 [00:14<00:00,  5.45it/s]\n"
     ]
    },
    {
     "name": "stdout",
     "output_type": "stream",
     "text": [
      "Fold 2 - Epoch 60 ✅ | Train Acc: 25.36% - Train Loss: 1.5921 | Val Acc: 27.17% - Val Loss: 1.6607\n"
     ]
    },
    {
     "name": "stderr",
     "output_type": "stream",
     "text": [
      "Fold 2 | Epoch 61/100: 100%|██████████| 78/78 [00:14<00:00,  5.36it/s]\n"
     ]
    },
    {
     "name": "stdout",
     "output_type": "stream",
     "text": [
      "Fold 2 - Epoch 61 ✅ | Train Acc: 26.00% - Train Loss: 1.5925 | Val Acc: 21.86% - Val Loss: 1.6412\n"
     ]
    },
    {
     "name": "stderr",
     "output_type": "stream",
     "text": [
      "Fold 2 | Epoch 62/100: 100%|██████████| 78/78 [00:15<00:00,  5.15it/s]\n"
     ]
    },
    {
     "name": "stdout",
     "output_type": "stream",
     "text": [
      "Fold 2 - Epoch 62 ✅ | Train Acc: 25.48% - Train Loss: 1.5987 | Val Acc: 25.72% - Val Loss: 1.6454\n"
     ]
    },
    {
     "name": "stderr",
     "output_type": "stream",
     "text": [
      "Fold 2 | Epoch 63/100: 100%|██████████| 78/78 [00:14<00:00,  5.52it/s]\n"
     ]
    },
    {
     "name": "stdout",
     "output_type": "stream",
     "text": [
      "Fold 2 - Epoch 63 ✅ | Train Acc: 25.96% - Train Loss: 1.6018 | Val Acc: 20.58% - Val Loss: 1.6540\n"
     ]
    },
    {
     "name": "stderr",
     "output_type": "stream",
     "text": [
      "Fold 2 | Epoch 64/100: 100%|██████████| 78/78 [00:14<00:00,  5.44it/s]\n"
     ]
    },
    {
     "name": "stdout",
     "output_type": "stream",
     "text": [
      "Fold 2 - Epoch 64 ✅ | Train Acc: 25.20% - Train Loss: 1.5911 | Val Acc: 21.70% - Val Loss: 1.6475\n"
     ]
    },
    {
     "name": "stderr",
     "output_type": "stream",
     "text": [
      "Fold 2 | Epoch 65/100: 100%|██████████| 78/78 [00:14<00:00,  5.46it/s]\n"
     ]
    },
    {
     "name": "stdout",
     "output_type": "stream",
     "text": [
      "Fold 2 - Epoch 65 ✅ | Train Acc: 24.20% - Train Loss: 1.6007 | Val Acc: 16.08% - Val Loss: 1.6359\n"
     ]
    },
    {
     "name": "stderr",
     "output_type": "stream",
     "text": [
      "Fold 2 | Epoch 66/100: 100%|██████████| 78/78 [00:14<00:00,  5.43it/s]\n"
     ]
    },
    {
     "name": "stdout",
     "output_type": "stream",
     "text": [
      "Fold 2 - Epoch 66 ✅ | Train Acc: 24.80% - Train Loss: 1.5921 | Val Acc: 19.45% - Val Loss: 1.6275\n"
     ]
    },
    {
     "name": "stderr",
     "output_type": "stream",
     "text": [
      "Fold 2 | Epoch 67/100: 100%|██████████| 78/78 [00:14<00:00,  5.44it/s]\n"
     ]
    },
    {
     "name": "stdout",
     "output_type": "stream",
     "text": [
      "Fold 2 - Epoch 67 ✅ | Train Acc: 24.88% - Train Loss: 1.5876 | Val Acc: 24.28% - Val Loss: 1.6758\n"
     ]
    },
    {
     "name": "stderr",
     "output_type": "stream",
     "text": [
      "Fold 2 | Epoch 68/100: 100%|██████████| 78/78 [00:14<00:00,  5.46it/s]\n"
     ]
    },
    {
     "name": "stdout",
     "output_type": "stream",
     "text": [
      "Fold 2 - Epoch 68 ✅ | Train Acc: 25.28% - Train Loss: 1.5950 | Val Acc: 22.51% - Val Loss: 1.7011\n"
     ]
    },
    {
     "name": "stderr",
     "output_type": "stream",
     "text": [
      "Fold 2 | Epoch 69/100: 100%|██████████| 78/78 [00:14<00:00,  5.55it/s]\n"
     ]
    },
    {
     "name": "stdout",
     "output_type": "stream",
     "text": [
      "Fold 2 - Epoch 69 ✅ | Train Acc: 25.92% - Train Loss: 1.5882 | Val Acc: 21.22% - Val Loss: 1.6352\n"
     ]
    },
    {
     "name": "stderr",
     "output_type": "stream",
     "text": [
      "Fold 2 | Epoch 70/100: 100%|██████████| 78/78 [00:14<00:00,  5.52it/s]\n"
     ]
    },
    {
     "name": "stdout",
     "output_type": "stream",
     "text": [
      "Fold 2 - Epoch 70 ✅ | Train Acc: 25.16% - Train Loss: 1.5869 | Val Acc: 24.28% - Val Loss: 1.6390\n"
     ]
    },
    {
     "name": "stderr",
     "output_type": "stream",
     "text": [
      "Fold 2 | Epoch 71/100: 100%|██████████| 78/78 [00:14<00:00,  5.50it/s]\n"
     ]
    },
    {
     "name": "stdout",
     "output_type": "stream",
     "text": [
      "Fold 2 - Epoch 71 ✅ | Train Acc: 24.60% - Train Loss: 1.5896 | Val Acc: 21.54% - Val Loss: 1.6427\n"
     ]
    },
    {
     "name": "stderr",
     "output_type": "stream",
     "text": [
      "Fold 2 | Epoch 72/100: 100%|██████████| 78/78 [00:13<00:00,  5.57it/s]\n"
     ]
    },
    {
     "name": "stdout",
     "output_type": "stream",
     "text": [
      "Fold 2 - Epoch 72 ✅ | Train Acc: 25.80% - Train Loss: 1.5917 | Val Acc: 19.29% - Val Loss: 1.6551\n"
     ]
    },
    {
     "name": "stderr",
     "output_type": "stream",
     "text": [
      "Fold 2 | Epoch 73/100: 100%|██████████| 78/78 [00:13<00:00,  5.57it/s]\n"
     ]
    },
    {
     "name": "stdout",
     "output_type": "stream",
     "text": [
      "Fold 2 - Epoch 73 ✅ | Train Acc: 25.40% - Train Loss: 1.5977 | Val Acc: 22.83% - Val Loss: 1.6455\n"
     ]
    },
    {
     "name": "stderr",
     "output_type": "stream",
     "text": [
      "Fold 2 | Epoch 74/100: 100%|██████████| 78/78 [00:14<00:00,  5.51it/s]\n"
     ]
    },
    {
     "name": "stdout",
     "output_type": "stream",
     "text": [
      "Fold 2 - Epoch 74 ✅ | Train Acc: 24.20% - Train Loss: 1.5903 | Val Acc: 18.17% - Val Loss: 1.6401\n"
     ]
    },
    {
     "name": "stderr",
     "output_type": "stream",
     "text": [
      "Fold 2 | Epoch 75/100: 100%|██████████| 78/78 [00:14<00:00,  5.53it/s]\n"
     ]
    },
    {
     "name": "stdout",
     "output_type": "stream",
     "text": [
      "Fold 2 - Epoch 75 ✅ | Train Acc: 27.01% - Train Loss: 1.5821 | Val Acc: 18.49% - Val Loss: 1.6378\n"
     ]
    },
    {
     "name": "stderr",
     "output_type": "stream",
     "text": [
      "Fold 2 | Epoch 76/100: 100%|██████████| 78/78 [00:14<00:00,  5.51it/s]\n"
     ]
    },
    {
     "name": "stdout",
     "output_type": "stream",
     "text": [
      "Fold 2 - Epoch 76 ✅ | Train Acc: 25.32% - Train Loss: 1.5918 | Val Acc: 24.44% - Val Loss: 1.6694\n"
     ]
    },
    {
     "name": "stderr",
     "output_type": "stream",
     "text": [
      "Fold 2 | Epoch 77/100: 100%|██████████| 78/78 [00:14<00:00,  5.50it/s]\n"
     ]
    },
    {
     "name": "stdout",
     "output_type": "stream",
     "text": [
      "Fold 2 - Epoch 77 ✅ | Train Acc: 25.92% - Train Loss: 1.5903 | Val Acc: 16.40% - Val Loss: 1.6506\n"
     ]
    },
    {
     "name": "stderr",
     "output_type": "stream",
     "text": [
      "Fold 2 | Epoch 78/100: 100%|██████████| 78/78 [00:14<00:00,  5.51it/s]\n"
     ]
    },
    {
     "name": "stdout",
     "output_type": "stream",
     "text": [
      "Fold 2 - Epoch 78 ✅ | Train Acc: 25.68% - Train Loss: 1.5894 | Val Acc: 27.01% - Val Loss: 1.6701\n"
     ]
    },
    {
     "name": "stderr",
     "output_type": "stream",
     "text": [
      "Fold 2 | Epoch 79/100: 100%|██████████| 78/78 [00:14<00:00,  5.44it/s]\n"
     ]
    },
    {
     "name": "stdout",
     "output_type": "stream",
     "text": [
      "Fold 2 - Epoch 79 ✅ | Train Acc: 25.48% - Train Loss: 1.6052 | Val Acc: 23.79% - Val Loss: 1.6536\n"
     ]
    },
    {
     "name": "stderr",
     "output_type": "stream",
     "text": [
      "Fold 2 | Epoch 80/100: 100%|██████████| 78/78 [00:14<00:00,  5.51it/s]\n"
     ]
    },
    {
     "name": "stdout",
     "output_type": "stream",
     "text": [
      "Fold 2 - Epoch 80 ✅ | Train Acc: 26.21% - Train Loss: 1.5913 | Val Acc: 23.47% - Val Loss: 1.6323\n"
     ]
    },
    {
     "name": "stderr",
     "output_type": "stream",
     "text": [
      "Fold 2 | Epoch 81/100: 100%|██████████| 78/78 [00:14<00:00,  5.51it/s]\n"
     ]
    },
    {
     "name": "stdout",
     "output_type": "stream",
     "text": [
      "Fold 2 - Epoch 81 ✅ | Train Acc: 25.68% - Train Loss: 1.5892 | Val Acc: 25.08% - Val Loss: 1.6320\n"
     ]
    },
    {
     "name": "stderr",
     "output_type": "stream",
     "text": [
      "Fold 2 | Epoch 82/100: 100%|██████████| 78/78 [00:14<00:00,  5.50it/s]\n"
     ]
    },
    {
     "name": "stdout",
     "output_type": "stream",
     "text": [
      "Fold 2 - Epoch 82 ✅ | Train Acc: 25.96% - Train Loss: 1.5871 | Val Acc: 19.29% - Val Loss: 1.6215\n"
     ]
    },
    {
     "name": "stderr",
     "output_type": "stream",
     "text": [
      "Fold 2 | Epoch 83/100: 100%|██████████| 78/78 [00:14<00:00,  5.50it/s]\n"
     ]
    },
    {
     "name": "stdout",
     "output_type": "stream",
     "text": [
      "Fold 2 - Epoch 83 ✅ | Train Acc: 25.28% - Train Loss: 1.5878 | Val Acc: 24.12% - Val Loss: 1.6456\n"
     ]
    },
    {
     "name": "stderr",
     "output_type": "stream",
     "text": [
      "Fold 2 | Epoch 84/100: 100%|██████████| 78/78 [00:14<00:00,  5.51it/s]\n"
     ]
    },
    {
     "name": "stdout",
     "output_type": "stream",
     "text": [
      "Fold 2 - Epoch 84 ✅ | Train Acc: 24.68% - Train Loss: 1.6021 | Val Acc: 20.10% - Val Loss: 1.6313\n"
     ]
    },
    {
     "name": "stderr",
     "output_type": "stream",
     "text": [
      "Fold 2 | Epoch 85/100: 100%|██████████| 78/78 [00:14<00:00,  5.51it/s]\n"
     ]
    },
    {
     "name": "stdout",
     "output_type": "stream",
     "text": [
      "Fold 2 - Epoch 85 ✅ | Train Acc: 26.09% - Train Loss: 1.5875 | Val Acc: 20.90% - Val Loss: 1.6521\n"
     ]
    },
    {
     "name": "stderr",
     "output_type": "stream",
     "text": [
      "Fold 2 | Epoch 86/100: 100%|██████████| 78/78 [00:14<00:00,  5.51it/s]\n"
     ]
    },
    {
     "name": "stdout",
     "output_type": "stream",
     "text": [
      "Fold 2 - Epoch 86 ✅ | Train Acc: 26.93% - Train Loss: 1.5820 | Val Acc: 21.06% - Val Loss: 1.6273\n"
     ]
    },
    {
     "name": "stderr",
     "output_type": "stream",
     "text": [
      "Fold 2 | Epoch 87/100: 100%|██████████| 78/78 [00:14<00:00,  5.51it/s]\n"
     ]
    },
    {
     "name": "stdout",
     "output_type": "stream",
     "text": [
      "Fold 2 - Epoch 87 ✅ | Train Acc: 25.72% - Train Loss: 1.5818 | Val Acc: 21.54% - Val Loss: 1.6276\n"
     ]
    },
    {
     "name": "stderr",
     "output_type": "stream",
     "text": [
      "Fold 2 | Epoch 88/100: 100%|██████████| 78/78 [00:14<00:00,  5.51it/s]\n"
     ]
    },
    {
     "name": "stdout",
     "output_type": "stream",
     "text": [
      "Fold 2 - Epoch 88 ✅ | Train Acc: 26.89% - Train Loss: 1.5871 | Val Acc: 22.03% - Val Loss: 1.6264\n"
     ]
    },
    {
     "name": "stderr",
     "output_type": "stream",
     "text": [
      "Fold 2 | Epoch 89/100: 100%|██████████| 78/78 [00:14<00:00,  5.52it/s]\n"
     ]
    },
    {
     "name": "stdout",
     "output_type": "stream",
     "text": [
      "Fold 2 - Epoch 89 ✅ | Train Acc: 24.00% - Train Loss: 1.5933 | Val Acc: 18.65% - Val Loss: 1.6432\n"
     ]
    },
    {
     "name": "stderr",
     "output_type": "stream",
     "text": [
      "Fold 2 | Epoch 90/100: 100%|██████████| 78/78 [00:14<00:00,  5.51it/s]\n"
     ]
    },
    {
     "name": "stdout",
     "output_type": "stream",
     "text": [
      "Fold 2 - Epoch 90 ✅ | Train Acc: 26.29% - Train Loss: 1.5837 | Val Acc: 18.81% - Val Loss: 1.6249\n"
     ]
    },
    {
     "name": "stderr",
     "output_type": "stream",
     "text": [
      "Fold 2 | Epoch 91/100: 100%|██████████| 78/78 [00:14<00:00,  5.51it/s]\n"
     ]
    },
    {
     "name": "stdout",
     "output_type": "stream",
     "text": [
      "Fold 2 - Epoch 91 ✅ | Train Acc: 27.41% - Train Loss: 1.5809 | Val Acc: 22.67% - Val Loss: 1.6490\n"
     ]
    },
    {
     "name": "stderr",
     "output_type": "stream",
     "text": [
      "Fold 2 | Epoch 92/100: 100%|██████████| 78/78 [00:14<00:00,  5.52it/s]\n"
     ]
    },
    {
     "name": "stdout",
     "output_type": "stream",
     "text": [
      "Fold 2 - Epoch 92 ✅ | Train Acc: 27.21% - Train Loss: 1.5872 | Val Acc: 16.88% - Val Loss: 1.6462\n"
     ]
    },
    {
     "name": "stderr",
     "output_type": "stream",
     "text": [
      "Fold 2 | Epoch 93/100: 100%|██████████| 78/78 [00:14<00:00,  5.46it/s]\n"
     ]
    },
    {
     "name": "stdout",
     "output_type": "stream",
     "text": [
      "Fold 2 - Epoch 93 ✅ | Train Acc: 25.60% - Train Loss: 1.5867 | Val Acc: 22.67% - Val Loss: 1.6255\n"
     ]
    },
    {
     "name": "stderr",
     "output_type": "stream",
     "text": [
      "Fold 2 | Epoch 94/100: 100%|██████████| 78/78 [00:14<00:00,  5.45it/s]\n"
     ]
    },
    {
     "name": "stdout",
     "output_type": "stream",
     "text": [
      "Fold 2 - Epoch 94 ✅ | Train Acc: 25.72% - Train Loss: 1.5857 | Val Acc: 19.77% - Val Loss: 1.6241\n"
     ]
    },
    {
     "name": "stderr",
     "output_type": "stream",
     "text": [
      "Fold 2 | Epoch 95/100: 100%|██████████| 78/78 [00:14<00:00,  5.52it/s]\n"
     ]
    },
    {
     "name": "stdout",
     "output_type": "stream",
     "text": [
      "Fold 2 - Epoch 95 ✅ | Train Acc: 25.68% - Train Loss: 1.5813 | Val Acc: 24.12% - Val Loss: 1.6404\n"
     ]
    },
    {
     "name": "stderr",
     "output_type": "stream",
     "text": [
      "Fold 2 | Epoch 96/100: 100%|██████████| 78/78 [00:14<00:00,  5.57it/s]\n"
     ]
    },
    {
     "name": "stdout",
     "output_type": "stream",
     "text": [
      "Fold 2 - Epoch 96 ✅ | Train Acc: 25.48% - Train Loss: 1.5872 | Val Acc: 16.24% - Val Loss: 1.6353\n"
     ]
    },
    {
     "name": "stderr",
     "output_type": "stream",
     "text": [
      "Fold 2 | Epoch 97/100: 100%|██████████| 78/78 [00:14<00:00,  5.45it/s]\n"
     ]
    },
    {
     "name": "stdout",
     "output_type": "stream",
     "text": [
      "Fold 2 - Epoch 97 ✅ | Train Acc: 25.32% - Train Loss: 1.5922 | Val Acc: 24.60% - Val Loss: 1.6342\n"
     ]
    },
    {
     "name": "stderr",
     "output_type": "stream",
     "text": [
      "Fold 2 | Epoch 98/100: 100%|██████████| 78/78 [00:14<00:00,  5.44it/s]\n"
     ]
    },
    {
     "name": "stdout",
     "output_type": "stream",
     "text": [
      "Fold 2 - Epoch 98 ✅ | Train Acc: 26.45% - Train Loss: 1.5912 | Val Acc: 19.61% - Val Loss: 1.6203\n"
     ]
    },
    {
     "name": "stderr",
     "output_type": "stream",
     "text": [
      "Fold 2 | Epoch 99/100: 100%|██████████| 78/78 [00:14<00:00,  5.50it/s]\n"
     ]
    },
    {
     "name": "stdout",
     "output_type": "stream",
     "text": [
      "Fold 2 - Epoch 99 ✅ | Train Acc: 27.13% - Train Loss: 1.5951 | Val Acc: 16.08% - Val Loss: 1.6511\n"
     ]
    },
    {
     "name": "stderr",
     "output_type": "stream",
     "text": [
      "Fold 2 | Epoch 100/100: 100%|██████████| 78/78 [00:14<00:00,  5.51it/s]\n"
     ]
    },
    {
     "name": "stdout",
     "output_type": "stream",
     "text": [
      "Fold 2 - Epoch 100 ✅ | Train Acc: 26.29% - Train Loss: 1.5832 | Val Acc: 23.15% - Val Loss: 1.6423\n",
      "\n",
      "📂 Fold 3/5\n"
     ]
    },
    {
     "name": "stderr",
     "output_type": "stream",
     "text": [
      "Fold 3 | Epoch 1/100: 100%|██████████| 78/78 [00:14<00:00,  5.55it/s]\n"
     ]
    },
    {
     "name": "stdout",
     "output_type": "stream",
     "text": [
      "Fold 3 - Epoch 1 ✅ | Train Acc: 19.45% - Train Loss: 1.6381 | Val Acc: 10.45% - Val Loss: 1.6667\n"
     ]
    },
    {
     "name": "stderr",
     "output_type": "stream",
     "text": [
      "Fold 3 | Epoch 2/100: 100%|██████████| 78/78 [00:14<00:00,  5.52it/s]\n"
     ]
    },
    {
     "name": "stdout",
     "output_type": "stream",
     "text": [
      "Fold 3 - Epoch 2 ✅ | Train Acc: 20.06% - Train Loss: 1.6242 | Val Acc: 25.08% - Val Loss: 1.6193\n"
     ]
    },
    {
     "name": "stderr",
     "output_type": "stream",
     "text": [
      "Fold 3 | Epoch 3/100: 100%|██████████| 78/78 [00:14<00:00,  5.51it/s]\n"
     ]
    },
    {
     "name": "stdout",
     "output_type": "stream",
     "text": [
      "Fold 3 - Epoch 3 ✅ | Train Acc: 21.54% - Train Loss: 1.6261 | Val Acc: 24.76% - Val Loss: 1.5976\n"
     ]
    },
    {
     "name": "stderr",
     "output_type": "stream",
     "text": [
      "Fold 3 | Epoch 4/100: 100%|██████████| 78/78 [00:14<00:00,  5.51it/s]\n"
     ]
    },
    {
     "name": "stdout",
     "output_type": "stream",
     "text": [
      "Fold 3 - Epoch 4 ✅ | Train Acc: 22.95% - Train Loss: 1.6182 | Val Acc: 21.70% - Val Loss: 1.6652\n"
     ]
    },
    {
     "name": "stderr",
     "output_type": "stream",
     "text": [
      "Fold 3 | Epoch 5/100: 100%|██████████| 78/78 [00:14<00:00,  5.50it/s]\n"
     ]
    },
    {
     "name": "stdout",
     "output_type": "stream",
     "text": [
      "Fold 3 - Epoch 5 ✅ | Train Acc: 20.98% - Train Loss: 1.6281 | Val Acc: 18.97% - Val Loss: 1.6168\n"
     ]
    },
    {
     "name": "stderr",
     "output_type": "stream",
     "text": [
      "Fold 3 | Epoch 6/100: 100%|██████████| 78/78 [00:14<00:00,  5.48it/s]\n"
     ]
    },
    {
     "name": "stdout",
     "output_type": "stream",
     "text": [
      "Fold 3 - Epoch 6 ✅ | Train Acc: 21.02% - Train Loss: 1.6210 | Val Acc: 23.63% - Val Loss: 1.5992\n"
     ]
    },
    {
     "name": "stderr",
     "output_type": "stream",
     "text": [
      "Fold 3 | Epoch 7/100: 100%|██████████| 78/78 [00:14<00:00,  5.51it/s]\n"
     ]
    },
    {
     "name": "stdout",
     "output_type": "stream",
     "text": [
      "Fold 3 - Epoch 7 ✅ | Train Acc: 22.59% - Train Loss: 1.6151 | Val Acc: 22.19% - Val Loss: 1.6393\n"
     ]
    },
    {
     "name": "stderr",
     "output_type": "stream",
     "text": [
      "Fold 3 | Epoch 8/100: 100%|██████████| 78/78 [00:14<00:00,  5.53it/s]\n"
     ]
    },
    {
     "name": "stdout",
     "output_type": "stream",
     "text": [
      "Fold 3 - Epoch 8 ✅ | Train Acc: 22.95% - Train Loss: 1.6150 | Val Acc: 22.67% - Val Loss: 1.5942\n"
     ]
    },
    {
     "name": "stderr",
     "output_type": "stream",
     "text": [
      "Fold 3 | Epoch 9/100: 100%|██████████| 78/78 [00:14<00:00,  5.52it/s]\n"
     ]
    },
    {
     "name": "stdout",
     "output_type": "stream",
     "text": [
      "Fold 3 - Epoch 9 ✅ | Train Acc: 23.11% - Train Loss: 1.6142 | Val Acc: 17.04% - Val Loss: 1.6189\n"
     ]
    },
    {
     "name": "stderr",
     "output_type": "stream",
     "text": [
      "Fold 3 | Epoch 10/100: 100%|██████████| 78/78 [00:14<00:00,  5.31it/s]\n"
     ]
    },
    {
     "name": "stdout",
     "output_type": "stream",
     "text": [
      "Fold 3 - Epoch 10 ✅ | Train Acc: 21.42% - Train Loss: 1.6238 | Val Acc: 20.42% - Val Loss: 1.6508\n"
     ]
    },
    {
     "name": "stderr",
     "output_type": "stream",
     "text": [
      "Fold 3 | Epoch 11/100: 100%|██████████| 78/78 [00:14<00:00,  5.51it/s]\n"
     ]
    },
    {
     "name": "stdout",
     "output_type": "stream",
     "text": [
      "Fold 3 - Epoch 11 ✅ | Train Acc: 22.79% - Train Loss: 1.6290 | Val Acc: 20.26% - Val Loss: 1.6039\n"
     ]
    },
    {
     "name": "stderr",
     "output_type": "stream",
     "text": [
      "Fold 3 | Epoch 12/100: 100%|██████████| 78/78 [00:14<00:00,  5.53it/s]\n"
     ]
    },
    {
     "name": "stdout",
     "output_type": "stream",
     "text": [
      "Fold 3 - Epoch 12 ✅ | Train Acc: 22.55% - Train Loss: 1.6159 | Val Acc: 25.40% - Val Loss: 1.6164\n"
     ]
    },
    {
     "name": "stderr",
     "output_type": "stream",
     "text": [
      "Fold 3 | Epoch 13/100: 100%|██████████| 78/78 [00:14<00:00,  5.52it/s]\n"
     ]
    },
    {
     "name": "stdout",
     "output_type": "stream",
     "text": [
      "Fold 3 - Epoch 13 ✅ | Train Acc: 20.62% - Train Loss: 1.6207 | Val Acc: 28.30% - Val Loss: 1.5945\n"
     ]
    },
    {
     "name": "stderr",
     "output_type": "stream",
     "text": [
      "Fold 3 | Epoch 14/100: 100%|██████████| 78/78 [00:14<00:00,  5.54it/s]\n"
     ]
    },
    {
     "name": "stdout",
     "output_type": "stream",
     "text": [
      "Fold 3 - Epoch 14 ✅ | Train Acc: 21.38% - Train Loss: 1.6194 | Val Acc: 16.72% - Val Loss: 1.6122\n"
     ]
    },
    {
     "name": "stderr",
     "output_type": "stream",
     "text": [
      "Fold 3 | Epoch 15/100: 100%|██████████| 78/78 [00:14<00:00,  5.52it/s]\n"
     ]
    },
    {
     "name": "stdout",
     "output_type": "stream",
     "text": [
      "Fold 3 - Epoch 15 ✅ | Train Acc: 23.35% - Train Loss: 1.6195 | Val Acc: 18.81% - Val Loss: 1.6187\n"
     ]
    },
    {
     "name": "stderr",
     "output_type": "stream",
     "text": [
      "Fold 3 | Epoch 16/100: 100%|██████████| 78/78 [00:13<00:00,  5.59it/s]\n"
     ]
    },
    {
     "name": "stdout",
     "output_type": "stream",
     "text": [
      "Fold 3 - Epoch 16 ✅ | Train Acc: 22.75% - Train Loss: 1.6146 | Val Acc: 19.13% - Val Loss: 1.6009\n"
     ]
    },
    {
     "name": "stderr",
     "output_type": "stream",
     "text": [
      "Fold 3 | Epoch 17/100: 100%|██████████| 78/78 [00:14<00:00,  5.51it/s]\n"
     ]
    },
    {
     "name": "stdout",
     "output_type": "stream",
     "text": [
      "Fold 3 - Epoch 17 ✅ | Train Acc: 22.63% - Train Loss: 1.6146 | Val Acc: 20.74% - Val Loss: 1.6206\n"
     ]
    },
    {
     "name": "stderr",
     "output_type": "stream",
     "text": [
      "Fold 3 | Epoch 18/100: 100%|██████████| 78/78 [00:13<00:00,  5.58it/s]\n"
     ]
    },
    {
     "name": "stdout",
     "output_type": "stream",
     "text": [
      "Fold 3 - Epoch 18 ✅ | Train Acc: 22.63% - Train Loss: 1.6221 | Val Acc: 22.19% - Val Loss: 1.6101\n"
     ]
    },
    {
     "name": "stderr",
     "output_type": "stream",
     "text": [
      "Fold 3 | Epoch 19/100: 100%|██████████| 78/78 [00:14<00:00,  5.53it/s]\n"
     ]
    },
    {
     "name": "stdout",
     "output_type": "stream",
     "text": [
      "Fold 3 - Epoch 19 ✅ | Train Acc: 23.43% - Train Loss: 1.6181 | Val Acc: 20.10% - Val Loss: 1.6324\n"
     ]
    },
    {
     "name": "stderr",
     "output_type": "stream",
     "text": [
      "Fold 3 | Epoch 20/100: 100%|██████████| 78/78 [00:13<00:00,  5.59it/s]\n"
     ]
    },
    {
     "name": "stdout",
     "output_type": "stream",
     "text": [
      "Fold 3 - Epoch 20 ✅ | Train Acc: 22.99% - Train Loss: 1.6018 | Val Acc: 18.49% - Val Loss: 1.6095\n"
     ]
    },
    {
     "name": "stderr",
     "output_type": "stream",
     "text": [
      "Fold 3 | Epoch 21/100: 100%|██████████| 78/78 [00:14<00:00,  5.52it/s]\n"
     ]
    },
    {
     "name": "stdout",
     "output_type": "stream",
     "text": [
      "Fold 3 - Epoch 21 ✅ | Train Acc: 22.23% - Train Loss: 1.6048 | Val Acc: 15.43% - Val Loss: 1.6301\n"
     ]
    },
    {
     "name": "stderr",
     "output_type": "stream",
     "text": [
      "Fold 3 | Epoch 22/100: 100%|██████████| 78/78 [00:14<00:00,  5.50it/s]\n"
     ]
    },
    {
     "name": "stdout",
     "output_type": "stream",
     "text": [
      "Fold 3 - Epoch 22 ✅ | Train Acc: 22.07% - Train Loss: 1.6122 | Val Acc: 25.08% - Val Loss: 1.6022\n"
     ]
    },
    {
     "name": "stderr",
     "output_type": "stream",
     "text": [
      "Fold 3 | Epoch 23/100: 100%|██████████| 78/78 [00:14<00:00,  5.51it/s]\n"
     ]
    },
    {
     "name": "stdout",
     "output_type": "stream",
     "text": [
      "Fold 3 - Epoch 23 ✅ | Train Acc: 23.79% - Train Loss: 1.6079 | Val Acc: 14.79% - Val Loss: 1.6398\n"
     ]
    },
    {
     "name": "stderr",
     "output_type": "stream",
     "text": [
      "Fold 3 | Epoch 24/100: 100%|██████████| 78/78 [00:14<00:00,  5.53it/s]\n"
     ]
    },
    {
     "name": "stdout",
     "output_type": "stream",
     "text": [
      "Fold 3 - Epoch 24 ✅ | Train Acc: 20.70% - Train Loss: 1.6122 | Val Acc: 14.47% - Val Loss: 1.6343\n"
     ]
    },
    {
     "name": "stderr",
     "output_type": "stream",
     "text": [
      "Fold 3 | Epoch 25/100: 100%|██████████| 78/78 [00:13<00:00,  5.60it/s]\n"
     ]
    },
    {
     "name": "stdout",
     "output_type": "stream",
     "text": [
      "Fold 3 - Epoch 25 ✅ | Train Acc: 23.15% - Train Loss: 1.6086 | Val Acc: 19.29% - Val Loss: 1.6063\n"
     ]
    },
    {
     "name": "stderr",
     "output_type": "stream",
     "text": [
      "Fold 3 | Epoch 26/100: 100%|██████████| 78/78 [00:13<00:00,  5.58it/s]\n"
     ]
    },
    {
     "name": "stdout",
     "output_type": "stream",
     "text": [
      "Fold 3 - Epoch 26 ✅ | Train Acc: 23.55% - Train Loss: 1.6087 | Val Acc: 13.83% - Val Loss: 1.6426\n"
     ]
    },
    {
     "name": "stderr",
     "output_type": "stream",
     "text": [
      "Fold 3 | Epoch 27/100: 100%|██████████| 78/78 [00:14<00:00,  5.52it/s]\n"
     ]
    },
    {
     "name": "stdout",
     "output_type": "stream",
     "text": [
      "Fold 3 - Epoch 27 ✅ | Train Acc: 21.86% - Train Loss: 1.6201 | Val Acc: 27.17% - Val Loss: 1.6367\n"
     ]
    },
    {
     "name": "stderr",
     "output_type": "stream",
     "text": [
      "Fold 3 | Epoch 28/100: 100%|██████████| 78/78 [00:14<00:00,  5.46it/s]\n"
     ]
    },
    {
     "name": "stdout",
     "output_type": "stream",
     "text": [
      "Fold 3 - Epoch 28 ✅ | Train Acc: 24.20% - Train Loss: 1.6041 | Val Acc: 21.86% - Val Loss: 1.6204\n"
     ]
    },
    {
     "name": "stderr",
     "output_type": "stream",
     "text": [
      "Fold 3 | Epoch 29/100: 100%|██████████| 78/78 [00:14<00:00,  5.52it/s]\n"
     ]
    },
    {
     "name": "stdout",
     "output_type": "stream",
     "text": [
      "Fold 3 - Epoch 29 ✅ | Train Acc: 22.43% - Train Loss: 1.6027 | Val Acc: 23.31% - Val Loss: 1.6127\n"
     ]
    },
    {
     "name": "stderr",
     "output_type": "stream",
     "text": [
      "Fold 3 | Epoch 30/100: 100%|██████████| 78/78 [00:14<00:00,  5.52it/s]\n"
     ]
    },
    {
     "name": "stdout",
     "output_type": "stream",
     "text": [
      "Fold 3 - Epoch 30 ✅ | Train Acc: 23.87% - Train Loss: 1.6072 | Val Acc: 27.81% - Val Loss: 1.6117\n"
     ]
    },
    {
     "name": "stderr",
     "output_type": "stream",
     "text": [
      "Fold 3 | Epoch 31/100: 100%|██████████| 78/78 [00:14<00:00,  5.53it/s]\n"
     ]
    },
    {
     "name": "stdout",
     "output_type": "stream",
     "text": [
      "Fold 3 - Epoch 31 ✅ | Train Acc: 23.31% - Train Loss: 1.6091 | Val Acc: 28.14% - Val Loss: 1.6126\n"
     ]
    },
    {
     "name": "stderr",
     "output_type": "stream",
     "text": [
      "Fold 3 | Epoch 32/100: 100%|██████████| 78/78 [00:14<00:00,  5.42it/s]\n"
     ]
    },
    {
     "name": "stdout",
     "output_type": "stream",
     "text": [
      "Fold 3 - Epoch 32 ✅ | Train Acc: 22.79% - Train Loss: 1.6100 | Val Acc: 17.52% - Val Loss: 1.6141\n"
     ]
    },
    {
     "name": "stderr",
     "output_type": "stream",
     "text": [
      "Fold 3 | Epoch 33/100: 100%|██████████| 78/78 [00:14<00:00,  5.53it/s]\n"
     ]
    },
    {
     "name": "stdout",
     "output_type": "stream",
     "text": [
      "Fold 3 - Epoch 33 ✅ | Train Acc: 22.99% - Train Loss: 1.6120 | Val Acc: 20.10% - Val Loss: 1.6398\n"
     ]
    },
    {
     "name": "stderr",
     "output_type": "stream",
     "text": [
      "Fold 3 | Epoch 34/100: 100%|██████████| 78/78 [00:14<00:00,  5.51it/s]\n"
     ]
    },
    {
     "name": "stdout",
     "output_type": "stream",
     "text": [
      "Fold 3 - Epoch 34 ✅ | Train Acc: 22.71% - Train Loss: 1.6084 | Val Acc: 20.58% - Val Loss: 1.5962\n"
     ]
    },
    {
     "name": "stderr",
     "output_type": "stream",
     "text": [
      "Fold 3 | Epoch 35/100: 100%|██████████| 78/78 [00:14<00:00,  5.50it/s]\n"
     ]
    },
    {
     "name": "stdout",
     "output_type": "stream",
     "text": [
      "Fold 3 - Epoch 35 ✅ | Train Acc: 23.87% - Train Loss: 1.6058 | Val Acc: 22.03% - Val Loss: 1.6042\n"
     ]
    },
    {
     "name": "stderr",
     "output_type": "stream",
     "text": [
      "Fold 3 | Epoch 36/100: 100%|██████████| 78/78 [00:14<00:00,  5.52it/s]\n"
     ]
    },
    {
     "name": "stdout",
     "output_type": "stream",
     "text": [
      "Fold 3 - Epoch 36 ✅ | Train Acc: 22.75% - Train Loss: 1.6058 | Val Acc: 21.06% - Val Loss: 1.5940\n"
     ]
    },
    {
     "name": "stderr",
     "output_type": "stream",
     "text": [
      "Fold 3 | Epoch 37/100: 100%|██████████| 78/78 [00:14<00:00,  5.52it/s]\n"
     ]
    },
    {
     "name": "stdout",
     "output_type": "stream",
     "text": [
      "Fold 3 - Epoch 37 ✅ | Train Acc: 23.39% - Train Loss: 1.6072 | Val Acc: 19.45% - Val Loss: 1.6687\n"
     ]
    },
    {
     "name": "stderr",
     "output_type": "stream",
     "text": [
      "Fold 3 | Epoch 38/100: 100%|██████████| 78/78 [00:14<00:00,  5.51it/s]\n"
     ]
    },
    {
     "name": "stdout",
     "output_type": "stream",
     "text": [
      "Fold 3 - Epoch 38 ✅ | Train Acc: 25.68% - Train Loss: 1.6058 | Val Acc: 22.19% - Val Loss: 1.6136\n"
     ]
    },
    {
     "name": "stderr",
     "output_type": "stream",
     "text": [
      "Fold 3 | Epoch 39/100: 100%|██████████| 78/78 [00:14<00:00,  5.52it/s]\n"
     ]
    },
    {
     "name": "stdout",
     "output_type": "stream",
     "text": [
      "Fold 3 - Epoch 39 ✅ | Train Acc: 24.24% - Train Loss: 1.6026 | Val Acc: 25.56% - Val Loss: 1.6203\n"
     ]
    },
    {
     "name": "stderr",
     "output_type": "stream",
     "text": [
      "Fold 3 | Epoch 40/100: 100%|██████████| 78/78 [00:14<00:00,  5.52it/s]\n"
     ]
    },
    {
     "name": "stdout",
     "output_type": "stream",
     "text": [
      "Fold 3 - Epoch 40 ✅ | Train Acc: 23.91% - Train Loss: 1.5990 | Val Acc: 21.22% - Val Loss: 1.6195\n"
     ]
    },
    {
     "name": "stderr",
     "output_type": "stream",
     "text": [
      "Fold 3 | Epoch 41/100: 100%|██████████| 78/78 [00:14<00:00,  5.51it/s]\n"
     ]
    },
    {
     "name": "stdout",
     "output_type": "stream",
     "text": [
      "Fold 3 - Epoch 41 ✅ | Train Acc: 25.44% - Train Loss: 1.6063 | Val Acc: 23.15% - Val Loss: 1.6218\n"
     ]
    },
    {
     "name": "stderr",
     "output_type": "stream",
     "text": [
      "Fold 3 | Epoch 42/100: 100%|██████████| 78/78 [00:14<00:00,  5.51it/s]\n"
     ]
    },
    {
     "name": "stdout",
     "output_type": "stream",
     "text": [
      "Fold 3 - Epoch 42 ✅ | Train Acc: 25.28% - Train Loss: 1.6041 | Val Acc: 28.62% - Val Loss: 1.5988\n"
     ]
    },
    {
     "name": "stderr",
     "output_type": "stream",
     "text": [
      "Fold 3 | Epoch 43/100: 100%|██████████| 78/78 [00:14<00:00,  5.52it/s]\n"
     ]
    },
    {
     "name": "stdout",
     "output_type": "stream",
     "text": [
      "Fold 3 - Epoch 43 ✅ | Train Acc: 24.12% - Train Loss: 1.6086 | Val Acc: 20.10% - Val Loss: 1.6008\n"
     ]
    },
    {
     "name": "stderr",
     "output_type": "stream",
     "text": [
      "Fold 3 | Epoch 44/100: 100%|██████████| 78/78 [00:14<00:00,  5.52it/s]\n"
     ]
    },
    {
     "name": "stdout",
     "output_type": "stream",
     "text": [
      "Fold 3 - Epoch 44 ✅ | Train Acc: 22.67% - Train Loss: 1.6043 | Val Acc: 22.67% - Val Loss: 1.6086\n"
     ]
    },
    {
     "name": "stderr",
     "output_type": "stream",
     "text": [
      "Fold 3 | Epoch 45/100: 100%|██████████| 78/78 [00:14<00:00,  5.52it/s]\n"
     ]
    },
    {
     "name": "stdout",
     "output_type": "stream",
     "text": [
      "Fold 3 - Epoch 45 ✅ | Train Acc: 23.59% - Train Loss: 1.6092 | Val Acc: 20.58% - Val Loss: 1.6066\n"
     ]
    },
    {
     "name": "stderr",
     "output_type": "stream",
     "text": [
      "Fold 3 | Epoch 46/100: 100%|██████████| 78/78 [00:14<00:00,  5.51it/s]\n"
     ]
    },
    {
     "name": "stdout",
     "output_type": "stream",
     "text": [
      "Fold 3 - Epoch 46 ✅ | Train Acc: 24.84% - Train Loss: 1.5944 | Val Acc: 24.44% - Val Loss: 1.5977\n"
     ]
    },
    {
     "name": "stderr",
     "output_type": "stream",
     "text": [
      "Fold 3 | Epoch 47/100: 100%|██████████| 78/78 [00:14<00:00,  5.43it/s]\n"
     ]
    },
    {
     "name": "stdout",
     "output_type": "stream",
     "text": [
      "Fold 3 - Epoch 47 ✅ | Train Acc: 23.91% - Train Loss: 1.6077 | Val Acc: 20.42% - Val Loss: 1.6067\n"
     ]
    },
    {
     "name": "stderr",
     "output_type": "stream",
     "text": [
      "Fold 3 | Epoch 48/100: 100%|██████████| 78/78 [00:14<00:00,  5.51it/s]\n"
     ]
    },
    {
     "name": "stdout",
     "output_type": "stream",
     "text": [
      "Fold 3 - Epoch 48 ✅ | Train Acc: 24.56% - Train Loss: 1.5981 | Val Acc: 15.76% - Val Loss: 1.6410\n"
     ]
    },
    {
     "name": "stderr",
     "output_type": "stream",
     "text": [
      "Fold 3 | Epoch 49/100: 100%|██████████| 78/78 [00:14<00:00,  5.54it/s]\n"
     ]
    },
    {
     "name": "stdout",
     "output_type": "stream",
     "text": [
      "Fold 3 - Epoch 49 ✅ | Train Acc: 24.24% - Train Loss: 1.6078 | Val Acc: 26.69% - Val Loss: 1.5959\n"
     ]
    },
    {
     "name": "stderr",
     "output_type": "stream",
     "text": [
      "Fold 3 | Epoch 50/100: 100%|██████████| 78/78 [00:13<00:00,  5.58it/s]\n"
     ]
    },
    {
     "name": "stdout",
     "output_type": "stream",
     "text": [
      "Fold 3 - Epoch 50 ✅ | Train Acc: 24.24% - Train Loss: 1.6067 | Val Acc: 20.58% - Val Loss: 1.6430\n"
     ]
    },
    {
     "name": "stderr",
     "output_type": "stream",
     "text": [
      "Fold 3 | Epoch 51/100: 100%|██████████| 78/78 [00:13<00:00,  5.58it/s]\n"
     ]
    },
    {
     "name": "stdout",
     "output_type": "stream",
     "text": [
      "Fold 3 - Epoch 51 ✅ | Train Acc: 24.24% - Train Loss: 1.5967 | Val Acc: 25.08% - Val Loss: 1.6011\n"
     ]
    },
    {
     "name": "stderr",
     "output_type": "stream",
     "text": [
      "Fold 3 | Epoch 52/100: 100%|██████████| 78/78 [00:13<00:00,  5.59it/s]\n"
     ]
    },
    {
     "name": "stdout",
     "output_type": "stream",
     "text": [
      "Fold 3 - Epoch 52 ✅ | Train Acc: 24.20% - Train Loss: 1.5982 | Val Acc: 25.24% - Val Loss: 1.5966\n"
     ]
    },
    {
     "name": "stderr",
     "output_type": "stream",
     "text": [
      "Fold 3 | Epoch 53/100: 100%|██████████| 78/78 [00:14<00:00,  5.53it/s]\n"
     ]
    },
    {
     "name": "stdout",
     "output_type": "stream",
     "text": [
      "Fold 3 - Epoch 53 ✅ | Train Acc: 24.64% - Train Loss: 1.6062 | Val Acc: 21.54% - Val Loss: 1.6285\n"
     ]
    },
    {
     "name": "stderr",
     "output_type": "stream",
     "text": [
      "Fold 3 | Epoch 54/100: 100%|██████████| 78/78 [00:14<00:00,  5.52it/s]\n"
     ]
    },
    {
     "name": "stdout",
     "output_type": "stream",
     "text": [
      "Fold 3 - Epoch 54 ✅ | Train Acc: 24.72% - Train Loss: 1.6032 | Val Acc: 20.58% - Val Loss: 1.6019\n"
     ]
    },
    {
     "name": "stderr",
     "output_type": "stream",
     "text": [
      "Fold 3 | Epoch 55/100: 100%|██████████| 78/78 [00:14<00:00,  5.51it/s]\n"
     ]
    },
    {
     "name": "stdout",
     "output_type": "stream",
     "text": [
      "Fold 3 - Epoch 55 ✅ | Train Acc: 24.04% - Train Loss: 1.6034 | Val Acc: 23.47% - Val Loss: 1.6046\n"
     ]
    },
    {
     "name": "stderr",
     "output_type": "stream",
     "text": [
      "Fold 3 | Epoch 56/100: 100%|██████████| 78/78 [00:13<00:00,  5.59it/s]\n"
     ]
    },
    {
     "name": "stdout",
     "output_type": "stream",
     "text": [
      "Fold 3 - Epoch 56 ✅ | Train Acc: 23.47% - Train Loss: 1.5956 | Val Acc: 23.63% - Val Loss: 1.5931\n"
     ]
    },
    {
     "name": "stderr",
     "output_type": "stream",
     "text": [
      "Fold 3 | Epoch 57/100: 100%|██████████| 78/78 [00:14<00:00,  5.52it/s]\n"
     ]
    },
    {
     "name": "stdout",
     "output_type": "stream",
     "text": [
      "Fold 3 - Epoch 57 ✅ | Train Acc: 25.04% - Train Loss: 1.6080 | Val Acc: 19.13% - Val Loss: 1.6196\n"
     ]
    },
    {
     "name": "stderr",
     "output_type": "stream",
     "text": [
      "Fold 3 | Epoch 58/100: 100%|██████████| 78/78 [00:13<00:00,  5.59it/s]\n"
     ]
    },
    {
     "name": "stdout",
     "output_type": "stream",
     "text": [
      "Fold 3 - Epoch 58 ✅ | Train Acc: 23.31% - Train Loss: 1.5953 | Val Acc: 21.22% - Val Loss: 1.6374\n"
     ]
    },
    {
     "name": "stderr",
     "output_type": "stream",
     "text": [
      "Fold 3 | Epoch 59/100: 100%|██████████| 78/78 [00:14<00:00,  5.51it/s]\n"
     ]
    },
    {
     "name": "stdout",
     "output_type": "stream",
     "text": [
      "Fold 3 - Epoch 59 ✅ | Train Acc: 22.03% - Train Loss: 1.6154 | Val Acc: 19.29% - Val Loss: 1.6252\n"
     ]
    },
    {
     "name": "stderr",
     "output_type": "stream",
     "text": [
      "Fold 3 | Epoch 60/100: 100%|██████████| 78/78 [00:14<00:00,  5.55it/s]\n"
     ]
    },
    {
     "name": "stdout",
     "output_type": "stream",
     "text": [
      "Fold 3 - Epoch 60 ✅ | Train Acc: 23.27% - Train Loss: 1.6044 | Val Acc: 18.65% - Val Loss: 1.6596\n"
     ]
    },
    {
     "name": "stderr",
     "output_type": "stream",
     "text": [
      "Fold 3 | Epoch 61/100: 100%|██████████| 78/78 [00:13<00:00,  5.58it/s]\n"
     ]
    },
    {
     "name": "stdout",
     "output_type": "stream",
     "text": [
      "Fold 3 - Epoch 61 ✅ | Train Acc: 23.11% - Train Loss: 1.6037 | Val Acc: 26.21% - Val Loss: 1.6051\n"
     ]
    },
    {
     "name": "stderr",
     "output_type": "stream",
     "text": [
      "Fold 3 | Epoch 62/100: 100%|██████████| 78/78 [00:14<00:00,  5.51it/s]\n"
     ]
    },
    {
     "name": "stdout",
     "output_type": "stream",
     "text": [
      "Fold 3 - Epoch 62 ✅ | Train Acc: 23.79% - Train Loss: 1.5930 | Val Acc: 17.68% - Val Loss: 1.6228\n"
     ]
    },
    {
     "name": "stderr",
     "output_type": "stream",
     "text": [
      "Fold 3 | Epoch 63/100: 100%|██████████| 78/78 [00:14<00:00,  5.52it/s]\n"
     ]
    },
    {
     "name": "stdout",
     "output_type": "stream",
     "text": [
      "Fold 3 - Epoch 63 ✅ | Train Acc: 24.16% - Train Loss: 1.5969 | Val Acc: 16.88% - Val Loss: 1.6205\n"
     ]
    },
    {
     "name": "stderr",
     "output_type": "stream",
     "text": [
      "Fold 3 | Epoch 64/100: 100%|██████████| 78/78 [00:13<00:00,  5.59it/s]\n"
     ]
    },
    {
     "name": "stdout",
     "output_type": "stream",
     "text": [
      "Fold 3 - Epoch 64 ✅ | Train Acc: 22.99% - Train Loss: 1.6083 | Val Acc: 24.44% - Val Loss: 1.6320\n"
     ]
    },
    {
     "name": "stderr",
     "output_type": "stream",
     "text": [
      "Fold 3 | Epoch 65/100: 100%|██████████| 78/78 [00:13<00:00,  5.60it/s]\n"
     ]
    },
    {
     "name": "stdout",
     "output_type": "stream",
     "text": [
      "Fold 3 - Epoch 65 ✅ | Train Acc: 24.16% - Train Loss: 1.6027 | Val Acc: 25.40% - Val Loss: 1.6143\n"
     ]
    },
    {
     "name": "stderr",
     "output_type": "stream",
     "text": [
      "Fold 3 | Epoch 66/100: 100%|██████████| 78/78 [00:14<00:00,  5.45it/s]\n"
     ]
    },
    {
     "name": "stdout",
     "output_type": "stream",
     "text": [
      "Fold 3 - Epoch 66 ✅ | Train Acc: 24.60% - Train Loss: 1.5948 | Val Acc: 27.33% - Val Loss: 1.6146\n"
     ]
    },
    {
     "name": "stderr",
     "output_type": "stream",
     "text": [
      "Fold 3 | Epoch 67/100: 100%|██████████| 78/78 [00:13<00:00,  5.59it/s]\n"
     ]
    },
    {
     "name": "stdout",
     "output_type": "stream",
     "text": [
      "Fold 3 - Epoch 67 ✅ | Train Acc: 24.52% - Train Loss: 1.6062 | Val Acc: 23.47% - Val Loss: 1.6592\n"
     ]
    },
    {
     "name": "stderr",
     "output_type": "stream",
     "text": [
      "Fold 3 | Epoch 68/100: 100%|██████████| 78/78 [00:14<00:00,  5.52it/s]\n"
     ]
    },
    {
     "name": "stdout",
     "output_type": "stream",
     "text": [
      "Fold 3 - Epoch 68 ✅ | Train Acc: 23.87% - Train Loss: 1.6038 | Val Acc: 18.81% - Val Loss: 1.6058\n"
     ]
    },
    {
     "name": "stderr",
     "output_type": "stream",
     "text": [
      "Fold 3 | Epoch 69/100: 100%|██████████| 78/78 [00:14<00:00,  5.52it/s]\n"
     ]
    },
    {
     "name": "stdout",
     "output_type": "stream",
     "text": [
      "Fold 3 - Epoch 69 ✅ | Train Acc: 23.71% - Train Loss: 1.5974 | Val Acc: 16.88% - Val Loss: 1.6049\n"
     ]
    },
    {
     "name": "stderr",
     "output_type": "stream",
     "text": [
      "Fold 3 | Epoch 70/100: 100%|██████████| 78/78 [00:14<00:00,  5.52it/s]\n"
     ]
    },
    {
     "name": "stdout",
     "output_type": "stream",
     "text": [
      "Fold 3 - Epoch 70 ✅ | Train Acc: 24.00% - Train Loss: 1.5999 | Val Acc: 25.40% - Val Loss: 1.6096\n"
     ]
    },
    {
     "name": "stderr",
     "output_type": "stream",
     "text": [
      "Fold 3 | Epoch 71/100: 100%|██████████| 78/78 [00:13<00:00,  5.59it/s]\n"
     ]
    },
    {
     "name": "stdout",
     "output_type": "stream",
     "text": [
      "Fold 3 - Epoch 71 ✅ | Train Acc: 23.35% - Train Loss: 1.6022 | Val Acc: 22.67% - Val Loss: 1.6092\n"
     ]
    },
    {
     "name": "stderr",
     "output_type": "stream",
     "text": [
      "Fold 3 | Epoch 72/100: 100%|██████████| 78/78 [00:14<00:00,  5.52it/s]\n"
     ]
    },
    {
     "name": "stdout",
     "output_type": "stream",
     "text": [
      "Fold 3 - Epoch 72 ✅ | Train Acc: 25.72% - Train Loss: 1.5985 | Val Acc: 23.47% - Val Loss: 1.5996\n"
     ]
    },
    {
     "name": "stderr",
     "output_type": "stream",
     "text": [
      "Fold 3 | Epoch 73/100: 100%|██████████| 78/78 [00:13<00:00,  5.60it/s]\n"
     ]
    },
    {
     "name": "stdout",
     "output_type": "stream",
     "text": [
      "Fold 3 - Epoch 73 ✅ | Train Acc: 24.44% - Train Loss: 1.5962 | Val Acc: 25.40% - Val Loss: 1.6090\n"
     ]
    },
    {
     "name": "stderr",
     "output_type": "stream",
     "text": [
      "Fold 3 | Epoch 74/100: 100%|██████████| 78/78 [00:13<00:00,  5.59it/s]\n"
     ]
    },
    {
     "name": "stdout",
     "output_type": "stream",
     "text": [
      "Fold 3 - Epoch 74 ✅ | Train Acc: 24.00% - Train Loss: 1.5980 | Val Acc: 18.97% - Val Loss: 1.6228\n"
     ]
    },
    {
     "name": "stderr",
     "output_type": "stream",
     "text": [
      "Fold 3 | Epoch 75/100: 100%|██████████| 78/78 [00:13<00:00,  5.58it/s]\n"
     ]
    },
    {
     "name": "stdout",
     "output_type": "stream",
     "text": [
      "Fold 3 - Epoch 75 ✅ | Train Acc: 24.96% - Train Loss: 1.6004 | Val Acc: 27.49% - Val Loss: 1.6314\n"
     ]
    },
    {
     "name": "stderr",
     "output_type": "stream",
     "text": [
      "Fold 3 | Epoch 76/100: 100%|██████████| 78/78 [00:14<00:00,  5.52it/s]\n"
     ]
    },
    {
     "name": "stdout",
     "output_type": "stream",
     "text": [
      "Fold 3 - Epoch 76 ✅ | Train Acc: 26.73% - Train Loss: 1.5957 | Val Acc: 18.17% - Val Loss: 1.6226\n"
     ]
    },
    {
     "name": "stderr",
     "output_type": "stream",
     "text": [
      "Fold 3 | Epoch 77/100: 100%|██████████| 78/78 [00:13<00:00,  5.58it/s]\n"
     ]
    },
    {
     "name": "stdout",
     "output_type": "stream",
     "text": [
      "Fold 3 - Epoch 77 ✅ | Train Acc: 23.03% - Train Loss: 1.6175 | Val Acc: 22.19% - Val Loss: 1.6350\n"
     ]
    },
    {
     "name": "stderr",
     "output_type": "stream",
     "text": [
      "Fold 3 | Epoch 78/100: 100%|██████████| 78/78 [00:14<00:00,  5.52it/s]\n"
     ]
    },
    {
     "name": "stdout",
     "output_type": "stream",
     "text": [
      "Fold 3 - Epoch 78 ✅ | Train Acc: 24.52% - Train Loss: 1.5847 | Val Acc: 26.37% - Val Loss: 1.6140\n"
     ]
    },
    {
     "name": "stderr",
     "output_type": "stream",
     "text": [
      "Fold 3 | Epoch 79/100: 100%|██████████| 78/78 [00:14<00:00,  5.52it/s]\n"
     ]
    },
    {
     "name": "stdout",
     "output_type": "stream",
     "text": [
      "Fold 3 - Epoch 79 ✅ | Train Acc: 26.49% - Train Loss: 1.5857 | Val Acc: 27.17% - Val Loss: 1.5984\n"
     ]
    },
    {
     "name": "stderr",
     "output_type": "stream",
     "text": [
      "Fold 3 | Epoch 80/100: 100%|██████████| 78/78 [00:14<00:00,  5.52it/s]\n"
     ]
    },
    {
     "name": "stdout",
     "output_type": "stream",
     "text": [
      "Fold 3 - Epoch 80 ✅ | Train Acc: 24.80% - Train Loss: 1.5955 | Val Acc: 21.38% - Val Loss: 1.6008\n"
     ]
    },
    {
     "name": "stderr",
     "output_type": "stream",
     "text": [
      "Fold 3 | Epoch 81/100: 100%|██████████| 78/78 [00:14<00:00,  5.57it/s]\n"
     ]
    },
    {
     "name": "stdout",
     "output_type": "stream",
     "text": [
      "Fold 3 - Epoch 81 ✅ | Train Acc: 24.60% - Train Loss: 1.5878 | Val Acc: 25.08% - Val Loss: 1.6179\n"
     ]
    },
    {
     "name": "stderr",
     "output_type": "stream",
     "text": [
      "Fold 3 | Epoch 82/100: 100%|██████████| 78/78 [00:14<00:00,  5.51it/s]\n"
     ]
    },
    {
     "name": "stdout",
     "output_type": "stream",
     "text": [
      "Fold 3 - Epoch 82 ✅ | Train Acc: 23.67% - Train Loss: 1.5961 | Val Acc: 21.86% - Val Loss: 1.6169\n"
     ]
    },
    {
     "name": "stderr",
     "output_type": "stream",
     "text": [
      "Fold 3 | Epoch 83/100: 100%|██████████| 78/78 [00:13<00:00,  5.59it/s]\n"
     ]
    },
    {
     "name": "stdout",
     "output_type": "stream",
     "text": [
      "Fold 3 - Epoch 83 ✅ | Train Acc: 23.67% - Train Loss: 1.5979 | Val Acc: 25.08% - Val Loss: 1.6088\n"
     ]
    },
    {
     "name": "stderr",
     "output_type": "stream",
     "text": [
      "Fold 3 | Epoch 84/100: 100%|██████████| 78/78 [00:13<00:00,  5.59it/s]\n"
     ]
    },
    {
     "name": "stdout",
     "output_type": "stream",
     "text": [
      "Fold 3 - Epoch 84 ✅ | Train Acc: 25.96% - Train Loss: 1.5854 | Val Acc: 22.83% - Val Loss: 1.6259\n"
     ]
    },
    {
     "name": "stderr",
     "output_type": "stream",
     "text": [
      "Fold 3 | Epoch 85/100: 100%|██████████| 78/78 [00:14<00:00,  5.50it/s]\n"
     ]
    },
    {
     "name": "stdout",
     "output_type": "stream",
     "text": [
      "Fold 3 - Epoch 85 ✅ | Train Acc: 25.40% - Train Loss: 1.5979 | Val Acc: 26.69% - Val Loss: 1.6073\n"
     ]
    },
    {
     "name": "stderr",
     "output_type": "stream",
     "text": [
      "Fold 3 | Epoch 86/100: 100%|██████████| 78/78 [00:14<00:00,  5.53it/s]\n"
     ]
    },
    {
     "name": "stdout",
     "output_type": "stream",
     "text": [
      "Fold 3 - Epoch 86 ✅ | Train Acc: 24.16% - Train Loss: 1.5957 | Val Acc: 14.15% - Val Loss: 1.6437\n"
     ]
    },
    {
     "name": "stderr",
     "output_type": "stream",
     "text": [
      "Fold 3 | Epoch 87/100: 100%|██████████| 78/78 [00:13<00:00,  5.58it/s]\n"
     ]
    },
    {
     "name": "stdout",
     "output_type": "stream",
     "text": [
      "Fold 3 - Epoch 87 ✅ | Train Acc: 25.72% - Train Loss: 1.5936 | Val Acc: 19.29% - Val Loss: 1.6108\n"
     ]
    },
    {
     "name": "stderr",
     "output_type": "stream",
     "text": [
      "Fold 3 | Epoch 88/100: 100%|██████████| 78/78 [00:13<00:00,  5.58it/s]\n"
     ]
    },
    {
     "name": "stdout",
     "output_type": "stream",
     "text": [
      "Fold 3 - Epoch 88 ✅ | Train Acc: 23.79% - Train Loss: 1.6017 | Val Acc: 26.21% - Val Loss: 1.6156\n"
     ]
    },
    {
     "name": "stderr",
     "output_type": "stream",
     "text": [
      "Fold 3 | Epoch 89/100: 100%|██████████| 78/78 [00:13<00:00,  5.58it/s]\n"
     ]
    },
    {
     "name": "stdout",
     "output_type": "stream",
     "text": [
      "Fold 3 - Epoch 89 ✅ | Train Acc: 23.79% - Train Loss: 1.5964 | Val Acc: 24.28% - Val Loss: 1.6095\n"
     ]
    },
    {
     "name": "stderr",
     "output_type": "stream",
     "text": [
      "Fold 3 | Epoch 90/100: 100%|██████████| 78/78 [00:14<00:00,  5.56it/s]\n"
     ]
    },
    {
     "name": "stdout",
     "output_type": "stream",
     "text": [
      "Fold 3 - Epoch 90 ✅ | Train Acc: 24.40% - Train Loss: 1.5887 | Val Acc: 22.35% - Val Loss: 1.6123\n"
     ]
    },
    {
     "name": "stderr",
     "output_type": "stream",
     "text": [
      "Fold 3 | Epoch 91/100: 100%|██████████| 78/78 [00:13<00:00,  5.60it/s]\n"
     ]
    },
    {
     "name": "stdout",
     "output_type": "stream",
     "text": [
      "Fold 3 - Epoch 91 ✅ | Train Acc: 25.68% - Train Loss: 1.5951 | Val Acc: 18.17% - Val Loss: 1.6175\n"
     ]
    },
    {
     "name": "stderr",
     "output_type": "stream",
     "text": [
      "Fold 3 | Epoch 92/100: 100%|██████████| 78/78 [00:14<00:00,  5.52it/s]\n"
     ]
    },
    {
     "name": "stdout",
     "output_type": "stream",
     "text": [
      "Fold 3 - Epoch 92 ✅ | Train Acc: 25.20% - Train Loss: 1.5835 | Val Acc: 17.36% - Val Loss: 1.6307\n"
     ]
    },
    {
     "name": "stderr",
     "output_type": "stream",
     "text": [
      "Fold 3 | Epoch 93/100: 100%|██████████| 78/78 [00:13<00:00,  5.59it/s]\n"
     ]
    },
    {
     "name": "stdout",
     "output_type": "stream",
     "text": [
      "Fold 3 - Epoch 93 ✅ | Train Acc: 25.88% - Train Loss: 1.5924 | Val Acc: 22.19% - Val Loss: 1.6217\n"
     ]
    },
    {
     "name": "stderr",
     "output_type": "stream",
     "text": [
      "Fold 3 | Epoch 94/100: 100%|██████████| 78/78 [00:13<00:00,  5.60it/s]\n"
     ]
    },
    {
     "name": "stdout",
     "output_type": "stream",
     "text": [
      "Fold 3 - Epoch 94 ✅ | Train Acc: 24.52% - Train Loss: 1.5981 | Val Acc: 19.45% - Val Loss: 1.6234\n"
     ]
    },
    {
     "name": "stderr",
     "output_type": "stream",
     "text": [
      "Fold 3 | Epoch 95/100: 100%|██████████| 78/78 [00:14<00:00,  5.53it/s]\n"
     ]
    },
    {
     "name": "stdout",
     "output_type": "stream",
     "text": [
      "Fold 3 - Epoch 95 ✅ | Train Acc: 26.85% - Train Loss: 1.5931 | Val Acc: 18.65% - Val Loss: 1.6110\n"
     ]
    },
    {
     "name": "stderr",
     "output_type": "stream",
     "text": [
      "Fold 3 | Epoch 96/100: 100%|██████████| 78/78 [00:14<00:00,  5.51it/s]\n"
     ]
    },
    {
     "name": "stdout",
     "output_type": "stream",
     "text": [
      "Fold 3 - Epoch 96 ✅ | Train Acc: 25.28% - Train Loss: 1.5994 | Val Acc: 18.81% - Val Loss: 1.6495\n"
     ]
    },
    {
     "name": "stderr",
     "output_type": "stream",
     "text": [
      "Fold 3 | Epoch 97/100: 100%|██████████| 78/78 [00:14<00:00,  5.52it/s]\n"
     ]
    },
    {
     "name": "stdout",
     "output_type": "stream",
     "text": [
      "Fold 3 - Epoch 97 ✅ | Train Acc: 25.80% - Train Loss: 1.5915 | Val Acc: 18.65% - Val Loss: 1.6194\n"
     ]
    },
    {
     "name": "stderr",
     "output_type": "stream",
     "text": [
      "Fold 3 | Epoch 98/100: 100%|██████████| 78/78 [00:13<00:00,  5.59it/s]\n"
     ]
    },
    {
     "name": "stdout",
     "output_type": "stream",
     "text": [
      "Fold 3 - Epoch 98 ✅ | Train Acc: 23.75% - Train Loss: 1.5927 | Val Acc: 28.46% - Val Loss: 1.6085\n"
     ]
    },
    {
     "name": "stderr",
     "output_type": "stream",
     "text": [
      "Fold 3 | Epoch 99/100: 100%|██████████| 78/78 [00:14<00:00,  5.53it/s]\n"
     ]
    },
    {
     "name": "stdout",
     "output_type": "stream",
     "text": [
      "Fold 3 - Epoch 99 ✅ | Train Acc: 24.72% - Train Loss: 1.5977 | Val Acc: 27.01% - Val Loss: 1.5985\n"
     ]
    },
    {
     "name": "stderr",
     "output_type": "stream",
     "text": [
      "Fold 3 | Epoch 100/100: 100%|██████████| 78/78 [00:14<00:00,  5.52it/s]\n"
     ]
    },
    {
     "name": "stdout",
     "output_type": "stream",
     "text": [
      "Fold 3 - Epoch 100 ✅ | Train Acc: 26.13% - Train Loss: 1.5844 | Val Acc: 27.33% - Val Loss: 1.6108\n",
      "\n",
      "📂 Fold 4/5\n"
     ]
    },
    {
     "name": "stderr",
     "output_type": "stream",
     "text": [
      "Fold 4 | Epoch 1/100: 100%|██████████| 78/78 [00:14<00:00,  5.54it/s]\n"
     ]
    },
    {
     "name": "stdout",
     "output_type": "stream",
     "text": [
      "Fold 4 - Epoch 1 ✅ | Train Acc: 21.38% - Train Loss: 1.6254 | Val Acc: 19.29% - Val Loss: 1.6133\n"
     ]
    },
    {
     "name": "stderr",
     "output_type": "stream",
     "text": [
      "Fold 4 | Epoch 2/100: 100%|██████████| 78/78 [00:13<00:00,  5.59it/s]\n"
     ]
    },
    {
     "name": "stdout",
     "output_type": "stream",
     "text": [
      "Fold 4 - Epoch 2 ✅ | Train Acc: 22.87% - Train Loss: 1.6215 | Val Acc: 22.83% - Val Loss: 1.6114\n"
     ]
    },
    {
     "name": "stderr",
     "output_type": "stream",
     "text": [
      "Fold 4 | Epoch 3/100: 100%|██████████| 78/78 [00:13<00:00,  5.60it/s]\n"
     ]
    },
    {
     "name": "stdout",
     "output_type": "stream",
     "text": [
      "Fold 4 - Epoch 3 ✅ | Train Acc: 22.07% - Train Loss: 1.6113 | Val Acc: 24.60% - Val Loss: 1.6205\n"
     ]
    },
    {
     "name": "stderr",
     "output_type": "stream",
     "text": [
      "Fold 4 | Epoch 4/100: 100%|██████████| 78/78 [00:13<00:00,  5.60it/s]\n"
     ]
    },
    {
     "name": "stdout",
     "output_type": "stream",
     "text": [
      "Fold 4 - Epoch 4 ✅ | Train Acc: 23.19% - Train Loss: 1.6112 | Val Acc: 17.68% - Val Loss: 1.6308\n"
     ]
    },
    {
     "name": "stderr",
     "output_type": "stream",
     "text": [
      "Fold 4 | Epoch 5/100: 100%|██████████| 78/78 [00:13<00:00,  5.58it/s]\n"
     ]
    },
    {
     "name": "stdout",
     "output_type": "stream",
     "text": [
      "Fold 4 - Epoch 5 ✅ | Train Acc: 21.30% - Train Loss: 1.6260 | Val Acc: 25.56% - Val Loss: 1.6151\n"
     ]
    },
    {
     "name": "stderr",
     "output_type": "stream",
     "text": [
      "Fold 4 | Epoch 6/100: 100%|██████████| 78/78 [00:13<00:00,  5.61it/s]\n"
     ]
    },
    {
     "name": "stdout",
     "output_type": "stream",
     "text": [
      "Fold 4 - Epoch 6 ✅ | Train Acc: 24.04% - Train Loss: 1.6126 | Val Acc: 10.77% - Val Loss: 1.6481\n"
     ]
    },
    {
     "name": "stderr",
     "output_type": "stream",
     "text": [
      "Fold 4 | Epoch 7/100: 100%|██████████| 78/78 [00:13<00:00,  5.59it/s]\n"
     ]
    },
    {
     "name": "stdout",
     "output_type": "stream",
     "text": [
      "Fold 4 - Epoch 7 ✅ | Train Acc: 23.27% - Train Loss: 1.6179 | Val Acc: 19.77% - Val Loss: 1.6298\n"
     ]
    },
    {
     "name": "stderr",
     "output_type": "stream",
     "text": [
      "Fold 4 | Epoch 8/100: 100%|██████████| 78/78 [00:14<00:00,  5.52it/s]\n"
     ]
    },
    {
     "name": "stdout",
     "output_type": "stream",
     "text": [
      "Fold 4 - Epoch 8 ✅ | Train Acc: 23.95% - Train Loss: 1.6127 | Val Acc: 29.26% - Val Loss: 1.6203\n"
     ]
    },
    {
     "name": "stderr",
     "output_type": "stream",
     "text": [
      "Fold 4 | Epoch 9/100: 100%|██████████| 78/78 [00:13<00:00,  5.58it/s]\n"
     ]
    },
    {
     "name": "stdout",
     "output_type": "stream",
     "text": [
      "Fold 4 - Epoch 9 ✅ | Train Acc: 22.39% - Train Loss: 1.6206 | Val Acc: 24.28% - Val Loss: 1.6244\n"
     ]
    },
    {
     "name": "stderr",
     "output_type": "stream",
     "text": [
      "Fold 4 | Epoch 10/100: 100%|██████████| 78/78 [00:14<00:00,  5.52it/s]\n"
     ]
    },
    {
     "name": "stdout",
     "output_type": "stream",
     "text": [
      "Fold 4 - Epoch 10 ✅ | Train Acc: 22.83% - Train Loss: 1.6201 | Val Acc: 17.52% - Val Loss: 1.6354\n"
     ]
    },
    {
     "name": "stderr",
     "output_type": "stream",
     "text": [
      "Fold 4 | Epoch 11/100: 100%|██████████| 78/78 [00:14<00:00,  5.50it/s]\n"
     ]
    },
    {
     "name": "stdout",
     "output_type": "stream",
     "text": [
      "Fold 4 - Epoch 11 ✅ | Train Acc: 24.00% - Train Loss: 1.6192 | Val Acc: 18.17% - Val Loss: 1.6282\n"
     ]
    },
    {
     "name": "stderr",
     "output_type": "stream",
     "text": [
      "Fold 4 | Epoch 12/100: 100%|██████████| 78/78 [00:14<00:00,  5.52it/s]\n"
     ]
    },
    {
     "name": "stdout",
     "output_type": "stream",
     "text": [
      "Fold 4 - Epoch 12 ✅ | Train Acc: 22.79% - Train Loss: 1.6103 | Val Acc: 22.19% - Val Loss: 1.6385\n"
     ]
    },
    {
     "name": "stderr",
     "output_type": "stream",
     "text": [
      "Fold 4 | Epoch 13/100: 100%|██████████| 78/78 [00:14<00:00,  5.44it/s]\n"
     ]
    },
    {
     "name": "stdout",
     "output_type": "stream",
     "text": [
      "Fold 4 - Epoch 13 ✅ | Train Acc: 23.83% - Train Loss: 1.6149 | Val Acc: 17.68% - Val Loss: 1.6168\n"
     ]
    },
    {
     "name": "stderr",
     "output_type": "stream",
     "text": [
      "Fold 4 | Epoch 14/100: 100%|██████████| 78/78 [00:14<00:00,  5.51it/s]\n"
     ]
    },
    {
     "name": "stdout",
     "output_type": "stream",
     "text": [
      "Fold 4 - Epoch 14 ✅ | Train Acc: 22.67% - Train Loss: 1.6119 | Val Acc: 13.02% - Val Loss: 1.6822\n"
     ]
    },
    {
     "name": "stderr",
     "output_type": "stream",
     "text": [
      "Fold 4 | Epoch 15/100: 100%|██████████| 78/78 [00:14<00:00,  5.50it/s]\n"
     ]
    },
    {
     "name": "stdout",
     "output_type": "stream",
     "text": [
      "Fold 4 - Epoch 15 ✅ | Train Acc: 24.16% - Train Loss: 1.6241 | Val Acc: 26.05% - Val Loss: 1.6114\n"
     ]
    },
    {
     "name": "stderr",
     "output_type": "stream",
     "text": [
      "Fold 4 | Epoch 16/100: 100%|██████████| 78/78 [00:14<00:00,  5.51it/s]\n"
     ]
    },
    {
     "name": "stdout",
     "output_type": "stream",
     "text": [
      "Fold 4 - Epoch 16 ✅ | Train Acc: 23.31% - Train Loss: 1.6159 | Val Acc: 26.85% - Val Loss: 1.6199\n"
     ]
    },
    {
     "name": "stderr",
     "output_type": "stream",
     "text": [
      "Fold 4 | Epoch 17/100: 100%|██████████| 78/78 [00:14<00:00,  5.52it/s]\n"
     ]
    },
    {
     "name": "stdout",
     "output_type": "stream",
     "text": [
      "Fold 4 - Epoch 17 ✅ | Train Acc: 22.71% - Train Loss: 1.6005 | Val Acc: 18.65% - Val Loss: 1.6200\n"
     ]
    },
    {
     "name": "stderr",
     "output_type": "stream",
     "text": [
      "Fold 4 | Epoch 18/100: 100%|██████████| 78/78 [00:14<00:00,  5.52it/s]\n"
     ]
    },
    {
     "name": "stdout",
     "output_type": "stream",
     "text": [
      "Fold 4 - Epoch 18 ✅ | Train Acc: 23.83% - Train Loss: 1.6047 | Val Acc: 17.85% - Val Loss: 1.6332\n"
     ]
    },
    {
     "name": "stderr",
     "output_type": "stream",
     "text": [
      "Fold 4 | Epoch 19/100: 100%|██████████| 78/78 [00:14<00:00,  5.52it/s]\n"
     ]
    },
    {
     "name": "stdout",
     "output_type": "stream",
     "text": [
      "Fold 4 - Epoch 19 ✅ | Train Acc: 22.87% - Train Loss: 1.6123 | Val Acc: 18.97% - Val Loss: 1.6235\n"
     ]
    },
    {
     "name": "stderr",
     "output_type": "stream",
     "text": [
      "Fold 4 | Epoch 20/100: 100%|██████████| 78/78 [00:14<00:00,  5.53it/s]\n"
     ]
    },
    {
     "name": "stdout",
     "output_type": "stream",
     "text": [
      "Fold 4 - Epoch 20 ✅ | Train Acc: 23.87% - Train Loss: 1.6033 | Val Acc: 19.13% - Val Loss: 1.6164\n"
     ]
    },
    {
     "name": "stderr",
     "output_type": "stream",
     "text": [
      "Fold 4 | Epoch 21/100: 100%|██████████| 78/78 [00:14<00:00,  5.52it/s]\n"
     ]
    },
    {
     "name": "stdout",
     "output_type": "stream",
     "text": [
      "Fold 4 - Epoch 21 ✅ | Train Acc: 24.28% - Train Loss: 1.6040 | Val Acc: 21.54% - Val Loss: 1.6219\n"
     ]
    },
    {
     "name": "stderr",
     "output_type": "stream",
     "text": [
      "Fold 4 | Epoch 22/100: 100%|██████████| 78/78 [00:14<00:00,  5.53it/s]\n"
     ]
    },
    {
     "name": "stdout",
     "output_type": "stream",
     "text": [
      "Fold 4 - Epoch 22 ✅ | Train Acc: 23.55% - Train Loss: 1.6031 | Val Acc: 22.03% - Val Loss: 1.6202\n"
     ]
    },
    {
     "name": "stderr",
     "output_type": "stream",
     "text": [
      "Fold 4 | Epoch 23/100: 100%|██████████| 78/78 [00:13<00:00,  5.59it/s]\n"
     ]
    },
    {
     "name": "stdout",
     "output_type": "stream",
     "text": [
      "Fold 4 - Epoch 23 ✅ | Train Acc: 23.71% - Train Loss: 1.6061 | Val Acc: 22.19% - Val Loss: 1.6214\n"
     ]
    },
    {
     "name": "stderr",
     "output_type": "stream",
     "text": [
      "Fold 4 | Epoch 24/100: 100%|██████████| 78/78 [00:13<00:00,  5.59it/s]\n"
     ]
    },
    {
     "name": "stdout",
     "output_type": "stream",
     "text": [
      "Fold 4 - Epoch 24 ✅ | Train Acc: 25.24% - Train Loss: 1.5969 | Val Acc: 17.20% - Val Loss: 1.6294\n"
     ]
    },
    {
     "name": "stderr",
     "output_type": "stream",
     "text": [
      "Fold 4 | Epoch 25/100: 100%|██████████| 78/78 [00:14<00:00,  5.55it/s]\n"
     ]
    },
    {
     "name": "stdout",
     "output_type": "stream",
     "text": [
      "Fold 4 - Epoch 25 ✅ | Train Acc: 24.12% - Train Loss: 1.6013 | Val Acc: 19.77% - Val Loss: 1.7018\n"
     ]
    },
    {
     "name": "stderr",
     "output_type": "stream",
     "text": [
      "Fold 4 | Epoch 26/100: 100%|██████████| 78/78 [00:14<00:00,  5.52it/s]\n"
     ]
    },
    {
     "name": "stdout",
     "output_type": "stream",
     "text": [
      "Fold 4 - Epoch 26 ✅ | Train Acc: 24.32% - Train Loss: 1.6149 | Val Acc: 17.52% - Val Loss: 1.6481\n"
     ]
    },
    {
     "name": "stderr",
     "output_type": "stream",
     "text": [
      "Fold 4 | Epoch 27/100: 100%|██████████| 78/78 [00:14<00:00,  5.51it/s]\n"
     ]
    },
    {
     "name": "stdout",
     "output_type": "stream",
     "text": [
      "Fold 4 - Epoch 27 ✅ | Train Acc: 25.16% - Train Loss: 1.6054 | Val Acc: 16.24% - Val Loss: 1.6442\n"
     ]
    },
    {
     "name": "stderr",
     "output_type": "stream",
     "text": [
      "Fold 4 | Epoch 28/100: 100%|██████████| 78/78 [00:14<00:00,  5.52it/s]\n"
     ]
    },
    {
     "name": "stdout",
     "output_type": "stream",
     "text": [
      "Fold 4 - Epoch 28 ✅ | Train Acc: 23.23% - Train Loss: 1.6028 | Val Acc: 17.52% - Val Loss: 1.6257\n"
     ]
    },
    {
     "name": "stderr",
     "output_type": "stream",
     "text": [
      "Fold 4 | Epoch 29/100: 100%|██████████| 78/78 [00:14<00:00,  5.57it/s]\n"
     ]
    },
    {
     "name": "stdout",
     "output_type": "stream",
     "text": [
      "Fold 4 - Epoch 29 ✅ | Train Acc: 24.60% - Train Loss: 1.6005 | Val Acc: 20.42% - Val Loss: 1.6299\n"
     ]
    },
    {
     "name": "stderr",
     "output_type": "stream",
     "text": [
      "Fold 4 | Epoch 30/100: 100%|██████████| 78/78 [00:14<00:00,  5.50it/s]\n"
     ]
    },
    {
     "name": "stdout",
     "output_type": "stream",
     "text": [
      "Fold 4 - Epoch 30 ✅ | Train Acc: 24.64% - Train Loss: 1.5997 | Val Acc: 25.40% - Val Loss: 1.6392\n"
     ]
    },
    {
     "name": "stderr",
     "output_type": "stream",
     "text": [
      "Fold 4 | Epoch 31/100: 100%|██████████| 78/78 [00:13<00:00,  5.60it/s]\n"
     ]
    },
    {
     "name": "stdout",
     "output_type": "stream",
     "text": [
      "Fold 4 - Epoch 31 ✅ | Train Acc: 24.36% - Train Loss: 1.5956 | Val Acc: 19.13% - Val Loss: 1.6171\n"
     ]
    },
    {
     "name": "stderr",
     "output_type": "stream",
     "text": [
      "Fold 4 | Epoch 32/100: 100%|██████████| 78/78 [00:14<00:00,  5.52it/s]\n"
     ]
    },
    {
     "name": "stdout",
     "output_type": "stream",
     "text": [
      "Fold 4 - Epoch 32 ✅ | Train Acc: 22.91% - Train Loss: 1.6168 | Val Acc: 26.53% - Val Loss: 1.6392\n"
     ]
    },
    {
     "name": "stderr",
     "output_type": "stream",
     "text": [
      "Fold 4 | Epoch 33/100: 100%|██████████| 78/78 [00:13<00:00,  5.60it/s]\n"
     ]
    },
    {
     "name": "stdout",
     "output_type": "stream",
     "text": [
      "Fold 4 - Epoch 33 ✅ | Train Acc: 24.52% - Train Loss: 1.6017 | Val Acc: 22.67% - Val Loss: 1.6391\n"
     ]
    },
    {
     "name": "stderr",
     "output_type": "stream",
     "text": [
      "Fold 4 | Epoch 34/100: 100%|██████████| 78/78 [00:13<00:00,  5.59it/s]\n"
     ]
    },
    {
     "name": "stdout",
     "output_type": "stream",
     "text": [
      "Fold 4 - Epoch 34 ✅ | Train Acc: 24.00% - Train Loss: 1.5988 | Val Acc: 18.01% - Val Loss: 1.6595\n"
     ]
    },
    {
     "name": "stderr",
     "output_type": "stream",
     "text": [
      "Fold 4 | Epoch 35/100: 100%|██████████| 78/78 [00:13<00:00,  5.59it/s]\n"
     ]
    },
    {
     "name": "stdout",
     "output_type": "stream",
     "text": [
      "Fold 4 - Epoch 35 ✅ | Train Acc: 22.91% - Train Loss: 1.6075 | Val Acc: 25.24% - Val Loss: 1.6199\n"
     ]
    },
    {
     "name": "stderr",
     "output_type": "stream",
     "text": [
      "Fold 4 | Epoch 36/100: 100%|██████████| 78/78 [00:14<00:00,  5.54it/s]\n"
     ]
    },
    {
     "name": "stdout",
     "output_type": "stream",
     "text": [
      "Fold 4 - Epoch 36 ✅ | Train Acc: 23.19% - Train Loss: 1.6084 | Val Acc: 23.15% - Val Loss: 1.6536\n"
     ]
    },
    {
     "name": "stderr",
     "output_type": "stream",
     "text": [
      "Fold 4 | Epoch 37/100: 100%|██████████| 78/78 [00:13<00:00,  5.60it/s]\n"
     ]
    },
    {
     "name": "stdout",
     "output_type": "stream",
     "text": [
      "Fold 4 - Epoch 37 ✅ | Train Acc: 25.20% - Train Loss: 1.5966 | Val Acc: 17.52% - Val Loss: 1.6293\n"
     ]
    },
    {
     "name": "stderr",
     "output_type": "stream",
     "text": [
      "Fold 4 | Epoch 38/100: 100%|██████████| 78/78 [00:13<00:00,  5.59it/s]\n"
     ]
    },
    {
     "name": "stdout",
     "output_type": "stream",
     "text": [
      "Fold 4 - Epoch 38 ✅ | Train Acc: 24.56% - Train Loss: 1.6013 | Val Acc: 18.33% - Val Loss: 1.6195\n"
     ]
    },
    {
     "name": "stderr",
     "output_type": "stream",
     "text": [
      "Fold 4 | Epoch 39/100: 100%|██████████| 78/78 [00:14<00:00,  5.52it/s]\n"
     ]
    },
    {
     "name": "stdout",
     "output_type": "stream",
     "text": [
      "Fold 4 - Epoch 39 ✅ | Train Acc: 23.83% - Train Loss: 1.5917 | Val Acc: 25.56% - Val Loss: 1.6495\n"
     ]
    },
    {
     "name": "stderr",
     "output_type": "stream",
     "text": [
      "Fold 4 | Epoch 40/100: 100%|██████████| 78/78 [00:14<00:00,  5.52it/s]\n"
     ]
    },
    {
     "name": "stdout",
     "output_type": "stream",
     "text": [
      "Fold 4 - Epoch 40 ✅ | Train Acc: 24.56% - Train Loss: 1.6067 | Val Acc: 15.11% - Val Loss: 1.6316\n"
     ]
    },
    {
     "name": "stderr",
     "output_type": "stream",
     "text": [
      "Fold 4 | Epoch 41/100: 100%|██████████| 78/78 [00:13<00:00,  5.60it/s]\n"
     ]
    },
    {
     "name": "stdout",
     "output_type": "stream",
     "text": [
      "Fold 4 - Epoch 41 ✅ | Train Acc: 23.67% - Train Loss: 1.6077 | Val Acc: 25.56% - Val Loss: 1.6318\n"
     ]
    },
    {
     "name": "stderr",
     "output_type": "stream",
     "text": [
      "Fold 4 | Epoch 42/100: 100%|██████████| 78/78 [00:14<00:00,  5.52it/s]\n"
     ]
    },
    {
     "name": "stdout",
     "output_type": "stream",
     "text": [
      "Fold 4 - Epoch 42 ✅ | Train Acc: 25.08% - Train Loss: 1.6028 | Val Acc: 19.45% - Val Loss: 1.6295\n"
     ]
    },
    {
     "name": "stderr",
     "output_type": "stream",
     "text": [
      "Fold 4 | Epoch 43/100: 100%|██████████| 78/78 [00:14<00:00,  5.56it/s]\n"
     ]
    },
    {
     "name": "stdout",
     "output_type": "stream",
     "text": [
      "Fold 4 - Epoch 43 ✅ | Train Acc: 24.56% - Train Loss: 1.6003 | Val Acc: 19.45% - Val Loss: 1.6413\n"
     ]
    },
    {
     "name": "stderr",
     "output_type": "stream",
     "text": [
      "Fold 4 | Epoch 44/100: 100%|██████████| 78/78 [00:13<00:00,  5.60it/s]\n"
     ]
    },
    {
     "name": "stdout",
     "output_type": "stream",
     "text": [
      "Fold 4 - Epoch 44 ✅ | Train Acc: 24.16% - Train Loss: 1.5973 | Val Acc: 22.03% - Val Loss: 1.6319\n"
     ]
    },
    {
     "name": "stderr",
     "output_type": "stream",
     "text": [
      "Fold 4 | Epoch 45/100: 100%|██████████| 78/78 [00:13<00:00,  5.59it/s]\n"
     ]
    },
    {
     "name": "stdout",
     "output_type": "stream",
     "text": [
      "Fold 4 - Epoch 45 ✅ | Train Acc: 25.88% - Train Loss: 1.5990 | Val Acc: 16.08% - Val Loss: 1.6626\n"
     ]
    },
    {
     "name": "stderr",
     "output_type": "stream",
     "text": [
      "Fold 4 | Epoch 46/100: 100%|██████████| 78/78 [00:14<00:00,  5.53it/s]\n"
     ]
    },
    {
     "name": "stdout",
     "output_type": "stream",
     "text": [
      "Fold 4 - Epoch 46 ✅ | Train Acc: 23.31% - Train Loss: 1.6110 | Val Acc: 13.67% - Val Loss: 1.6557\n"
     ]
    },
    {
     "name": "stderr",
     "output_type": "stream",
     "text": [
      "Fold 4 | Epoch 47/100: 100%|██████████| 78/78 [00:14<00:00,  5.54it/s]\n"
     ]
    },
    {
     "name": "stdout",
     "output_type": "stream",
     "text": [
      "Fold 4 - Epoch 47 ✅ | Train Acc: 23.75% - Train Loss: 1.5969 | Val Acc: 24.76% - Val Loss: 1.6337\n"
     ]
    },
    {
     "name": "stderr",
     "output_type": "stream",
     "text": [
      "Fold 4 | Epoch 48/100: 100%|██████████| 78/78 [00:13<00:00,  5.59it/s]\n"
     ]
    },
    {
     "name": "stdout",
     "output_type": "stream",
     "text": [
      "Fold 4 - Epoch 48 ✅ | Train Acc: 25.92% - Train Loss: 1.5887 | Val Acc: 21.22% - Val Loss: 1.6435\n"
     ]
    },
    {
     "name": "stderr",
     "output_type": "stream",
     "text": [
      "Fold 4 | Epoch 49/100: 100%|██████████| 78/78 [00:13<00:00,  5.60it/s]\n"
     ]
    },
    {
     "name": "stdout",
     "output_type": "stream",
     "text": [
      "Fold 4 - Epoch 49 ✅ | Train Acc: 24.40% - Train Loss: 1.6006 | Val Acc: 19.13% - Val Loss: 1.6288\n"
     ]
    },
    {
     "name": "stderr",
     "output_type": "stream",
     "text": [
      "Fold 4 | Epoch 50/100: 100%|██████████| 78/78 [00:14<00:00,  5.52it/s]\n"
     ]
    },
    {
     "name": "stdout",
     "output_type": "stream",
     "text": [
      "Fold 4 - Epoch 50 ✅ | Train Acc: 24.80% - Train Loss: 1.6058 | Val Acc: 23.47% - Val Loss: 1.6350\n"
     ]
    },
    {
     "name": "stderr",
     "output_type": "stream",
     "text": [
      "Fold 4 | Epoch 51/100: 100%|██████████| 78/78 [00:14<00:00,  5.52it/s]\n"
     ]
    },
    {
     "name": "stdout",
     "output_type": "stream",
     "text": [
      "Fold 4 - Epoch 51 ✅ | Train Acc: 24.28% - Train Loss: 1.5919 | Val Acc: 22.03% - Val Loss: 1.6329\n"
     ]
    },
    {
     "name": "stderr",
     "output_type": "stream",
     "text": [
      "Fold 4 | Epoch 52/100: 100%|██████████| 78/78 [00:14<00:00,  5.53it/s]\n"
     ]
    },
    {
     "name": "stdout",
     "output_type": "stream",
     "text": [
      "Fold 4 - Epoch 52 ✅ | Train Acc: 24.48% - Train Loss: 1.5926 | Val Acc: 23.95% - Val Loss: 1.6155\n"
     ]
    },
    {
     "name": "stderr",
     "output_type": "stream",
     "text": [
      "Fold 4 | Epoch 53/100: 100%|██████████| 78/78 [00:13<00:00,  5.59it/s]\n"
     ]
    },
    {
     "name": "stdout",
     "output_type": "stream",
     "text": [
      "Fold 4 - Epoch 53 ✅ | Train Acc: 24.28% - Train Loss: 1.6104 | Val Acc: 21.22% - Val Loss: 1.6600\n"
     ]
    },
    {
     "name": "stderr",
     "output_type": "stream",
     "text": [
      "Fold 4 | Epoch 54/100: 100%|██████████| 78/78 [00:14<00:00,  5.52it/s]\n"
     ]
    },
    {
     "name": "stdout",
     "output_type": "stream",
     "text": [
      "Fold 4 - Epoch 54 ✅ | Train Acc: 26.45% - Train Loss: 1.5894 | Val Acc: 19.13% - Val Loss: 1.6415\n"
     ]
    },
    {
     "name": "stderr",
     "output_type": "stream",
     "text": [
      "Fold 4 | Epoch 55/100: 100%|██████████| 78/78 [00:13<00:00,  5.59it/s]\n"
     ]
    },
    {
     "name": "stdout",
     "output_type": "stream",
     "text": [
      "Fold 4 - Epoch 55 ✅ | Train Acc: 24.88% - Train Loss: 1.5953 | Val Acc: 16.88% - Val Loss: 1.6315\n"
     ]
    },
    {
     "name": "stderr",
     "output_type": "stream",
     "text": [
      "Fold 4 | Epoch 56/100: 100%|██████████| 78/78 [00:13<00:00,  5.59it/s]\n"
     ]
    },
    {
     "name": "stdout",
     "output_type": "stream",
     "text": [
      "Fold 4 - Epoch 56 ✅ | Train Acc: 26.73% - Train Loss: 1.5974 | Val Acc: 17.20% - Val Loss: 1.6381\n"
     ]
    },
    {
     "name": "stderr",
     "output_type": "stream",
     "text": [
      "Fold 4 | Epoch 57/100: 100%|██████████| 78/78 [00:13<00:00,  5.58it/s]\n"
     ]
    },
    {
     "name": "stdout",
     "output_type": "stream",
     "text": [
      "Fold 4 - Epoch 57 ✅ | Train Acc: 25.32% - Train Loss: 1.5951 | Val Acc: 24.44% - Val Loss: 1.6208\n"
     ]
    },
    {
     "name": "stderr",
     "output_type": "stream",
     "text": [
      "Fold 4 | Epoch 58/100: 100%|██████████| 78/78 [00:13<00:00,  5.59it/s]\n"
     ]
    },
    {
     "name": "stdout",
     "output_type": "stream",
     "text": [
      "Fold 4 - Epoch 58 ✅ | Train Acc: 24.52% - Train Loss: 1.5935 | Val Acc: 23.15% - Val Loss: 1.6394\n"
     ]
    },
    {
     "name": "stderr",
     "output_type": "stream",
     "text": [
      "Fold 4 | Epoch 59/100: 100%|██████████| 78/78 [00:13<00:00,  5.59it/s]\n"
     ]
    },
    {
     "name": "stdout",
     "output_type": "stream",
     "text": [
      "Fold 4 - Epoch 59 ✅ | Train Acc: 25.88% - Train Loss: 1.5957 | Val Acc: 24.12% - Val Loss: 1.6249\n"
     ]
    },
    {
     "name": "stderr",
     "output_type": "stream",
     "text": [
      "Fold 4 | Epoch 60/100: 100%|██████████| 78/78 [00:13<00:00,  5.58it/s]\n"
     ]
    },
    {
     "name": "stdout",
     "output_type": "stream",
     "text": [
      "Fold 4 - Epoch 60 ✅ | Train Acc: 24.76% - Train Loss: 1.5986 | Val Acc: 21.06% - Val Loss: 1.6243\n"
     ]
    },
    {
     "name": "stderr",
     "output_type": "stream",
     "text": [
      "Fold 4 | Epoch 61/100: 100%|██████████| 78/78 [00:14<00:00,  5.53it/s]\n"
     ]
    },
    {
     "name": "stdout",
     "output_type": "stream",
     "text": [
      "Fold 4 - Epoch 61 ✅ | Train Acc: 25.60% - Train Loss: 1.5890 | Val Acc: 25.72% - Val Loss: 1.6402\n"
     ]
    },
    {
     "name": "stderr",
     "output_type": "stream",
     "text": [
      "Fold 4 | Epoch 62/100: 100%|██████████| 78/78 [00:13<00:00,  5.58it/s]\n"
     ]
    },
    {
     "name": "stdout",
     "output_type": "stream",
     "text": [
      "Fold 4 - Epoch 62 ✅ | Train Acc: 25.60% - Train Loss: 1.5837 | Val Acc: 25.72% - Val Loss: 1.6430\n"
     ]
    },
    {
     "name": "stderr",
     "output_type": "stream",
     "text": [
      "Fold 4 | Epoch 63/100: 100%|██████████| 78/78 [00:13<00:00,  5.60it/s]\n"
     ]
    },
    {
     "name": "stdout",
     "output_type": "stream",
     "text": [
      "Fold 4 - Epoch 63 ✅ | Train Acc: 25.04% - Train Loss: 1.5867 | Val Acc: 16.72% - Val Loss: 1.6234\n"
     ]
    },
    {
     "name": "stderr",
     "output_type": "stream",
     "text": [
      "Fold 4 | Epoch 64/100: 100%|██████████| 78/78 [00:14<00:00,  5.51it/s]\n"
     ]
    },
    {
     "name": "stdout",
     "output_type": "stream",
     "text": [
      "Fold 4 - Epoch 64 ✅ | Train Acc: 25.80% - Train Loss: 1.5954 | Val Acc: 22.51% - Val Loss: 1.6512\n"
     ]
    },
    {
     "name": "stderr",
     "output_type": "stream",
     "text": [
      "Fold 4 | Epoch 65/100: 100%|██████████| 78/78 [00:14<00:00,  5.53it/s]\n"
     ]
    },
    {
     "name": "stdout",
     "output_type": "stream",
     "text": [
      "Fold 4 - Epoch 65 ✅ | Train Acc: 24.72% - Train Loss: 1.5999 | Val Acc: 18.33% - Val Loss: 1.6281\n"
     ]
    },
    {
     "name": "stderr",
     "output_type": "stream",
     "text": [
      "Fold 4 | Epoch 66/100: 100%|██████████| 78/78 [00:13<00:00,  5.59it/s]\n"
     ]
    },
    {
     "name": "stdout",
     "output_type": "stream",
     "text": [
      "Fold 4 - Epoch 66 ✅ | Train Acc: 25.48% - Train Loss: 1.5959 | Val Acc: 18.81% - Val Loss: 1.6271\n"
     ]
    },
    {
     "name": "stderr",
     "output_type": "stream",
     "text": [
      "Fold 4 | Epoch 67/100: 100%|██████████| 78/78 [00:14<00:00,  5.52it/s]\n"
     ]
    },
    {
     "name": "stdout",
     "output_type": "stream",
     "text": [
      "Fold 4 - Epoch 67 ✅ | Train Acc: 26.25% - Train Loss: 1.5868 | Val Acc: 21.38% - Val Loss: 1.6459\n"
     ]
    },
    {
     "name": "stderr",
     "output_type": "stream",
     "text": [
      "Fold 4 | Epoch 68/100: 100%|██████████| 78/78 [00:14<00:00,  5.52it/s]\n"
     ]
    },
    {
     "name": "stdout",
     "output_type": "stream",
     "text": [
      "Fold 4 - Epoch 68 ✅ | Train Acc: 25.36% - Train Loss: 1.5921 | Val Acc: 25.56% - Val Loss: 1.6588\n"
     ]
    },
    {
     "name": "stderr",
     "output_type": "stream",
     "text": [
      "Fold 4 | Epoch 69/100: 100%|██████████| 78/78 [00:14<00:00,  5.51it/s]\n"
     ]
    },
    {
     "name": "stdout",
     "output_type": "stream",
     "text": [
      "Fold 4 - Epoch 69 ✅ | Train Acc: 25.72% - Train Loss: 1.5993 | Val Acc: 17.85% - Val Loss: 1.6560\n"
     ]
    },
    {
     "name": "stderr",
     "output_type": "stream",
     "text": [
      "Fold 4 | Epoch 70/100: 100%|██████████| 78/78 [00:14<00:00,  5.51it/s]\n"
     ]
    },
    {
     "name": "stdout",
     "output_type": "stream",
     "text": [
      "Fold 4 - Epoch 70 ✅ | Train Acc: 25.28% - Train Loss: 1.5861 | Val Acc: 24.28% - Val Loss: 1.6405\n"
     ]
    },
    {
     "name": "stderr",
     "output_type": "stream",
     "text": [
      "Fold 4 | Epoch 71/100: 100%|██████████| 78/78 [00:14<00:00,  5.53it/s]\n"
     ]
    },
    {
     "name": "stdout",
     "output_type": "stream",
     "text": [
      "Fold 4 - Epoch 71 ✅ | Train Acc: 23.31% - Train Loss: 1.6116 | Val Acc: 25.08% - Val Loss: 1.6446\n"
     ]
    },
    {
     "name": "stderr",
     "output_type": "stream",
     "text": [
      "Fold 4 | Epoch 72/100: 100%|██████████| 78/78 [00:14<00:00,  5.53it/s]\n"
     ]
    },
    {
     "name": "stdout",
     "output_type": "stream",
     "text": [
      "Fold 4 - Epoch 72 ✅ | Train Acc: 24.36% - Train Loss: 1.5883 | Val Acc: 22.35% - Val Loss: 1.6273\n"
     ]
    },
    {
     "name": "stderr",
     "output_type": "stream",
     "text": [
      "Fold 4 | Epoch 73/100: 100%|██████████| 78/78 [00:14<00:00,  5.53it/s]\n"
     ]
    },
    {
     "name": "stdout",
     "output_type": "stream",
     "text": [
      "Fold 4 - Epoch 73 ✅ | Train Acc: 23.71% - Train Loss: 1.5851 | Val Acc: 22.19% - Val Loss: 1.6328\n"
     ]
    },
    {
     "name": "stderr",
     "output_type": "stream",
     "text": [
      "Fold 4 | Epoch 74/100: 100%|██████████| 78/78 [00:14<00:00,  5.53it/s]\n"
     ]
    },
    {
     "name": "stdout",
     "output_type": "stream",
     "text": [
      "Fold 4 - Epoch 74 ✅ | Train Acc: 25.68% - Train Loss: 1.5940 | Val Acc: 25.72% - Val Loss: 1.6427\n"
     ]
    },
    {
     "name": "stderr",
     "output_type": "stream",
     "text": [
      "Fold 4 | Epoch 75/100: 100%|██████████| 78/78 [00:13<00:00,  5.58it/s]\n"
     ]
    },
    {
     "name": "stdout",
     "output_type": "stream",
     "text": [
      "Fold 4 - Epoch 75 ✅ | Train Acc: 25.72% - Train Loss: 1.5878 | Val Acc: 20.90% - Val Loss: 1.6519\n"
     ]
    },
    {
     "name": "stderr",
     "output_type": "stream",
     "text": [
      "Fold 4 | Epoch 76/100: 100%|██████████| 78/78 [00:14<00:00,  5.52it/s]\n"
     ]
    },
    {
     "name": "stdout",
     "output_type": "stream",
     "text": [
      "Fold 4 - Epoch 76 ✅ | Train Acc: 25.24% - Train Loss: 1.5950 | Val Acc: 22.67% - Val Loss: 1.6285\n"
     ]
    },
    {
     "name": "stderr",
     "output_type": "stream",
     "text": [
      "Fold 4 | Epoch 77/100: 100%|██████████| 78/78 [00:14<00:00,  5.51it/s]\n"
     ]
    },
    {
     "name": "stdout",
     "output_type": "stream",
     "text": [
      "Fold 4 - Epoch 77 ✅ | Train Acc: 25.68% - Train Loss: 1.5866 | Val Acc: 19.29% - Val Loss: 1.6283\n"
     ]
    },
    {
     "name": "stderr",
     "output_type": "stream",
     "text": [
      "Fold 4 | Epoch 78/100: 100%|██████████| 78/78 [00:13<00:00,  5.58it/s]\n"
     ]
    },
    {
     "name": "stdout",
     "output_type": "stream",
     "text": [
      "Fold 4 - Epoch 78 ✅ | Train Acc: 25.76% - Train Loss: 1.5847 | Val Acc: 24.28% - Val Loss: 1.6274\n"
     ]
    },
    {
     "name": "stderr",
     "output_type": "stream",
     "text": [
      "Fold 4 | Epoch 79/100: 100%|██████████| 78/78 [00:14<00:00,  5.52it/s]\n"
     ]
    },
    {
     "name": "stdout",
     "output_type": "stream",
     "text": [
      "Fold 4 - Epoch 79 ✅ | Train Acc: 26.33% - Train Loss: 1.5887 | Val Acc: 19.13% - Val Loss: 1.6520\n"
     ]
    },
    {
     "name": "stderr",
     "output_type": "stream",
     "text": [
      "Fold 4 | Epoch 80/100: 100%|██████████| 78/78 [00:14<00:00,  5.51it/s]\n"
     ]
    },
    {
     "name": "stdout",
     "output_type": "stream",
     "text": [
      "Fold 4 - Epoch 80 ✅ | Train Acc: 25.80% - Train Loss: 1.5938 | Val Acc: 25.56% - Val Loss: 1.6582\n"
     ]
    },
    {
     "name": "stderr",
     "output_type": "stream",
     "text": [
      "Fold 4 | Epoch 81/100: 100%|██████████| 78/78 [00:14<00:00,  5.50it/s]\n"
     ]
    },
    {
     "name": "stdout",
     "output_type": "stream",
     "text": [
      "Fold 4 - Epoch 81 ✅ | Train Acc: 25.68% - Train Loss: 1.5902 | Val Acc: 24.28% - Val Loss: 1.6299\n"
     ]
    },
    {
     "name": "stderr",
     "output_type": "stream",
     "text": [
      "Fold 4 | Epoch 82/100: 100%|██████████| 78/78 [00:14<00:00,  5.52it/s]\n"
     ]
    },
    {
     "name": "stdout",
     "output_type": "stream",
     "text": [
      "Fold 4 - Epoch 82 ✅ | Train Acc: 25.36% - Train Loss: 1.5903 | Val Acc: 19.61% - Val Loss: 1.6366\n"
     ]
    },
    {
     "name": "stderr",
     "output_type": "stream",
     "text": [
      "Fold 4 | Epoch 83/100: 100%|██████████| 78/78 [00:14<00:00,  5.51it/s]\n"
     ]
    },
    {
     "name": "stdout",
     "output_type": "stream",
     "text": [
      "Fold 4 - Epoch 83 ✅ | Train Acc: 25.88% - Train Loss: 1.5895 | Val Acc: 18.33% - Val Loss: 1.6402\n"
     ]
    },
    {
     "name": "stderr",
     "output_type": "stream",
     "text": [
      "Fold 4 | Epoch 84/100: 100%|██████████| 78/78 [00:14<00:00,  5.43it/s]\n"
     ]
    },
    {
     "name": "stdout",
     "output_type": "stream",
     "text": [
      "Fold 4 - Epoch 84 ✅ | Train Acc: 26.33% - Train Loss: 1.5868 | Val Acc: 21.22% - Val Loss: 1.6353\n"
     ]
    },
    {
     "name": "stderr",
     "output_type": "stream",
     "text": [
      "Fold 4 | Epoch 85/100: 100%|██████████| 78/78 [00:14<00:00,  5.43it/s]\n"
     ]
    },
    {
     "name": "stdout",
     "output_type": "stream",
     "text": [
      "Fold 4 - Epoch 85 ✅ | Train Acc: 25.92% - Train Loss: 1.5919 | Val Acc: 21.54% - Val Loss: 1.6378\n"
     ]
    },
    {
     "name": "stderr",
     "output_type": "stream",
     "text": [
      "Fold 4 | Epoch 86/100: 100%|██████████| 78/78 [00:14<00:00,  5.50it/s]\n"
     ]
    },
    {
     "name": "stdout",
     "output_type": "stream",
     "text": [
      "Fold 4 - Epoch 86 ✅ | Train Acc: 25.68% - Train Loss: 1.5865 | Val Acc: 17.04% - Val Loss: 1.7192\n"
     ]
    },
    {
     "name": "stderr",
     "output_type": "stream",
     "text": [
      "Fold 4 | Epoch 87/100: 100%|██████████| 78/78 [00:14<00:00,  5.51it/s]\n"
     ]
    },
    {
     "name": "stdout",
     "output_type": "stream",
     "text": [
      "Fold 4 - Epoch 87 ✅ | Train Acc: 26.05% - Train Loss: 1.5945 | Val Acc: 22.03% - Val Loss: 1.6360\n"
     ]
    },
    {
     "name": "stderr",
     "output_type": "stream",
     "text": [
      "Fold 4 | Epoch 88/100: 100%|██████████| 78/78 [00:14<00:00,  5.51it/s]\n"
     ]
    },
    {
     "name": "stdout",
     "output_type": "stream",
     "text": [
      "Fold 4 - Epoch 88 ✅ | Train Acc: 25.44% - Train Loss: 1.5975 | Val Acc: 14.63% - Val Loss: 1.6634\n"
     ]
    },
    {
     "name": "stderr",
     "output_type": "stream",
     "text": [
      "Fold 4 | Epoch 89/100: 100%|██████████| 78/78 [00:14<00:00,  5.51it/s]\n"
     ]
    },
    {
     "name": "stdout",
     "output_type": "stream",
     "text": [
      "Fold 4 - Epoch 89 ✅ | Train Acc: 26.05% - Train Loss: 1.5874 | Val Acc: 18.17% - Val Loss: 1.6551\n"
     ]
    },
    {
     "name": "stderr",
     "output_type": "stream",
     "text": [
      "Fold 4 | Epoch 90/100: 100%|██████████| 78/78 [00:14<00:00,  5.52it/s]\n"
     ]
    },
    {
     "name": "stdout",
     "output_type": "stream",
     "text": [
      "Fold 4 - Epoch 90 ✅ | Train Acc: 26.25% - Train Loss: 1.5894 | Val Acc: 16.08% - Val Loss: 1.6647\n"
     ]
    },
    {
     "name": "stderr",
     "output_type": "stream",
     "text": [
      "Fold 4 | Epoch 91/100: 100%|██████████| 78/78 [00:14<00:00,  5.51it/s]\n"
     ]
    },
    {
     "name": "stdout",
     "output_type": "stream",
     "text": [
      "Fold 4 - Epoch 91 ✅ | Train Acc: 25.24% - Train Loss: 1.5934 | Val Acc: 17.68% - Val Loss: 1.6501\n"
     ]
    },
    {
     "name": "stderr",
     "output_type": "stream",
     "text": [
      "Fold 4 | Epoch 92/100: 100%|██████████| 78/78 [00:14<00:00,  5.50it/s]\n"
     ]
    },
    {
     "name": "stdout",
     "output_type": "stream",
     "text": [
      "Fold 4 - Epoch 92 ✅ | Train Acc: 26.25% - Train Loss: 1.5921 | Val Acc: 22.03% - Val Loss: 1.6387\n"
     ]
    },
    {
     "name": "stderr",
     "output_type": "stream",
     "text": [
      "Fold 4 | Epoch 93/100: 100%|██████████| 78/78 [00:14<00:00,  5.52it/s]\n"
     ]
    },
    {
     "name": "stdout",
     "output_type": "stream",
     "text": [
      "Fold 4 - Epoch 93 ✅ | Train Acc: 25.52% - Train Loss: 1.6027 | Val Acc: 18.33% - Val Loss: 1.6233\n"
     ]
    },
    {
     "name": "stderr",
     "output_type": "stream",
     "text": [
      "Fold 4 | Epoch 94/100: 100%|██████████| 78/78 [00:14<00:00,  5.51it/s]\n"
     ]
    },
    {
     "name": "stdout",
     "output_type": "stream",
     "text": [
      "Fold 4 - Epoch 94 ✅ | Train Acc: 25.88% - Train Loss: 1.5814 | Val Acc: 20.10% - Val Loss: 1.6410\n"
     ]
    },
    {
     "name": "stderr",
     "output_type": "stream",
     "text": [
      "Fold 4 | Epoch 95/100: 100%|██████████| 78/78 [00:14<00:00,  5.51it/s]\n"
     ]
    },
    {
     "name": "stdout",
     "output_type": "stream",
     "text": [
      "Fold 4 - Epoch 95 ✅ | Train Acc: 25.92% - Train Loss: 1.5943 | Val Acc: 21.54% - Val Loss: 1.6534\n"
     ]
    },
    {
     "name": "stderr",
     "output_type": "stream",
     "text": [
      "Fold 4 | Epoch 96/100: 100%|██████████| 78/78 [00:13<00:00,  5.60it/s]\n"
     ]
    },
    {
     "name": "stdout",
     "output_type": "stream",
     "text": [
      "Fold 4 - Epoch 96 ✅ | Train Acc: 25.64% - Train Loss: 1.5850 | Val Acc: 17.52% - Val Loss: 1.6542\n"
     ]
    },
    {
     "name": "stderr",
     "output_type": "stream",
     "text": [
      "Fold 4 | Epoch 97/100: 100%|██████████| 78/78 [00:13<00:00,  5.59it/s]\n"
     ]
    },
    {
     "name": "stdout",
     "output_type": "stream",
     "text": [
      "Fold 4 - Epoch 97 ✅ | Train Acc: 25.16% - Train Loss: 1.5866 | Val Acc: 17.20% - Val Loss: 1.6527\n"
     ]
    },
    {
     "name": "stderr",
     "output_type": "stream",
     "text": [
      "Fold 4 | Epoch 98/100: 100%|██████████| 78/78 [00:13<00:00,  5.59it/s]\n"
     ]
    },
    {
     "name": "stdout",
     "output_type": "stream",
     "text": [
      "Fold 4 - Epoch 98 ✅ | Train Acc: 25.88% - Train Loss: 1.5856 | Val Acc: 22.03% - Val Loss: 1.6367\n"
     ]
    },
    {
     "name": "stderr",
     "output_type": "stream",
     "text": [
      "Fold 4 | Epoch 99/100: 100%|██████████| 78/78 [00:14<00:00,  5.51it/s]\n"
     ]
    },
    {
     "name": "stdout",
     "output_type": "stream",
     "text": [
      "Fold 4 - Epoch 99 ✅ | Train Acc: 26.53% - Train Loss: 1.5823 | Val Acc: 13.02% - Val Loss: 1.7046\n"
     ]
    },
    {
     "name": "stderr",
     "output_type": "stream",
     "text": [
      "Fold 4 | Epoch 100/100: 100%|██████████| 78/78 [00:14<00:00,  5.51it/s]\n"
     ]
    },
    {
     "name": "stdout",
     "output_type": "stream",
     "text": [
      "Fold 4 - Epoch 100 ✅ | Train Acc: 26.65% - Train Loss: 1.5836 | Val Acc: 24.76% - Val Loss: 1.6322\n",
      "\n",
      "📂 Fold 5/5\n"
     ]
    },
    {
     "name": "stderr",
     "output_type": "stream",
     "text": [
      "Fold 5 | Epoch 1/100: 100%|██████████| 78/78 [00:14<00:00,  5.55it/s]\n"
     ]
    },
    {
     "name": "stdout",
     "output_type": "stream",
     "text": [
      "Fold 5 - Epoch 1 ✅ | Train Acc: 22.15% - Train Loss: 1.6373 | Val Acc: 18.33% - Val Loss: 1.6162\n"
     ]
    },
    {
     "name": "stderr",
     "output_type": "stream",
     "text": [
      "Fold 5 | Epoch 2/100: 100%|██████████| 78/78 [00:13<00:00,  5.60it/s]\n"
     ]
    },
    {
     "name": "stdout",
     "output_type": "stream",
     "text": [
      "Fold 5 - Epoch 2 ✅ | Train Acc: 21.02% - Train Loss: 1.6215 | Val Acc: 22.35% - Val Loss: 1.6217\n"
     ]
    },
    {
     "name": "stderr",
     "output_type": "stream",
     "text": [
      "Fold 5 | Epoch 3/100: 100%|██████████| 78/78 [00:13<00:00,  5.58it/s]\n"
     ]
    },
    {
     "name": "stdout",
     "output_type": "stream",
     "text": [
      "Fold 5 - Epoch 3 ✅ | Train Acc: 22.27% - Train Loss: 1.6293 | Val Acc: 22.51% - Val Loss: 1.6254\n"
     ]
    },
    {
     "name": "stderr",
     "output_type": "stream",
     "text": [
      "Fold 5 | Epoch 4/100: 100%|██████████| 78/78 [00:14<00:00,  5.51it/s]\n"
     ]
    },
    {
     "name": "stdout",
     "output_type": "stream",
     "text": [
      "Fold 5 - Epoch 4 ✅ | Train Acc: 22.63% - Train Loss: 1.6261 | Val Acc: 24.76% - Val Loss: 1.6037\n"
     ]
    },
    {
     "name": "stderr",
     "output_type": "stream",
     "text": [
      "Fold 5 | Epoch 5/100: 100%|██████████| 78/78 [00:14<00:00,  5.52it/s]\n"
     ]
    },
    {
     "name": "stdout",
     "output_type": "stream",
     "text": [
      "Fold 5 - Epoch 5 ✅ | Train Acc: 21.54% - Train Loss: 1.6225 | Val Acc: 24.76% - Val Loss: 1.6143\n"
     ]
    },
    {
     "name": "stderr",
     "output_type": "stream",
     "text": [
      "Fold 5 | Epoch 6/100: 100%|██████████| 78/78 [00:14<00:00,  5.53it/s]\n"
     ]
    },
    {
     "name": "stdout",
     "output_type": "stream",
     "text": [
      "Fold 5 - Epoch 6 ✅ | Train Acc: 22.87% - Train Loss: 1.6136 | Val Acc: 24.44% - Val Loss: 1.6192\n"
     ]
    },
    {
     "name": "stderr",
     "output_type": "stream",
     "text": [
      "Fold 5 | Epoch 7/100: 100%|██████████| 78/78 [00:14<00:00,  5.53it/s]\n"
     ]
    },
    {
     "name": "stdout",
     "output_type": "stream",
     "text": [
      "Fold 5 - Epoch 7 ✅ | Train Acc: 22.63% - Train Loss: 1.6183 | Val Acc: 24.28% - Val Loss: 1.6020\n"
     ]
    },
    {
     "name": "stderr",
     "output_type": "stream",
     "text": [
      "Fold 5 | Epoch 8/100: 100%|██████████| 78/78 [00:14<00:00,  5.53it/s]\n"
     ]
    },
    {
     "name": "stdout",
     "output_type": "stream",
     "text": [
      "Fold 5 - Epoch 8 ✅ | Train Acc: 22.15% - Train Loss: 1.6127 | Val Acc: 23.47% - Val Loss: 1.6102\n"
     ]
    },
    {
     "name": "stderr",
     "output_type": "stream",
     "text": [
      "Fold 5 | Epoch 9/100: 100%|██████████| 78/78 [00:14<00:00,  5.54it/s]\n"
     ]
    },
    {
     "name": "stdout",
     "output_type": "stream",
     "text": [
      "Fold 5 - Epoch 9 ✅ | Train Acc: 23.39% - Train Loss: 1.6144 | Val Acc: 17.36% - Val Loss: 1.6176\n"
     ]
    },
    {
     "name": "stderr",
     "output_type": "stream",
     "text": [
      "Fold 5 | Epoch 10/100: 100%|██████████| 78/78 [00:13<00:00,  5.58it/s]\n"
     ]
    },
    {
     "name": "stdout",
     "output_type": "stream",
     "text": [
      "Fold 5 - Epoch 10 ✅ | Train Acc: 22.99% - Train Loss: 1.6128 | Val Acc: 11.58% - Val Loss: 1.6751\n"
     ]
    },
    {
     "name": "stderr",
     "output_type": "stream",
     "text": [
      "Fold 5 | Epoch 11/100: 100%|██████████| 78/78 [00:13<00:00,  5.58it/s]\n"
     ]
    },
    {
     "name": "stdout",
     "output_type": "stream",
     "text": [
      "Fold 5 - Epoch 11 ✅ | Train Acc: 23.23% - Train Loss: 1.6196 | Val Acc: 24.28% - Val Loss: 1.6324\n"
     ]
    },
    {
     "name": "stderr",
     "output_type": "stream",
     "text": [
      "Fold 5 | Epoch 12/100: 100%|██████████| 78/78 [00:13<00:00,  5.62it/s]\n"
     ]
    },
    {
     "name": "stdout",
     "output_type": "stream",
     "text": [
      "Fold 5 - Epoch 12 ✅ | Train Acc: 23.59% - Train Loss: 1.6074 | Val Acc: 25.24% - Val Loss: 1.6097\n"
     ]
    },
    {
     "name": "stderr",
     "output_type": "stream",
     "text": [
      "Fold 5 | Epoch 13/100: 100%|██████████| 78/78 [00:13<00:00,  5.60it/s]\n"
     ]
    },
    {
     "name": "stdout",
     "output_type": "stream",
     "text": [
      "Fold 5 - Epoch 13 ✅ | Train Acc: 22.19% - Train Loss: 1.6158 | Val Acc: 16.40% - Val Loss: 1.6332\n"
     ]
    },
    {
     "name": "stderr",
     "output_type": "stream",
     "text": [
      "Fold 5 | Epoch 14/100: 100%|██████████| 78/78 [00:13<00:00,  5.60it/s]\n"
     ]
    },
    {
     "name": "stdout",
     "output_type": "stream",
     "text": [
      "Fold 5 - Epoch 14 ✅ | Train Acc: 23.15% - Train Loss: 1.6155 | Val Acc: 24.92% - Val Loss: 1.6200\n"
     ]
    },
    {
     "name": "stderr",
     "output_type": "stream",
     "text": [
      "Fold 5 | Epoch 15/100: 100%|██████████| 78/78 [00:13<00:00,  5.59it/s]\n"
     ]
    },
    {
     "name": "stdout",
     "output_type": "stream",
     "text": [
      "Fold 5 - Epoch 15 ✅ | Train Acc: 23.43% - Train Loss: 1.6068 | Val Acc: 24.60% - Val Loss: 1.6144\n"
     ]
    },
    {
     "name": "stderr",
     "output_type": "stream",
     "text": [
      "Fold 5 | Epoch 16/100: 100%|██████████| 78/78 [00:13<00:00,  5.59it/s]\n"
     ]
    },
    {
     "name": "stdout",
     "output_type": "stream",
     "text": [
      "Fold 5 - Epoch 16 ✅ | Train Acc: 24.72% - Train Loss: 1.6084 | Val Acc: 22.83% - Val Loss: 1.6741\n"
     ]
    },
    {
     "name": "stderr",
     "output_type": "stream",
     "text": [
      "Fold 5 | Epoch 17/100: 100%|██████████| 78/78 [00:14<00:00,  5.53it/s]\n"
     ]
    },
    {
     "name": "stdout",
     "output_type": "stream",
     "text": [
      "Fold 5 - Epoch 17 ✅ | Train Acc: 24.80% - Train Loss: 1.6119 | Val Acc: 24.92% - Val Loss: 1.6488\n"
     ]
    },
    {
     "name": "stderr",
     "output_type": "stream",
     "text": [
      "Fold 5 | Epoch 18/100: 100%|██████████| 78/78 [00:13<00:00,  5.59it/s]\n"
     ]
    },
    {
     "name": "stdout",
     "output_type": "stream",
     "text": [
      "Fold 5 - Epoch 18 ✅ | Train Acc: 23.87% - Train Loss: 1.6090 | Val Acc: 14.47% - Val Loss: 1.6645\n"
     ]
    },
    {
     "name": "stderr",
     "output_type": "stream",
     "text": [
      "Fold 5 | Epoch 19/100: 100%|██████████| 78/78 [00:13<00:00,  5.60it/s]\n"
     ]
    },
    {
     "name": "stdout",
     "output_type": "stream",
     "text": [
      "Fold 5 - Epoch 19 ✅ | Train Acc: 24.52% - Train Loss: 1.6072 | Val Acc: 23.95% - Val Loss: 1.6233\n"
     ]
    },
    {
     "name": "stderr",
     "output_type": "stream",
     "text": [
      "Fold 5 | Epoch 20/100: 100%|██████████| 78/78 [00:13<00:00,  5.61it/s]\n"
     ]
    },
    {
     "name": "stdout",
     "output_type": "stream",
     "text": [
      "Fold 5 - Epoch 20 ✅ | Train Acc: 26.09% - Train Loss: 1.6000 | Val Acc: 17.52% - Val Loss: 1.6477\n"
     ]
    },
    {
     "name": "stderr",
     "output_type": "stream",
     "text": [
      "Fold 5 | Epoch 21/100: 100%|██████████| 78/78 [00:13<00:00,  5.59it/s]\n"
     ]
    },
    {
     "name": "stdout",
     "output_type": "stream",
     "text": [
      "Fold 5 - Epoch 21 ✅ | Train Acc: 23.71% - Train Loss: 1.6225 | Val Acc: 25.24% - Val Loss: 1.6445\n"
     ]
    },
    {
     "name": "stderr",
     "output_type": "stream",
     "text": [
      "Fold 5 | Epoch 22/100: 100%|██████████| 78/78 [00:13<00:00,  5.59it/s]\n"
     ]
    },
    {
     "name": "stdout",
     "output_type": "stream",
     "text": [
      "Fold 5 - Epoch 22 ✅ | Train Acc: 24.28% - Train Loss: 1.6063 | Val Acc: 23.79% - Val Loss: 1.6374\n"
     ]
    },
    {
     "name": "stderr",
     "output_type": "stream",
     "text": [
      "Fold 5 | Epoch 23/100: 100%|██████████| 78/78 [00:13<00:00,  5.60it/s]\n"
     ]
    },
    {
     "name": "stdout",
     "output_type": "stream",
     "text": [
      "Fold 5 - Epoch 23 ✅ | Train Acc: 21.99% - Train Loss: 1.6127 | Val Acc: 17.36% - Val Loss: 1.6283\n"
     ]
    },
    {
     "name": "stderr",
     "output_type": "stream",
     "text": [
      "Fold 5 | Epoch 24/100: 100%|██████████| 78/78 [00:13<00:00,  5.59it/s]\n"
     ]
    },
    {
     "name": "stdout",
     "output_type": "stream",
     "text": [
      "Fold 5 - Epoch 24 ✅ | Train Acc: 23.79% - Train Loss: 1.6143 | Val Acc: 26.53% - Val Loss: 1.6617\n"
     ]
    },
    {
     "name": "stderr",
     "output_type": "stream",
     "text": [
      "Fold 5 | Epoch 25/100: 100%|██████████| 78/78 [00:14<00:00,  5.52it/s]\n"
     ]
    },
    {
     "name": "stdout",
     "output_type": "stream",
     "text": [
      "Fold 5 - Epoch 25 ✅ | Train Acc: 23.95% - Train Loss: 1.6022 | Val Acc: 19.45% - Val Loss: 1.6545\n"
     ]
    },
    {
     "name": "stderr",
     "output_type": "stream",
     "text": [
      "Fold 5 | Epoch 26/100: 100%|██████████| 78/78 [00:14<00:00,  5.51it/s]\n"
     ]
    },
    {
     "name": "stdout",
     "output_type": "stream",
     "text": [
      "Fold 5 - Epoch 26 ✅ | Train Acc: 24.20% - Train Loss: 1.6065 | Val Acc: 15.92% - Val Loss: 1.6138\n"
     ]
    },
    {
     "name": "stderr",
     "output_type": "stream",
     "text": [
      "Fold 5 | Epoch 27/100: 100%|██████████| 78/78 [00:14<00:00,  5.52it/s]\n"
     ]
    },
    {
     "name": "stdout",
     "output_type": "stream",
     "text": [
      "Fold 5 - Epoch 27 ✅ | Train Acc: 25.56% - Train Loss: 1.5976 | Val Acc: 23.63% - Val Loss: 1.6030\n"
     ]
    },
    {
     "name": "stderr",
     "output_type": "stream",
     "text": [
      "Fold 5 | Epoch 28/100: 100%|██████████| 78/78 [00:14<00:00,  5.53it/s]\n"
     ]
    },
    {
     "name": "stdout",
     "output_type": "stream",
     "text": [
      "Fold 5 - Epoch 28 ✅ | Train Acc: 25.24% - Train Loss: 1.6056 | Val Acc: 20.58% - Val Loss: 1.6355\n"
     ]
    },
    {
     "name": "stderr",
     "output_type": "stream",
     "text": [
      "Fold 5 | Epoch 29/100: 100%|██████████| 78/78 [00:14<00:00,  5.52it/s]\n"
     ]
    },
    {
     "name": "stdout",
     "output_type": "stream",
     "text": [
      "Fold 5 - Epoch 29 ✅ | Train Acc: 24.00% - Train Loss: 1.6047 | Val Acc: 22.83% - Val Loss: 1.6423\n"
     ]
    },
    {
     "name": "stderr",
     "output_type": "stream",
     "text": [
      "Fold 5 | Epoch 30/100: 100%|██████████| 78/78 [00:14<00:00,  5.51it/s]\n"
     ]
    },
    {
     "name": "stdout",
     "output_type": "stream",
     "text": [
      "Fold 5 - Epoch 30 ✅ | Train Acc: 24.96% - Train Loss: 1.6100 | Val Acc: 23.63% - Val Loss: 1.6300\n"
     ]
    },
    {
     "name": "stderr",
     "output_type": "stream",
     "text": [
      "Fold 5 | Epoch 31/100: 100%|██████████| 78/78 [00:14<00:00,  5.52it/s]\n"
     ]
    },
    {
     "name": "stdout",
     "output_type": "stream",
     "text": [
      "Fold 5 - Epoch 31 ✅ | Train Acc: 23.27% - Train Loss: 1.6075 | Val Acc: 24.12% - Val Loss: 1.6369\n"
     ]
    },
    {
     "name": "stderr",
     "output_type": "stream",
     "text": [
      "Fold 5 | Epoch 32/100: 100%|██████████| 78/78 [00:14<00:00,  5.52it/s]\n"
     ]
    },
    {
     "name": "stdout",
     "output_type": "stream",
     "text": [
      "Fold 5 - Epoch 32 ✅ | Train Acc: 23.31% - Train Loss: 1.6013 | Val Acc: 23.15% - Val Loss: 1.6134\n"
     ]
    },
    {
     "name": "stderr",
     "output_type": "stream",
     "text": [
      "Fold 5 | Epoch 33/100: 100%|██████████| 78/78 [00:14<00:00,  5.53it/s]\n"
     ]
    },
    {
     "name": "stdout",
     "output_type": "stream",
     "text": [
      "Fold 5 - Epoch 33 ✅ | Train Acc: 24.68% - Train Loss: 1.6033 | Val Acc: 23.63% - Val Loss: 1.6134\n"
     ]
    },
    {
     "name": "stderr",
     "output_type": "stream",
     "text": [
      "Fold 5 | Epoch 34/100: 100%|██████████| 78/78 [00:14<00:00,  5.52it/s]\n"
     ]
    },
    {
     "name": "stdout",
     "output_type": "stream",
     "text": [
      "Fold 5 - Epoch 34 ✅ | Train Acc: 25.64% - Train Loss: 1.6005 | Val Acc: 15.27% - Val Loss: 1.6398\n"
     ]
    },
    {
     "name": "stderr",
     "output_type": "stream",
     "text": [
      "Fold 5 | Epoch 35/100: 100%|██████████| 78/78 [00:13<00:00,  5.60it/s]\n"
     ]
    },
    {
     "name": "stdout",
     "output_type": "stream",
     "text": [
      "Fold 5 - Epoch 35 ✅ | Train Acc: 23.63% - Train Loss: 1.6177 | Val Acc: 25.56% - Val Loss: 1.6279\n"
     ]
    },
    {
     "name": "stderr",
     "output_type": "stream",
     "text": [
      "Fold 5 | Epoch 36/100: 100%|██████████| 78/78 [00:14<00:00,  5.51it/s]\n"
     ]
    },
    {
     "name": "stdout",
     "output_type": "stream",
     "text": [
      "Fold 5 - Epoch 36 ✅ | Train Acc: 25.64% - Train Loss: 1.5948 | Val Acc: 21.38% - Val Loss: 1.6305\n"
     ]
    },
    {
     "name": "stderr",
     "output_type": "stream",
     "text": [
      "Fold 5 | Epoch 37/100: 100%|██████████| 78/78 [00:14<00:00,  5.52it/s]\n"
     ]
    },
    {
     "name": "stdout",
     "output_type": "stream",
     "text": [
      "Fold 5 - Epoch 37 ✅ | Train Acc: 25.20% - Train Loss: 1.5956 | Val Acc: 18.97% - Val Loss: 1.6412\n"
     ]
    },
    {
     "name": "stderr",
     "output_type": "stream",
     "text": [
      "Fold 5 | Epoch 38/100: 100%|██████████| 78/78 [00:14<00:00,  5.51it/s]\n"
     ]
    },
    {
     "name": "stdout",
     "output_type": "stream",
     "text": [
      "Fold 5 - Epoch 38 ✅ | Train Acc: 24.76% - Train Loss: 1.5917 | Val Acc: 24.12% - Val Loss: 1.6621\n"
     ]
    },
    {
     "name": "stderr",
     "output_type": "stream",
     "text": [
      "Fold 5 | Epoch 39/100: 100%|██████████| 78/78 [00:14<00:00,  5.52it/s]\n"
     ]
    },
    {
     "name": "stdout",
     "output_type": "stream",
     "text": [
      "Fold 5 - Epoch 39 ✅ | Train Acc: 24.40% - Train Loss: 1.6163 | Val Acc: 15.59% - Val Loss: 1.6554\n"
     ]
    },
    {
     "name": "stderr",
     "output_type": "stream",
     "text": [
      "Fold 5 | Epoch 40/100: 100%|██████████| 78/78 [00:14<00:00,  5.53it/s]\n"
     ]
    },
    {
     "name": "stdout",
     "output_type": "stream",
     "text": [
      "Fold 5 - Epoch 40 ✅ | Train Acc: 23.75% - Train Loss: 1.5974 | Val Acc: 23.95% - Val Loss: 1.6433\n"
     ]
    },
    {
     "name": "stderr",
     "output_type": "stream",
     "text": [
      "Fold 5 | Epoch 41/100: 100%|██████████| 78/78 [00:14<00:00,  5.52it/s]\n"
     ]
    },
    {
     "name": "stdout",
     "output_type": "stream",
     "text": [
      "Fold 5 - Epoch 41 ✅ | Train Acc: 25.72% - Train Loss: 1.5935 | Val Acc: 23.31% - Val Loss: 1.6083\n"
     ]
    },
    {
     "name": "stderr",
     "output_type": "stream",
     "text": [
      "Fold 5 | Epoch 42/100: 100%|██████████| 78/78 [00:14<00:00,  5.50it/s]\n"
     ]
    },
    {
     "name": "stdout",
     "output_type": "stream",
     "text": [
      "Fold 5 - Epoch 42 ✅ | Train Acc: 24.04% - Train Loss: 1.6033 | Val Acc: 24.44% - Val Loss: 1.6880\n"
     ]
    },
    {
     "name": "stderr",
     "output_type": "stream",
     "text": [
      "Fold 5 | Epoch 43/100: 100%|██████████| 78/78 [00:14<00:00,  5.52it/s]\n"
     ]
    },
    {
     "name": "stdout",
     "output_type": "stream",
     "text": [
      "Fold 5 - Epoch 43 ✅ | Train Acc: 25.76% - Train Loss: 1.5920 | Val Acc: 16.88% - Val Loss: 1.6557\n"
     ]
    },
    {
     "name": "stderr",
     "output_type": "stream",
     "text": [
      "Fold 5 | Epoch 44/100: 100%|██████████| 78/78 [00:13<00:00,  5.58it/s]\n"
     ]
    },
    {
     "name": "stdout",
     "output_type": "stream",
     "text": [
      "Fold 5 - Epoch 44 ✅ | Train Acc: 25.48% - Train Loss: 1.5895 | Val Acc: 24.76% - Val Loss: 1.6398\n"
     ]
    },
    {
     "name": "stderr",
     "output_type": "stream",
     "text": [
      "Fold 5 | Epoch 45/100: 100%|██████████| 78/78 [00:13<00:00,  5.60it/s]\n"
     ]
    },
    {
     "name": "stdout",
     "output_type": "stream",
     "text": [
      "Fold 5 - Epoch 45 ✅ | Train Acc: 23.19% - Train Loss: 1.5995 | Val Acc: 17.04% - Val Loss: 1.6651\n"
     ]
    },
    {
     "name": "stderr",
     "output_type": "stream",
     "text": [
      "Fold 5 | Epoch 46/100: 100%|██████████| 78/78 [00:14<00:00,  5.51it/s]\n"
     ]
    },
    {
     "name": "stdout",
     "output_type": "stream",
     "text": [
      "Fold 5 - Epoch 46 ✅ | Train Acc: 23.55% - Train Loss: 1.6070 | Val Acc: 17.68% - Val Loss: 1.6527\n"
     ]
    },
    {
     "name": "stderr",
     "output_type": "stream",
     "text": [
      "Fold 5 | Epoch 47/100: 100%|██████████| 78/78 [00:13<00:00,  5.58it/s]\n"
     ]
    },
    {
     "name": "stdout",
     "output_type": "stream",
     "text": [
      "Fold 5 - Epoch 47 ✅ | Train Acc: 24.40% - Train Loss: 1.5991 | Val Acc: 22.51% - Val Loss: 1.6252\n"
     ]
    },
    {
     "name": "stderr",
     "output_type": "stream",
     "text": [
      "Fold 5 | Epoch 48/100: 100%|██████████| 78/78 [00:13<00:00,  5.59it/s]\n"
     ]
    },
    {
     "name": "stdout",
     "output_type": "stream",
     "text": [
      "Fold 5 - Epoch 48 ✅ | Train Acc: 25.44% - Train Loss: 1.5894 | Val Acc: 23.63% - Val Loss: 1.6459\n"
     ]
    },
    {
     "name": "stderr",
     "output_type": "stream",
     "text": [
      "Fold 5 | Epoch 49/100: 100%|██████████| 78/78 [00:13<00:00,  5.58it/s]\n"
     ]
    },
    {
     "name": "stdout",
     "output_type": "stream",
     "text": [
      "Fold 5 - Epoch 49 ✅ | Train Acc: 25.40% - Train Loss: 1.5942 | Val Acc: 23.15% - Val Loss: 1.6076\n"
     ]
    },
    {
     "name": "stderr",
     "output_type": "stream",
     "text": [
      "Fold 5 | Epoch 50/100: 100%|██████████| 78/78 [00:14<00:00,  5.54it/s]\n"
     ]
    },
    {
     "name": "stdout",
     "output_type": "stream",
     "text": [
      "Fold 5 - Epoch 50 ✅ | Train Acc: 24.64% - Train Loss: 1.5978 | Val Acc: 20.90% - Val Loss: 1.6601\n"
     ]
    },
    {
     "name": "stderr",
     "output_type": "stream",
     "text": [
      "Fold 5 | Epoch 51/100: 100%|██████████| 78/78 [00:14<00:00,  5.54it/s]\n"
     ]
    },
    {
     "name": "stdout",
     "output_type": "stream",
     "text": [
      "Fold 5 - Epoch 51 ✅ | Train Acc: 25.04% - Train Loss: 1.6053 | Val Acc: 25.88% - Val Loss: 1.6631\n"
     ]
    },
    {
     "name": "stderr",
     "output_type": "stream",
     "text": [
      "Fold 5 | Epoch 52/100: 100%|██████████| 78/78 [00:13<00:00,  5.58it/s]\n"
     ]
    },
    {
     "name": "stdout",
     "output_type": "stream",
     "text": [
      "Fold 5 - Epoch 52 ✅ | Train Acc: 24.40% - Train Loss: 1.6020 | Val Acc: 25.08% - Val Loss: 1.6220\n"
     ]
    },
    {
     "name": "stderr",
     "output_type": "stream",
     "text": [
      "Fold 5 | Epoch 53/100: 100%|██████████| 78/78 [00:13<00:00,  5.58it/s]\n"
     ]
    },
    {
     "name": "stdout",
     "output_type": "stream",
     "text": [
      "Fold 5 - Epoch 53 ✅ | Train Acc: 25.72% - Train Loss: 1.5953 | Val Acc: 18.33% - Val Loss: 1.6679\n"
     ]
    },
    {
     "name": "stderr",
     "output_type": "stream",
     "text": [
      "Fold 5 | Epoch 54/100: 100%|██████████| 78/78 [00:13<00:00,  5.58it/s]\n"
     ]
    },
    {
     "name": "stdout",
     "output_type": "stream",
     "text": [
      "Fold 5 - Epoch 54 ✅ | Train Acc: 23.47% - Train Loss: 1.5995 | Val Acc: 24.28% - Val Loss: 1.6301\n"
     ]
    },
    {
     "name": "stderr",
     "output_type": "stream",
     "text": [
      "Fold 5 | Epoch 55/100: 100%|██████████| 78/78 [00:14<00:00,  5.52it/s]\n"
     ]
    },
    {
     "name": "stdout",
     "output_type": "stream",
     "text": [
      "Fold 5 - Epoch 55 ✅ | Train Acc: 25.36% - Train Loss: 1.5904 | Val Acc: 23.15% - Val Loss: 1.6155\n"
     ]
    },
    {
     "name": "stderr",
     "output_type": "stream",
     "text": [
      "Fold 5 | Epoch 56/100: 100%|██████████| 78/78 [00:14<00:00,  5.51it/s]\n"
     ]
    },
    {
     "name": "stdout",
     "output_type": "stream",
     "text": [
      "Fold 5 - Epoch 56 ✅ | Train Acc: 25.44% - Train Loss: 1.5994 | Val Acc: 24.76% - Val Loss: 1.6334\n"
     ]
    },
    {
     "name": "stderr",
     "output_type": "stream",
     "text": [
      "Fold 5 | Epoch 57/100: 100%|██████████| 78/78 [00:13<00:00,  5.59it/s]\n"
     ]
    },
    {
     "name": "stdout",
     "output_type": "stream",
     "text": [
      "Fold 5 - Epoch 57 ✅ | Train Acc: 24.32% - Train Loss: 1.5951 | Val Acc: 14.95% - Val Loss: 1.6477\n"
     ]
    },
    {
     "name": "stderr",
     "output_type": "stream",
     "text": [
      "Fold 5 | Epoch 58/100: 100%|██████████| 78/78 [00:14<00:00,  5.53it/s]\n"
     ]
    },
    {
     "name": "stdout",
     "output_type": "stream",
     "text": [
      "Fold 5 - Epoch 58 ✅ | Train Acc: 22.75% - Train Loss: 1.6049 | Val Acc: 23.15% - Val Loss: 1.6621\n"
     ]
    },
    {
     "name": "stderr",
     "output_type": "stream",
     "text": [
      "Fold 5 | Epoch 59/100: 100%|██████████| 78/78 [00:14<00:00,  5.52it/s]\n"
     ]
    },
    {
     "name": "stdout",
     "output_type": "stream",
     "text": [
      "Fold 5 - Epoch 59 ✅ | Train Acc: 24.04% - Train Loss: 1.5959 | Val Acc: 22.19% - Val Loss: 1.6531\n"
     ]
    },
    {
     "name": "stderr",
     "output_type": "stream",
     "text": [
      "Fold 5 | Epoch 60/100: 100%|██████████| 78/78 [00:14<00:00,  5.54it/s]\n"
     ]
    },
    {
     "name": "stdout",
     "output_type": "stream",
     "text": [
      "Fold 5 - Epoch 60 ✅ | Train Acc: 26.09% - Train Loss: 1.5908 | Val Acc: 22.51% - Val Loss: 1.6404\n"
     ]
    },
    {
     "name": "stderr",
     "output_type": "stream",
     "text": [
      "Fold 5 | Epoch 61/100: 100%|██████████| 78/78 [00:14<00:00,  5.51it/s]\n"
     ]
    },
    {
     "name": "stdout",
     "output_type": "stream",
     "text": [
      "Fold 5 - Epoch 61 ✅ | Train Acc: 25.68% - Train Loss: 1.5911 | Val Acc: 24.76% - Val Loss: 1.6457\n"
     ]
    },
    {
     "name": "stderr",
     "output_type": "stream",
     "text": [
      "Fold 5 | Epoch 62/100: 100%|██████████| 78/78 [00:14<00:00,  5.50it/s]\n"
     ]
    },
    {
     "name": "stdout",
     "output_type": "stream",
     "text": [
      "Fold 5 - Epoch 62 ✅ | Train Acc: 25.52% - Train Loss: 1.5898 | Val Acc: 25.40% - Val Loss: 1.6463\n"
     ]
    },
    {
     "name": "stderr",
     "output_type": "stream",
     "text": [
      "Fold 5 | Epoch 63/100: 100%|██████████| 78/78 [00:14<00:00,  5.51it/s]\n"
     ]
    },
    {
     "name": "stdout",
     "output_type": "stream",
     "text": [
      "Fold 5 - Epoch 63 ✅ | Train Acc: 26.00% - Train Loss: 1.5907 | Val Acc: 16.56% - Val Loss: 1.7079\n"
     ]
    },
    {
     "name": "stderr",
     "output_type": "stream",
     "text": [
      "Fold 5 | Epoch 64/100: 100%|██████████| 78/78 [00:14<00:00,  5.52it/s]\n"
     ]
    },
    {
     "name": "stdout",
     "output_type": "stream",
     "text": [
      "Fold 5 - Epoch 64 ✅ | Train Acc: 24.80% - Train Loss: 1.5913 | Val Acc: 25.88% - Val Loss: 1.6568\n"
     ]
    },
    {
     "name": "stderr",
     "output_type": "stream",
     "text": [
      "Fold 5 | Epoch 65/100: 100%|██████████| 78/78 [00:14<00:00,  5.50it/s]\n"
     ]
    },
    {
     "name": "stdout",
     "output_type": "stream",
     "text": [
      "Fold 5 - Epoch 65 ✅ | Train Acc: 26.61% - Train Loss: 1.5931 | Val Acc: 24.28% - Val Loss: 1.6398\n"
     ]
    },
    {
     "name": "stderr",
     "output_type": "stream",
     "text": [
      "Fold 5 | Epoch 66/100: 100%|██████████| 78/78 [00:14<00:00,  5.37it/s]\n"
     ]
    },
    {
     "name": "stdout",
     "output_type": "stream",
     "text": [
      "Fold 5 - Epoch 66 ✅ | Train Acc: 25.48% - Train Loss: 1.5961 | Val Acc: 23.15% - Val Loss: 1.6487\n"
     ]
    },
    {
     "name": "stderr",
     "output_type": "stream",
     "text": [
      "Fold 5 | Epoch 67/100: 100%|██████████| 78/78 [00:14<00:00,  5.52it/s]\n"
     ]
    },
    {
     "name": "stdout",
     "output_type": "stream",
     "text": [
      "Fold 5 - Epoch 67 ✅ | Train Acc: 26.37% - Train Loss: 1.5933 | Val Acc: 14.95% - Val Loss: 1.6398\n"
     ]
    },
    {
     "name": "stderr",
     "output_type": "stream",
     "text": [
      "Fold 5 | Epoch 68/100: 100%|██████████| 78/78 [00:14<00:00,  5.52it/s]\n"
     ]
    },
    {
     "name": "stdout",
     "output_type": "stream",
     "text": [
      "Fold 5 - Epoch 68 ✅ | Train Acc: 25.72% - Train Loss: 1.5877 | Val Acc: 19.29% - Val Loss: 1.6667\n"
     ]
    },
    {
     "name": "stderr",
     "output_type": "stream",
     "text": [
      "Fold 5 | Epoch 69/100: 100%|██████████| 78/78 [00:13<00:00,  5.59it/s]\n"
     ]
    },
    {
     "name": "stdout",
     "output_type": "stream",
     "text": [
      "Fold 5 - Epoch 69 ✅ | Train Acc: 24.96% - Train Loss: 1.5902 | Val Acc: 18.49% - Val Loss: 1.6726\n"
     ]
    },
    {
     "name": "stderr",
     "output_type": "stream",
     "text": [
      "Fold 5 | Epoch 70/100: 100%|██████████| 78/78 [00:14<00:00,  5.52it/s]\n"
     ]
    },
    {
     "name": "stdout",
     "output_type": "stream",
     "text": [
      "Fold 5 - Epoch 70 ✅ | Train Acc: 26.97% - Train Loss: 1.5889 | Val Acc: 17.36% - Val Loss: 1.6358\n"
     ]
    },
    {
     "name": "stderr",
     "output_type": "stream",
     "text": [
      "Fold 5 | Epoch 71/100: 100%|██████████| 78/78 [00:14<00:00,  5.47it/s]\n"
     ]
    },
    {
     "name": "stdout",
     "output_type": "stream",
     "text": [
      "Fold 5 - Epoch 71 ✅ | Train Acc: 25.92% - Train Loss: 1.5922 | Val Acc: 23.63% - Val Loss: 1.6250\n"
     ]
    },
    {
     "name": "stderr",
     "output_type": "stream",
     "text": [
      "Fold 5 | Epoch 72/100: 100%|██████████| 78/78 [00:14<00:00,  5.52it/s]\n"
     ]
    },
    {
     "name": "stdout",
     "output_type": "stream",
     "text": [
      "Fold 5 - Epoch 72 ✅ | Train Acc: 25.92% - Train Loss: 1.5851 | Val Acc: 22.99% - Val Loss: 1.6839\n"
     ]
    },
    {
     "name": "stderr",
     "output_type": "stream",
     "text": [
      "Fold 5 | Epoch 73/100: 100%|██████████| 78/78 [00:14<00:00,  5.53it/s]\n"
     ]
    },
    {
     "name": "stdout",
     "output_type": "stream",
     "text": [
      "Fold 5 - Epoch 73 ✅ | Train Acc: 27.53% - Train Loss: 1.5904 | Val Acc: 22.35% - Val Loss: 1.6220\n"
     ]
    },
    {
     "name": "stderr",
     "output_type": "stream",
     "text": [
      "Fold 5 | Epoch 74/100: 100%|██████████| 78/78 [00:14<00:00,  5.52it/s]\n"
     ]
    },
    {
     "name": "stdout",
     "output_type": "stream",
     "text": [
      "Fold 5 - Epoch 74 ✅ | Train Acc: 25.20% - Train Loss: 1.5927 | Val Acc: 23.31% - Val Loss: 1.6198\n"
     ]
    },
    {
     "name": "stderr",
     "output_type": "stream",
     "text": [
      "Fold 5 | Epoch 75/100: 100%|██████████| 78/78 [00:13<00:00,  5.58it/s]\n"
     ]
    },
    {
     "name": "stdout",
     "output_type": "stream",
     "text": [
      "Fold 5 - Epoch 75 ✅ | Train Acc: 27.37% - Train Loss: 1.5775 | Val Acc: 18.65% - Val Loss: 1.7360\n"
     ]
    },
    {
     "name": "stderr",
     "output_type": "stream",
     "text": [
      "Fold 5 | Epoch 76/100: 100%|██████████| 78/78 [00:14<00:00,  5.51it/s]\n"
     ]
    },
    {
     "name": "stdout",
     "output_type": "stream",
     "text": [
      "Fold 5 - Epoch 76 ✅ | Train Acc: 26.21% - Train Loss: 1.5932 | Val Acc: 16.56% - Val Loss: 1.6540\n"
     ]
    },
    {
     "name": "stderr",
     "output_type": "stream",
     "text": [
      "Fold 5 | Epoch 77/100: 100%|██████████| 78/78 [00:14<00:00,  5.51it/s]\n"
     ]
    },
    {
     "name": "stdout",
     "output_type": "stream",
     "text": [
      "Fold 5 - Epoch 77 ✅ | Train Acc: 23.79% - Train Loss: 1.6040 | Val Acc: 24.44% - Val Loss: 1.6361\n"
     ]
    },
    {
     "name": "stderr",
     "output_type": "stream",
     "text": [
      "Fold 5 | Epoch 78/100: 100%|██████████| 78/78 [00:14<00:00,  5.52it/s]\n"
     ]
    },
    {
     "name": "stdout",
     "output_type": "stream",
     "text": [
      "Fold 5 - Epoch 78 ✅ | Train Acc: 25.92% - Train Loss: 1.5843 | Val Acc: 17.52% - Val Loss: 1.6396\n"
     ]
    },
    {
     "name": "stderr",
     "output_type": "stream",
     "text": [
      "Fold 5 | Epoch 79/100: 100%|██████████| 78/78 [00:14<00:00,  5.52it/s]\n"
     ]
    },
    {
     "name": "stdout",
     "output_type": "stream",
     "text": [
      "Fold 5 - Epoch 79 ✅ | Train Acc: 24.12% - Train Loss: 1.5947 | Val Acc: 23.95% - Val Loss: 1.6468\n"
     ]
    },
    {
     "name": "stderr",
     "output_type": "stream",
     "text": [
      "Fold 5 | Epoch 80/100: 100%|██████████| 78/78 [00:14<00:00,  5.45it/s]\n"
     ]
    },
    {
     "name": "stdout",
     "output_type": "stream",
     "text": [
      "Fold 5 - Epoch 80 ✅ | Train Acc: 26.09% - Train Loss: 1.6009 | Val Acc: 23.79% - Val Loss: 1.6386\n"
     ]
    },
    {
     "name": "stderr",
     "output_type": "stream",
     "text": [
      "Fold 5 | Epoch 81/100: 100%|██████████| 78/78 [00:14<00:00,  5.53it/s]\n"
     ]
    },
    {
     "name": "stdout",
     "output_type": "stream",
     "text": [
      "Fold 5 - Epoch 81 ✅ | Train Acc: 25.68% - Train Loss: 1.5938 | Val Acc: 22.99% - Val Loss: 1.6430\n"
     ]
    },
    {
     "name": "stderr",
     "output_type": "stream",
     "text": [
      "Fold 5 | Epoch 82/100: 100%|██████████| 78/78 [00:14<00:00,  5.53it/s]\n"
     ]
    },
    {
     "name": "stdout",
     "output_type": "stream",
     "text": [
      "Fold 5 - Epoch 82 ✅ | Train Acc: 25.96% - Train Loss: 1.5931 | Val Acc: 22.35% - Val Loss: 1.6217\n"
     ]
    },
    {
     "name": "stderr",
     "output_type": "stream",
     "text": [
      "Fold 5 | Epoch 83/100: 100%|██████████| 78/78 [00:14<00:00,  5.53it/s]\n"
     ]
    },
    {
     "name": "stdout",
     "output_type": "stream",
     "text": [
      "Fold 5 - Epoch 83 ✅ | Train Acc: 25.48% - Train Loss: 1.5924 | Val Acc: 23.63% - Val Loss: 1.6207\n"
     ]
    },
    {
     "name": "stderr",
     "output_type": "stream",
     "text": [
      "Fold 5 | Epoch 84/100: 100%|██████████| 78/78 [00:13<00:00,  5.61it/s]\n"
     ]
    },
    {
     "name": "stdout",
     "output_type": "stream",
     "text": [
      "Fold 5 - Epoch 84 ✅ | Train Acc: 25.52% - Train Loss: 1.5871 | Val Acc: 23.31% - Val Loss: 1.6298\n"
     ]
    },
    {
     "name": "stderr",
     "output_type": "stream",
     "text": [
      "Fold 5 | Epoch 85/100: 100%|██████████| 78/78 [00:13<00:00,  5.58it/s]\n"
     ]
    },
    {
     "name": "stdout",
     "output_type": "stream",
     "text": [
      "Fold 5 - Epoch 85 ✅ | Train Acc: 26.65% - Train Loss: 1.5873 | Val Acc: 16.08% - Val Loss: 1.6306\n"
     ]
    },
    {
     "name": "stderr",
     "output_type": "stream",
     "text": [
      "Fold 5 | Epoch 86/100: 100%|██████████| 78/78 [00:14<00:00,  5.52it/s]\n"
     ]
    },
    {
     "name": "stdout",
     "output_type": "stream",
     "text": [
      "Fold 5 - Epoch 86 ✅ | Train Acc: 24.92% - Train Loss: 1.5962 | Val Acc: 19.13% - Val Loss: 1.6621\n"
     ]
    },
    {
     "name": "stderr",
     "output_type": "stream",
     "text": [
      "Fold 5 | Epoch 87/100: 100%|██████████| 78/78 [00:14<00:00,  5.52it/s]\n"
     ]
    },
    {
     "name": "stdout",
     "output_type": "stream",
     "text": [
      "Fold 5 - Epoch 87 ✅ | Train Acc: 26.25% - Train Loss: 1.5882 | Val Acc: 16.40% - Val Loss: 1.6347\n"
     ]
    },
    {
     "name": "stderr",
     "output_type": "stream",
     "text": [
      "Fold 5 | Epoch 88/100: 100%|██████████| 78/78 [00:13<00:00,  5.59it/s]\n"
     ]
    },
    {
     "name": "stdout",
     "output_type": "stream",
     "text": [
      "Fold 5 - Epoch 88 ✅ | Train Acc: 24.52% - Train Loss: 1.6031 | Val Acc: 22.83% - Val Loss: 1.6399\n"
     ]
    },
    {
     "name": "stderr",
     "output_type": "stream",
     "text": [
      "Fold 5 | Epoch 89/100: 100%|██████████| 78/78 [00:14<00:00,  5.51it/s]\n"
     ]
    },
    {
     "name": "stdout",
     "output_type": "stream",
     "text": [
      "Fold 5 - Epoch 89 ✅ | Train Acc: 26.13% - Train Loss: 1.5806 | Val Acc: 24.60% - Val Loss: 1.6863\n"
     ]
    },
    {
     "name": "stderr",
     "output_type": "stream",
     "text": [
      "Fold 5 | Epoch 90/100: 100%|██████████| 78/78 [00:14<00:00,  5.53it/s]\n"
     ]
    },
    {
     "name": "stdout",
     "output_type": "stream",
     "text": [
      "Fold 5 - Epoch 90 ✅ | Train Acc: 24.96% - Train Loss: 1.5903 | Val Acc: 23.95% - Val Loss: 1.6478\n"
     ]
    },
    {
     "name": "stderr",
     "output_type": "stream",
     "text": [
      "Fold 5 | Epoch 91/100: 100%|██████████| 78/78 [00:14<00:00,  5.51it/s]\n"
     ]
    },
    {
     "name": "stdout",
     "output_type": "stream",
     "text": [
      "Fold 5 - Epoch 91 ✅ | Train Acc: 26.29% - Train Loss: 1.5896 | Val Acc: 18.97% - Val Loss: 1.6280\n"
     ]
    },
    {
     "name": "stderr",
     "output_type": "stream",
     "text": [
      "Fold 5 | Epoch 92/100: 100%|██████████| 78/78 [00:14<00:00,  5.53it/s]\n"
     ]
    },
    {
     "name": "stdout",
     "output_type": "stream",
     "text": [
      "Fold 5 - Epoch 92 ✅ | Train Acc: 28.09% - Train Loss: 1.5921 | Val Acc: 23.47% - Val Loss: 1.6232\n"
     ]
    },
    {
     "name": "stderr",
     "output_type": "stream",
     "text": [
      "Fold 5 | Epoch 93/100: 100%|██████████| 78/78 [00:13<00:00,  5.59it/s]\n"
     ]
    },
    {
     "name": "stdout",
     "output_type": "stream",
     "text": [
      "Fold 5 - Epoch 93 ✅ | Train Acc: 27.77% - Train Loss: 1.5842 | Val Acc: 20.90% - Val Loss: 1.6550\n"
     ]
    },
    {
     "name": "stderr",
     "output_type": "stream",
     "text": [
      "Fold 5 | Epoch 94/100: 100%|██████████| 78/78 [00:14<00:00,  5.50it/s]\n"
     ]
    },
    {
     "name": "stdout",
     "output_type": "stream",
     "text": [
      "Fold 5 - Epoch 94 ✅ | Train Acc: 24.60% - Train Loss: 1.5873 | Val Acc: 23.79% - Val Loss: 1.6405\n"
     ]
    },
    {
     "name": "stderr",
     "output_type": "stream",
     "text": [
      "Fold 5 | Epoch 95/100: 100%|██████████| 78/78 [00:14<00:00,  5.53it/s]\n"
     ]
    },
    {
     "name": "stdout",
     "output_type": "stream",
     "text": [
      "Fold 5 - Epoch 95 ✅ | Train Acc: 25.76% - Train Loss: 1.5893 | Val Acc: 25.56% - Val Loss: 1.6394\n"
     ]
    },
    {
     "name": "stderr",
     "output_type": "stream",
     "text": [
      "Fold 5 | Epoch 96/100: 100%|██████████| 78/78 [00:14<00:00,  5.52it/s]\n"
     ]
    },
    {
     "name": "stdout",
     "output_type": "stream",
     "text": [
      "Fold 5 - Epoch 96 ✅ | Train Acc: 26.77% - Train Loss: 1.5811 | Val Acc: 17.52% - Val Loss: 1.6582\n"
     ]
    },
    {
     "name": "stderr",
     "output_type": "stream",
     "text": [
      "Fold 5 | Epoch 97/100: 100%|██████████| 78/78 [00:14<00:00,  5.52it/s]\n"
     ]
    },
    {
     "name": "stdout",
     "output_type": "stream",
     "text": [
      "Fold 5 - Epoch 97 ✅ | Train Acc: 25.60% - Train Loss: 1.5871 | Val Acc: 25.72% - Val Loss: 1.6558\n"
     ]
    },
    {
     "name": "stderr",
     "output_type": "stream",
     "text": [
      "Fold 5 | Epoch 98/100: 100%|██████████| 78/78 [00:13<00:00,  5.60it/s]\n"
     ]
    },
    {
     "name": "stdout",
     "output_type": "stream",
     "text": [
      "Fold 5 - Epoch 98 ✅ | Train Acc: 26.85% - Train Loss: 1.5797 | Val Acc: 24.92% - Val Loss: 1.6771\n"
     ]
    },
    {
     "name": "stderr",
     "output_type": "stream",
     "text": [
      "Fold 5 | Epoch 99/100: 100%|██████████| 78/78 [00:14<00:00,  5.52it/s]\n"
     ]
    },
    {
     "name": "stdout",
     "output_type": "stream",
     "text": [
      "Fold 5 - Epoch 99 ✅ | Train Acc: 27.65% - Train Loss: 1.5839 | Val Acc: 22.67% - Val Loss: 1.6178\n"
     ]
    },
    {
     "name": "stderr",
     "output_type": "stream",
     "text": [
      "Fold 5 | Epoch 100/100: 100%|██████████| 78/78 [00:14<00:00,  5.53it/s]\n"
     ]
    },
    {
     "name": "stdout",
     "output_type": "stream",
     "text": [
      "Fold 5 - Epoch 100 ✅ | Train Acc: 26.21% - Train Loss: 1.5758 | Val Acc: 21.22% - Val Loss: 1.6830\n",
      "\n",
      "RESULTADOS:\n",
      "-> Mean Train Accuracy: 26.2781%\n",
      "-> Mean Train Loss: 1.5826\n",
      "-> Mean Validation Accuracy: 24.5659%\n",
      "-> Mean Validation Loss: 1.6338\n"
     ]
    }
   ],
   "source": [
    "train_dataset = TensorDataset(X_train, y_train)\n",
    "kfold = KFold(n_splits=k_folds, shuffle=True, random_state=42)\n",
    "\n",
    "fold_train_acc = []\n",
    "fold_train_loss = []\n",
    "fold_val_acc = []\n",
    "fold_val_loss = []\n",
    "\n",
    "best_val_acc = 0\n",
    "best_epoch_train_acc = []\n",
    "best_epoch_val_acc = []\n",
    "best_epoch_train_loss = []\n",
    "best_epoch_val_loss = []\n",
    "\n",
    "for fold, (train_idx, val_idx) in enumerate(kfold.split(train_dataset)):\n",
    "\n",
    "    epoch_train_acc = []\n",
    "    epoch_val_acc = []\n",
    "    epoch_train_loss = []\n",
    "    epoch_val_loss = []\n",
    "\n",
    "    print(f\"\\n📂 Fold {fold+1}/{k_folds}\")\n",
    "\n",
    "    train_subset = Subset(train_dataset, train_idx)\n",
    "    val_subset = Subset(train_dataset, val_idx)\n",
    "\n",
    "    train_loader = DataLoader(train_subset, batch_size=batch_size, shuffle=True, num_workers=16, pin_memory=True)\n",
    "    val_loader = DataLoader(val_subset, batch_size=batch_size, shuffle=False, num_workers=16, pin_memory=True)\n",
    "\n",
    "    #nombre_modelo = \"AlexNet\"\n",
    "    #modelo = get_alexnet_model(num_classes=num_classes, pretrained=False).to(device)\n",
    "    \n",
    "    #nombre_modelo = \"ResNet50\"\n",
    "    #modelo = get_resnet50_model(num_classes=num_classes, pretrained=True).to(device)\n",
    "    \n",
    "    #nombre_modelo = \"DenseNet121\"\n",
    "    #modelo = get_densenet121_model(num_classes=num_classes, pretrained=True).to(device)\n",
    "    \n",
    "    nombre_modelo = \"ConvNext_Tiny\"\n",
    "    modelo = get_convnext_tiny_model(num_classes=num_classes, pretrained=True).to(device)\n",
    "\n",
    "    #Pesos inversamente proporcionales a la frecuencia de las clases\n",
    "    label_counts = Counter(y_train.cpu().numpy())\n",
    "    total_count = sum(label_counts.values())\n",
    "    weights = [total_count / (num_classes * label_counts[label]) for label in range(len(label_counts))]\n",
    "\n",
    "    criterion = nn.CrossEntropyLoss(weight=torch.tensor(weights).to(device))\n",
    "    optimizer = optim.Adam(filter(lambda p: p.requires_grad, modelo.parameters()), lr=0.001)\n",
    "\n",
    "    for epoch in range(num_epochs):\n",
    "        modelo.train()\n",
    "        train_loss = 0\n",
    "        correct_train = 0\n",
    "        total_train = 0\n",
    "\n",
    "        for images, labels in tqdm(train_loader, desc=f\"Fold {fold+1} | Epoch {epoch+1}/{num_epochs}\"):\n",
    "            images, labels = images.to(device, non_blocking=True), labels.to(device, non_blocking=True)\n",
    "            optimizer.zero_grad()\n",
    "            output = modelo(images)\n",
    "            loss = criterion(output, labels)\n",
    "            loss.backward()\n",
    "            optimizer.step()\n",
    "\n",
    "            _, predicted = torch.max(output, 1)\n",
    "            correct_train += (predicted == labels).sum().item()\n",
    "            total_train += labels.size(0)\n",
    "            train_loss += loss.item()\n",
    "\n",
    "        avg_train_loss = train_loss / len(train_loader)\n",
    "        train_acc = 100 * correct_train / total_train\n",
    "\n",
    "        modelo.eval()\n",
    "        val_loss = 0\n",
    "        correct_val = 0\n",
    "        total_val = 0\n",
    "        with torch.no_grad():\n",
    "            for images, labels in val_loader:\n",
    "                images, labels = images.to(device, non_blocking=True), labels.to(device, non_blocking=True)\n",
    "                output = modelo(images)\n",
    "                loss = criterion(output, labels)\n",
    "                _, predicted = torch.max(output, 1)\n",
    "                correct_val += (predicted == labels).sum().item()\n",
    "                total_val += labels.size(0)\n",
    "                val_loss += loss.item()\n",
    "\n",
    "        avg_val_loss = val_loss / len(val_loader)\n",
    "        val_acc = 100 * correct_val / total_val\n",
    "\n",
    "        epoch_train_acc.append(train_acc)\n",
    "        epoch_val_acc.append(val_acc)\n",
    "        epoch_train_loss.append(avg_train_loss)\n",
    "        epoch_val_loss.append(avg_val_loss)\n",
    "\n",
    "        print(f\"Fold {fold+1} - Epoch {epoch+1} ✅ | Train Acc: {train_acc:.2f}% - Train Loss: {avg_train_loss:.4f} | Val Acc: {val_acc:.2f}% - Val Loss: {avg_val_loss:.4f}\")\n",
    "\n",
    "    fold_train_acc.append(train_acc)\n",
    "    fold_val_acc.append(val_acc)\n",
    "    fold_train_loss.append(avg_train_loss)\n",
    "    fold_val_loss.append(avg_val_loss)\n",
    "\n",
    "    if val_acc > best_val_acc:\n",
    "        best_val_acc = val_acc\n",
    "        save_path = \"./Modelos/v3/representacion_3/longitud_28\"\n",
    "        os.makedirs(save_path, exist_ok=True)\n",
    "        torch.save(modelo.state_dict(), f\"{save_path}/{nombre_modelo}_fold_{fold+1}.pth\")\n",
    "        best_epoch_train_acc = epoch_train_acc.copy()\n",
    "        best_epoch_val_acc = epoch_val_acc.copy()\n",
    "        best_epoch_train_loss = epoch_train_loss.copy()\n",
    "        best_epoch_val_loss = epoch_val_loss.copy()\n",
    "\n",
    "print(\"\\nRESULTADOS:\")\n",
    "print(f\"-> Mean Train Accuracy: {np.mean(fold_train_acc):.4f}%\")\n",
    "print(f\"-> Mean Train Loss: {np.mean(fold_train_loss):.4f}\")\n",
    "print(f\"-> Mean Validation Accuracy: {np.mean(fold_val_acc):.4f}%\")\n",
    "print(f\"-> Mean Validation Loss: {np.mean(fold_val_loss):.4f}\")"
   ]
  },
  {
   "cell_type": "markdown",
   "metadata": {},
   "source": [
    "***Graficar los resultados del entrenamiento :***"
   ]
  },
  {
   "cell_type": "code",
   "execution_count": 9,
   "metadata": {},
   "outputs": [
    {
     "data": {
      "image/png": "[encoded data removed]",
      "text/plain": [
       "<Figure size 1000x500 with 2 Axes>"
      ]
     },
     "metadata": {},
     "output_type": "display_data"
    }
   ],
   "source": [
    "plt.figure(figsize=(10, 5))\n",
    "\n",
    "plt.subplot(1, 2, 1)\n",
    "plt.plot(range(1, num_epochs + 1), best_epoch_train_acc, label=\"Train Accuracy\")\n",
    "plt.plot(range(1, num_epochs + 1), best_epoch_val_acc, label=\"Validation Accuracy\")\n",
    "plt.xlabel(\"Epochs\")\n",
    "plt.ylabel(\"Accuracy (%)\")\n",
    "plt.legend()\n",
    "plt.grid()\n",
    "\n",
    "plt.subplot(1, 2, 2)\n",
    "plt.plot(range(1, num_epochs + 1), best_epoch_train_loss, label=\"Train Loss\")\n",
    "plt.plot(range(1, num_epochs + 1), best_epoch_val_loss, label=\"Validation Loss\")\n",
    "plt.xlabel(\"Epochs\")\n",
    "plt.ylabel(\"Loss\")\n",
    "plt.legend()\n",
    "plt.grid()\n",
    "\n",
    "plt.tight_layout()\n",
    "plt.savefig(f'./Graficas_entrenamiento/v3/representacion_3/longitud_28/{nombre_modelo}.png')\n",
    "plt.show()"
   ]
  },
  {
   "cell_type": "markdown",
   "metadata": {},
   "source": [
    "***Cargar el modelo :***"
   ]
  },
  {
   "cell_type": "code",
   "execution_count": 10,
   "metadata": {},
   "outputs": [
    {
     "data": {
      "text/plain": [
       "ConvNeXt(\n",
       "  (features): Sequential(\n",
       "    (0): Conv2dNormActivation(\n",
       "      (0): Conv2d(3, 96, kernel_size=(4, 4), stride=(4, 4))\n",
       "      (1): LayerNorm2d((96,), eps=1e-06, elementwise_affine=True)\n",
       "    )\n",
       "    (1): Sequential(\n",
       "      (0): CNBlock(\n",
       "        (block): Sequential(\n",
       "          (0): Conv2d(96, 96, kernel_size=(7, 7), stride=(1, 1), padding=(3, 3), groups=96)\n",
       "          (1): Permute()\n",
       "          (2): LayerNorm((96,), eps=1e-06, elementwise_affine=True)\n",
       "          (3): Linear(in_features=96, out_features=384, bias=True)\n",
       "          (4): GELU(approximate='none')\n",
       "          (5): Linear(in_features=384, out_features=96, bias=True)\n",
       "          (6): Permute()\n",
       "        )\n",
       "        (stochastic_depth): StochasticDepth(p=0.0, mode=row)\n",
       "      )\n",
       "      (1): CNBlock(\n",
       "        (block): Sequential(\n",
       "          (0): Conv2d(96, 96, kernel_size=(7, 7), stride=(1, 1), padding=(3, 3), groups=96)\n",
       "          (1): Permute()\n",
       "          (2): LayerNorm((96,), eps=1e-06, elementwise_affine=True)\n",
       "          (3): Linear(in_features=96, out_features=384, bias=True)\n",
       "          (4): GELU(approximate='none')\n",
       "          (5): Linear(in_features=384, out_features=96, bias=True)\n",
       "          (6): Permute()\n",
       "        )\n",
       "        (stochastic_depth): StochasticDepth(p=0.0058823529411764705, mode=row)\n",
       "      )\n",
       "      (2): CNBlock(\n",
       "        (block): Sequential(\n",
       "          (0): Conv2d(96, 96, kernel_size=(7, 7), stride=(1, 1), padding=(3, 3), groups=96)\n",
       "          (1): Permute()\n",
       "          (2): LayerNorm((96,), eps=1e-06, elementwise_affine=True)\n",
       "          (3): Linear(in_features=96, out_features=384, bias=True)\n",
       "          (4): GELU(approximate='none')\n",
       "          (5): Linear(in_features=384, out_features=96, bias=True)\n",
       "          (6): Permute()\n",
       "        )\n",
       "        (stochastic_depth): StochasticDepth(p=0.011764705882352941, mode=row)\n",
       "      )\n",
       "    )\n",
       "    (2): Sequential(\n",
       "      (0): LayerNorm2d((96,), eps=1e-06, elementwise_affine=True)\n",
       "      (1): Conv2d(96, 192, kernel_size=(2, 2), stride=(2, 2))\n",
       "    )\n",
       "    (3): Sequential(\n",
       "      (0): CNBlock(\n",
       "        (block): Sequential(\n",
       "          (0): Conv2d(192, 192, kernel_size=(7, 7), stride=(1, 1), padding=(3, 3), groups=192)\n",
       "          (1): Permute()\n",
       "          (2): LayerNorm((192,), eps=1e-06, elementwise_affine=True)\n",
       "          (3): Linear(in_features=192, out_features=768, bias=True)\n",
       "          (4): GELU(approximate='none')\n",
       "          (5): Linear(in_features=768, out_features=192, bias=True)\n",
       "          (6): Permute()\n",
       "        )\n",
       "        (stochastic_depth): StochasticDepth(p=0.017647058823529415, mode=row)\n",
       "      )\n",
       "      (1): CNBlock(\n",
       "        (block): Sequential(\n",
       "          (0): Conv2d(192, 192, kernel_size=(7, 7), stride=(1, 1), padding=(3, 3), groups=192)\n",
       "          (1): Permute()\n",
       "          (2): LayerNorm((192,), eps=1e-06, elementwise_affine=True)\n",
       "          (3): Linear(in_features=192, out_features=768, bias=True)\n",
       "          (4): GELU(approximate='none')\n",
       "          (5): Linear(in_features=768, out_features=192, bias=True)\n",
       "          (6): Permute()\n",
       "        )\n",
       "        (stochastic_depth): StochasticDepth(p=0.023529411764705882, mode=row)\n",
       "      )\n",
       "      (2): CNBlock(\n",
       "        (block): Sequential(\n",
       "          (0): Conv2d(192, 192, kernel_size=(7, 7), stride=(1, 1), padding=(3, 3), groups=192)\n",
       "          (1): Permute()\n",
       "          (2): LayerNorm((192,), eps=1e-06, elementwise_affine=True)\n",
       "          (3): Linear(in_features=192, out_features=768, bias=True)\n",
       "          (4): GELU(approximate='none')\n",
       "          (5): Linear(in_features=768, out_features=192, bias=True)\n",
       "          (6): Permute()\n",
       "        )\n",
       "        (stochastic_depth): StochasticDepth(p=0.029411764705882353, mode=row)\n",
       "      )\n",
       "    )\n",
       "    (4): Sequential(\n",
       "      (0): LayerNorm2d((192,), eps=1e-06, elementwise_affine=True)\n",
       "      (1): Conv2d(192, 384, kernel_size=(2, 2), stride=(2, 2))\n",
       "    )\n",
       "    (5): Sequential(\n",
       "      (0): CNBlock(\n",
       "        (block): Sequential(\n",
       "          (0): Conv2d(384, 384, kernel_size=(7, 7), stride=(1, 1), padding=(3, 3), groups=384)\n",
       "          (1): Permute()\n",
       "          (2): LayerNorm((384,), eps=1e-06, elementwise_affine=True)\n",
       "          (3): Linear(in_features=384, out_features=1536, bias=True)\n",
       "          (4): GELU(approximate='none')\n",
       "          (5): Linear(in_features=1536, out_features=384, bias=True)\n",
       "          (6): Permute()\n",
       "        )\n",
       "        (stochastic_depth): StochasticDepth(p=0.03529411764705883, mode=row)\n",
       "      )\n",
       "      (1): CNBlock(\n",
       "        (block): Sequential(\n",
       "          (0): Conv2d(384, 384, kernel_size=(7, 7), stride=(1, 1), padding=(3, 3), groups=384)\n",
       "          (1): Permute()\n",
       "          (2): LayerNorm((384,), eps=1e-06, elementwise_affine=True)\n",
       "          (3): Linear(in_features=384, out_features=1536, bias=True)\n",
       "          (4): GELU(approximate='none')\n",
       "          (5): Linear(in_features=1536, out_features=384, bias=True)\n",
       "          (6): Permute()\n",
       "        )\n",
       "        (stochastic_depth): StochasticDepth(p=0.0411764705882353, mode=row)\n",
       "      )\n",
       "      (2): CNBlock(\n",
       "        (block): Sequential(\n",
       "          (0): Conv2d(384, 384, kernel_size=(7, 7), stride=(1, 1), padding=(3, 3), groups=384)\n",
       "          (1): Permute()\n",
       "          (2): LayerNorm((384,), eps=1e-06, elementwise_affine=True)\n",
       "          (3): Linear(in_features=384, out_features=1536, bias=True)\n",
       "          (4): GELU(approximate='none')\n",
       "          (5): Linear(in_features=1536, out_features=384, bias=True)\n",
       "          (6): Permute()\n",
       "        )\n",
       "        (stochastic_depth): StochasticDepth(p=0.047058823529411764, mode=row)\n",
       "      )\n",
       "      (3): CNBlock(\n",
       "        (block): Sequential(\n",
       "          (0): Conv2d(384, 384, kernel_size=(7, 7), stride=(1, 1), padding=(3, 3), groups=384)\n",
       "          (1): Permute()\n",
       "          (2): LayerNorm((384,), eps=1e-06, elementwise_affine=True)\n",
       "          (3): Linear(in_features=384, out_features=1536, bias=True)\n",
       "          (4): GELU(approximate='none')\n",
       "          (5): Linear(in_features=1536, out_features=384, bias=True)\n",
       "          (6): Permute()\n",
       "        )\n",
       "        (stochastic_depth): StochasticDepth(p=0.052941176470588235, mode=row)\n",
       "      )\n",
       "      (4): CNBlock(\n",
       "        (block): Sequential(\n",
       "          (0): Conv2d(384, 384, kernel_size=(7, 7), stride=(1, 1), padding=(3, 3), groups=384)\n",
       "          (1): Permute()\n",
       "          (2): LayerNorm((384,), eps=1e-06, elementwise_affine=True)\n",
       "          (3): Linear(in_features=384, out_features=1536, bias=True)\n",
       "          (4): GELU(approximate='none')\n",
       "          (5): Linear(in_features=1536, out_features=384, bias=True)\n",
       "          (6): Permute()\n",
       "        )\n",
       "        (stochastic_depth): StochasticDepth(p=0.058823529411764705, mode=row)\n",
       "      )\n",
       "      (5): CNBlock(\n",
       "        (block): Sequential(\n",
       "          (0): Conv2d(384, 384, kernel_size=(7, 7), stride=(1, 1), padding=(3, 3), groups=384)\n",
       "          (1): Permute()\n",
       "          (2): LayerNorm((384,), eps=1e-06, elementwise_affine=True)\n",
       "          (3): Linear(in_features=384, out_features=1536, bias=True)\n",
       "          (4): GELU(approximate='none')\n",
       "          (5): Linear(in_features=1536, out_features=384, bias=True)\n",
       "          (6): Permute()\n",
       "        )\n",
       "        (stochastic_depth): StochasticDepth(p=0.06470588235294118, mode=row)\n",
       "      )\n",
       "      (6): CNBlock(\n",
       "        (block): Sequential(\n",
       "          (0): Conv2d(384, 384, kernel_size=(7, 7), stride=(1, 1), padding=(3, 3), groups=384)\n",
       "          (1): Permute()\n",
       "          (2): LayerNorm((384,), eps=1e-06, elementwise_affine=True)\n",
       "          (3): Linear(in_features=384, out_features=1536, bias=True)\n",
       "          (4): GELU(approximate='none')\n",
       "          (5): Linear(in_features=1536, out_features=384, bias=True)\n",
       "          (6): Permute()\n",
       "        )\n",
       "        (stochastic_depth): StochasticDepth(p=0.07058823529411766, mode=row)\n",
       "      )\n",
       "      (7): CNBlock(\n",
       "        (block): Sequential(\n",
       "          (0): Conv2d(384, 384, kernel_size=(7, 7), stride=(1, 1), padding=(3, 3), groups=384)\n",
       "          (1): Permute()\n",
       "          (2): LayerNorm((384,), eps=1e-06, elementwise_affine=True)\n",
       "          (3): Linear(in_features=384, out_features=1536, bias=True)\n",
       "          (4): GELU(approximate='none')\n",
       "          (5): Linear(in_features=1536, out_features=384, bias=True)\n",
       "          (6): Permute()\n",
       "        )\n",
       "        (stochastic_depth): StochasticDepth(p=0.07647058823529412, mode=row)\n",
       "      )\n",
       "      (8): CNBlock(\n",
       "        (block): Sequential(\n",
       "          (0): Conv2d(384, 384, kernel_size=(7, 7), stride=(1, 1), padding=(3, 3), groups=384)\n",
       "          (1): Permute()\n",
       "          (2): LayerNorm((384,), eps=1e-06, elementwise_affine=True)\n",
       "          (3): Linear(in_features=384, out_features=1536, bias=True)\n",
       "          (4): GELU(approximate='none')\n",
       "          (5): Linear(in_features=1536, out_features=384, bias=True)\n",
       "          (6): Permute()\n",
       "        )\n",
       "        (stochastic_depth): StochasticDepth(p=0.0823529411764706, mode=row)\n",
       "      )\n",
       "    )\n",
       "    (6): Sequential(\n",
       "      (0): LayerNorm2d((384,), eps=1e-06, elementwise_affine=True)\n",
       "      (1): Conv2d(384, 768, kernel_size=(2, 2), stride=(2, 2))\n",
       "    )\n",
       "    (7): Sequential(\n",
       "      (0): CNBlock(\n",
       "        (block): Sequential(\n",
       "          (0): Conv2d(768, 768, kernel_size=(7, 7), stride=(1, 1), padding=(3, 3), groups=768)\n",
       "          (1): Permute()\n",
       "          (2): LayerNorm((768,), eps=1e-06, elementwise_affine=True)\n",
       "          (3): Linear(in_features=768, out_features=3072, bias=True)\n",
       "          (4): GELU(approximate='none')\n",
       "          (5): Linear(in_features=3072, out_features=768, bias=True)\n",
       "          (6): Permute()\n",
       "        )\n",
       "        (stochastic_depth): StochasticDepth(p=0.08823529411764706, mode=row)\n",
       "      )\n",
       "      (1): CNBlock(\n",
       "        (block): Sequential(\n",
       "          (0): Conv2d(768, 768, kernel_size=(7, 7), stride=(1, 1), padding=(3, 3), groups=768)\n",
       "          (1): Permute()\n",
       "          (2): LayerNorm((768,), eps=1e-06, elementwise_affine=True)\n",
       "          (3): Linear(in_features=768, out_features=3072, bias=True)\n",
       "          (4): GELU(approximate='none')\n",
       "          (5): Linear(in_features=3072, out_features=768, bias=True)\n",
       "          (6): Permute()\n",
       "        )\n",
       "        (stochastic_depth): StochasticDepth(p=0.09411764705882353, mode=row)\n",
       "      )\n",
       "      (2): CNBlock(\n",
       "        (block): Sequential(\n",
       "          (0): Conv2d(768, 768, kernel_size=(7, 7), stride=(1, 1), padding=(3, 3), groups=768)\n",
       "          (1): Permute()\n",
       "          (2): LayerNorm((768,), eps=1e-06, elementwise_affine=True)\n",
       "          (3): Linear(in_features=768, out_features=3072, bias=True)\n",
       "          (4): GELU(approximate='none')\n",
       "          (5): Linear(in_features=3072, out_features=768, bias=True)\n",
       "          (6): Permute()\n",
       "        )\n",
       "        (stochastic_depth): StochasticDepth(p=0.1, mode=row)\n",
       "      )\n",
       "    )\n",
       "  )\n",
       "  (avgpool): AdaptiveAvgPool2d(output_size=1)\n",
       "  (classifier): Sequential(\n",
       "    (0): LayerNorm2d((768,), eps=1e-06, elementwise_affine=True)\n",
       "    (1): Flatten(start_dim=1, end_dim=-1)\n",
       "    (2): Linear(in_features=768, out_features=5, bias=True)\n",
       "  )\n",
       ")"
      ]
     },
     "execution_count": 10,
     "metadata": {},
     "output_type": "execute_result"
    }
   ],
   "source": [
    "#modelo = get_densenet121_model(num_classes=num_classes, pretrained=True).to(device)\n",
    "\n",
    "modelo.load_state_dict(torch.load(\"./Modelos/v3/representacion_3/longitud_28/ConvNext_Tiny_fold_3.pth\"))\n",
    "modelo.to(device)\n",
    "modelo.eval()"
   ]
  },
  {
   "cell_type": "markdown",
   "metadata": {},
   "source": [
    "***Evaluar el modelo :***"
   ]
  },
  {
   "cell_type": "code",
   "execution_count": 11,
   "metadata": {},
   "outputs": [],
   "source": [
    "all_preds = []\n",
    "all_labels = []\n",
    "\n",
    "test_dataset = TensorDataset(X_test, y_test)\n",
    "test_loader = DataLoader(test_dataset, batch_size=batch_size, shuffle=False, num_workers=16, pin_memory=True)\n",
    "\n",
    "with torch.no_grad():\n",
    "    for images, labels in test_loader:\n",
    "        images, labels = images.to(device), labels.to(device)\n",
    "        outputs = modelo(images)\n",
    "        _, predicted = torch.max(outputs, 1)\n",
    "\n",
    "        all_preds.extend(predicted.cpu().numpy())\n",
    "        all_labels.extend(labels.cpu().numpy())"
   ]
  },
  {
   "cell_type": "markdown",
   "metadata": {},
   "source": [
    "***Matriz de confusión :***"
   ]
  },
  {
   "cell_type": "code",
   "execution_count": 12,
   "metadata": {},
   "outputs": [
    {
     "data": {
      "image/png": "[encoded data removed]",
      "text/plain": [
       "<Figure size 640x480 with 2 Axes>"
      ]
     },
     "metadata": {},
     "output_type": "display_data"
    }
   ],
   "source": [
    "class_names = ['Cargo','Container','Cruise','Fishing','Tanker']\n",
    "#class_names = ['Cargo', 'Container','Tanker']\n",
    "cm = confusion_matrix(all_labels, all_preds)\n",
    "disp = ConfusionMatrixDisplay(confusion_matrix=cm, display_labels=class_names)\n",
    "disp.plot(cmap=\"Blues\", xticks_rotation=45)\n",
    "plt.show()"
   ]
  },
  {
   "cell_type": "markdown",
   "metadata": {},
   "source": [
    "***Análisis de los resultados obtenidos :***"
   ]
  },
  {
   "cell_type": "code",
   "execution_count": null,
   "metadata": {},
   "outputs": [
    {
     "name": "stdout",
     "output_type": "stream",
     "text": [
      "              precision    recall  f1-score   support\n",
      "\n",
      "       Cargo       0.15      0.09      0.11        79\n",
      "   Container       0.29      0.28      0.29       186\n",
      "      Cruise       0.25      0.37      0.30       183\n",
      "     Fishing       0.25      0.27      0.26       189\n",
      "      Tanker       0.28      0.14      0.19       137\n",
      "\n",
      "    accuracy                           0.25       774\n",
      "   macro avg       0.24      0.23      0.23       774\n",
      "weighted avg       0.25      0.25      0.25       774\n",
      "\n"
     ]
    }
   ],
   "source": [
    "print(classification_report(all_labels, all_preds, target_names=class_names))\n",
    "\n",
    "output_dir = Path('./Resultados/v3/representacion_3/longitud_28')\n",
    "\n",
    "classification_text = classification_report(all_labels, all_preds, target_names=class_names)\n",
    "\n",
    "with open(output_dir / 'ConvNext_Tiny_report.txt', 'w') as f:\n",
    "    f.write(classification_text)"
   ]
  }
 ],
 "metadata": {
  "kernelspec": {
   "display_name": "venv",
   "language": "python",
   "name": "python3"
  },
  "language_info": {
   "codemirror_mode": {
    "name": "ipython",
    "version": 3
   },
   "file_extension": ".py",
   "mimetype": "text/x-python",
   "name": "python",
   "nbconvert_exporter": "python",
   "pygments_lexer": "ipython3",
   "version": "3.12.2"
  }
 },
 "nbformat": 4,
 "nbformat_minor": 2
}
